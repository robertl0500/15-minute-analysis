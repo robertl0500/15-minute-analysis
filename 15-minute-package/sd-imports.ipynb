{
 "cells": [
  {
   "cell_type": "markdown",
   "id": "5da062b8-291f-4487-aab0-fa5204c4aa86",
   "metadata": {},
   "source": [
    "# 15 Minute Series: San Diego Analysis\n",
    "---"
   ]
  },
  {
   "cell_type": "markdown",
   "id": "3548aa9b-7e66-45fb-83fa-8ac8ddeb9ad9",
   "metadata": {},
   "source": [
    "*Cara Higashi, Robert Lopez, Joseph Sy, Giovanni Ramos Gutierrez*"
   ]
  },
  {
   "cell_type": "markdown",
   "id": "c64e55ac-137a-4fcb-bd0e-e8e9f4b4c769",
   "metadata": {},
   "source": [
    "## Data Import\n",
    "---"
   ]
  },
  {
   "cell_type": "markdown",
   "id": "8b617346-fe3d-4aa4-a5b2-574662808fcd",
   "metadata": {},
   "source": [
    "### City Boundary"
   ]
  },
  {
   "cell_type": "code",
<<<<<<< HEAD
   "execution_count": 2,
=======
   "execution_count": 1,
>>>>>>> upstream/main
   "id": "00079ce8-d43e-4e27-a64b-c4c79d47ef5f",
   "metadata": {},
   "outputs": [],
   "source": [
    "import geopandas as gpd\n",
    "import warnings\n",
    "\n",
    "warnings.simplefilter('ignore')"
   ]
  },
  {
   "cell_type": "markdown",
   "id": "0eadc7a9-1713-46a4-9c07-7a299d76f719",
   "metadata": {},
   "source": [
    "32466 entries\n",
    "\n",
    "```\n",
    "cPath = './data/cities/cb_2022_us_place_500k.shp'\n",
    "\n",
    "cities = gpd.read_file(cpath, geometry='geometry')\n",
    "\n",
    "sd = cities[(cities['NAME'] == 'San Diego') & (cities['STUSPS'] == 'CA')]\n",
    "\n",
    "sd.to_file('./data/cities/San-Diego/sd.shp')\n",
    "```"
   ]
  },
  {
   "cell_type": "code",
<<<<<<< HEAD
   "execution_count": 3,
=======
   "execution_count": 2,
>>>>>>> upstream/main
   "id": "cd4808df-dd64-4cf1-8a90-443833934580",
   "metadata": {},
   "outputs": [],
   "source": [
    "sdPath = './data/cities/san-diego/sd.shp'"
   ]
  },
  {
   "cell_type": "code",
<<<<<<< HEAD
   "execution_count": 4,
=======
   "execution_count": 3,
>>>>>>> upstream/main
   "id": "0a00f098-9a45-4533-bb1a-49cb725540db",
   "metadata": {},
   "outputs": [
    {
     "name": "stderr",
     "output_type": "stream",
     "text": [
      "ERROR 1: PROJ: proj_create_from_database: Open of /opt/tljh/user/share/proj failed\n"
     ]
    }
   ],
   "source": [
    "sdBoundary = gpd.read_file(sdPath, geometry='geometry')"
   ]
  },
  {
   "cell_type": "code",
<<<<<<< HEAD
   "execution_count": 5,
=======
   "execution_count": 4,
>>>>>>> upstream/main
   "id": "25a17b8e-0580-424b-af1e-a0196294eea6",
   "metadata": {},
   "outputs": [
    {
     "data": {
      "text/plain": [
       "(1, 13)"
      ]
     },
<<<<<<< HEAD
     "execution_count": 5,
=======
     "execution_count": 4,
>>>>>>> upstream/main
     "metadata": {},
     "output_type": "execute_result"
    }
   ],
   "source": [
    "sdBoundary.shape"
   ]
  },
  {
   "cell_type": "code",
<<<<<<< HEAD
   "execution_count": 6,
=======
   "execution_count": 5,
>>>>>>> upstream/main
   "id": "c04369ed-6c58-46f7-8767-120221d70738",
   "metadata": {},
   "outputs": [
    {
     "data": {
      "text/html": [
       "<div>\n",
       "<style scoped>\n",
       "    .dataframe tbody tr th:only-of-type {\n",
       "        vertical-align: middle;\n",
       "    }\n",
       "\n",
       "    .dataframe tbody tr th {\n",
       "        vertical-align: top;\n",
       "    }\n",
       "\n",
       "    .dataframe thead th {\n",
       "        text-align: right;\n",
       "    }\n",
       "</style>\n",
       "<table border=\"1\" class=\"dataframe\">\n",
       "  <thead>\n",
       "    <tr style=\"text-align: right;\">\n",
       "      <th></th>\n",
       "      <th>STATEFP</th>\n",
       "      <th>PLACEFP</th>\n",
       "      <th>PLACENS</th>\n",
       "      <th>AFFGEOID</th>\n",
       "      <th>GEOID</th>\n",
       "      <th>NAME</th>\n",
       "      <th>NAMELSAD</th>\n",
       "      <th>STUSPS</th>\n",
       "      <th>STATE_NAME</th>\n",
       "      <th>LSAD</th>\n",
       "      <th>ALAND</th>\n",
       "      <th>AWATER</th>\n",
       "      <th>geometry</th>\n",
       "    </tr>\n",
       "  </thead>\n",
       "  <tbody>\n",
       "    <tr>\n",
       "      <th>0</th>\n",
       "      <td>06</td>\n",
       "      <td>66000</td>\n",
       "      <td>02411782</td>\n",
       "      <td>1600000US0666000</td>\n",
       "      <td>0666000</td>\n",
       "      <td>San Diego</td>\n",
       "      <td>San Diego city</td>\n",
       "      <td>CA</td>\n",
       "      <td>California</td>\n",
       "      <td>25</td>\n",
       "      <td>844031824</td>\n",
       "      <td>120532755</td>\n",
       "      <td>MULTIPOLYGON (((-116.93192 32.64961, -116.9314...</td>\n",
       "    </tr>\n",
       "  </tbody>\n",
       "</table>\n",
       "</div>"
      ],
      "text/plain": [
       "  STATEFP PLACEFP   PLACENS          AFFGEOID    GEOID       NAME  \\\n",
       "0      06   66000  02411782  1600000US0666000  0666000  San Diego   \n",
       "\n",
       "         NAMELSAD STUSPS  STATE_NAME LSAD      ALAND     AWATER  \\\n",
       "0  San Diego city     CA  California   25  844031824  120532755   \n",
       "\n",
       "                                            geometry  \n",
       "0  MULTIPOLYGON (((-116.93192 32.64961, -116.9314...  "
      ]
     },
<<<<<<< HEAD
     "execution_count": 6,
=======
     "execution_count": 5,
>>>>>>> upstream/main
     "metadata": {},
     "output_type": "execute_result"
    }
   ],
   "source": [
    "from functions.crs_col import set_crs\n",
    "\n",
    "set_crs(sdBoundary).head()"
   ]
  },
  {
   "cell_type": "code",
<<<<<<< HEAD
   "execution_count": 7,
=======
   "execution_count": 6,
>>>>>>> upstream/main
   "id": "41922cc9-1fe7-45d4-9618-6512ebb5dfca",
   "metadata": {},
   "outputs": [
    {
     "data": {
      "text/plain": [
       "<Axes: >"
      ]
     },
<<<<<<< HEAD
     "execution_count": 7,
=======
     "execution_count": 6,
>>>>>>> upstream/main
     "metadata": {},
     "output_type": "execute_result"
    },
    {
     "data": {
      "image/png": "iVBORw0KGgoAAAANSUhEUgAAAQYAAAGdCAYAAADwlN28AAAAOXRFWHRTb2Z0d2FyZQBNYXRwbG90bGliIHZlcnNpb24zLjguMCwgaHR0cHM6Ly9tYXRwbG90bGliLm9yZy81sbWrAAAACXBIWXMAAA9hAAAPYQGoP6dpAABDSklEQVR4nO3deVzUdf4H8Nd3bmAObhgO5VIUEbx11EwrTTq0dtXMFt1daze3drv2V+pq5baGZVu5tR4VW+3WRoda5iapBR55iygehIoIcgkIMxzO/f39gaI4DDMDM/MdZt7Px4OHMvOd77yHYV58vp/v5/v5MCzLsiCEkJvwuC6AEOJ5KBgIIRYoGAghFigYCCEWKBgIIRYoGAghFigYCCEWKBgIIRYEXBfgLGazGVVVVZDJZGAYhutyCPFILMuiubkZUVFR4PGstwu8JhiqqqoQGxvLdRmE9AkVFRWIiYmxer/XBINMJgPQ/oLlcjnH1RDimTQaDWJjYzs+L9Z4TTBcP3yQy+UUDITYYOtwmzofCSEWKBgIIRYoGAghFigYCCEWKBgIIRYoGAghFigYCCEWKBgIIRYoGAghFigYCCEWKBgIIRYoGAghFigYCCEWKBiIT2JZFv/eX4YP9pRyXYpHomAgPqe+RYff/+coXvzmFMqvtHFdjkeiYCA+JfdkDe5+aze2n64FAGw5XoWmNj3HVXker5mohRBbvjp6CX/+8nin25raDHhvdymenz6o0+0f7CnF+bpWCPkMAv2EFhObJIQFYOawaJfXzBUKBuIzrLUM/nuo3CIYdpyuxcELV6zu685B4RQM161btw7r1q1DWVkZAGDIkCF48cUXkZGRAQB4+eWXkZOTg4qKCohEIowcORIrV67E2LFjre7z1KlTePHFF3H06FFcvHgRb731Fp5++ukevyBCbnXowhWU1rXg3/svdnk/76bWwHu7z6NFa0SFjb6H8itteH93KYxmFkaTGYZr/7Z/z8JoNmO+qj+SwrufW9FTORQMMTExWLVqFZKSkgAAH3/8MWbOnIljx45hyJAhGDhwIN59910kJCTg6tWreOuttzBt2jScO3cOYWFhXe6zra0NCQkJmD17Np555pnevyJCbvHfgxfxdWGV1ft5Nx0lrN9Viiuttvsczl5uwcrvznS7zf3pUXbX6GkcCob777+/0/crV67EunXrcODAAQwZMgTz5s3rdP+bb76J7OxsnDhxAnfeeWeX+xw9ejRGjx4NAFi8eLEj5RBiF5lE2O39eqMZ35+qAcuy0BvNTntePyHfaftytx73MZhMJnz55ZdobW2FSqWyuF+v1+O9996DQqFAenp6r4rsik6ng06n6/heo9E4/TmId5BJuv8112iN+P1/jjr9eSW+FAxFRUVQqVTQarWQSqXYvHkzUlJSOu7funUr5s6di7a2NiiVSuzYsQOhoaFOLRoAsrKysGLFCqfvl3iXpjY9Glq4OR3pJ+ocDJsKLqG4phksy4Jl229jAfiL+HhuWrL7C+yGw8GQnJyMwsJCNDU1YePGjViwYAF27drVEQ5TpkxBYWEh6uvr8f7772POnDk4ePAgwsPDnVr4kiVL8Oyzz3Z8f30hDUJupvAT4oHh0RjRPxDv7W4/Bekutx5K/OunCzhZadmyjVJI+n4wiESijs7HUaNG4fDhw1izZg02bNgAAAgICEBSUhKSkpIwbtw4DBgwANnZ2ViyZIlTCxeLxRCLxU7dJ/E+DMNAlRgCVWIIthyvcmswiAU3xg+azCzOXW4BAExJDsNgpRxHyhpxqOwKrhpMeH93KRimvV4eA4xLCMFgJXcLJ/V6HAPLsp2O9R29nxB3CfQTufX5jOb244V95+uxuaASWkN7x+aUQeGYr4rDhl3ncajsChrbDBZnOF6+P6XvBMPSpUuRkZGB2NhYNDc3IycnB/n5+cjNzUVraytWrlyJGTNmQKlUoqGhAWvXrsWlS5cwe/bsjn3Mnz8f0dHRyMrKAtDeSXn69OmO/1dWVqKwsBBSqbSjZUJIbxSUN+IPnxRAozW49Xn3nauHRMTHss0nUdl0teP262c+BHzrVyRUqbU4XtEEE8vCbGZhMrMwXeubMLMszNf+ZTtuA1Kj5VAq/JxSu0PBUFtbi8zMTFRXV0OhUCAtLQ25ubmYOnUqtFotiouL8fHHH6O+vh4hISEYPXo09uzZgyFDhnTso7y8vNPy21VVVRg+fHjH92+88QbeeOMN3H777cjPz+/9KyQ+L0UpR/avR+Gxj4+gTW9y2/Mu+rSgy9sNpvaWhIBnff3I93aX4r3djl35+fZDw/DAcOeMxnQoGLKzs63eJ5FIsGnTJpv7uPXDHhcXB/Z6Fy0hTmIys+Bf++BJhHx8f6oWVWotpzUF+QsRFCBCkH/7uIpmJ7dgWDjvc0RXVxKv9NaOEhwuu3GtA9/G6s7u8Ny0ZPz43GTMHdMPAPDrCfHoptHgMGf+faVgIF6nsVWPz49U4OH3DuDlLaeQ9/NlvP1DCddl4dAtF2UdK2+E2YkfZmcGA11dSbzKe7vP44czl1HX3H4mLOdwOTYVXHLqh6YnksKliA8N6HRbTS8PbVbPSkNcaAD4PAZCHg+xwc7peAQoGIgX0RpMeC33Z5hu+jOsNZg7ThNy6dsnJ1qMhIwJ8u/VPtNiApEc6ZqrNykYiENYlsXGgkrcOSgcQQHuHRdgi85gBp9hYHJiJ5wjlmQMwvB+Qe0Dla7d1t61wUDIt+xMGBYbiI2LVO2nHs3tXYfmW09J3nSq0mRmYTSzMJnNMJmBCLnrBvhRMBC7mc0s/rr1ND7aV4b02ED899GxCBB7zq+Q3E+AhLAAFNc0c/L8CWFSjIkPtnt7PxEfI/vbv707UecjsVttsxYf7SsDAByvaMLjnxx16mXKvfVdUQ0noSAR8pAQFgCjyXN+Fr3lOXFPPJ7R1LmJvudsPZ79ohBvzhkGkYDbvzGXGtuw8n+n3fqc96UpUX6lDUvvGYxxCSGd+jb6OgoGYreufvG3nqjGzzXN2P7MJIsJU93hcrMWa/PO478Hy6G34y/289OTMS4hBEIe79pxPNtxPG8yX/u/uf0Y33RtyLHp2vePf3K009mNJfcMRnTgjTMBfGcOSuAYBQOx21VD18OJz15uQfbeC3j0tgS31XJZo8Uv1+9DxZWrtje+SYpSjhH9gnr0nH5Cfqch1QYPOoxyNgoGYrddJXVW78vaVgyd0YxFtyeC54a/nD+dr3c4FABA2M2FS7as+mUaTGZzx+SxIVLPOivjTBQMxG7fXJtQdUS/QCgD/fC/E9Ud95nMLFZ//zO2n6rB3+ek93h25MKKJnxXVI0atRY1Gi1emZna5bn6QZFyrHwwFfXNeuw9V4fDZY127Z/Xi8OdGX14cldHUTAQuzS16XGmun32oUxVfwwIl3UKhuuOX1KjqFLdo2C43KzFwo8Oo+GmWZpnrd+Hz3+nQkpU57kJBivlHfMV/PGOJCz75iT+e7C8436GAf72QCr8RXyI+HwE+QuRGC5FuIwm97EHBQOxi8JPiLgQf5Q1tKGsvg1NbdavDPymsAp3DY6wOjtz3s+XUd7QhkfG9us0J8G2oppOoQAAzVqjzXkUeDwGdw+J7BQM/kI+Jg0IQ2xw70YX+ioax0Ds0qo3dYx03H++AcmRMkiEXf/65P9chzv+vqvLy+lbdUa888NZvLTlVKeVnvafb+gYI3GroktqXGxotTpOQGswYX3+eYt652zYj7d3lmDL8SqvOpXoDgzrJZMhaDQaKBQKqNVqyOXcTYnlzfafb8DD7x8AABS+OBUXG9ow858/dbmtRMhD5rj+WDgxAZEKScftb+8swds7zwIAxieGYFxCCI6VNyLvZ+sdm0D7ojDbn5nU6RDFbGbx/MYT+KawsmPyk64wDJD33GTE3XIRky+y93NChxLEbjf/DanV6BAuF2P1rLT2c/5mQG804cN9ZbjY0AatwYz391zA54crsOeFOyATC7Aqt7jTrET7zjdg3/kGu57bzAL3rNmLsQnBiAnyx/GKJrTqjbjYYHsZ+yenJFEoOIiCgdhN7nejzyDIX4hwuQSzR3Wesn/2qFj87X+n8dmhCgDti7nc8UY+ggNEOHttluSe0pvM2HO23u7tI+Ri/Hp8PH43yX3jK7wFBQOxyWRmcb6uBaX1reAxgL9IgDArvfsBYgGyfpGGOwdF4M9fHUdTmwENrXqLTkVXk0kE+PL349EvhDofe4KCgdh0saEV097a3fH9sNhAm8Of70qJwFsPDcNvPjzs6vI6+cWIaDS06FHR2Eah0AsUDMSmW1d//sUI+2YinpIcjl+Pj7N6tsEVHp2YgMFKGb7tYowFsR+driQ2/Vh8ueP/SzIG4RcjYux+7OKMQRjkolmGbibi8/DElESkRMnBMIxPjVJ0BWoxEKtOVqqx7OuTKKxoAgAI+Qx+MyHeoX1IhHzcl6Z0+TwJCn8h/uxh6z/2ZRQMxALLsli/qxRvbO88f2J0oB+a2vQIl0u6ebSlokq1s0u00NCiw1WDCf4i+pV2Bvopkk5YlsUb23/GP/POW9wXE+TvcCgAwIlLrg+GB4ZFUyg4Ef0kSSctOiNGxQXjw99YzkUY0oPJXy83a1Ht4hWgXnkgFb8a28+lz+FrKBhIJzKJEFOSw522vxMVrm0tDImS41dj+3Eye5Q3o7MSxKVOuLh/YdHkRAoFF6BgIC514lKTy/bdP8QfGalKl+3fl1EwEJdhWdalHY+/n5ToVROwehIKBuIylxqvWoyadJZwmdjuEZjEcRQMxGVc2Vp46q4BkAj5tjckPULBQFzGVf0LUQoJ5txyuTdxLgoG4jLHXRQMv50Y36tp4Ilt9NMlLmE2szhZqXH6fmUSAeaOocFMrkbBQFyitL4VLTqj0/ebOa4/pB60wra3omAgLuGK/gURn4dfj49z+n6JJYpeAqC96W+8tqir0czCdO3LaDbDfG3W9qAAIcQC+84EuOKMxPB+gT26iIs4joLBhzy49ieU1be2B4D5pgBgWdiziMDOZ29HUrjUrudyRcfjyP49W4yWOI6CwYfUNevQ2M0KUt2RSQSIt3MKdr3RjFNVzu94pGBwH+pj8CG9WVpoQmKo3cOPS2qboXfBEvFDoxVO3yfpGgUDscsgpf3zNl6fCs6ZogP9qH/BjSgYiF1SlPYv+3fcBcEwLDbQ6fsk1lEwELsMjbG/GT8wQobRcc7tD6BgcC/qfPQhPV2/WCYWIEJmfzP+sUkJ0BlNOFzW2KPn68rwfoFO2xexjVoMxKaRcUHgOTjvQUF5k9OeX8TnIZU6Ht2KWgxe4nSVBt+fqgHLto9LMLPtg5aur0RtZlk0Xe3ZqcqJSaEObc+yLArKnddaSI2W0yXWbuZQi2HdunVIS0uDXC6HXC6HSqXCtm3bOu5/+eWXMWjQIAQEBCAoKAh33XUXDh48aHO/GzduREpKCsRiMVJSUrB582bHX4mPO12twZofzuIfP57DP/POY13+eWzYXYr391zAv366gI/2laFNb+rRvgdGOLaSVGl9K5p6OF6iK6PjLWesJq7lUDDExMRg1apVOHLkCI4cOYI77rgDM2fOxKlTpwAAAwcOxLvvvouioiLs3bsXcXFxmDZtGurq6qzuc//+/XjooYeQmZmJ48ePIzMzE3PmzLErUIh7ONqML7jovNYCAIzqT8Hgbgzb0x6pa4KDg7F69WosXLjQ4j6NRgOFQoGdO3fizjvv7PLxDz30EDQaTaeWx/Tp0xEUFITPPvvM7jquP5darYZcbv+pNW/x1dFL+POXx52+35ggP+x94Q6HHrNkUxE+O1TutBoKlk9FcA/WtCCW7P2c9Ljz0WQyIScnB62trVCpVBb36/V6vPfee1AoFEhPT7e6n/3792PatGmdbrv77ruxb9++bp9fp9NBo9F0+vJlrpoSNThAhIOlDbhQ34pWOy+jdmaLISE0gEKBAw53PhYVFUGlUkGr1UIqlWLz5s1ISUnpuH/r1q2YO3cu2traoFQqsWPHDoSGWu+8qqmpQURERKfbIiIiUFNT020dWVlZWLFihaPley1XLa1w4pIaD713oON7fxEf4TIxwmUShMnFCJOKESGXIFzW/q9MIkDJZectYDuMTlNywuFgSE5ORmFhIZqamrBx40YsWLAAu3bt6giHKVOmoLCwEPX19Xj//fc7+gvCw62vbnTrgiEsy9pcRGTJkiV49tlnO77XaDSIjfXdeQDdteZKm96EsoY2lDW0ueX5RvSjC6e44PChhEgkQlJSEkaNGoWsrCykp6djzZo1HfcHBAQgKSkJ48aNQ3Z2NgQCAbKzs63uLzIy0qJ1cPnyZYtWxK3EYnHH2ZHrX76McdnBBHdGxwVhLJ2R4ESvBzixLAudTtfj+1UqFXbs2NHptu3bt2P8+PG9LY30UfelKfHg8Gi88/AIDHDwVClxDocOJZYuXYqMjAzExsaiubkZOTk5yM/PR25uLlpbW7Fy5UrMmDEDSqUSDQ0NWLt2LS5duoTZs2d37GP+/PmIjo5GVlYWAOCpp57CpEmT8Nprr2HmzJn45ptvsHPnTuzdu9e5r9TLedPyja/MTEUQdThyyqFgqK2tRWZmJqqrq6FQKJCWlobc3FxMnToVWq0WxcXF+Pjjj1FfX4+QkBCMHj0ae/bswZAhQzr2UV5eDh7vRkNl/PjxyMnJwbJly7B8+XIkJibi888/x9ixY533KkmfwvOmlOujej2OwVP4+jiGLcer8KfPjnFdhlMUvTwNMomQ6zK8kr2fE7pWoodYtn2+RDMLCPkMLcXuRAIeXdvHNQoGB5ysVONX2QehM5ihM5pgvtbW6mpkntnM4nKzDpGK9suVL2u0WJVbjMNlV+An5MNPyIf42r8SIQ+Sjv/z8fjtiR2Ps5eXNPwAAAI+hSzXKBgcYDKzXV4cdPNciBVX2nDikhrFNRq8t7sUc0fHwsSy+OSA7SHCPAZ4fVa6w6HgbQS0tD3nKBhs+PZ4FV785iT4PJ7Vv8q/WPsT/ER88BkGx29ZT+Hj/Rfteh4+j8FbDw3DjPSoXtfclwl4dFjmCSgYbGhq09uccv18XWuvnkPE5+EfDw/H9NTIHu/DW44k6DDCM1Avjw16kxs+cQyg0RpwoLShx7tg4R3JIKSOR49A74IN7vgDpjea8fxXJ7Ds65OufzIPRy0Gz0CHEjbYu8iKM7RojSisaAKDGyMZGTA3/s/c+D5SLuk0OtB7DiXob5UnoGCwwdFJUHujRqPFA//8ya5tX5k5BJmquI7vvSUYRBQMHoHeBRv4HtpD3qY3Qd1mgNFkht5ohtHs/CXhuECHEp6BWgw2uLPF4IisbcXI2lYMPyEfVw09m+TVE3lqEPsaajHY4Om/qN4UCoB3XSXal1Ew2ODOzkdCV1Z6CjqUsIGCwbn+eEcSxsaHwGg2w2RmO76M1/4NENOvpCegd8EGKf2iOlV8aAAmDnBsZSvifnQoYYPCn+YFcCaDyTvOnng7CgYbgvxpijFncssQc9JrFAw2mL1l5JCHMBipxdAXUDDYUNV0lesSvIq3DMTydhQMNvR0hWjSNQMdSvQJ1OVuxZdHKrB4UxFMZvpFdiY9HUr0CRQMVlQ1aSkUXEB91YArrXrwmPalCUV8HvxEfK7LIregYLAiXC7mugSv9NG+Mny0r6zj+4zUSKz71UjuCiJdoj4GK4qrNVyXQAhnaMEZK2o1WlxsaMPhsitY/f3PTqiQdIVhALGAhyFRCmxcxP16pWYz2z4hjpdes0ELzvRShFyCCLkE9S3WF+QlvceygNZgxuVmLad1XGxoxRdHKrDxaCVadUas+mUa7hka2REQLMuirlkHMwv4i/mQigQee0m+M1CLoRt7z9bjje0/o7CiySn7I9bxGCAuNAARMgk++904tz1vXvFlbNh9HgdKr1jcFx3oByGfgYltX0+kWWvsuG98Ygj++5j76nQWajH0AsuyYBgGFY1tFApuYmaB0rpWtOqMtjd2kkuNbViyqQg1mq5bK5VWBreJBDyM7B/kytI4R8HQhYZWPTYVXMKRskauS/E57jxD/OwXx62GgjUMA3z8mzFQJYa4qCrPQMHQhWB/Ed74vgR6uhLQ7dwxGWxhRROe/G8BLjU6PtxdxOdhXEKwC6ryLHS6sgs8HuPz60dyRenCnzvLsjh68QoWfnS4R6EAADqjGaeqvP9UNrUYrFAqJCi/0sZ1GT7nogt+5pebtfjmWBW+PFqBktqWHu3j95MS8Ny0ZAh4jFefjbiOgsEKV/7lItaZu+hkaNUZezTlW41ai7/97zT+V1Td+3U3mPZOR19BwWCFMtCP6xJ8kqmLT/AjHxzEu/OGIybI36597D/fgDe2/4yjF53XedxVYHkzCgYrqMXADa3BhC8OV8DM3pgg9lSVGpNez8Oo/sGYmhKBoAARBitlaNWZ0Kw1INBfCIWfCKeq1DhZqcZH+8qcfnm3r/VDUzBYoVRQi4ELWoMZz2880eV9h8qu4FCZ5UAkd/C1mbx856DJQdRiIDfztUvwKRisiKI+BnKTrvo+vBkFgxVB/kKIfagXmnTP1zof6TffCoZh6HCCdKBDCdKBRj+S63wrFigYupUYJuW6BOIhfKyLgYKhO9NTI7kugXgI1sfaDBQM3VAlhCAkgJaoI/C5YwkKhm4I+DzcM1TJdRnEA/hYLlAw2HJfGgUDab9k25dQMNgwOi4YEbTGhM/zrVhwMBjWrVuHtLQ0yOVyyOVyqFQqbNu2DQBgMBjwwgsvYOjQoQgICEBUVBTmz5+PqqqqbvdpMBjw17/+FYmJiZBIJEhPT0dubm7PX5GT8XgM7kuL4roMwrHGNgPOVGtw7nKLT4xpcCgYYmJisGrVKhw5cgRHjhzBHXfcgZkzZ+LUqVNoa2tDQUEBli9fjoKCAmzatAklJSWYMWNGt/tctmwZNmzYgHfeeQenT5/G448/jgcffBDHjh3r1QtzpjsHh3NdAuHY7pI6ZKzZg7ve3IUWrfsmrOVKr6ePDw4OxurVq7Fw4UKL+w4fPowxY8bg4sWL6NevX5ePj4qKwl/+8hc88cQTHbc98MADkEql+OSTT+yuwxXTx193plqDjDV7nLpP0ncdf2kaFH5CrsvoEZdPH28ymfDll1+itbUVKpWqy23UajUYhkFgYKDV/eh0OkgknUcY+vn5Ye/evd0+v06ng053YzEYjcZ18/D5CWnRVXKDL3REOhwMRUVFUKlU0Gq1kEql2Lx5M1JSUiy202q1WLx4MebNm9dtMt1999148803MWnSJCQmJuKHH37AN998A5PJ1G0dWVlZWLFihaPl9witxnxDqFSEhFApWLAdowGPljd6/chAIZ/Bk1MGQJUYApmkb7YWHOHwoYRer0d5eTmampqwceNGfPDBB9i1a1encDAYDJg9ezbKy8uRn5/fbTDU1dXhsccew7fffguGYZCYmIi77roLH374IdrarE8M2lWLITY21iWHEuqrBqSv2O7UffZVD4+JRdYv0jrdlrxsG3RG753iSC4RYH3mSIxPDOW6lF5z2aGESCRCUlISAGDUqFE4fPgw1qxZgw0bNgBoD4U5c+bgwoUL+PHHH21+SMPCwvD1119Dq9WioaEBUVFRWLx4MeLj47t9nFgshljsntOI/tRi6CC56bCKZVlsPlbp1aEQHCDCF79XISnct66b6fXUbizLdvzlvh4KZ8+eRV5eHkJC7F+tRyKRIDo6GgaDARs3bsScOXN6W5rTCPk8CHgMjD5wmsoW9VUDvjp6CfvPN+BAaYPVZdy8RWq0wudCAXAwGJYuXYqMjAzExsaiubkZOTk5yM/PR25uLoxGI2bNmoWCggJs3boVJpMJNTU1ANrPXIhE7dcczJ8/H9HR0cjKygIAHDx4EJWVlRg2bBgqKyvx8ssvw2w24/nnn3fyS+0dPyEfzW5cV9FTbSqoxKaCSq7LcJtJA/r+4UNPOBQMtbW1yMzMRHV1NRQKBdLS0pCbm4upU6eirKwMW7ZsAQAMGzas0+Py8vIwefJkAEB5eTl4vBvDJ7RaLZYtW4bS0lJIpVLcc889+M9//tPtmQwuSEQUDL5GIuRh9shYrsvgRK/HMXgKV45jAIDbV+fhYgOtTOVLuupo7evs/ZzQtRJ2orEMvidzXBzXJXCGgsFONJbBt9w1OAIpUc5vefYVFAx2SqJp3nyGgMdgyT2DuC6DUxQMdkqLDeS6BOIm81VxPj/fJwWDndJjFFyXQNxgQLgUz09P5roMzlEw2ClSTlPJezsRn4d/PDy80+hOX0XBYCf1VQPXJRAXe3hMLAYrfbfD8WYUDHaqb9FzXQJxIQGPwe9uT+S6DI9BwWCngvJGrksgLvTg8GhE00LGHSgY7HSgtIHrEoiLMAzw+GRqLdyMgsEOeqMZR8qoxeCt7hmq9PnTk7eiYLDD8UtNuGrofkYp0jeJBTz8gVoLFno9H4Mv2H+eDiO8UYRcjB+emwypmD4Gt6IWgx0oGLzT83cPolCwgn4qNmgNJhylMxJeJ3vBKExOpvVCrKEWgw0F5Y3Qe/Gchr5q0ScFKL9C82tYQ8Fgw7fHq7kugbgAjweIBPTrbw39ZLpxtrYZXxyp4LoM4gKRcgmiFHT9izUUDN1Yta3YJxYw9UVlDW3469bTXJfhsSgYrNh3rh4/FF/mugziQucut3BdgseiYOiCRmvAsq9Pcl0GcaHh/QLxwYJRXJfhsXz6dOU3hZU4Xa3BL0fEYGCEDABgMrP402fHUFrfynF1xBXuHhKBUf2DMTUlAmIBzbtgjc8Gw+6SOjyVUwgA2LCrFBOSQjCqfzBOV2uQ/3Mdt8URl7htQChe+2UaAv1FXJfi8XwyGBpb9Xj2i8JOt/10rgE/naMRjt5q0sAwZC8YBSGfjp7t4ZM/pU3HKmniFR8iEfKw7pERFAoO8Lmf1Laiaqz+vpjrMogbsSwQQNdEOMTnguHdvHPQGmiIsy/RGc0w2xiPcr6OTl3ezKditE1vxJlqDddlEA606I2QS4Qd3xdWNOGHM7W4UN+Kc5db4C/iY9MfJnBYoWfxqWDwE/IRJhOjVqPjuhTiAlNTIhAd6IeS2maU1DajvkWPfsH+eGJKIlZsOY0Zw6IwaUAodp65jCf/WwDdTRfHjewfxGHlnsengoFhGAyNDkStppbrUogLPDdtIAZF3pj+vaFFBxZAqFSMIVEK7Cqpw6kqNc7VtmBcQghMZhZhMjEGRcowPTWSu8I9kE8FAwBUq69yXQJxgYTQACRfG6R2XYhU3PH/1GgFUqNpNTF7+VznY1UTBYM3KmtoRd7PdG2Ls/hcMNzc1CTeg8cw2F1Sj3d+OIurepq4t7d8LhgmDgjlugTiAkYzi4/2leHvO0rw4NqfcLGBrnXpDd8LhiQKBm9XXNOM+97Zi52nqZO5p3wuGFKjFfAX0VV13q5Za8Sj/z6CN77/mSbb6QGfC4ZWvRFtdAzqM97NO4dff3gIV1rp2hhH+FwwnKmikY++Zs/Zetz/zl4cr2jiupQ+w+eCIS0mEBk0mMXnVDZdxez1+/HpwYtgWTq0sMXngsFPxMc/543AHyYnIiSAJuzwJXqTGX/ZfBKLNxbRWiE2+FwwAACPx+D56YOwb8kdFqPliPf7/EgFpr+9GycuNXFdisfyyWC4Tizgg8djuC6DcKC0vhWz1u3Hf/aX0aFFF3w6GABg1sgYrksgHNGbzFj+zSk883kh2vRGrsvxKD4fDAsnxuPX4+O4LoNw6OvCKqzfVcp1GR7F54MBAJbcMwgKP6HtDYnXsjXDk6+hYEB7X8OvxvXjugzCIYa6mjqhYLjmz9OSsfPZSXh9VhrXpRAOMJQMnTgUDOvWrUNaWhrkcjnkcjlUKhW2bdsGADAYDHjhhRcwdOhQBAQEICoqCvPnz0dVVZXN/b799ttITk6Gn58fYmNj8cwzz0Cr1fbsFfUQwzBICpdhzqhY/GZCnFufm3CPYqEzh4IhJiYGq1atwpEjR3DkyBHccccdmDlzJk6dOoW2tjYUFBRg+fLlKCgowKZNm1BSUoIZM2Z0u89PP/0UixcvxksvvYQzZ84gOzsbn3/+OZYsWdKrF9YbL0wfhMFKmrfBl1CDoTOG7eVJ3ODgYKxevRoLFy60uO/w4cMYM2YMLl68iH79uj6Gf/LJJ3HmzBn88MMPHbc999xzOHToEPbs2WN3HRqNBgqFAmq1GnJ57z/Uh8uuYPb6/b3eD+kbnps6EH+8cwDXZbicvZ+THvcxmEwm5OTkoLW1FSqVqstt1Go1GIZBYGCg1f1MnDgRR48exaFDhwAApaWl+O6773Dvvfd2+/w6nQ4ajabTlzON6h+E+NAAp+6TkL7C4clgi4qKoFKpoNVqIZVKsXnzZqSkpFhsp9VqsXjxYsybN6/bZJo7dy7q6uowceJEsCwLo9GIRYsWYfHixd3WkZWVhRUrVjhavt0YhsGskTFY/f3PLnsO4jkMdLqyE4dbDMnJySgsLMSBAwewaNEiLFiwAKdPn+60jcFgwNy5c2E2m7F27dpu95efn4+VK1di7dq1HX0TW7duxSuvvNLt45YsWQK1Wt3xVVFR4ehLsenB4dF07OkjjCa6qOpmve5juOuuu5CYmIgNGzYAaA+FOXPmoLS0FD/++CNCQkK6ffxtt92GcePGYfXq1R23ffLJJ/jd736HlpYW8Hj2ZZez+xiuy8w+iD1n6522P+KZHrstHn+517Ll621c3sdwHcuy0OnaV3a6Hgpnz57Fzp07bYYCALS1tVl8+Pl8PliW9YiLW+4dquS6BOIGYgFN93czh/oYli5dioyMDMTGxqK5uRk5OTnIz89Hbm4ujEYjZs2ahYKCAmzduhUmkwk1NTUA2s9ciETtcx/Mnz8f0dHRyMrKAgDcf//9ePPNNzF8+HCMHTsW586dw/LlyzFjxgzw+dy/WUOiaJGSvuL2gWGQ+wlhZlmYzSxYFu3/Z1mYzCyMVvoRWBbU0XwLh4KhtrYWmZmZqK6uhkKhQFpaGnJzczF16lSUlZVhy5YtAIBhw4Z1elxeXh4mT54MACgvL+/UQli2bBkYhsGyZctQWVmJsLAw3H///Vi5cmXvXpmTJIVLwTDtvzzEs/3l3sEI9Bfinz+ewwsZg+Av8rmF1pym130MnsJVfQwAMOWNfFyop3UKPN1gpRwXG1rx6MR4PDstmetyPJLb+hh8Ac3y1DdUXGnDihlDKBScgILBDsmRFAx9wcKJ8Zg9KpbrMrwCBYMdBlEweLxBkTLMHkWzcTkL9c7YgVoMno1hgP/96Tbwaf5Op6FgsEMwTTPvUcbEBePOweFQ+AmxdHMRJiSFUig4GQWDHWgSD8+RHqPAu/OGI1wuAcuyYBjgodE0+5azUR+DHSgXPMfxS2q8+t0ZAO2BTaHgGhQMduBRMniUc3UtULcZuC7Dq1Ew2IEOXz3LyUoN/vzVca7L8GrUx2AHhmYE9DhteiP+vb8MOoMZrXojHhodC6XCj+uyvAYFgx3oSMLz/HSuAT+dawAAyMQCDAiX4d40CgZnoWCwAwWDZxoSJccvRsSgX7A/pqZEcF2OV6FgsAN1PnqOKclhuGNQOADgtgFhiKPLpV2CgsEOFAyeY3i/IGSq4rguw+tRMNiBzkp4hlceSMUjY2jcgjvQ6Uo7MAwDAaUD56RiPnj0PrgFBYOdwmRirkvweQaTV8wp1CdQMNgpXC7hugSfx6e+HrehPgY7RVCLgXOfH67AySo17h2qxKi4YK7L8WoUDHaKoBYD5w6VXcGhsisIl0koGFyMDiXsFKmgYPAUfPqtdTn6EduprlnHdQnkGhpX4noUDHbK//ky1yWQa2i2JtejYLDDP344i7KGNq7LINdQi8H1KBhsYFkWH+8r47oMchMa5OR6FAw2MAxDv4geROEnxNBoWk/U1SgY7GCyshgqcS8Rn4d//Xo0hsUGcl2K16NgsIPWYOK6BALgbw+mYmT/IK7L8AkUDHbQGc1cl+DzfjMhDnNo+Tm3oWCwoay+lQ4lOKZKCMFf7hnMdRk+hYLBhqMXG7kuwef97cFUCGi4o1vRT9uGc3UtXJfg0+4aHIH4kPbp2xpb9Zj0eh7O1jZzXJX3o4uobFBfpYVNuMAwwKMT47FgfBxOVKrx9bFKbD1RhaY2A+jIzvUoGGwYFhuI/x4s57oMn3NPqhK7Surw/p4LnW6PlEtgZikZXI0OJWwY0S+Q6xJ80v+KqlFSa3kYV6PR4mSlmoOKfAsFQzdYlsWGXaVcl0FuQS0G16Ng6IbOaMaXRy9xXQa5BS0Z6HoUDN2QCPmQSagbxtOwoBaDq1Ew2BBOcz16NLOZRUNL+yQ6BeWNOFDaAKPJjNyT1dhyvIrj6vou+nNoQ3yoFOfrWrkug9zk5i6GD/eVYdW2MxgarUBBeRMeHtMPoVIxHv+kAHNHx2JiUij4PAYysYCuknUAtRhsuHNwONclECvOVGvw2rZiGEwsCsqbrt3KdixCnHO4AiNe2YH0FdtxqkrDVZl9ErUYbEgKl7r9OX85IgaTk8NQo9Ziw+7zqG/Ru70GT9aiM+KyRouncwqhN3W+wG3j0Ur0C7Zc6FYkoL+BjmBY1jvO/Wg0GigUCqjVasjlcqft9/3dpVj53Rmn7a87Qf5CvPrgUGQMVXbc9tmhcizZVOSW5/dm0YF++OWIaDw7LZnrUjhl7+eEYtSGcLnrOx9lYgEeuy0e+f83pVMoALT6krNUNl3F14VV8JK/gy5HhxI2uGrNSplYgLtSInDvUCVuGxgKsYDf5XYaLV2r4SzlV9pwvq6Vk8PDvoaCwYZwmXMXmhELeFgzdximDAq3GgY309BFXE61q6SOgsEOFAw2OPtQ4v/uTsb0VKXtDa/RaI1OfX5f9rtJCZiv6s91GX2CQ30M69atQ1paGuRyOeRyOVQqFbZt2wYAMBgMeOGFFzB06FAEBAQgKioK8+fPR1VV94NMJk+eDIZhLL7uvffenr8qJ5KJBZAIndMVMzouCL+ZEO/QY8YnhuDth4Zh1sgYBIhstzCIdQo/IYQ04YtdHGoxxMTEYNWqVUhKSgIAfPzxx5g5cyaOHTuGmJgYFBQUYPny5UhPT0djYyOefvppzJgxA0eOHLG6z02bNkGvv3E6rqGhAenp6Zg9e3YPX5JzMQyDcJkE5Vd6t+CMRMjD6lnpDq+iNG1IJADggeHReGVmKnaeqcXLW06hoZVOYTrqtgGhXJfQZ/T6dGVwcDBWr16NhQsXWtx3+PBhjBkzBhcvXkS/fv3s2t/bb7+NF198EdXV1QgIsDwfbY2rTlcCwKx1+3Ckl1O8vXx/Cn7tYGvBmuMVTXh/Tyl+LL6MNj3NYG2vP0xOxPPTB3FdBqfs/Zz0uI/BZDLhyy+/RGtrK1QqVZfbqNVqMAyDwMBAu/ebnZ2NuXPn2gwFnU4Hne7GQrMajetGtikD/YBeBIMqIQTzVXFOqyc9NhDvzhuBq3oTdpXU4buiavxYfBktOuqPsEYk4KFarYXWYIJESIdktjgcDEVFRVCpVNBqtZBKpdi8eTNSUlIsttNqtVi8eDHmzZtn91/wQ4cO4eTJk8jOzra5bVZWFlasWOFo+T0yJj4Y3/bwgpxhsYHYMH+kS8bp+4n4mJ4aiempkdAbzcj7+TKWf30Sl2ll7k6W3jMI88b2h1RMfe32crgnJjk5GYWFhThw4AAWLVqEBQsW4PTp0522MRgMmDt3LsxmM9auXWv3vrOzs5GamooxY8bY3HbJkiVQq9UdXxUVFY6+FLvdltSzY9Ph/QLx74VjIJcInVyRJZGAh7uHROLpuwa6/Ln6mpxDFaijsHSIw8EgEomQlJSEUaNGISsrC+np6VizZk3H/QaDAXPmzMGFCxewY8cOu1sLbW1tyMnJwaOPPmrX9mKxuOPsyPUvV+kf4o/oQD+HH7fs3sFuCYWb/XJkNJQK54696OtK61vxr70XbG9IOvT63A3Lsh3H+tdD4ezZs9i5cydCQkLs3s8XX3wBnU6HX/3qV70tyekYhulRj3ZwgPvnchAL+PjztGSIPPS0nEwswLSUCAyKlEHuxklwBkTQoCZHOPTOLF26FBkZGYiNjUVzczNycnKQn5+P3NxcGI1GzJo1CwUFBdi6dStMJhNqamoAtJ+5EIlEAID58+cjOjoaWVlZnfadnZ2NBx54wKEwcacJSaHIOezY4UqQv3tbC9f9cmQMUqMVePaLQk4vN44L8ceY+GDUt+gRFShBfKgU81X9O8YSfH+qBos3nkBj243RnTymfbzBzbc5g6OniX2dQ8FQW1uLzMxMVFdXQ6FQIC0tDbm5uZg6dSrKysqwZcsWAMCwYcM6PS4vLw+TJ08GAJSXl4PH6/zXrKSkBHv37sX27dt7/kpcbEIP+xm6cu5yM74rqkGtRos2vQmDImVICJMiJsgPMUF+kDnh8CM5Uoavn5iAd388h3fzznGyzN6IfkF4fVa61fvvHhKJbworkXuyBqrEENwzVIm7h0SipLYZ894/6NRa8orr8MhYGvVoL7rs2gH3/mOPQ3+BH789EYsz2s+bG01m7Dhdi3/vv4gq9VUE+YvQ2KbHlRY9mm85zRilkGDakEgsnBiP2GD/XtdddEmN//vqOIprXLuC0wJVfyyanISyhlZcaryKaUMibPaxlNa1QO4nRKj0xmHXnrN1yMw+5NTaRvQLxKY/THDqPvsil49j8EUTB4Q6FAzrd53HmWoNlAoJTlxSw0/Ex+8mJWDq4IhOpy/1RjOa2vS4ci0orrTpcaVV77Tz7UNjFPj2jxPx3u5SrPnhLPQuWr377OUWRCokiHSg8zMhzPLY/7uiGqfVJOAxmD0qFsvupUVxHUHB4ICJSaEOrzOxq6QOU1Mi8NeZQzAqLrjLbUQCHsLlEoTLXXc2Qcjn4YkpSchIjcSSTUU4eOGKU/evVEgwNEbhlH1NT43EZ4ecs/rX23OH4b60KKfsy5dQMDhgdFwwRAKe3X9xxQIe/rNwLMbEdx0IXEgIk+Kzx8bho31lWJVb3KvWg1IhQUaqEvemKTE8NrDXg7gqrrQh92SN02Z3/tMdSRQKPUTB4ACJkI8xccHYe67e5rYMA7z90DCPCoXreDwGv50Yj/FJIXg6p9ChvgelQoJ7hipxz1DnhAEAmMwsZq/fd9OErr0j5DP43aQEGuzVCxQMDpqQFGpXMCzNGGwxTZunGRQpx9dPTMDq739G9k0DgKRiAQL9hQgOEEHhJ4RMIkCUwg8ZQyMxPDbI6cO7+TwGUicNBJOKBfjk0bEYFhvolP35KgoGB902IBSv5Xa/Tea4/nj0NudcSelqEiEfy+9LwZTkcPzjh7N45YFUJEfK3F7HPamR2F1S16t9+An5+PA3oykUnMAzh8d5sBSlvNuBS3cMCsdL96eA6WOTuE4cEIoNmSOx+vti5J6sdvvzT02JQG8bImsfGYHRVjp4iWMoGBzE4zEYb2Ww05AoOd55eDgEHjoc2ZagABHuGhyBrG3Fbn/uEKkYY+N7Pur14TH9MGUQLQ7kLH3zN5hjk7q4bkKpkOBfvx6NgD5+ae/ASBkqG6/CaHLNWIfuZAyN7NHjRscF0TgFJ6Ng6IHbBoRZ3Pb6rDREuHAcgrsMCJfCaGZRrda6/bnvHuJYMIj4PCycGI8PfzOmzweyp6Fg6IGoQL9OU5AL+YzXHNvKJEJEKXo/x2VPRMglGNk/yK5t02MD8d1Tt2H5fSk0AYsLUDD00M2XYd87VOlV04UNjJThYoP7gwEAMlK7bzVIhDw8Pz0ZGx9X0foQLkRR20OTBoRh+6laLL8vBXcPieC6HKcaGCFDRSM3wXD3kEj87X+Wa4UmR8gwb2w/PDA8Ggo/bi5n9yUUDD2kSgzBjmcnwV/kfT/CAeFS5PdyTEFPxQb7Y2i0AkWVagxWyhEf6o+MVCXuS1P2uVPAfZn3/Va7iTcdOtwqOVKG/xy4yNnzvzwjBeEyiVMuOSc9Q8FALCSFS1HBQefjdSP7e0dHbl9GnY/Egr9IAKlEADUtqOuzKBhIlwaGyzhtNRBuUTCQLg2MpGDwZRQMpEsDI6S4SMHgsygYSJcGhMs4Gf1IPAMFA+lSUrgUlY1XuS7DZzW16cHlBO4UDKRLEiEfNJ6IO3oOrm69GQUDsSpAJODk8msChMsknI70pGAgViWEBXBy+TXhHgUDsSopXIpzl1u4LoNwgIKBWJUQKkVJrWuXtSOeiYKBWBUfFoCz1GLwSRQMxCqpWIBmLV0v4YsoGEi3zCxgNnvFgujEARQMpFsRcjEqm2igk6+hYCDdSgiV4uxl6oD0NRQMpFuJ4VKcraUOSF9DwUC6lRAagBIKBp9DwUC6FR3oR/My+CAKBtItHo+B0WymMxM+hoKB2KRU+NGZCR9DwUBsSggLoDMTPoaCgdiUGCalDkgfQ8FAbEoIC6CLqXwMBQOxKT40AOUcLXJLuEHBQGySSYTQGWkmJ19CwUDsIpMIoDWYuC6DuAkFA7FLfGgALjXS4YS76YwmXNW7P5ApGIhdEsKktM6EG11p1eN0lQaTV+fjzR0/u/35abVrYpfEsACU1bdyXYbPeD23GFuOV0Ek4KFFZ3T781MwELskhkmxq6QOLTojpGL6tXEls5nFhfpW5D41Cf1C/DmpwaFDiXXr1iEtLQ1yuRxyuRwqlQrbtm0DABgMBrzwwgsYOnQoAgICEBUVhfnz56OqqsrmfpuamvDEE09AqVRCIpFg8ODB+O6773r2iohLRAX6QXPViNnr9+MXa3/CV0cvddkZybIsTlxqQkltM9RXDZyuptRXlTW0oq5Zx+mCPwzrwDv37bffgs/nIykpCQDw8ccfY/Xq1Th27BhiYmIwa9YsPPbYY0hPT0djYyOefvppGI1GHDlyxOo+9Xo9JkyYgPDwcCxduhQxMTGoqKiATCZDenq63S9Eo9FAoVBArVZDLpfb/TjimG8KK/FUTiEAQC4RYOawaKgSQxAb5I/39pRi//l61LfoO7Zf/6uRmJ4ayVG15Fb2fk4cCoauBAcHY/Xq1Vi4cKHFfYcPH8aYMWNw8eJF9OvXr8vHr1+/HqtXr0ZxcTGEQmGP66BgcI9zl1tw15u77N7+/+5OxhNTklxYEXGEvZ+THp+VMJlMyMnJQWtrK1QqVZfbqNVqMAyDwMBAq/vZsmULVCoVnnjiCURERCA1NRWvvvoqTKbuT9HodDpoNJpOX8T14kMD4C/i273937e7v0ed9J7DwVBUVASpVAqxWIzHH38cmzdvRkpKisV2Wq0Wixcvxrx587pNptLSUnz11VcwmUz47rvvsGzZMvz973/HypUru60jKysLCoWi4ys2NtbRl0J6gM9jkBAWYPf2ZhaooWXu+hyHDyX0ej3Ky8vR1NSEjRs34oMPPsCuXbs6hYPBYMDs2bNRXl6O/Pz8boNh4MCB0Gq1uHDhAvj89r9Eb775JlavXo3q6mqrj9PpdNDpdB3fazQaxMbG0qGEGzzxaQH+V2T9vbnVihlDsGB8nOsKInaz91DC4fNOIpGoo/Nx1KhROHz4MNasWYMNGzYAaA+FOXPm4MKFC/jxxx9tfkiVSiWEQmFHKADA4MGDUVNTA71eD5FI1OXjxGIxxGKxo+UTJ+jv4Cm0zw9XQOEnhFjAw5AoBWen4Ij9ej3ykWXZjr/c10Ph7Nmz2LlzJ0JCQmw+fsKECTh37hzM5hsX6ZSUlECpVFoNBcItP6H9fQwAcLpag6c/L8SiTwuw40yti6oizuRQi2Hp0qXIyMhAbGwsmpubkZOTg/z8fOTm5sJoNGLWrFkoKCjA1q1bYTKZUFNTA6D9zMX1D/n8+fMRHR2NrKwsAMCiRYvwzjvv4KmnnsIf//hHnD17Fq+++ir+9Kc/Ofmlkt5iWRa7Surw1s6SHu+jRn0VxTUaCHgMAAa8a+fqeQwDhgEYMB3n7/k8BgFiARR+7Wer6pp10JvMCPQTIkAswGWNFpevne9nwIDPY5AcKUNTmx7lV9rAY5j2Lx5u/J9p/3+oTEwDtbrh0E+mtrYWmZmZqK6uhkKhQFpaGnJzczF16lSUlZVhy5YtAIBhw4Z1elxeXh4mT54MACgvLwePd6OhEhsbi+3bt+OZZ55BWloaoqOj8dRTT+GFF17o3SsjTscwDCYnh+MfDw/Hl0cu4UqrHkWVaof28f6eC3h/zwW7txcLeDi49E4E+ovw+CdHcfRiI159cCjmje2HnMMVeHNH55A6/+o92He+AX/4tKDb/f59djp+OTLGodp9iUPBkJ2dbfW+uLg4u0a55efnW9ymUqlw4MABR0ohHLovLQr3pUWBZVls2F2Kzw9X4IKLrqPQGc3QGc0wmVnor80J0aozQmc04Uqr3mL7qqardl2NSOMxu9frAU6eggY4cUdrMGHQ8lyuy3CIO1oMLTojjpU3wk/Ih0TIh5+IDz8hH0qFBAxH451ddlaCkFtxOabfE11p1aO0rgUVjW145vPjFvf//LfpEAsc68B1NwoG0msiPg//WTgGmdmHuC7Fbm/tLMHnhyvgL+YjQCxAgIgPf5EAAyNkmDe26+H7wLUrHxtarx02X+8wbe9/4V3rBN1VchnLvzlldR99oY1OwUB6jWEYBPn3rVPLlxqv4lKj5SI6fkI+fjEiGpKbTsmyLIuiSjW2FFbh2xNVqNXoLB7nbSgYCLnJVYMJe8/W466UCJy73IItx6vw7fEqp3auUouBkD7o7R9K8PcdJThT7fwL8/a+MAVigefPqOj5FZI+ITbYH+t/NQIBDlx56alOVmpcEgoAEBPkDx7P83trKRiIUyj8hJieqoSAT79S3oDeReJUXjIsxudRMBDiJn1pvAcFA3GqUCldCm9NH8oFOitBnOv+9Cis+eEs12V4JDMLvLWjBEI+A53RDKOZhZDHQMDnQcBnIOTxMGlgGJIjZVyXSsFAnGv9rvNcl+DRbIWmwl/oEcFAhxLEqczU+dgrQr5nHHBQMBCnMpkpGHpDwPOMjyQdShCnYVkWlAu9c6nxKoouqcHntc9IFRQgRLhM4vY6KBiI3bSG9iXZWbSHQPu/AAsWYAETHUb02mu5xXjtpu8zx/XHKw+kur0OCgZitw9/KsNrucVcl+FT+BwNn/aMAxrSJ7A0IZrbUTAQj0dHCu4noGAghNyKqxYD9TEQu9EFUs4RHCCCUiGBUiGB3E+IAJGgfYo5kQD+ovap5vxF7d8nhUs5qZGCgdiNcsE2hZ+w40OvDPRDlEICpcIPysBr/yoknaaN81QUDMRuvj5GQSoWWH7gFZJOH/oAL1ndyjteBXELbz4r4SfkQxkoQdT1D/u1AFAqJIi69q9MIuS6TLehYCB266uHEiIBD1EKCSIV1z741/7CR930l17hJ+RsERhPRMFA7OZJuRDoL0RwgAihAeL2f2UiBAeIESoVIeT6bVIRQqRiBPnTh95RFAzEfi5uMsglAkQqJIiQSxAplyBcLu7ywx4UIIKQ5pZ0KQoGYreedj7yeQzCZWJEyNuP3SPk7c36SHnn//t5wQzT3oKCgditq85HqViACLm44y+9sosPfIhUzNlAHdIzFAzEbpOTw5EQKr3R3FdIIPWS03OkM3pXid1GxwVjdFww12UQN6AeHEKIBQoGQogFCgZCiAUKBkKIBQoGQogFCgZCiAUKBkKIBQoGQogFCgZCiAUKBkKIBQoGQogFCgZCiAUKBkKIBQoGQogFr7ns+vpiKBqNhuNKCPFc1z8fthYP8ppgaG5uBgDExsZyXAkhnq+5uRkKhcLq/QzrJeuOmc1mVFVVQSaT9dkZgTUaDWJjY1FRUQG5XM51OT7J298DlmXR3NyMqKgo8HjWexK8psXA4/EQExPDdRlOIZfLvfKXsi/x5vegu5bCddT5SAixQMFACLFAweBBxGIxXnrpJYjFYq5L8Vn0HrTzms5HQojzUIuBEGKBgoEQYoGCgRBigYKBEGKBgsGFVq5cifHjx8Pf3x+BgYFdbvPUU09h5MiREIvFGDZsmMX9L7/8MhiGsfgKCAiw+rxlZWVYuHAh4uPj4efnh8TERLz00kvQ6/VOemV9B1fvAQA0NjYiMzMTCoUCCoUCmZmZaGpq6v2LcgMKBhfS6/WYPXs2Fi1aZHUblmXx29/+Fg899FCX9//5z39GdXV1p6+UlBTMnj3b6j6Li4thNpuxYcMGnDp1Cm+99RbWr1+PpUuX9vo19TVcvQcAMG/ePBQWFiI3Nxe5ubkoLCxEZmZmr16P27DE5T788ENWoVB0u81LL73Epqen29xXYWEhC4DdvXu3QzW8/vrrbHx8vEOP8Sbufg9Onz7NAmAPHDjQcdv+/ftZAGxxcbG9ZXOGWgx9zAcffICBAwfitttuc+hxarUawcG0UrUz2PMe7N+/HwqFAmPHju24bdy4cVAoFNi3b587yuwVCoY+RKfT4dNPP8XChQsdetz58+fxzjvv4PHHH3dRZb7D3vegpqYG4eHhFreHh4ejpqbGVeU5DQWDg6x1RN38deTIEZc896ZNm9Dc3Iz58+fb/ZiqqipMnz4ds2fPxqOPPuqSutytr7wHXV3+z7Jsn5gWwGsuu3aXJ598EnPnzu12m7i4OJc89wcffID77rsPkZGRdm1fVVWFKVOmQKVS4b333nNJTVzoC+9BZGQkamtrLW6vq6tDRESES2pzJgoGB4WGhiI0NNTtz3vhwgXk5eVhy5Ytdm1fWVmJKVOmYOTIkfjwww+7nZSjr+kL74FKpYJarcahQ4cwZswYAMDBgwehVqsxfvx4V5faa97z2+KBysvLUVhYiPLycphMJhQWFqKwsBAtLS0d25w7dw6FhYWoqanB1atXO7a5dczBv/71LyiVSmRkZFg8z6FDhzBo0CBUVlYCaG8pTJ48GbGxsXjjjTdQV1eHmpqaPnFs62xcvQeDBw/G9OnT8dhjj+HAgQM4cOAAHnvsMdx3331ITk527Yt2Bq5Pi3izBQsWsAAsvvLy8jq2uf3227vc5sKFCx3bmEwmNiYmhl26dGmXz5OXl9fpMR9++GGX+/TFt5ur94BlWbahoYF95JFHWJlMxspkMvaRRx5hGxsbXfNCnYwuuyaEWKBDCUKIBQoGQogFCgZCiAUKBkKIBQoGQogFCgZCiAUKBkKIBQoGQogFCgZCiAUKBkKIBQoGQogFCgZCiIX/B1Q9gVcEg1reAAAAAElFTkSuQmCC",
      "text/plain": [
       "<Figure size 640x480 with 1 Axes>"
      ]
     },
     "metadata": {},
     "output_type": "display_data"
    }
   ],
   "source": [
    "sdBoundary.plot()"
   ]
  },
  {
   "cell_type": "markdown",
   "id": "67659763-e773-4a9f-a65c-ac564332d5b5",
   "metadata": {},
   "source": [
    "### Census Tracts"
   ]
  },
  {
   "cell_type": "code",
<<<<<<< HEAD
   "execution_count": 8,
=======
   "execution_count": 7,
>>>>>>> upstream/main
   "id": "16a71413-7f62-41aa-b940-fe840b73d1e0",
   "metadata": {},
   "outputs": [],
   "source": [
    "from geosnap import DataStore"
   ]
  },
  {
   "cell_type": "code",
<<<<<<< HEAD
   "execution_count": 9,
=======
   "execution_count": 8,
>>>>>>> upstream/main
   "id": "a307f317-8847-4583-b646-2edc453dd158",
   "metadata": {},
   "outputs": [],
   "source": [
    "dataSets = DataStore('/srv/data/geosnap')"
   ]
  },
  {
   "cell_type": "code",
<<<<<<< HEAD
   "execution_count": 10,
=======
   "execution_count": 9,
>>>>>>> upstream/main
   "id": "b641a42a-50ac-4db6-9220-5c8e1c0702f1",
   "metadata": {},
   "outputs": [],
   "source": [
    "tracts = dataSets.acs('2021')"
   ]
  },
  {
   "cell_type": "code",
<<<<<<< HEAD
   "execution_count": 11,
=======
   "execution_count": 10,
>>>>>>> upstream/main
   "id": "8e51a1a6-256d-4b1e-82a6-7ca044b10054",
   "metadata": {},
   "outputs": [],
   "source": [
    "sdTracts = tracts[tracts['geoid'].str.startswith('06073')]"
   ]
  },
  {
   "cell_type": "code",
<<<<<<< HEAD
   "execution_count": 12,
=======
   "execution_count": 11,
>>>>>>> upstream/main
   "id": "ba30e93b-79b4-447e-8d3a-b606c64a1926",
   "metadata": {},
   "outputs": [
    {
     "data": {
      "text/html": [
       "<div>\n",
       "<style scoped>\n",
       "    .dataframe tbody tr th:only-of-type {\n",
       "        vertical-align: middle;\n",
       "    }\n",
       "\n",
       "    .dataframe tbody tr th {\n",
       "        vertical-align: top;\n",
       "    }\n",
       "\n",
       "    .dataframe thead th {\n",
       "        text-align: right;\n",
       "    }\n",
       "</style>\n",
       "<table border=\"1\" class=\"dataframe\">\n",
       "  <thead>\n",
       "    <tr style=\"text-align: right;\">\n",
       "      <th></th>\n",
       "      <th>geoid</th>\n",
       "      <th>n_mexican_pop</th>\n",
       "      <th>n_cuban_pop</th>\n",
       "      <th>n_puerto_rican_pop</th>\n",
       "      <th>n_russian_pop</th>\n",
       "      <th>n_italian_pop</th>\n",
       "      <th>n_german_pop</th>\n",
       "      <th>n_irish_pop</th>\n",
       "      <th>n_scandaniavian_pop</th>\n",
       "      <th>n_foreign_born_pop</th>\n",
       "      <th>...</th>\n",
       "      <th>p_poverty_rate</th>\n",
       "      <th>p_poverty_rate_over_65</th>\n",
       "      <th>p_poverty_rate_children</th>\n",
       "      <th>p_poverty_rate_white</th>\n",
       "      <th>p_poverty_rate_black</th>\n",
       "      <th>p_poverty_rate_hispanic</th>\n",
       "      <th>p_poverty_rate_native</th>\n",
       "      <th>p_poverty_rate_asian</th>\n",
       "      <th>geometry</th>\n",
       "      <th>year</th>\n",
       "    </tr>\n",
       "  </thead>\n",
       "  <tbody>\n",
       "    <tr>\n",
       "      <th>10522</th>\n",
       "      <td>06073000100</td>\n",
       "      <td>228.0</td>\n",
       "      <td>0.0</td>\n",
       "      <td>21.0</td>\n",
       "      <td>45.0</td>\n",
       "      <td>117.0</td>\n",
       "      <td>34.0</td>\n",
       "      <td>35.0</td>\n",
       "      <td>0.0</td>\n",
       "      <td>277.0</td>\n",
       "      <td>...</td>\n",
       "      <td>1.623816</td>\n",
       "      <td>0.304465</td>\n",
       "      <td>0.000000</td>\n",
       "      <td>1.082544</td>\n",
       "      <td>0.00000</td>\n",
       "      <td>1.116373</td>\n",
       "      <td>0.0</td>\n",
       "      <td>0.0</td>\n",
       "      <td>MULTIPOLYGON (((-117.19490 32.75278, -117.1947...</td>\n",
       "      <td>2021</td>\n",
       "    </tr>\n",
       "    <tr>\n",
       "      <th>10523</th>\n",
       "      <td>06073000201</td>\n",
       "      <td>40.0</td>\n",
       "      <td>11.0</td>\n",
       "      <td>0.0</td>\n",
       "      <td>13.0</td>\n",
       "      <td>101.0</td>\n",
       "      <td>65.0</td>\n",
       "      <td>112.0</td>\n",
       "      <td>0.0</td>\n",
       "      <td>216.0</td>\n",
       "      <td>...</td>\n",
       "      <td>6.323084</td>\n",
       "      <td>2.771763</td>\n",
       "      <td>0.000000</td>\n",
       "      <td>4.677350</td>\n",
       "      <td>0.00000</td>\n",
       "      <td>0.909485</td>\n",
       "      <td>0.0</td>\n",
       "      <td>0.0</td>\n",
       "      <td>MULTIPOLYGON (((-117.17887 32.75765, -117.1779...</td>\n",
       "      <td>2021</td>\n",
       "    </tr>\n",
       "    <tr>\n",
       "      <th>10524</th>\n",
       "      <td>06073000202</td>\n",
       "      <td>431.0</td>\n",
       "      <td>0.0</td>\n",
       "      <td>59.0</td>\n",
       "      <td>78.0</td>\n",
       "      <td>233.0</td>\n",
       "      <td>150.0</td>\n",
       "      <td>66.0</td>\n",
       "      <td>0.0</td>\n",
       "      <td>879.0</td>\n",
       "      <td>...</td>\n",
       "      <td>4.217016</td>\n",
       "      <td>0.000000</td>\n",
       "      <td>0.123305</td>\n",
       "      <td>3.699137</td>\n",
       "      <td>0.00000</td>\n",
       "      <td>1.331689</td>\n",
       "      <td>0.0</td>\n",
       "      <td>0.0</td>\n",
       "      <td>MULTIPOLYGON (((-117.18404 32.74571, -117.1838...</td>\n",
       "      <td>2021</td>\n",
       "    </tr>\n",
       "    <tr>\n",
       "      <th>10525</th>\n",
       "      <td>06073000301</td>\n",
       "      <td>396.0</td>\n",
       "      <td>0.0</td>\n",
       "      <td>19.0</td>\n",
       "      <td>0.0</td>\n",
       "      <td>21.0</td>\n",
       "      <td>83.0</td>\n",
       "      <td>53.0</td>\n",
       "      <td>0.0</td>\n",
       "      <td>439.0</td>\n",
       "      <td>...</td>\n",
       "      <td>17.155556</td>\n",
       "      <td>0.622222</td>\n",
       "      <td>2.444444</td>\n",
       "      <td>16.311111</td>\n",
       "      <td>0.00000</td>\n",
       "      <td>4.888889</td>\n",
       "      <td>0.0</td>\n",
       "      <td>0.0</td>\n",
       "      <td>MULTIPOLYGON (((-117.16864 32.74897, -117.1684...</td>\n",
       "      <td>2021</td>\n",
       "    </tr>\n",
       "    <tr>\n",
       "      <th>10526</th>\n",
       "      <td>06073000302</td>\n",
       "      <td>526.0</td>\n",
       "      <td>0.0</td>\n",
       "      <td>66.0</td>\n",
       "      <td>13.0</td>\n",
       "      <td>70.0</td>\n",
       "      <td>121.0</td>\n",
       "      <td>132.0</td>\n",
       "      <td>0.0</td>\n",
       "      <td>199.0</td>\n",
       "      <td>...</td>\n",
       "      <td>7.102672</td>\n",
       "      <td>1.265823</td>\n",
       "      <td>0.000000</td>\n",
       "      <td>4.887482</td>\n",
       "      <td>2.21519</td>\n",
       "      <td>3.059072</td>\n",
       "      <td>0.0</td>\n",
       "      <td>0.0</td>\n",
       "      <td>MULTIPOLYGON (((-117.16400 32.74091, -117.1640...</td>\n",
       "      <td>2021</td>\n",
       "    </tr>\n",
       "  </tbody>\n",
       "</table>\n",
       "<p>5 rows × 158 columns</p>\n",
       "</div>"
      ],
      "text/plain": [
       "             geoid  n_mexican_pop  n_cuban_pop  n_puerto_rican_pop  \\\n",
       "10522  06073000100          228.0          0.0                21.0   \n",
       "10523  06073000201           40.0         11.0                 0.0   \n",
       "10524  06073000202          431.0          0.0                59.0   \n",
       "10525  06073000301          396.0          0.0                19.0   \n",
       "10526  06073000302          526.0          0.0                66.0   \n",
       "\n",
       "       n_russian_pop  n_italian_pop  n_german_pop  n_irish_pop  \\\n",
       "10522           45.0          117.0          34.0         35.0   \n",
       "10523           13.0          101.0          65.0        112.0   \n",
       "10524           78.0          233.0         150.0         66.0   \n",
       "10525            0.0           21.0          83.0         53.0   \n",
       "10526           13.0           70.0         121.0        132.0   \n",
       "\n",
       "       n_scandaniavian_pop  n_foreign_born_pop  ...  p_poverty_rate  \\\n",
       "10522                  0.0               277.0  ...        1.623816   \n",
       "10523                  0.0               216.0  ...        6.323084   \n",
       "10524                  0.0               879.0  ...        4.217016   \n",
       "10525                  0.0               439.0  ...       17.155556   \n",
       "10526                  0.0               199.0  ...        7.102672   \n",
       "\n",
       "       p_poverty_rate_over_65  p_poverty_rate_children  p_poverty_rate_white  \\\n",
       "10522                0.304465                 0.000000              1.082544   \n",
       "10523                2.771763                 0.000000              4.677350   \n",
       "10524                0.000000                 0.123305              3.699137   \n",
       "10525                0.622222                 2.444444             16.311111   \n",
       "10526                1.265823                 0.000000              4.887482   \n",
       "\n",
       "       p_poverty_rate_black  p_poverty_rate_hispanic  p_poverty_rate_native  \\\n",
       "10522               0.00000                 1.116373                    0.0   \n",
       "10523               0.00000                 0.909485                    0.0   \n",
       "10524               0.00000                 1.331689                    0.0   \n",
       "10525               0.00000                 4.888889                    0.0   \n",
       "10526               2.21519                 3.059072                    0.0   \n",
       "\n",
       "       p_poverty_rate_asian  \\\n",
       "10522                   0.0   \n",
       "10523                   0.0   \n",
       "10524                   0.0   \n",
       "10525                   0.0   \n",
       "10526                   0.0   \n",
       "\n",
       "                                                geometry  year  \n",
       "10522  MULTIPOLYGON (((-117.19490 32.75278, -117.1947...  2021  \n",
       "10523  MULTIPOLYGON (((-117.17887 32.75765, -117.1779...  2021  \n",
       "10524  MULTIPOLYGON (((-117.18404 32.74571, -117.1838...  2021  \n",
       "10525  MULTIPOLYGON (((-117.16864 32.74897, -117.1684...  2021  \n",
       "10526  MULTIPOLYGON (((-117.16400 32.74091, -117.1640...  2021  \n",
       "\n",
       "[5 rows x 158 columns]"
      ]
     },
<<<<<<< HEAD
     "execution_count": 12,
=======
     "execution_count": 11,
>>>>>>> upstream/main
     "metadata": {},
     "output_type": "execute_result"
    }
   ],
   "source": [
    "set_crs(sdTracts).head()"
   ]
  },
  {
   "cell_type": "code",
<<<<<<< HEAD
   "execution_count": 13,
=======
   "execution_count": 12,
>>>>>>> upstream/main
   "id": "3b60cef2-4563-446b-bf0b-4939bd72b98c",
   "metadata": {},
   "outputs": [
    {
     "data": {
      "text/plain": [
       "array(['geoid', 'n_mexican_pop', 'n_cuban_pop', 'n_puerto_rican_pop',\n",
       "       'n_russian_pop', 'n_italian_pop', 'n_german_pop', 'n_irish_pop',\n",
       "       'n_scandaniavian_pop', 'n_foreign_born_pop',\n",
       "       'n_recent_immigrant_pop', 'n_naturalized_pop',\n",
       "       'n_russian_born_pop', 'n_italian_born_pop', 'n_german_born_pop',\n",
       "       'n_irish_born_pop', 'n_scandaniavian_born_pop',\n",
       "       'n_total_housing_units', 'n_vacant_housing_units',\n",
       "       'n_occupied_housing_units', 'n_owner_occupied_housing_units',\n",
       "       'n_renter_occupied_housing_units',\n",
       "       'n_housing_units_multiunit_structures_denom',\n",
       "       'n_housing_units_multiunit_structures',\n",
       "       'n_total_housing_units_sample', 'median_home_value',\n",
       "       'median_contract_rent', 'n_occupied_housing_units_sample',\n",
       "       'n_persons_under_18', 'n_persons_over_60', 'n_persons_over_75',\n",
       "       'n_persons_over_15', 'n_persons_over_25', 'n_married',\n",
       "       'n_widowed_divorced', 'n_total_families',\n",
       "       'n_female_headed_families', 'n_nonhisp_white_persons',\n",
       "       'n_nonhisp_black_persons', 'n_hispanic_persons',\n",
       "       'n_native_persons', 'n_hawaiian_persons', 'n_asian_indian_persons',\n",
       "       'n_chinese_persons', 'n_filipino_persons', 'n_japanese_persons',\n",
       "       'n_korean_persons', 'n_asian_persons', 'n_vietnamese_persons',\n",
       "       'n_white_age_distribution', 'n_white_under_15', 'n_white_over_65',\n",
       "       'n_black_age_distribution', 'n_black_under_15', 'n_black_over_65',\n",
       "       'n_hispanic_age_distribution', 'n_hispanic_under_15',\n",
       "       'n_hispanic_over_65', 'n_native_age_distribution',\n",
       "       'n_native_under_15', 'n_native_over_65',\n",
       "       'n_asian_age_distribution', 'n_asian_under_15', 'n_asian_over_65',\n",
       "       'n_labor_force', 'n_unemployed_persons', 'n_employed_over_16',\n",
       "       'n_civilians_over_16', 'n_veterans', 'median_household_income',\n",
       "       'n_total_households', 'median_income_whitehh',\n",
       "       'n_white_households', 'median_income_blackhh',\n",
       "       'n_black_households', 'median_income_hispanichh',\n",
       "       'n_hispanic_households', 'n_asian_households', 'per_capita_income',\n",
       "       'n_poverty_determined_persons', 'n_poverty_persons',\n",
       "       'n_poverty_over_65', 'n_poverty_determined_families',\n",
       "       'n_poverty_families_children', 'n_poverty_determined_white',\n",
       "       'n_poverty_white', 'n_poverty_determined_black', 'n_poverty_black',\n",
       "       'n_poverty_determined_hispanic', 'n_poverty_hispanic',\n",
       "       'n_poverty_determined_native', 'n_poverty_native',\n",
       "       'n_poverty_determined_asian', 'n_poverty_asian',\n",
       "       'n_edu_college_greater', 'n_edu_hs_less', 'n_total_pop',\n",
       "       'p_mexican_pop', 'p_cuban_pop', 'p_puerto_rican_pop',\n",
       "       'p_russian_pop', 'p_italian_pop', 'p_german_pop', 'p_irish_pop',\n",
       "       'p_scandanavian_pop', 'p_foreign_born_pop',\n",
       "       'p_recent_immigrant_pop', 'p_naturalized_pop',\n",
       "       'p_russian_born_pop', 'p_italian_born_pop', 'p_german_born_pop',\n",
       "       'p_irish_born_pop', 'p_scandanavian_born_pop',\n",
       "       'p_vacant_housing_units', 'p_owner_occupied_units',\n",
       "       'p_housing_units_multiunit_structures', 'p_persons_under_18',\n",
       "       'p_persons_over_60', 'p_persons_over_75', 'p_married',\n",
       "       'p_widowed_divorced', 'p_female_headed_families',\n",
       "       'p_nonhisp_white_persons', 'p_nonhisp_black_persons',\n",
       "       'p_hispanic_persons', 'p_native_persons', 'p_asian_persons',\n",
       "       'p_hawaiian_persons', 'p_asian_indian_persons',\n",
       "       'p_chinese_persons', 'p_filipino_persons', 'p_japanese_persons',\n",
       "       'p_korean_persons', 'p_vietnamese_persons', 'p_white_under_15',\n",
       "       'p_white_over_65', 'p_black_under_15', 'p_black_over_65',\n",
       "       'p_hispanic_under_15', 'p_hispanic_over_65', 'p_native_under_15',\n",
       "       'p_native_over_65', 'p_asian_under_15', 'p_asian_over_65',\n",
       "       'p_edu_hs_less', 'p_edu_college_greater', 'p_unemployment_rate',\n",
       "       'p_veterans', 'p_poverty_rate', 'p_poverty_rate_over_65',\n",
       "       'p_poverty_rate_children', 'p_poverty_rate_white',\n",
       "       'p_poverty_rate_black', 'p_poverty_rate_hispanic',\n",
       "       'p_poverty_rate_native', 'p_poverty_rate_asian', 'geometry',\n",
       "       'year'], dtype=object)"
      ]
     },
<<<<<<< HEAD
     "execution_count": 13,
=======
     "execution_count": 12,
>>>>>>> upstream/main
     "metadata": {},
     "output_type": "execute_result"
    }
   ],
   "source": [
    "sdTracts.columns.values"
   ]
  },
  {
   "cell_type": "code",
<<<<<<< HEAD
   "execution_count": 14,
=======
   "execution_count": 13,
>>>>>>> upstream/main
   "id": "312ac0e2-d48e-483b-a059-71cda11fe772",
   "metadata": {},
   "outputs": [],
   "source": [
    "variables = ['n_total_pop', 'p_poverty_rate', 'median_household_income', 'per_capita_income', \n",
    "             'p_nonhisp_white_persons', 'p_nonhisp_black_persons','p_hispanic_persons', \n",
    "             'p_asian_persons']"
   ]
  },
  {
   "cell_type": "code",
<<<<<<< HEAD
   "execution_count": 15,
=======
   "execution_count": 14,
>>>>>>> upstream/main
   "id": "3381cee9-03a1-45d5-b077-65884a470f94",
   "metadata": {},
   "outputs": [],
   "source": [
    "sdVariables = sdTracts.loc[:, variables + ['geometry']]"
   ]
  },
  {
   "cell_type": "code",
<<<<<<< HEAD
   "execution_count": 16,
=======
   "execution_count": 15,
>>>>>>> upstream/main
   "id": "2731a5a0-cf62-48a0-a04e-d088aa8e6289",
   "metadata": {},
   "outputs": [],
   "source": [
    "csd = gpd.overlay(sdBoundary, sdVariables, how='identity')"
   ]
  },
  {
   "cell_type": "code",
<<<<<<< HEAD
   "execution_count": 17,
=======
   "execution_count": 16,
>>>>>>> upstream/main
   "id": "37684608-2cfb-488e-91a9-e43791669580",
   "metadata": {},
   "outputs": [
    {
     "data": {
      "text/html": [
       "<div>\n",
       "<style scoped>\n",
       "    .dataframe tbody tr th:only-of-type {\n",
       "        vertical-align: middle;\n",
       "    }\n",
       "\n",
       "    .dataframe tbody tr th {\n",
       "        vertical-align: top;\n",
       "    }\n",
       "\n",
       "    .dataframe thead th {\n",
       "        text-align: right;\n",
       "    }\n",
       "</style>\n",
       "<table border=\"1\" class=\"dataframe\">\n",
       "  <thead>\n",
       "    <tr style=\"text-align: right;\">\n",
       "      <th></th>\n",
       "      <th>STATEFP</th>\n",
       "      <th>PLACEFP</th>\n",
       "      <th>PLACENS</th>\n",
       "      <th>AFFGEOID</th>\n",
       "      <th>GEOID</th>\n",
       "      <th>NAME</th>\n",
       "      <th>NAMELSAD</th>\n",
       "      <th>STUSPS</th>\n",
       "      <th>STATE_NAME</th>\n",
       "      <th>LSAD</th>\n",
       "      <th>...</th>\n",
       "      <th>AWATER</th>\n",
       "      <th>n_total_pop</th>\n",
       "      <th>p_poverty_rate</th>\n",
       "      <th>median_household_income</th>\n",
       "      <th>per_capita_income</th>\n",
       "      <th>p_nonhisp_white_persons</th>\n",
       "      <th>p_nonhisp_black_persons</th>\n",
       "      <th>p_hispanic_persons</th>\n",
       "      <th>p_asian_persons</th>\n",
       "      <th>geometry</th>\n",
       "    </tr>\n",
       "  </thead>\n",
       "  <tbody>\n",
       "    <tr>\n",
       "      <th>0</th>\n",
       "      <td>06</td>\n",
       "      <td>66000</td>\n",
       "      <td>02411782</td>\n",
       "      <td>1600000US0666000</td>\n",
       "      <td>0666000</td>\n",
       "      <td>San Diego</td>\n",
       "      <td>San Diego city</td>\n",
       "      <td>CA</td>\n",
       "      <td>California</td>\n",
       "      <td>25</td>\n",
       "      <td>...</td>\n",
       "      <td>120532755.0</td>\n",
       "      <td>2956.0</td>\n",
       "      <td>1.623816</td>\n",
       "      <td>160990.0</td>\n",
       "      <td>96996.0</td>\n",
       "      <td>77.604871</td>\n",
       "      <td>0.000000</td>\n",
       "      <td>14.445196</td>\n",
       "      <td>3.958051</td>\n",
       "      <td>POLYGON ((-117.19471 32.75301, -117.19413 32.7...</td>\n",
       "    </tr>\n",
       "    <tr>\n",
       "      <th>1</th>\n",
       "      <td>06</td>\n",
       "      <td>66000</td>\n",
       "      <td>02411782</td>\n",
       "      <td>1600000US0666000</td>\n",
       "      <td>0666000</td>\n",
       "      <td>San Diego</td>\n",
       "      <td>San Diego city</td>\n",
       "      <td>CA</td>\n",
       "      <td>California</td>\n",
       "      <td>25</td>\n",
       "      <td>...</td>\n",
       "      <td>120532755.0</td>\n",
       "      <td>2309.0</td>\n",
       "      <td>6.323084</td>\n",
       "      <td>94629.0</td>\n",
       "      <td>100047.0</td>\n",
       "      <td>82.503248</td>\n",
       "      <td>0.389779</td>\n",
       "      <td>5.326981</td>\n",
       "      <td>5.586834</td>\n",
       "      <td>POLYGON ((-117.17797 32.75765, -117.17706 32.7...</td>\n",
       "    </tr>\n",
       "    <tr>\n",
       "      <th>2</th>\n",
       "      <td>06</td>\n",
       "      <td>66000</td>\n",
       "      <td>02411782</td>\n",
       "      <td>1600000US0666000</td>\n",
       "      <td>0666000</td>\n",
       "      <td>San Diego</td>\n",
       "      <td>San Diego city</td>\n",
       "      <td>CA</td>\n",
       "      <td>California</td>\n",
       "      <td>25</td>\n",
       "      <td>...</td>\n",
       "      <td>120532755.0</td>\n",
       "      <td>4116.0</td>\n",
       "      <td>4.217016</td>\n",
       "      <td>99651.0</td>\n",
       "      <td>66060.0</td>\n",
       "      <td>71.865889</td>\n",
       "      <td>0.485909</td>\n",
       "      <td>17.322643</td>\n",
       "      <td>6.219631</td>\n",
       "      <td>POLYGON ((-117.18383 32.74608, -117.18376 32.7...</td>\n",
       "    </tr>\n",
       "    <tr>\n",
       "      <th>3</th>\n",
       "      <td>06</td>\n",
       "      <td>66000</td>\n",
       "      <td>02411782</td>\n",
       "      <td>1600000US0666000</td>\n",
       "      <td>0666000</td>\n",
       "      <td>San Diego</td>\n",
       "      <td>San Diego city</td>\n",
       "      <td>CA</td>\n",
       "      <td>California</td>\n",
       "      <td>25</td>\n",
       "      <td>...</td>\n",
       "      <td>120532755.0</td>\n",
       "      <td>2250.0</td>\n",
       "      <td>17.155556</td>\n",
       "      <td>82788.0</td>\n",
       "      <td>74564.0</td>\n",
       "      <td>65.111111</td>\n",
       "      <td>2.311111</td>\n",
       "      <td>19.288889</td>\n",
       "      <td>5.377778</td>\n",
       "      <td>POLYGON ((-117.16840 32.74897, -117.16768 32.7...</td>\n",
       "    </tr>\n",
       "    <tr>\n",
       "      <th>4</th>\n",
       "      <td>06</td>\n",
       "      <td>66000</td>\n",
       "      <td>02411782</td>\n",
       "      <td>1600000US0666000</td>\n",
       "      <td>0666000</td>\n",
       "      <td>San Diego</td>\n",
       "      <td>San Diego city</td>\n",
       "      <td>CA</td>\n",
       "      <td>California</td>\n",
       "      <td>25</td>\n",
       "      <td>...</td>\n",
       "      <td>120532755.0</td>\n",
       "      <td>3042.0</td>\n",
       "      <td>7.102672</td>\n",
       "      <td>71712.0</td>\n",
       "      <td>66441.0</td>\n",
       "      <td>73.668639</td>\n",
       "      <td>1.873767</td>\n",
       "      <td>21.071663</td>\n",
       "      <td>2.629849</td>\n",
       "      <td>POLYGON ((-117.16400 32.74132, -117.16400 32.7...</td>\n",
       "    </tr>\n",
       "  </tbody>\n",
       "</table>\n",
       "<p>5 rows × 21 columns</p>\n",
       "</div>"
      ],
      "text/plain": [
       "  STATEFP PLACEFP   PLACENS          AFFGEOID    GEOID       NAME  \\\n",
       "0      06   66000  02411782  1600000US0666000  0666000  San Diego   \n",
       "1      06   66000  02411782  1600000US0666000  0666000  San Diego   \n",
       "2      06   66000  02411782  1600000US0666000  0666000  San Diego   \n",
       "3      06   66000  02411782  1600000US0666000  0666000  San Diego   \n",
       "4      06   66000  02411782  1600000US0666000  0666000  San Diego   \n",
       "\n",
       "         NAMELSAD STUSPS  STATE_NAME LSAD  ...       AWATER  n_total_pop  \\\n",
       "0  San Diego city     CA  California   25  ...  120532755.0       2956.0   \n",
       "1  San Diego city     CA  California   25  ...  120532755.0       2309.0   \n",
       "2  San Diego city     CA  California   25  ...  120532755.0       4116.0   \n",
       "3  San Diego city     CA  California   25  ...  120532755.0       2250.0   \n",
       "4  San Diego city     CA  California   25  ...  120532755.0       3042.0   \n",
       "\n",
       "   p_poverty_rate  median_household_income  per_capita_income  \\\n",
       "0        1.623816                 160990.0            96996.0   \n",
       "1        6.323084                  94629.0           100047.0   \n",
       "2        4.217016                  99651.0            66060.0   \n",
       "3       17.155556                  82788.0            74564.0   \n",
       "4        7.102672                  71712.0            66441.0   \n",
       "\n",
       "   p_nonhisp_white_persons  p_nonhisp_black_persons  p_hispanic_persons  \\\n",
       "0                77.604871                 0.000000           14.445196   \n",
       "1                82.503248                 0.389779            5.326981   \n",
       "2                71.865889                 0.485909           17.322643   \n",
       "3                65.111111                 2.311111           19.288889   \n",
       "4                73.668639                 1.873767           21.071663   \n",
       "\n",
       "   p_asian_persons                                           geometry  \n",
       "0         3.958051  POLYGON ((-117.19471 32.75301, -117.19413 32.7...  \n",
       "1         5.586834  POLYGON ((-117.17797 32.75765, -117.17706 32.7...  \n",
       "2         6.219631  POLYGON ((-117.18383 32.74608, -117.18376 32.7...  \n",
       "3         5.377778  POLYGON ((-117.16840 32.74897, -117.16768 32.7...  \n",
       "4         2.629849  POLYGON ((-117.16400 32.74132, -117.16400 32.7...  \n",
       "\n",
       "[5 rows x 21 columns]"
      ]
     },
<<<<<<< HEAD
     "execution_count": 17,
=======
     "execution_count": 16,
>>>>>>> upstream/main
     "metadata": {},
     "output_type": "execute_result"
    }
   ],
   "source": [
    "csd.head()"
   ]
  },
  {
   "cell_type": "code",
<<<<<<< HEAD
   "execution_count": 18,
=======
   "execution_count": 17,
>>>>>>> upstream/main
   "id": "7c06074b-0d35-47c6-84f2-b67f8899a78a",
   "metadata": {},
   "outputs": [
    {
     "data": {
      "text/plain": [
       "<Axes: >"
      ]
     },
<<<<<<< HEAD
     "execution_count": 18,
=======
     "execution_count": 17,
>>>>>>> upstream/main
     "metadata": {},
     "output_type": "execute_result"
    },
    {
     "data": {
      "image/png": "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",
      "text/plain": [
       "<Figure size 640x480 with 1 Axes>"
      ]
     },
     "metadata": {},
     "output_type": "display_data"
    }
   ],
   "source": [
    "csd.plot()"
   ]
  },
  {
   "cell_type": "markdown",
   "id": "d876dad5-7a4e-425c-9756-f4e6527688b6",
   "metadata": {},
   "source": [
    "```csd.to_file('./data/cities/san-diego/csd.geojson')```"
   ]
  },
  {
   "cell_type": "markdown",
   "id": "717fc1de-4363-4711-8a1b-533ddc93721a",
   "metadata": {},
   "source": [
    "### Schools"
   ]
  },
  {
   "cell_type": "markdown",
   "id": "e372e3c3-5c56-4df0-8a48-c4bee44be2d6",
   "metadata": {},
   "source": [
    "102268 entries\n",
    "```\n",
    "schPath = './data/schools/EDGE_GEOCODE_PUBLICSCH_2223.shp'\n",
    "\n",
    "schools = gpd.read_file(schPath, geometry='geometry')\n",
    "\n",
    "set_crs(schools)\n",
    "\n",
    "sdSchools = schools[(schools['STATE'] == 'CA') & (schools['CITY'] == 'San Diego')]\n",
    "\n",
    "sdSchools.to_file('./data/schools/sdSch/sdSchools.shp')\n",
    "```"
   ]
  },
  {
   "cell_type": "code",
   "execution_count": 18,
   "id": "2ec12671-7536-4462-a95c-898dd9a93703",
   "metadata": {},
   "outputs": [],
   "source": [
    "sdsPath = './data/schools/sdSch/sdSchools.shp'"
   ]
  },
  {
   "cell_type": "code",
   "execution_count": 19,
   "id": "01e85a72-05d0-4ae8-a34a-b21a80255dc1",
   "metadata": {},
   "outputs": [],
   "source": [
    "sds = gpd.read_file(sdsPath, geometry='geometry')"
   ]
  },
  {
   "cell_type": "code",
   "execution_count": 20,
   "id": "46f41ce0-b79e-4ca9-ade0-67075c6d665b",
   "metadata": {},
   "outputs": [
    {
     "data": {
      "text/plain": [
       "(288, 26)"
      ]
     },
     "execution_count": 20,
     "metadata": {},
     "output_type": "execute_result"
    }
   ],
   "source": [
    "sds.shape"
   ]
  },
  {
   "cell_type": "code",
   "execution_count": 21,
   "id": "f01f516c-6beb-4fc6-99ef-1960c3c913f4",
   "metadata": {},
   "outputs": [],
   "source": [
    "from functions.dup_col import duplicate_columns"
   ]
  },
  {
   "cell_type": "code",
   "execution_count": 22,
   "id": "39c52068-936b-4a7e-bcc1-988c7183541b",
   "metadata": {},
   "outputs": [
    {
     "name": "stdout",
     "output_type": "stream",
     "text": [
      "Duplicate column names found:\n",
      "- NAME\n",
      "- geometry\n"
     ]
    }
   ],
   "source": [
    "duplicate_columns(csd, sds)"
   ]
  },
  {
   "cell_type": "code",
   "execution_count": 23,
   "id": "0710784b-b469-4490-a9db-2dea1a2166df",
   "metadata": {},
   "outputs": [],
   "source": [
    "from functions.rn_col import rename_column"
   ]
  },
  {
   "cell_type": "code",
   "execution_count": 24,
   "id": "57da2cb5-1496-4e57-822a-9535cd7c068f",
   "metadata": {},
   "outputs": [
    {
     "data": {
      "text/html": [
       "<div>\n",
       "<style scoped>\n",
       "    .dataframe tbody tr th:only-of-type {\n",
       "        vertical-align: middle;\n",
       "    }\n",
       "\n",
       "    .dataframe tbody tr th {\n",
       "        vertical-align: top;\n",
       "    }\n",
       "\n",
       "    .dataframe thead th {\n",
       "        text-align: right;\n",
       "    }\n",
       "</style>\n",
       "<table border=\"1\" class=\"dataframe\">\n",
       "  <thead>\n",
       "    <tr style=\"text-align: right;\">\n",
       "      <th></th>\n",
       "      <th>NCESSCH</th>\n",
       "      <th>LEAID</th>\n",
       "      <th>SCHOOL_NAME</th>\n",
       "      <th>OPSTFIPS</th>\n",
       "      <th>STREET</th>\n",
       "      <th>CITY</th>\n",
       "      <th>STATE</th>\n",
       "      <th>ZIP</th>\n",
       "      <th>STFIP</th>\n",
       "      <th>CNTY</th>\n",
       "      <th>...</th>\n",
       "      <th>CBSATYPE</th>\n",
       "      <th>CSA</th>\n",
       "      <th>NMCSA</th>\n",
       "      <th>NECTA</th>\n",
       "      <th>NMNECTA</th>\n",
       "      <th>CD</th>\n",
       "      <th>SLDL</th>\n",
       "      <th>SLDU</th>\n",
       "      <th>SCHOOLYEAR</th>\n",
       "      <th>geometry</th>\n",
       "    </tr>\n",
       "  </thead>\n",
       "  <tbody>\n",
       "    <tr>\n",
       "      <th>0</th>\n",
       "      <td>060013811406</td>\n",
       "      <td>0600138</td>\n",
       "      <td>San Diego County ROP</td>\n",
       "      <td>06</td>\n",
       "      <td>6401 Linda Vista Rd.</td>\n",
       "      <td>San Diego</td>\n",
       "      <td>CA</td>\n",
       "      <td>92111</td>\n",
       "      <td>06</td>\n",
       "      <td>06073</td>\n",
       "      <td>...</td>\n",
       "      <td>1</td>\n",
       "      <td>N</td>\n",
       "      <td>N</td>\n",
       "      <td>N</td>\n",
       "      <td>N</td>\n",
       "      <td>0653</td>\n",
       "      <td>06079</td>\n",
       "      <td>06039</td>\n",
       "      <td>2022-2023</td>\n",
       "      <td>POINT (-117.17986 32.76963)</td>\n",
       "    </tr>\n",
       "    <tr>\n",
       "      <th>1</th>\n",
       "      <td>060146814198</td>\n",
       "      <td>0601468</td>\n",
       "      <td>America's Finest Charter</td>\n",
       "      <td>06</td>\n",
       "      <td>730 45th St.</td>\n",
       "      <td>San Diego</td>\n",
       "      <td>CA</td>\n",
       "      <td>92102</td>\n",
       "      <td>06</td>\n",
       "      <td>06073</td>\n",
       "      <td>...</td>\n",
       "      <td>1</td>\n",
       "      <td>N</td>\n",
       "      <td>N</td>\n",
       "      <td>N</td>\n",
       "      <td>N</td>\n",
       "      <td>0651</td>\n",
       "      <td>06080</td>\n",
       "      <td>06040</td>\n",
       "      <td>2022-2023</td>\n",
       "      <td>POINT (-117.09805 32.71284)</td>\n",
       "    </tr>\n",
       "    <tr>\n",
       "      <th>2</th>\n",
       "      <td>060148312630</td>\n",
       "      <td>0601483</td>\n",
       "      <td>San Diego Global Vision Academy</td>\n",
       "      <td>06</td>\n",
       "      <td>3430 Sch St.</td>\n",
       "      <td>San Diego</td>\n",
       "      <td>CA</td>\n",
       "      <td>92116</td>\n",
       "      <td>06</td>\n",
       "      <td>06073</td>\n",
       "      <td>...</td>\n",
       "      <td>1</td>\n",
       "      <td>N</td>\n",
       "      <td>N</td>\n",
       "      <td>N</td>\n",
       "      <td>N</td>\n",
       "      <td>0653</td>\n",
       "      <td>06078</td>\n",
       "      <td>06039</td>\n",
       "      <td>2022-2023</td>\n",
       "      <td>POINT (-117.11906 32.76264)</td>\n",
       "    </tr>\n",
       "    <tr>\n",
       "      <th>3</th>\n",
       "      <td>060150313795</td>\n",
       "      <td>0601503</td>\n",
       "      <td>Elevate</td>\n",
       "      <td>06</td>\n",
       "      <td>2285 Murray Ridge Rd.</td>\n",
       "      <td>San Diego</td>\n",
       "      <td>CA</td>\n",
       "      <td>92123</td>\n",
       "      <td>06</td>\n",
       "      <td>06073</td>\n",
       "      <td>...</td>\n",
       "      <td>1</td>\n",
       "      <td>N</td>\n",
       "      <td>N</td>\n",
       "      <td>N</td>\n",
       "      <td>N</td>\n",
       "      <td>0653</td>\n",
       "      <td>06079</td>\n",
       "      <td>06039</td>\n",
       "      <td>2022-2023</td>\n",
       "      <td>POINT (-117.14416 32.78656)</td>\n",
       "    </tr>\n",
       "    <tr>\n",
       "      <th>4</th>\n",
       "      <td>060151511386</td>\n",
       "      <td>0601515</td>\n",
       "      <td>High Tech High Media Arts</td>\n",
       "      <td>06</td>\n",
       "      <td>2230 Truxtun Rd.</td>\n",
       "      <td>San Diego</td>\n",
       "      <td>CA</td>\n",
       "      <td>92106</td>\n",
       "      <td>06</td>\n",
       "      <td>06073</td>\n",
       "      <td>...</td>\n",
       "      <td>1</td>\n",
       "      <td>N</td>\n",
       "      <td>N</td>\n",
       "      <td>N</td>\n",
       "      <td>N</td>\n",
       "      <td>0652</td>\n",
       "      <td>06078</td>\n",
       "      <td>06039</td>\n",
       "      <td>2022-2023</td>\n",
       "      <td>POINT (-117.21984 32.73461)</td>\n",
       "    </tr>\n",
       "  </tbody>\n",
       "</table>\n",
       "<p>5 rows × 26 columns</p>\n",
       "</div>"
      ],
      "text/plain": [
       "        NCESSCH    LEAID                      SCHOOL_NAME OPSTFIPS  \\\n",
       "0  060013811406  0600138             San Diego County ROP       06   \n",
       "1  060146814198  0601468         America's Finest Charter       06   \n",
       "2  060148312630  0601483  San Diego Global Vision Academy       06   \n",
       "3  060150313795  0601503                          Elevate       06   \n",
       "4  060151511386  0601515        High Tech High Media Arts       06   \n",
       "\n",
       "                  STREET       CITY STATE    ZIP STFIP   CNTY  ... CBSATYPE  \\\n",
       "0   6401 Linda Vista Rd.  San Diego    CA  92111    06  06073  ...        1   \n",
       "1           730 45th St.  San Diego    CA  92102    06  06073  ...        1   \n",
       "2           3430 Sch St.  San Diego    CA  92116    06  06073  ...        1   \n",
       "3  2285 Murray Ridge Rd.  San Diego    CA  92123    06  06073  ...        1   \n",
       "4       2230 Truxtun Rd.  San Diego    CA  92106    06  06073  ...        1   \n",
       "\n",
       "  CSA  NMCSA  NECTA NMNECTA    CD   SLDL   SLDU SCHOOLYEAR  \\\n",
       "0   N      N      N       N  0653  06079  06039  2022-2023   \n",
       "1   N      N      N       N  0651  06080  06040  2022-2023   \n",
       "2   N      N      N       N  0653  06078  06039  2022-2023   \n",
       "3   N      N      N       N  0653  06079  06039  2022-2023   \n",
       "4   N      N      N       N  0652  06078  06039  2022-2023   \n",
       "\n",
       "                      geometry  \n",
       "0  POINT (-117.17986 32.76963)  \n",
       "1  POINT (-117.09805 32.71284)  \n",
       "2  POINT (-117.11906 32.76264)  \n",
       "3  POINT (-117.14416 32.78656)  \n",
       "4  POINT (-117.21984 32.73461)  \n",
       "\n",
       "[5 rows x 26 columns]"
      ]
     },
     "execution_count": 24,
     "metadata": {},
     "output_type": "execute_result"
    }
   ],
   "source": [
    "rename_column(sds, old='NAME', new='SCHOOL_NAME')\n",
    "\n",
    "sds.head()"
   ]
  },
  {
   "cell_type": "code",
   "execution_count": 25,
   "id": "4550be83-8cf7-49db-b9cd-dab2bae14861",
   "metadata": {},
   "outputs": [
    {
     "data": {
      "text/html": [
       "<div>\n",
       "<style scoped>\n",
       "    .dataframe tbody tr th:only-of-type {\n",
       "        vertical-align: middle;\n",
       "    }\n",
       "\n",
       "    .dataframe tbody tr th {\n",
       "        vertical-align: top;\n",
       "    }\n",
       "\n",
       "    .dataframe thead th {\n",
       "        text-align: right;\n",
       "    }\n",
       "</style>\n",
       "<table border=\"1\" class=\"dataframe\">\n",
       "  <thead>\n",
       "    <tr style=\"text-align: right;\">\n",
       "      <th></th>\n",
       "      <th>NCESSCH</th>\n",
       "      <th>LEAID</th>\n",
       "      <th>SCHOOL_NAME</th>\n",
       "      <th>OPSTFIPS</th>\n",
       "      <th>STREET</th>\n",
       "      <th>CITY</th>\n",
       "      <th>STATE</th>\n",
       "      <th>ZIP</th>\n",
       "      <th>STFIP</th>\n",
       "      <th>CNTY</th>\n",
       "      <th>...</th>\n",
       "      <th>ALAND</th>\n",
       "      <th>AWATER</th>\n",
       "      <th>n_total_pop</th>\n",
       "      <th>p_poverty_rate</th>\n",
       "      <th>median_household_income</th>\n",
       "      <th>per_capita_income</th>\n",
       "      <th>p_nonhisp_white_persons</th>\n",
       "      <th>p_nonhisp_black_persons</th>\n",
       "      <th>p_hispanic_persons</th>\n",
       "      <th>p_asian_persons</th>\n",
       "    </tr>\n",
       "  </thead>\n",
       "  <tbody>\n",
       "    <tr>\n",
       "      <th>0</th>\n",
       "      <td>060013811406</td>\n",
       "      <td>0600138</td>\n",
       "      <td>San Diego County ROP</td>\n",
       "      <td>06</td>\n",
       "      <td>6401 Linda Vista Rd.</td>\n",
       "      <td>San Diego</td>\n",
       "      <td>CA</td>\n",
       "      <td>92111</td>\n",
       "      <td>06</td>\n",
       "      <td>06073</td>\n",
       "      <td>...</td>\n",
       "      <td>844031824.0</td>\n",
       "      <td>120532755.0</td>\n",
       "      <td>5189.0</td>\n",
       "      <td>17.190210</td>\n",
       "      <td>81372.0</td>\n",
       "      <td>40661.0</td>\n",
       "      <td>45.789169</td>\n",
       "      <td>3.064174</td>\n",
       "      <td>35.825785</td>\n",
       "      <td>13.702062</td>\n",
       "    </tr>\n",
       "    <tr>\n",
       "      <th>1</th>\n",
       "      <td>060146814198</td>\n",
       "      <td>0601468</td>\n",
       "      <td>America's Finest Charter</td>\n",
       "      <td>06</td>\n",
       "      <td>730 45th St.</td>\n",
       "      <td>San Diego</td>\n",
       "      <td>CA</td>\n",
       "      <td>92102</td>\n",
       "      <td>06</td>\n",
       "      <td>06073</td>\n",
       "      <td>...</td>\n",
       "      <td>844031824.0</td>\n",
       "      <td>120532755.0</td>\n",
       "      <td>4800.0</td>\n",
       "      <td>23.729167</td>\n",
       "      <td>61473.0</td>\n",
       "      <td>20874.0</td>\n",
       "      <td>6.062500</td>\n",
       "      <td>14.333333</td>\n",
       "      <td>65.916667</td>\n",
       "      <td>11.166667</td>\n",
       "    </tr>\n",
       "    <tr>\n",
       "      <th>2</th>\n",
       "      <td>060148312630</td>\n",
       "      <td>0601483</td>\n",
       "      <td>San Diego Global Vision Academy</td>\n",
       "      <td>06</td>\n",
       "      <td>3430 Sch St.</td>\n",
       "      <td>San Diego</td>\n",
       "      <td>CA</td>\n",
       "      <td>92116</td>\n",
       "      <td>06</td>\n",
       "      <td>06073</td>\n",
       "      <td>...</td>\n",
       "      <td>844031824.0</td>\n",
       "      <td>120532755.0</td>\n",
       "      <td>3269.0</td>\n",
       "      <td>10.033649</td>\n",
       "      <td>70758.0</td>\n",
       "      <td>43277.0</td>\n",
       "      <td>47.629244</td>\n",
       "      <td>2.324870</td>\n",
       "      <td>37.503824</td>\n",
       "      <td>5.445090</td>\n",
       "    </tr>\n",
       "    <tr>\n",
       "      <th>3</th>\n",
       "      <td>060150313795</td>\n",
       "      <td>0601503</td>\n",
       "      <td>Elevate</td>\n",
       "      <td>06</td>\n",
       "      <td>2285 Murray Ridge Rd.</td>\n",
       "      <td>San Diego</td>\n",
       "      <td>CA</td>\n",
       "      <td>92123</td>\n",
       "      <td>06</td>\n",
       "      <td>06073</td>\n",
       "      <td>...</td>\n",
       "      <td>844031824.0</td>\n",
       "      <td>120532755.0</td>\n",
       "      <td>4013.0</td>\n",
       "      <td>4.684774</td>\n",
       "      <td>149132.0</td>\n",
       "      <td>53831.0</td>\n",
       "      <td>52.628956</td>\n",
       "      <td>6.653377</td>\n",
       "      <td>12.758535</td>\n",
       "      <td>23.398953</td>\n",
       "    </tr>\n",
       "    <tr>\n",
       "      <th>4</th>\n",
       "      <td>060151511386</td>\n",
       "      <td>0601515</td>\n",
       "      <td>High Tech High Media Arts</td>\n",
       "      <td>06</td>\n",
       "      <td>2230 Truxtun Rd.</td>\n",
       "      <td>San Diego</td>\n",
       "      <td>CA</td>\n",
       "      <td>92106</td>\n",
       "      <td>06</td>\n",
       "      <td>06073</td>\n",
       "      <td>...</td>\n",
       "      <td>844031824.0</td>\n",
       "      <td>120532755.0</td>\n",
       "      <td>4290.0</td>\n",
       "      <td>3.840246</td>\n",
       "      <td>96413.0</td>\n",
       "      <td>42400.0</td>\n",
       "      <td>50.093240</td>\n",
       "      <td>5.384615</td>\n",
       "      <td>21.561772</td>\n",
       "      <td>16.013986</td>\n",
       "    </tr>\n",
       "  </tbody>\n",
       "</table>\n",
       "<p>5 rows × 46 columns</p>\n",
       "</div>"
      ],
      "text/plain": [
       "        NCESSCH    LEAID                      SCHOOL_NAME OPSTFIPS  \\\n",
       "0  060013811406  0600138             San Diego County ROP       06   \n",
       "1  060146814198  0601468         America's Finest Charter       06   \n",
       "2  060148312630  0601483  San Diego Global Vision Academy       06   \n",
       "3  060150313795  0601503                          Elevate       06   \n",
       "4  060151511386  0601515        High Tech High Media Arts       06   \n",
       "\n",
       "                  STREET       CITY STATE    ZIP STFIP   CNTY  ...  \\\n",
       "0   6401 Linda Vista Rd.  San Diego    CA  92111    06  06073  ...   \n",
       "1           730 45th St.  San Diego    CA  92102    06  06073  ...   \n",
       "2           3430 Sch St.  San Diego    CA  92116    06  06073  ...   \n",
       "3  2285 Murray Ridge Rd.  San Diego    CA  92123    06  06073  ...   \n",
       "4       2230 Truxtun Rd.  San Diego    CA  92106    06  06073  ...   \n",
       "\n",
       "         ALAND       AWATER  n_total_pop  p_poverty_rate  \\\n",
       "0  844031824.0  120532755.0       5189.0       17.190210   \n",
       "1  844031824.0  120532755.0       4800.0       23.729167   \n",
       "2  844031824.0  120532755.0       3269.0       10.033649   \n",
       "3  844031824.0  120532755.0       4013.0        4.684774   \n",
       "4  844031824.0  120532755.0       4290.0        3.840246   \n",
       "\n",
       "  median_household_income per_capita_income p_nonhisp_white_persons  \\\n",
       "0                 81372.0           40661.0               45.789169   \n",
       "1                 61473.0           20874.0                6.062500   \n",
       "2                 70758.0           43277.0               47.629244   \n",
       "3                149132.0           53831.0               52.628956   \n",
       "4                 96413.0           42400.0               50.093240   \n",
       "\n",
       "  p_nonhisp_black_persons p_hispanic_persons p_asian_persons  \n",
       "0                3.064174          35.825785       13.702062  \n",
       "1               14.333333          65.916667       11.166667  \n",
       "2                2.324870          37.503824        5.445090  \n",
       "3                6.653377          12.758535       23.398953  \n",
       "4                5.384615          21.561772       16.013986  \n",
       "\n",
       "[5 rows x 46 columns]"
      ]
     },
     "execution_count": 25,
     "metadata": {},
     "output_type": "execute_result"
    }
   ],
   "source": [
    "sdsJoin = gpd.sjoin(sds, csd, how='left', predicate='within').drop(columns=['index_right'])\n",
    "\n",
    "sdsJoin.head()"
   ]
  },
  {
   "cell_type": "code",
   "execution_count": 26,
   "id": "70dcf081-b25e-4392-a18f-527df54f432f",
   "metadata": {},
   "outputs": [
    {
     "data": {
      "text/plain": [
       "<Axes: >"
      ]
     },
     "execution_count": 26,
     "metadata": {},
     "output_type": "execute_result"
    },
    {
     "data": {
      "image/png": "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",
      "text/plain": [
       "<Figure size 640x480 with 1 Axes>"
      ]
     },
     "metadata": {},
     "output_type": "display_data"
    }
   ],
   "source": [
    "sdsJoin.plot()"
   ]
  },
  {
   "cell_type": "markdown",
   "id": "acc45d94-96c7-4a95-8d0a-b36801783768",
   "metadata": {},
   "source": [
    "```sdsJoin.to_file('./data/schools/spatial-join/sdsJoin.shp')```"
   ]
  },
  {
   "cell_type": "markdown",
   "id": "3f784162-e9d4-41ad-8360-e730614d5300",
   "metadata": {},
   "source": [
    "### Hospitals"
   ]
  },
  {
   "cell_type": "markdown",
   "id": "540cd763-9cf7-417c-af03-3bd9e7094db4",
   "metadata": {},
   "source": [
    "8013 entries\n",
    "~~~\n",
    "hospitalPath = './data/hospitals/Hospitals.shp'\n",
    "\n",
    "usHospitals = gpd.read_file(hospitalPath, geometry='geometry')\n",
    "\n",
    "set_crs(usHospitals).head()\n",
    "\n",
    "sdHospitals = usHospitals[(usHospitals['STATE'] == 'CA') & (usHospitals['CITY'] == 'SAN DIEGO')]\n",
    "\n",
    "sdHospitals.to_file('./data/hospitals/sdHosp/sdHospitals.shp')\n",
    "~~~"
   ]
  },
  {
   "cell_type": "code",
   "execution_count": 27,
   "id": "91aa472f-cdb9-4481-bb58-d50892165e42",
   "metadata": {},
   "outputs": [],
   "source": [
    "sdhPath = './data/hospitals/sdHosp/sdHospitals.shp'"
   ]
  },
  {
   "cell_type": "code",
   "execution_count": 28,
   "id": "bbbb8f69-fb83-4613-9bc8-b8a4fee33982",
   "metadata": {},
   "outputs": [],
   "source": [
    "sdh = gpd.read_file(sdhPath, geometry='geometry')"
   ]
  },
  {
   "cell_type": "code",
   "execution_count": 29,
   "id": "46c1d902-b5fa-4a2e-8f92-9e3ecb4822fe",
   "metadata": {
    "scrolled": true
   },
   "outputs": [
    {
     "data": {
      "text/plain": [
       "(22, 33)"
      ]
     },
     "execution_count": 29,
     "metadata": {},
     "output_type": "execute_result"
    }
   ],
   "source": [
    "sdh.shape"
   ]
  },
  {
   "cell_type": "code",
   "execution_count": 30,
   "id": "020f9d29-5985-4ea0-970a-ff09e80b5cb3",
   "metadata": {
    "jupyter": {
     "source_hidden": true
    }
   },
   "outputs": [
    {
     "name": "stdout",
     "output_type": "stream",
     "text": [
      "Duplicate column names found:\n",
      "- NAME\n",
      "- geometry\n"
     ]
    }
   ],
   "source": [
    "duplicate_columns(csd, sdh)"
   ]
  },
  {
   "cell_type": "code",
   "execution_count": 31,
   "id": "f3761a4a-118f-4a8e-b82f-f3ee7442def5",
   "metadata": {},
   "outputs": [],
   "source": [
    "rename_column(sdh, old='NAME', new='HOSPITAL_NAME')"
   ]
  },
  {
   "cell_type": "code",
   "execution_count": 32,
   "id": "ff96a69f-4d60-4063-af5c-b43c2f261290",
   "metadata": {},
   "outputs": [
    {
     "data": {
      "text/html": [
       "<div>\n",
       "<style scoped>\n",
       "    .dataframe tbody tr th:only-of-type {\n",
       "        vertical-align: middle;\n",
       "    }\n",
       "\n",
       "    .dataframe tbody tr th {\n",
       "        vertical-align: top;\n",
       "    }\n",
       "\n",
       "    .dataframe thead th {\n",
       "        text-align: right;\n",
       "    }\n",
       "</style>\n",
       "<table border=\"1\" class=\"dataframe\">\n",
       "  <thead>\n",
       "    <tr style=\"text-align: right;\">\n",
       "      <th></th>\n",
       "      <th>OBJECTID</th>\n",
       "      <th>ID</th>\n",
       "      <th>HOSPITAL_NAME</th>\n",
       "      <th>ADDRESS</th>\n",
       "      <th>CITY</th>\n",
       "      <th>STATE</th>\n",
       "      <th>ZIP</th>\n",
       "      <th>ZIP4</th>\n",
       "      <th>TELEPHONE</th>\n",
       "      <th>TYPE</th>\n",
       "      <th>...</th>\n",
       "      <th>ALAND</th>\n",
       "      <th>AWATER</th>\n",
       "      <th>n_total_pop</th>\n",
       "      <th>p_poverty_rate</th>\n",
       "      <th>median_household_income</th>\n",
       "      <th>per_capita_income</th>\n",
       "      <th>p_nonhisp_white_persons</th>\n",
       "      <th>p_nonhisp_black_persons</th>\n",
       "      <th>p_hispanic_persons</th>\n",
       "      <th>p_asian_persons</th>\n",
       "    </tr>\n",
       "  </thead>\n",
       "  <tbody>\n",
       "    <tr>\n",
       "      <th>0</th>\n",
       "      <td>554</td>\n",
       "      <td>0036992123</td>\n",
       "      <td>RADY CHILDREN'S HOSPITAL - SAN DIEGO</td>\n",
       "      <td>3020 CHILDRENS WAY</td>\n",
       "      <td>SAN DIEGO</td>\n",
       "      <td>CA</td>\n",
       "      <td>92123</td>\n",
       "      <td>4223</td>\n",
       "      <td>(858) 966-3001</td>\n",
       "      <td>CHILDREN</td>\n",
       "      <td>...</td>\n",
       "      <td>844031824.0</td>\n",
       "      <td>120532755.0</td>\n",
       "      <td>5438.0</td>\n",
       "      <td>14.921031</td>\n",
       "      <td>91583.0</td>\n",
       "      <td>34681.0</td>\n",
       "      <td>44.814270</td>\n",
       "      <td>9.893343</td>\n",
       "      <td>25.818316</td>\n",
       "      <td>14.417065</td>\n",
       "    </tr>\n",
       "    <tr>\n",
       "      <th>1</th>\n",
       "      <td>555</td>\n",
       "      <td>0042492123</td>\n",
       "      <td>SHARP MEMORIAL HOSPITAL</td>\n",
       "      <td>7901 FROST ST</td>\n",
       "      <td>SAN DIEGO</td>\n",
       "      <td>CA</td>\n",
       "      <td>92123</td>\n",
       "      <td>2701</td>\n",
       "      <td>(858) 939-3400</td>\n",
       "      <td>GENERAL ACUTE CARE</td>\n",
       "      <td>...</td>\n",
       "      <td>844031824.0</td>\n",
       "      <td>120532755.0</td>\n",
       "      <td>5438.0</td>\n",
       "      <td>14.921031</td>\n",
       "      <td>91583.0</td>\n",
       "      <td>34681.0</td>\n",
       "      <td>44.814270</td>\n",
       "      <td>9.893343</td>\n",
       "      <td>25.818316</td>\n",
       "      <td>14.417065</td>\n",
       "    </tr>\n",
       "    <tr>\n",
       "      <th>2</th>\n",
       "      <td>557</td>\n",
       "      <td>0020092120</td>\n",
       "      <td>KAISER FOUNDATION HOSPITAL - ZION</td>\n",
       "      <td>4647 ZION AVE</td>\n",
       "      <td>SAN DIEGO</td>\n",
       "      <td>CA</td>\n",
       "      <td>92120</td>\n",
       "      <td>2507</td>\n",
       "      <td>(619) 528-6295</td>\n",
       "      <td>GENERAL ACUTE CARE</td>\n",
       "      <td>...</td>\n",
       "      <td>844031824.0</td>\n",
       "      <td>120532755.0</td>\n",
       "      <td>3426.0</td>\n",
       "      <td>8.406305</td>\n",
       "      <td>79847.0</td>\n",
       "      <td>42949.0</td>\n",
       "      <td>60.507881</td>\n",
       "      <td>6.100409</td>\n",
       "      <td>21.949796</td>\n",
       "      <td>4.407472</td>\n",
       "    </tr>\n",
       "    <tr>\n",
       "      <th>3</th>\n",
       "      <td>565</td>\n",
       "      <td>0002692128</td>\n",
       "      <td>AURORA SAN DIEGO</td>\n",
       "      <td>11878 AVENUE OF INDUSTRY</td>\n",
       "      <td>SAN DIEGO</td>\n",
       "      <td>CA</td>\n",
       "      <td>92128</td>\n",
       "      <td>3423</td>\n",
       "      <td>(858) 487-3200</td>\n",
       "      <td>PSYCHIATRIC</td>\n",
       "      <td>...</td>\n",
       "      <td>844031824.0</td>\n",
       "      <td>120532755.0</td>\n",
       "      <td>4452.0</td>\n",
       "      <td>3.981154</td>\n",
       "      <td>96711.0</td>\n",
       "      <td>47220.0</td>\n",
       "      <td>40.700809</td>\n",
       "      <td>2.628032</td>\n",
       "      <td>24.123989</td>\n",
       "      <td>28.099730</td>\n",
       "    </tr>\n",
       "    <tr>\n",
       "      <th>4</th>\n",
       "      <td>566</td>\n",
       "      <td>0042392111</td>\n",
       "      <td>SHARP MCDONALD CENTER</td>\n",
       "      <td>7989 LINDA VISTA RD</td>\n",
       "      <td>SAN DIEGO</td>\n",
       "      <td>CA</td>\n",
       "      <td>92111</td>\n",
       "      <td>5106</td>\n",
       "      <td>(858) 576-1200</td>\n",
       "      <td>REHABILITATION</td>\n",
       "      <td>...</td>\n",
       "      <td>844031824.0</td>\n",
       "      <td>120532755.0</td>\n",
       "      <td>3153.0</td>\n",
       "      <td>14.490818</td>\n",
       "      <td>71991.0</td>\n",
       "      <td>31771.0</td>\n",
       "      <td>42.530923</td>\n",
       "      <td>3.425309</td>\n",
       "      <td>23.025690</td>\n",
       "      <td>21.249604</td>\n",
       "    </tr>\n",
       "  </tbody>\n",
       "</table>\n",
       "<p>5 rows × 53 columns</p>\n",
       "</div>"
      ],
      "text/plain": [
       "   OBJECTID          ID                         HOSPITAL_NAME  \\\n",
       "0       554  0036992123  RADY CHILDREN'S HOSPITAL - SAN DIEGO   \n",
       "1       555  0042492123               SHARP MEMORIAL HOSPITAL   \n",
       "2       557  0020092120     KAISER FOUNDATION HOSPITAL - ZION   \n",
       "3       565  0002692128                      AURORA SAN DIEGO   \n",
       "4       566  0042392111                 SHARP MCDONALD CENTER   \n",
       "\n",
       "                    ADDRESS       CITY STATE    ZIP  ZIP4       TELEPHONE  \\\n",
       "0        3020 CHILDRENS WAY  SAN DIEGO    CA  92123  4223  (858) 966-3001   \n",
       "1             7901 FROST ST  SAN DIEGO    CA  92123  2701  (858) 939-3400   \n",
       "2             4647 ZION AVE  SAN DIEGO    CA  92120  2507  (619) 528-6295   \n",
       "3  11878 AVENUE OF INDUSTRY  SAN DIEGO    CA  92128  3423  (858) 487-3200   \n",
       "4       7989 LINDA VISTA RD  SAN DIEGO    CA  92111  5106  (858) 576-1200   \n",
       "\n",
       "                 TYPE  ...        ALAND       AWATER n_total_pop  \\\n",
       "0            CHILDREN  ...  844031824.0  120532755.0      5438.0   \n",
       "1  GENERAL ACUTE CARE  ...  844031824.0  120532755.0      5438.0   \n",
       "2  GENERAL ACUTE CARE  ...  844031824.0  120532755.0      3426.0   \n",
       "3         PSYCHIATRIC  ...  844031824.0  120532755.0      4452.0   \n",
       "4      REHABILITATION  ...  844031824.0  120532755.0      3153.0   \n",
       "\n",
       "  p_poverty_rate median_household_income  per_capita_income  \\\n",
       "0      14.921031                 91583.0            34681.0   \n",
       "1      14.921031                 91583.0            34681.0   \n",
       "2       8.406305                 79847.0            42949.0   \n",
       "3       3.981154                 96711.0            47220.0   \n",
       "4      14.490818                 71991.0            31771.0   \n",
       "\n",
       "   p_nonhisp_white_persons p_nonhisp_black_persons p_hispanic_persons  \\\n",
       "0                44.814270                9.893343          25.818316   \n",
       "1                44.814270                9.893343          25.818316   \n",
       "2                60.507881                6.100409          21.949796   \n",
       "3                40.700809                2.628032          24.123989   \n",
       "4                42.530923                3.425309          23.025690   \n",
       "\n",
       "  p_asian_persons  \n",
       "0       14.417065  \n",
       "1       14.417065  \n",
       "2        4.407472  \n",
       "3       28.099730  \n",
       "4       21.249604  \n",
       "\n",
       "[5 rows x 53 columns]"
      ]
     },
     "execution_count": 32,
     "metadata": {},
     "output_type": "execute_result"
    }
   ],
   "source": [
    "sdhJoin = gpd.sjoin(sdh, csd, how='left', predicate='within').drop(columns=['index_right'])\n",
    "\n",
    "sdhJoin.head()"
   ]
  },
  {
   "cell_type": "code",
   "execution_count": 33,
   "id": "e2fb546b-67f5-4eb0-b47b-0814c73a1be1",
   "metadata": {},
   "outputs": [
    {
     "data": {
      "text/plain": [
       "<Axes: >"
      ]
     },
     "execution_count": 33,
     "metadata": {},
     "output_type": "execute_result"
    },
    {
     "data": {
      "image/png": "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",
      "text/plain": [
       "<Figure size 640x480 with 1 Axes>"
      ]
     },
     "metadata": {},
     "output_type": "display_data"
    }
   ],
   "source": [
    "sdhJoin.plot()"
   ]
  },
  {
   "cell_type": "markdown",
   "id": "cafb4753-c4f8-4f5e-8658-39a93c84826d",
   "metadata": {},
   "source": [
    "### SD Clinics"
   ]
  },
  {
   "cell_type": "markdown",
   "id": "c1d06f66-7969-4a5a-b0cb-80bd2de0ada4",
   "metadata": {},
   "source": [
    "6738 entries\n",
    "\n",
    "~~~\n",
    "clinicsPath = './data/health_sd/OSHPD_Healthcare_Facilities.geojson'\n",
    "\n",
    "clinics = gpd.read_file(clinicsPath, geometry='geometry')\n",
    "\n",
    "set_crs(clinics)\n",
    "\n",
    "sdClinics = clinics[clinics['city'] == 'San Diego']\n",
    "\n",
    "sdClinics.to_file('./data/health_sd/sdClin/sdClinics.geojson')\n",
    "~~~"
   ]
  },
  {
   "cell_type": "code",
<<<<<<< HEAD
   "execution_count": 35,
=======
   "execution_count": 34,
>>>>>>> upstream/main
   "id": "fecb02bc-70f3-4ad0-ae27-e2642920fc5f",
   "metadata": {},
   "outputs": [],
   "source": [
    "sdcPath = './data/health_sd/sdClin/sdClinics.geojson'"
   ]
  },
  {
   "cell_type": "code",
<<<<<<< HEAD
   "execution_count": 36,
=======
   "execution_count": 35,
>>>>>>> upstream/main
   "id": "990ed298-8cf9-4c20-ab3e-38e7330bf708",
   "metadata": {},
   "outputs": [],
   "source": [
    "sdc = gpd.read_file(sdcPath, geometry='geometry')"
   ]
  },
  {
   "cell_type": "code",
<<<<<<< HEAD
   "execution_count": 37,
=======
   "execution_count": 36,
>>>>>>> upstream/main
   "id": "48a7b657-c56a-4613-b4be-eb1e03113133",
   "metadata": {},
   "outputs": [
    {
     "name": "stdout",
     "output_type": "stream",
     "text": [
      "Duplicate column names found:\n",
      "- geometry\n"
     ]
    }
   ],
   "source": [
    "duplicate_columns(sdc, csd)"
   ]
  },
  {
   "cell_type": "code",
<<<<<<< HEAD
   "execution_count": 38,
=======
   "execution_count": 37,
>>>>>>> upstream/main
   "id": "093678d9-1054-4b53-a4c2-ca171cc045dc",
   "metadata": {},
   "outputs": [
    {
     "data": {
      "text/html": [
       "<div>\n",
       "<style scoped>\n",
       "    .dataframe tbody tr th:only-of-type {\n",
       "        vertical-align: middle;\n",
       "    }\n",
       "\n",
       "    .dataframe tbody tr th {\n",
       "        vertical-align: top;\n",
       "    }\n",
       "\n",
       "    .dataframe thead th {\n",
       "        text-align: right;\n",
       "    }\n",
       "</style>\n",
       "<table border=\"1\" class=\"dataframe\">\n",
       "  <thead>\n",
       "    <tr style=\"text-align: right;\">\n",
       "      <th></th>\n",
       "      <th>oshpd_id</th>\n",
       "      <th>facility_name</th>\n",
       "      <th>facility_url</th>\n",
       "      <th>latitude</th>\n",
       "      <th>longitude</th>\n",
       "      <th>facility_level_desc</th>\n",
       "      <th>city</th>\n",
       "      <th>updated</th>\n",
       "      <th>zip_code</th>\n",
       "      <th>er_service_level_desc</th>\n",
       "      <th>...</th>\n",
       "      <th>ALAND</th>\n",
       "      <th>AWATER</th>\n",
       "      <th>n_total_pop</th>\n",
       "      <th>p_poverty_rate</th>\n",
       "      <th>median_household_income</th>\n",
       "      <th>per_capita_income</th>\n",
       "      <th>p_nonhisp_white_persons</th>\n",
       "      <th>p_nonhisp_black_persons</th>\n",
       "      <th>p_hispanic_persons</th>\n",
       "      <th>p_asian_persons</th>\n",
       "    </tr>\n",
       "  </thead>\n",
       "  <tbody>\n",
       "    <tr>\n",
       "      <th>0</th>\n",
       "      <td>406374435</td>\n",
       "      <td>Advanced Home Health San Diego Inc</td>\n",
       "      <td>https://oshpd.ca.gov/facility/advanced-home-he...</td>\n",
       "      <td>32.893820</td>\n",
       "      <td>-117.131550</td>\n",
       "      <td>Parent Facility</td>\n",
       "      <td>San Diego</td>\n",
       "      <td>2015-06-18 00:00:00+00:00</td>\n",
       "      <td>92126</td>\n",
       "      <td>Not Applicable</td>\n",
       "      <td>...</td>\n",
       "      <td>844031824.0</td>\n",
       "      <td>120532755.0</td>\n",
       "      <td>7160.0</td>\n",
       "      <td>6.033520</td>\n",
       "      <td>85899.0</td>\n",
       "      <td>38869.0</td>\n",
       "      <td>25.642458</td>\n",
       "      <td>3.645251</td>\n",
       "      <td>33.100559</td>\n",
       "      <td>35.041899</td>\n",
       "    </tr>\n",
       "    <tr>\n",
       "      <th>1</th>\n",
       "      <td>306374409</td>\n",
       "      <td>San Diego Children's Dental Clinic</td>\n",
       "      <td>https://oshpd.ca.gov/facility/san-diego-childr...</td>\n",
       "      <td>32.798493</td>\n",
       "      <td>-117.152151</td>\n",
       "      <td>Parent Facility</td>\n",
       "      <td>San Diego</td>\n",
       "      <td>2008-04-08 00:00:00+00:00</td>\n",
       "      <td>92123</td>\n",
       "      <td>Not Applicable</td>\n",
       "      <td>...</td>\n",
       "      <td>844031824.0</td>\n",
       "      <td>120532755.0</td>\n",
       "      <td>5438.0</td>\n",
       "      <td>14.921031</td>\n",
       "      <td>91583.0</td>\n",
       "      <td>34681.0</td>\n",
       "      <td>44.814270</td>\n",
       "      <td>9.893343</td>\n",
       "      <td>25.818316</td>\n",
       "      <td>14.417065</td>\n",
       "    </tr>\n",
       "    <tr>\n",
       "      <th>2</th>\n",
       "      <td>306374018</td>\n",
       "      <td>St. Vincent De Paul Village Family Health Center</td>\n",
       "      <td>https://oshpd.ca.gov/facility/st-vincent-de-pa...</td>\n",
       "      <td>32.705757</td>\n",
       "      <td>-117.149890</td>\n",
       "      <td>Parent Facility</td>\n",
       "      <td>San Diego</td>\n",
       "      <td>1987-12-01 00:00:00+00:00</td>\n",
       "      <td>92101</td>\n",
       "      <td>Not Applicable</td>\n",
       "      <td>...</td>\n",
       "      <td>844031824.0</td>\n",
       "      <td>120532755.0</td>\n",
       "      <td>2198.0</td>\n",
       "      <td>47.704316</td>\n",
       "      <td>21109.0</td>\n",
       "      <td>15157.0</td>\n",
       "      <td>39.990901</td>\n",
       "      <td>16.196542</td>\n",
       "      <td>38.034577</td>\n",
       "      <td>3.594177</td>\n",
       "    </tr>\n",
       "    <tr>\n",
       "      <th>3</th>\n",
       "      <td>206370747</td>\n",
       "      <td>Mission Hills Health Care, Inc.</td>\n",
       "      <td>https://oshpd.ca.gov/facility/mission-hills-he...</td>\n",
       "      <td>32.750330</td>\n",
       "      <td>-117.158790</td>\n",
       "      <td>Parent Facility</td>\n",
       "      <td>San Diego</td>\n",
       "      <td>1967-01-16 00:00:00+00:00</td>\n",
       "      <td>92103</td>\n",
       "      <td>Not Applicable</td>\n",
       "      <td>...</td>\n",
       "      <td>844031824.0</td>\n",
       "      <td>120532755.0</td>\n",
       "      <td>3607.0</td>\n",
       "      <td>5.704996</td>\n",
       "      <td>79336.0</td>\n",
       "      <td>61583.0</td>\n",
       "      <td>56.057666</td>\n",
       "      <td>4.657610</td>\n",
       "      <td>21.264208</td>\n",
       "      <td>14.582756</td>\n",
       "    </tr>\n",
       "    <tr>\n",
       "      <th>4</th>\n",
       "      <td>306371285</td>\n",
       "      <td>Comprehensive Health Center - Metro</td>\n",
       "      <td>https://oshpd.ca.gov/facility/comprehensive-he...</td>\n",
       "      <td>32.701160</td>\n",
       "      <td>-117.125850</td>\n",
       "      <td>Parent Facility</td>\n",
       "      <td>San Diego</td>\n",
       "      <td>1977-08-01 00:00:00+00:00</td>\n",
       "      <td>92113</td>\n",
       "      <td>Not Applicable</td>\n",
       "      <td>...</td>\n",
       "      <td>844031824.0</td>\n",
       "      <td>120532755.0</td>\n",
       "      <td>4603.0</td>\n",
       "      <td>11.418610</td>\n",
       "      <td>50583.0</td>\n",
       "      <td>21104.0</td>\n",
       "      <td>4.540517</td>\n",
       "      <td>6.517489</td>\n",
       "      <td>85.357376</td>\n",
       "      <td>3.193569</td>\n",
       "    </tr>\n",
       "  </tbody>\n",
       "</table>\n",
       "<p>5 rows × 38 columns</p>\n",
       "</div>"
      ],
      "text/plain": [
       "    oshpd_id                                     facility_name  \\\n",
       "0  406374435                Advanced Home Health San Diego Inc   \n",
       "1  306374409                San Diego Children's Dental Clinic   \n",
       "2  306374018  St. Vincent De Paul Village Family Health Center   \n",
       "3  206370747                   Mission Hills Health Care, Inc.   \n",
       "4  306371285               Comprehensive Health Center - Metro   \n",
       "\n",
       "                                        facility_url   latitude   longitude  \\\n",
       "0  https://oshpd.ca.gov/facility/advanced-home-he...  32.893820 -117.131550   \n",
       "1  https://oshpd.ca.gov/facility/san-diego-childr...  32.798493 -117.152151   \n",
       "2  https://oshpd.ca.gov/facility/st-vincent-de-pa...  32.705757 -117.149890   \n",
       "3  https://oshpd.ca.gov/facility/mission-hills-he...  32.750330 -117.158790   \n",
       "4  https://oshpd.ca.gov/facility/comprehensive-he...  32.701160 -117.125850   \n",
       "\n",
       "  facility_level_desc       city                   updated zip_code  \\\n",
       "0     Parent Facility  San Diego 2015-06-18 00:00:00+00:00    92126   \n",
       "1     Parent Facility  San Diego 2008-04-08 00:00:00+00:00    92123   \n",
       "2     Parent Facility  San Diego 1987-12-01 00:00:00+00:00    92101   \n",
       "3     Parent Facility  San Diego 1967-01-16 00:00:00+00:00    92103   \n",
       "4     Parent Facility  San Diego 1977-08-01 00:00:00+00:00    92113   \n",
       "\n",
       "  er_service_level_desc  ...        ALAND       AWATER n_total_pop  \\\n",
       "0        Not Applicable  ...  844031824.0  120532755.0      7160.0   \n",
       "1        Not Applicable  ...  844031824.0  120532755.0      5438.0   \n",
       "2        Not Applicable  ...  844031824.0  120532755.0      2198.0   \n",
       "3        Not Applicable  ...  844031824.0  120532755.0      3607.0   \n",
       "4        Not Applicable  ...  844031824.0  120532755.0      4603.0   \n",
       "\n",
       "  p_poverty_rate median_household_income per_capita_income  \\\n",
       "0       6.033520                 85899.0           38869.0   \n",
       "1      14.921031                 91583.0           34681.0   \n",
       "2      47.704316                 21109.0           15157.0   \n",
       "3       5.704996                 79336.0           61583.0   \n",
       "4      11.418610                 50583.0           21104.0   \n",
       "\n",
       "   p_nonhisp_white_persons p_nonhisp_black_persons p_hispanic_persons  \\\n",
       "0                25.642458                3.645251          33.100559   \n",
       "1                44.814270                9.893343          25.818316   \n",
       "2                39.990901               16.196542          38.034577   \n",
       "3                56.057666                4.657610          21.264208   \n",
       "4                 4.540517                6.517489          85.357376   \n",
       "\n",
       "  p_asian_persons  \n",
       "0       35.041899  \n",
       "1       14.417065  \n",
       "2        3.594177  \n",
       "3       14.582756  \n",
       "4        3.193569  \n",
       "\n",
       "[5 rows x 38 columns]"
      ]
     },
<<<<<<< HEAD
     "execution_count": 38,
=======
     "execution_count": 37,
>>>>>>> upstream/main
     "metadata": {},
     "output_type": "execute_result"
    }
   ],
   "source": [
    "sdcJoin = gpd.sjoin(sdc, csd, how='left', predicate='within').drop(columns=['index_right'])\n",
    "\n",
    "sdcJoin.head()"
   ]
  },
  {
   "cell_type": "code",
<<<<<<< HEAD
   "execution_count": 39,
=======
   "execution_count": 38,
>>>>>>> upstream/main
   "id": "4bb80d1e-dac1-4bc2-b0cb-a6d43144b1ab",
   "metadata": {},
   "outputs": [
    {
     "data": {
      "text/plain": [
       "<Axes: >"
      ]
     },
<<<<<<< HEAD
     "execution_count": 39,
=======
     "execution_count": 38,
>>>>>>> upstream/main
     "metadata": {},
     "output_type": "execute_result"
    },
    {
     "data": {
      "image/png": "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",
      "text/plain": [
       "<Figure size 640x480 with 1 Axes>"
      ]
     },
     "metadata": {},
     "output_type": "display_data"
    }
   ],
   "source": [
    "sdcJoin.plot()"
   ]
  },
  {
   "cell_type": "code",
<<<<<<< HEAD
   "execution_count": 40,
=======
   "execution_count": 39,
>>>>>>> upstream/main
   "id": "d68ceca6-0bd6-4678-b105-24c8f482fc99",
   "metadata": {},
   "outputs": [
    {
     "data": {
      "text/plain": [
       "(180, 38)"
      ]
     },
<<<<<<< HEAD
     "execution_count": 40,
=======
     "execution_count": 39,
>>>>>>> upstream/main
     "metadata": {},
     "output_type": "execute_result"
    }
   ],
   "source": [
    "sdcJoin.shape"
   ]
  },
  {
   "cell_type": "code",
<<<<<<< HEAD
   "execution_count": 41,
=======
   "execution_count": 40,
>>>>>>> upstream/main
   "id": "d920805f-6725-4741-8ca8-ecd15588ad21",
   "metadata": {},
   "outputs": [
    {
     "name": "stdout",
     "output_type": "stream",
     "text": [
      "Duplicate column names found:\n",
<<<<<<< HEAD
      "- NAME\n",
      "- median_household_income\n",
      "- AFFGEOID\n",
      "- STATEFP\n",
      "- NAMELSAD\n",
      "- p_hispanic_persons\n",
      "- p_poverty_rate\n",
      "- PLACENS\n",
      "- STUSPS\n",
      "- p_nonhisp_white_persons\n",
      "- per_capita_income\n",
      "- STATE_NAME\n",
      "- p_nonhisp_black_persons\n",
      "- AWATER\n",
      "- n_total_pop\n",
      "- p_asian_persons\n",
      "- geometry\n",
      "- GEOID\n",
      "- PLACEFP\n",
      "- LSAD\n",
      "- ALAND\n"
=======
      "- PLACEFP\n",
      "- p_hispanic_persons\n",
      "- STATEFP\n",
      "- p_poverty_rate\n",
      "- AFFGEOID\n",
      "- NAMELSAD\n",
      "- p_asian_persons\n",
      "- geometry\n",
      "- p_nonhisp_white_persons\n",
      "- AWATER\n",
      "- n_total_pop\n",
      "- p_nonhisp_black_persons\n",
      "- LSAD\n",
      "- NAME\n",
      "- GEOID\n",
      "- PLACENS\n",
      "- per_capita_income\n",
      "- STUSPS\n",
      "- ALAND\n",
      "- STATE_NAME\n",
      "- median_household_income\n"
>>>>>>> upstream/main
     ]
    }
   ],
   "source": [
    "duplicate_columns(sdcJoin, sdhJoin)"
   ]
  },
  {
   "cell_type": "code",
<<<<<<< HEAD
   "execution_count": 42,
=======
   "execution_count": 41,
>>>>>>> upstream/main
   "id": "6605af3c-40b7-4cec-96b4-36d2eba2cc0f",
   "metadata": {},
   "outputs": [],
   "source": [
    "from functions.no_dup import unique_columns"
   ]
  },
  {
   "cell_type": "code",
<<<<<<< HEAD
   "execution_count": 43,
=======
   "execution_count": 42,
>>>>>>> upstream/main
   "id": "6f948cb1-228e-46da-ae1a-2a39bee2adac",
   "metadata": {},
   "outputs": [
    {
     "name": "stdout",
     "output_type": "stream",
     "text": [
      "Unique column names found:\n",
<<<<<<< HEAD
      "- ZIP4\n",
      "- OBJECTID\n",
      "- CITY\n",
      "- ID\n",
      "- NAICS_CODE\n",
      "- license_category_desc\n",
      "- updated\n",
      "- FID\n",
      "- BEDS\n",
      "- COUNTYFIPS\n",
      "- STATUS\n",
      "- WEBSITE\n",
      "- COUNTRY\n",
      "- facility_name\n",
      "- SOURCE\n",
      "- TTL_STAFF\n",
      "- zip_code\n",
      "- ZIP\n",
      "- LONGITUDE\n",
      "- HELIPAD\n",
      "- er_service_level_desc\n",
      "- longitude\n",
      "- state\n",
      "- facility_url\n",
      "- VAL_METHOD\n",
      "- ALT_NAME\n",
      "- ST_FIPS\n",
      "- oshpd_id\n",
      "- NAICS_DESC\n",
      "- facility_status_desc\n",
      "- number_of_beds\n",
      "- latitude\n",
      "- address_2\n",
      "- VAL_DATE\n",
      "- STATE_ID\n",
      "- LATITUDE\n",
      "- STATE\n",
      "- address_1\n",
      "- SOURCEDATE\n",
      "- TYPE\n",
      "- ADDRESS\n",
      "- facility_level_desc\n",
      "- TELEPHONE\n",
      "- city\n",
      "- HOSPITAL_NAME\n",
      "- POPULATION\n",
      "- COUNTY\n",
      "- TRAUMA\n",
      "- OWNER\n"
=======
      "- LATITUDE\n",
      "- ST_FIPS\n",
      "- ZIP\n",
      "- OWNER\n",
      "- oshpd_id\n",
      "- STATE\n",
      "- OBJECTID\n",
      "- license_category_desc\n",
      "- POPULATION\n",
      "- NAICS_CODE\n",
      "- latitude\n",
      "- er_service_level_desc\n",
      "- longitude\n",
      "- HOSPITAL_NAME\n",
      "- LONGITUDE\n",
      "- facility_status_desc\n",
      "- city\n",
      "- COUNTYFIPS\n",
      "- NAICS_DESC\n",
      "- address_2\n",
      "- HELIPAD\n",
      "- TTL_STAFF\n",
      "- FID\n",
      "- ALT_NAME\n",
      "- TYPE\n",
      "- ZIP4\n",
      "- SOURCE\n",
      "- VAL_METHOD\n",
      "- SOURCEDATE\n",
      "- BEDS\n",
      "- CITY\n",
      "- COUNTY\n",
      "- TRAUMA\n",
      "- WEBSITE\n",
      "- facility_url\n",
      "- updated\n",
      "- VAL_DATE\n",
      "- COUNTRY\n",
      "- STATE_ID\n",
      "- zip_code\n",
      "- STATUS\n",
      "- ID\n",
      "- number_of_beds\n",
      "- facility_name\n",
      "- TELEPHONE\n",
      "- address_1\n",
      "- ADDRESS\n",
      "- facility_level_desc\n",
      "- state\n"
>>>>>>> upstream/main
     ]
    }
   ],
   "source": [
    "unique_columns(sdcJoin, sdhJoin)"
   ]
  },
  {
   "cell_type": "code",
<<<<<<< HEAD
   "execution_count": 44,
=======
   "execution_count": 43,
>>>>>>> upstream/main
   "id": "a50f0244-47f4-4fdb-a9ce-fe158026420f",
   "metadata": {},
   "outputs": [],
   "source": [
    "sdcJoin['updated'] = sdcJoin['updated'].astype(str)"
   ]
  },
  {
   "cell_type": "code",
<<<<<<< HEAD
   "execution_count": 45,
=======
   "execution_count": 44,
>>>>>>> upstream/main
   "id": "5ec7b637-90c1-4b7c-b9d0-82b99befd41a",
   "metadata": {},
   "outputs": [],
   "source": [
    "facilities = ['facility_name', 'facility_level_desc']"
   ]
  },
  {
   "cell_type": "code",
<<<<<<< HEAD
   "execution_count": 46,
=======
   "execution_count": 45,
>>>>>>> upstream/main
   "id": "f00cfeb3-b4d5-445b-aff1-31008d1aba9c",
   "metadata": {},
   "outputs": [
    {
     "data": {
      "text/html": [
       "<div>\n",
       "<style scoped>\n",
       "    .dataframe tbody tr th:only-of-type {\n",
       "        vertical-align: middle;\n",
       "    }\n",
       "\n",
       "    .dataframe tbody tr th {\n",
       "        vertical-align: top;\n",
       "    }\n",
       "\n",
       "    .dataframe thead th {\n",
       "        text-align: right;\n",
       "    }\n",
       "</style>\n",
       "<table border=\"1\" class=\"dataframe\">\n",
       "  <thead>\n",
       "    <tr style=\"text-align: right;\">\n",
       "      <th></th>\n",
       "      <th>facility_name</th>\n",
       "      <th>facility_level_desc</th>\n",
       "      <th>geometry</th>\n",
       "    </tr>\n",
       "  </thead>\n",
       "  <tbody>\n",
       "    <tr>\n",
       "      <th>0</th>\n",
       "      <td>Advanced Home Health San Diego Inc</td>\n",
       "      <td>Parent Facility</td>\n",
       "      <td>POINT (-117.13155 32.89382)</td>\n",
       "    </tr>\n",
       "    <tr>\n",
       "      <th>1</th>\n",
       "      <td>San Diego Children's Dental Clinic</td>\n",
       "      <td>Parent Facility</td>\n",
       "      <td>POINT (-117.15215 32.79849)</td>\n",
       "    </tr>\n",
       "    <tr>\n",
       "      <th>2</th>\n",
       "      <td>St. Vincent De Paul Village Family Health Center</td>\n",
       "      <td>Parent Facility</td>\n",
       "      <td>POINT (-117.14989 32.70576)</td>\n",
       "    </tr>\n",
       "    <tr>\n",
       "      <th>3</th>\n",
       "      <td>Mission Hills Health Care, Inc.</td>\n",
       "      <td>Parent Facility</td>\n",
       "      <td>POINT (-117.15879 32.75033)</td>\n",
       "    </tr>\n",
       "    <tr>\n",
       "      <th>4</th>\n",
       "      <td>Comprehensive Health Center - Metro</td>\n",
       "      <td>Parent Facility</td>\n",
       "      <td>POINT (-117.12585 32.70116)</td>\n",
       "    </tr>\n",
       "  </tbody>\n",
       "</table>\n",
       "</div>"
      ],
      "text/plain": [
       "                                      facility_name facility_level_desc  \\\n",
       "0                Advanced Home Health San Diego Inc     Parent Facility   \n",
       "1                San Diego Children's Dental Clinic     Parent Facility   \n",
       "2  St. Vincent De Paul Village Family Health Center     Parent Facility   \n",
       "3                   Mission Hills Health Care, Inc.     Parent Facility   \n",
       "4               Comprehensive Health Center - Metro     Parent Facility   \n",
       "\n",
       "                      geometry  \n",
       "0  POINT (-117.13155 32.89382)  \n",
       "1  POINT (-117.15215 32.79849)  \n",
       "2  POINT (-117.14989 32.70576)  \n",
       "3  POINT (-117.15879 32.75033)  \n",
       "4  POINT (-117.12585 32.70116)  "
      ]
     },
<<<<<<< HEAD
     "execution_count": 46,
=======
     "execution_count": 45,
>>>>>>> upstream/main
     "metadata": {},
     "output_type": "execute_result"
    }
   ],
   "source": [
    "healthFacilities = sdc.loc[:, facilities + ['geometry']]\n",
    "\n",
    "healthFacilities.head()"
   ]
  },
  {
   "cell_type": "code",
<<<<<<< HEAD
   "execution_count": 47,
=======
   "execution_count": 46,
>>>>>>> upstream/main
   "id": "4c56341e-9ea6-4b07-b7b8-88ad52029ddf",
   "metadata": {},
   "outputs": [
    {
     "data": {
      "text/plain": [
       "(180, 3)"
      ]
     },
<<<<<<< HEAD
     "execution_count": 47,
=======
     "execution_count": 46,
>>>>>>> upstream/main
     "metadata": {},
     "output_type": "execute_result"
    }
   ],
   "source": [
    "healthFacilities.shape"
   ]
  },
  {
   "cell_type": "code",
<<<<<<< HEAD
   "execution_count": 48,
=======
   "execution_count": 47,
>>>>>>> upstream/main
   "id": "b701abc6-dd85-48bb-823d-4c682f10d3f6",
   "metadata": {},
   "outputs": [
    {
     "data": {
      "text/html": [
       "<div>\n",
       "<style scoped>\n",
       "    .dataframe tbody tr th:only-of-type {\n",
       "        vertical-align: middle;\n",
       "    }\n",
       "\n",
       "    .dataframe tbody tr th {\n",
       "        vertical-align: top;\n",
       "    }\n",
       "\n",
       "    .dataframe thead th {\n",
       "        text-align: right;\n",
       "    }\n",
       "</style>\n",
       "<table border=\"1\" class=\"dataframe\">\n",
       "  <thead>\n",
       "    <tr style=\"text-align: right;\">\n",
       "      <th></th>\n",
       "      <th>OBJECTID</th>\n",
       "      <th>ID</th>\n",
       "      <th>HOSPITAL_NAME</th>\n",
       "      <th>ADDRESS</th>\n",
       "      <th>CITY</th>\n",
       "      <th>STATE</th>\n",
       "      <th>ZIP</th>\n",
       "      <th>ZIP4</th>\n",
       "      <th>TELEPHONE</th>\n",
       "      <th>TYPE</th>\n",
       "      <th>...</th>\n",
       "      <th>p_poverty_rate</th>\n",
       "      <th>median_household_income</th>\n",
       "      <th>per_capita_income</th>\n",
       "      <th>p_nonhisp_white_persons</th>\n",
       "      <th>p_nonhisp_black_persons</th>\n",
       "      <th>p_hispanic_persons</th>\n",
       "      <th>p_asian_persons</th>\n",
       "      <th>facility_name</th>\n",
       "      <th>facility_level_desc</th>\n",
       "      <th>geometry</th>\n",
       "    </tr>\n",
       "  </thead>\n",
       "  <tbody>\n",
       "    <tr>\n",
       "      <th>0</th>\n",
       "      <td>554.0</td>\n",
       "      <td>0036992123</td>\n",
       "      <td>RADY CHILDREN'S HOSPITAL - SAN DIEGO</td>\n",
       "      <td>3020 CHILDRENS WAY</td>\n",
       "      <td>SAN DIEGO</td>\n",
       "      <td>CA</td>\n",
       "      <td>92123</td>\n",
       "      <td>4223</td>\n",
       "      <td>(858) 966-3001</td>\n",
       "      <td>CHILDREN</td>\n",
       "      <td>...</td>\n",
       "      <td>14.921031</td>\n",
       "      <td>91583.0</td>\n",
       "      <td>34681.0</td>\n",
       "      <td>44.814270</td>\n",
       "      <td>9.893343</td>\n",
       "      <td>25.818316</td>\n",
       "      <td>14.417065</td>\n",
       "      <td>NaN</td>\n",
       "      <td>NaN</td>\n",
       "      <td>POINT (-117.15130 32.79796)</td>\n",
       "    </tr>\n",
       "    <tr>\n",
       "      <th>1</th>\n",
       "      <td>555.0</td>\n",
       "      <td>0042492123</td>\n",
       "      <td>SHARP MEMORIAL HOSPITAL</td>\n",
       "      <td>7901 FROST ST</td>\n",
       "      <td>SAN DIEGO</td>\n",
       "      <td>CA</td>\n",
       "      <td>92123</td>\n",
       "      <td>2701</td>\n",
       "      <td>(858) 939-3400</td>\n",
       "      <td>GENERAL ACUTE CARE</td>\n",
       "      <td>...</td>\n",
       "      <td>14.921031</td>\n",
       "      <td>91583.0</td>\n",
       "      <td>34681.0</td>\n",
       "      <td>44.814270</td>\n",
       "      <td>9.893343</td>\n",
       "      <td>25.818316</td>\n",
       "      <td>14.417065</td>\n",
       "      <td>NaN</td>\n",
       "      <td>NaN</td>\n",
       "      <td>POINT (-117.15447 32.79928)</td>\n",
       "    </tr>\n",
       "    <tr>\n",
       "      <th>2</th>\n",
       "      <td>557.0</td>\n",
       "      <td>0020092120</td>\n",
       "      <td>KAISER FOUNDATION HOSPITAL - ZION</td>\n",
       "      <td>4647 ZION AVE</td>\n",
       "      <td>SAN DIEGO</td>\n",
       "      <td>CA</td>\n",
       "      <td>92120</td>\n",
       "      <td>2507</td>\n",
       "      <td>(619) 528-6295</td>\n",
       "      <td>GENERAL ACUTE CARE</td>\n",
       "      <td>...</td>\n",
       "      <td>8.406305</td>\n",
       "      <td>79847.0</td>\n",
       "      <td>42949.0</td>\n",
       "      <td>60.507881</td>\n",
       "      <td>6.100409</td>\n",
       "      <td>21.949796</td>\n",
       "      <td>4.407472</td>\n",
       "      <td>NaN</td>\n",
       "      <td>NaN</td>\n",
       "      <td>POINT (-117.09516 32.79156)</td>\n",
       "    </tr>\n",
       "    <tr>\n",
       "      <th>3</th>\n",
       "      <td>565.0</td>\n",
       "      <td>0002692128</td>\n",
       "      <td>AURORA SAN DIEGO</td>\n",
       "      <td>11878 AVENUE OF INDUSTRY</td>\n",
       "      <td>SAN DIEGO</td>\n",
       "      <td>CA</td>\n",
       "      <td>92128</td>\n",
       "      <td>3423</td>\n",
       "      <td>(858) 487-3200</td>\n",
       "      <td>PSYCHIATRIC</td>\n",
       "      <td>...</td>\n",
       "      <td>3.981154</td>\n",
       "      <td>96711.0</td>\n",
       "      <td>47220.0</td>\n",
       "      <td>40.700809</td>\n",
       "      <td>2.628032</td>\n",
       "      <td>24.123989</td>\n",
       "      <td>28.099730</td>\n",
       "      <td>NaN</td>\n",
       "      <td>NaN</td>\n",
       "      <td>POINT (-117.07532 32.99118)</td>\n",
       "    </tr>\n",
       "    <tr>\n",
       "      <th>4</th>\n",
       "      <td>566.0</td>\n",
       "      <td>0042392111</td>\n",
       "      <td>SHARP MCDONALD CENTER</td>\n",
       "      <td>7989 LINDA VISTA RD</td>\n",
       "      <td>SAN DIEGO</td>\n",
       "      <td>CA</td>\n",
       "      <td>92111</td>\n",
       "      <td>5106</td>\n",
       "      <td>(858) 576-1200</td>\n",
       "      <td>REHABILITATION</td>\n",
       "      <td>...</td>\n",
       "      <td>14.490818</td>\n",
       "      <td>71991.0</td>\n",
       "      <td>31771.0</td>\n",
       "      <td>42.530923</td>\n",
       "      <td>3.425309</td>\n",
       "      <td>23.025690</td>\n",
       "      <td>21.249604</td>\n",
       "      <td>NaN</td>\n",
       "      <td>NaN</td>\n",
       "      <td>POINT (-117.15448 32.80601)</td>\n",
       "    </tr>\n",
       "  </tbody>\n",
       "</table>\n",
       "<p>5 rows × 55 columns</p>\n",
       "</div>"
      ],
      "text/plain": [
       "   OBJECTID          ID                         HOSPITAL_NAME  \\\n",
       "0     554.0  0036992123  RADY CHILDREN'S HOSPITAL - SAN DIEGO   \n",
       "1     555.0  0042492123               SHARP MEMORIAL HOSPITAL   \n",
       "2     557.0  0020092120     KAISER FOUNDATION HOSPITAL - ZION   \n",
       "3     565.0  0002692128                      AURORA SAN DIEGO   \n",
       "4     566.0  0042392111                 SHARP MCDONALD CENTER   \n",
       "\n",
       "                    ADDRESS       CITY STATE    ZIP  ZIP4       TELEPHONE  \\\n",
       "0        3020 CHILDRENS WAY  SAN DIEGO    CA  92123  4223  (858) 966-3001   \n",
       "1             7901 FROST ST  SAN DIEGO    CA  92123  2701  (858) 939-3400   \n",
       "2             4647 ZION AVE  SAN DIEGO    CA  92120  2507  (619) 528-6295   \n",
       "3  11878 AVENUE OF INDUSTRY  SAN DIEGO    CA  92128  3423  (858) 487-3200   \n",
       "4       7989 LINDA VISTA RD  SAN DIEGO    CA  92111  5106  (858) 576-1200   \n",
       "\n",
       "                 TYPE  ... p_poverty_rate  median_household_income  \\\n",
       "0            CHILDREN  ...      14.921031                  91583.0   \n",
       "1  GENERAL ACUTE CARE  ...      14.921031                  91583.0   \n",
       "2  GENERAL ACUTE CARE  ...       8.406305                  79847.0   \n",
       "3         PSYCHIATRIC  ...       3.981154                  96711.0   \n",
       "4      REHABILITATION  ...      14.490818                  71991.0   \n",
       "\n",
       "  per_capita_income p_nonhisp_white_persons p_nonhisp_black_persons  \\\n",
       "0           34681.0               44.814270                9.893343   \n",
       "1           34681.0               44.814270                9.893343   \n",
       "2           42949.0               60.507881                6.100409   \n",
       "3           47220.0               40.700809                2.628032   \n",
       "4           31771.0               42.530923                3.425309   \n",
       "\n",
       "   p_hispanic_persons  p_asian_persons facility_name facility_level_desc  \\\n",
       "0           25.818316        14.417065           NaN                 NaN   \n",
       "1           25.818316        14.417065           NaN                 NaN   \n",
       "2           21.949796         4.407472           NaN                 NaN   \n",
       "3           24.123989        28.099730           NaN                 NaN   \n",
       "4           23.025690        21.249604           NaN                 NaN   \n",
       "\n",
       "                      geometry  \n",
       "0  POINT (-117.15130 32.79796)  \n",
       "1  POINT (-117.15447 32.79928)  \n",
       "2  POINT (-117.09516 32.79156)  \n",
       "3  POINT (-117.07532 32.99118)  \n",
       "4  POINT (-117.15448 32.80601)  \n",
       "\n",
       "[5 rows x 55 columns]"
      ]
     },
<<<<<<< HEAD
     "execution_count": 48,
=======
     "execution_count": 47,
>>>>>>> upstream/main
     "metadata": {},
     "output_type": "execute_result"
    }
   ],
   "source": [
    "healthCare = gpd.overlay(sdhJoin, healthFacilities, how='union')\n",
    "\n",
    "healthCare.head()"
   ]
  },
  {
   "cell_type": "code",
<<<<<<< HEAD
   "execution_count": 49,
=======
   "execution_count": 48,
>>>>>>> upstream/main
   "id": "00b9995a-2cdc-43c1-9fb6-894aff32d069",
   "metadata": {},
   "outputs": [
    {
     "name": "stdout",
     "output_type": "stream",
     "text": [
      "202\n"
     ]
    }
   ],
   "source": [
    "print(healthCare.shape[0]) # Total count"
   ]
  },
  {
   "cell_type": "code",
<<<<<<< HEAD
   "execution_count": 50,
=======
   "execution_count": 49,
>>>>>>> upstream/main
   "id": "dfbd7acf-01c4-4e1b-8ded-fb01c384e3ef",
   "metadata": {},
   "outputs": [
    {
     "name": "stdout",
     "output_type": "stream",
     "text": [
      "202\n"
     ]
    }
   ],
   "source": [
    "print(healthFacilities.shape[0] + sdhJoin.shape[0]) # Matches, successful overlay"
   ]
  },
  {
   "cell_type": "code",
<<<<<<< HEAD
   "execution_count": 51,
=======
   "execution_count": 50,
>>>>>>> upstream/main
   "id": "2ffec1ed-efad-47bb-a23a-bdb4222b1f4b",
   "metadata": {},
   "outputs": [
    {
     "data": {
      "text/plain": [
       "array(['OBJECTID', 'ID', 'HOSPITAL_NAME', 'ADDRESS', 'CITY', 'STATE',\n",
       "       'ZIP', 'ZIP4', 'TELEPHONE', 'TYPE', 'STATUS', 'POPULATION',\n",
       "       'COUNTY', 'COUNTYFIPS', 'COUNTRY', 'LATITUDE', 'LONGITUDE',\n",
       "       'NAICS_CODE', 'NAICS_DESC', 'SOURCE', 'SOURCEDATE', 'VAL_METHOD',\n",
       "       'VAL_DATE', 'WEBSITE', 'STATE_ID', 'ALT_NAME', 'ST_FIPS', 'OWNER',\n",
       "       'TTL_STAFF', 'BEDS', 'TRAUMA', 'HELIPAD', 'STATEFP', 'PLACEFP',\n",
       "       'PLACENS', 'AFFGEOID', 'GEOID', 'NAME', 'NAMELSAD', 'STUSPS',\n",
       "       'STATE_NAME', 'LSAD', 'ALAND', 'AWATER', 'n_total_pop',\n",
       "       'p_poverty_rate', 'median_household_income', 'per_capita_income',\n",
       "       'p_nonhisp_white_persons', 'p_nonhisp_black_persons',\n",
       "       'p_hispanic_persons', 'p_asian_persons', 'facility_name',\n",
       "       'facility_level_desc', 'geometry'], dtype=object)"
      ]
     },
<<<<<<< HEAD
     "execution_count": 51,
=======
     "execution_count": 50,
>>>>>>> upstream/main
     "metadata": {},
     "output_type": "execute_result"
    }
   ],
   "source": [
    "healthCare.columns.values"
   ]
  },
  {
   "cell_type": "code",
<<<<<<< HEAD
   "execution_count": 52,
=======
   "execution_count": 51,
>>>>>>> upstream/main
   "id": "18d9f376-0b57-4959-a3bd-0de6d336200c",
   "metadata": {},
   "outputs": [
    {
     "data": {
      "text/plain": [
       "<Axes: >"
      ]
     },
<<<<<<< HEAD
     "execution_count": 52,
=======
     "execution_count": 51,
>>>>>>> upstream/main
     "metadata": {},
     "output_type": "execute_result"
    },
    {
     "data": {
      "image/png": "iVBORw0KGgoAAAANSUhEUgAAAMIAAAGdCAYAAABATqynAAAAOXRFWHRTb2Z0d2FyZQBNYXRwbG90bGliIHZlcnNpb24zLjguMCwgaHR0cHM6Ly9tYXRwbG90bGliLm9yZy81sbWrAAAACXBIWXMAAA9hAAAPYQGoP6dpAAAzH0lEQVR4nO2de1xUdf7/XzPEHWcAbwyCgZgXQqQsc7xlJqWW0u6mmSX+vmuWrn1/rvvbx9dLsuq2im37sO1rP8nU9dc3K6qvmmbKN1yhtCAkpEByvUGYgBfQgcBhYOb8/sBBBubcZs45c2Z4Px8PHj6Y+ZxzPgfP63wu75uGYRgGBNHL0Xq6AwShBkgIBAESAkEAICEQBAASAkEAICEQBAASAkEAICEQBADgLk93QCpsNhtqamrQp08faDQaT3eHUAkMw6CpqQnR0dHQatnf+z4jhJqaGsTGxnq6G4RKuXTpEmJiYli/9xkh9OnTB0DHDet0Og/3hlALjY2NiI2N7Xw+2PAZIdinQzqdjoRA9IBvukyLZYIACYEgAJAQCAIACYEgAJAQCAIACYEgAJAQCAIACYEgAPiQQY3wLqw2BkWVDbjaZMaAPkEYGx8JP63nfMRICITi5JTXYsNnFag1mTs/M+iDsG5WIqYnGTzSJ5oaEYqSU16LpXtKHEQAAHUmM5buKUFOea1H+kVCIBTDamOw4bMKOEukZf9sw2cVsNqUT7VFQiAUo6iyocdI0BUGQK3JjKLKBuU6dRsSAqEYV5vYReBKOykhIRCKMaBPkKTtpISEQCjG2PhIGPRBYNsk1aBj92hsfKSS3QJAQiAUxE+rwbpZiQDQQwz239fNSvSIPYGEQCjK9CQDsp6/H1F6x+lPlD4IWc/f7zE7AhnUCMWZnmRAamIUWZYJwk+rgTGhr6e70QlNjQgCJASCAEBCIAgAJASCAEBCIAgAJASCAEBCIAgAJASCAEBCIAgAJASCAEAuFoQHsbTb8F5BFarqWwAwSIkJR3REiEf8jkgIhEfIPFyBHccr0TU8+T1UA/BMRguaGhGKk3m4Atu/chRBV2o9kNGChEAoiqXdhh3HK3nbMVA2owUJgVAMq43Bq4dOs44E3VEyowWtEQhFcJbdTghKZbQgIRBu0z2P6Zi7I/DdTzc6f7/RbMGyD0qcJvbiQ6mMFiQEwi2cvem1GjhMf7QauCQCJTNakBAIl7HnMe3+kHdfA7iy3tVA2YwWJATCJbjymLqLJ+wIJATCJfjymLrKy48MxYrUYYpblmn7lHAJuXZzJgzt55G0LjQiEC4h9W6OBh1JvjyR7hGgEYFwEb48ps7gynkKeC7dI0BCIFyEK48pG1vn3YcV04YhPNjf4XNPp3sERAohKysLycnJ0Ol00Ol0MBqNOHLkSOf369evx4gRIxAaGoqIiAhMmzYN3377Le959+7di8TERAQGBiIxMRH79+8XfyeE4tjzmEaEBghq37dPIJZPuwffZaTiw8Xj8Oa8FHy4eBxOrJzqUREAIoUQExODzZs3o7i4GMXFxZg6dSrS0tJw+vRpAMCwYcPw1ltvoaysDCdOnEBcXBwee+wxXLt2jfWcBQUFeOaZZ7BgwQJ8//33WLBgAebOnStIQITnmZ5kQMYTIwW1tS+w7eke01IGwZjQ16M5T+1oGIZxays4MjISr7/+OhYtWtTju8bGRuj1ehw9ehSPPvqo0+OfeeYZNDY2Oows06dPR0REBD788EPB/bBfy2QyQafTib8RwmUKLtTj2R2FvO0+XDxO8XynQp8Ll9cIVqsV2dnZaG5uhtFo7PG9xWLBO++8A71ej9GjR7Oep6CgAI899pjDZ48//ji++eYbV7tGKIyaC4AIRfT2aVlZGYxGI8xmM8LCwrB//34kJiZ2fn/o0CHMmzcPLS0tMBgMyM3NRb9+/VjPV1dXh4EDBzp8NnDgQNTV1XH2o7W1Fa2trZ2/NzY2ir0VQiLsC+ele0qggaNfkRp2hIQgekQYPnw4SktLUVhYiKVLl2LhwoWoqKjo/P6RRx5BaWkpvvnmG0yfPh1z587F1atXOc+p0Tj+gRiG6fFZdzIzM6HX6zt/YmNjxd4KISFqLQAiGMZNHn30UebFF19k/X7o0KHMpk2bWL+PjY1ltmzZ4vDZli1bmMGDB3Ne12w2MyaTqfPn0qVLDADGZDKJuwFCUtqtNuab89eZT0/9zHxz/jrTbrWxtm1pbWfW7v+BeX5nIbN2/w9MS2u75P0xmUyCngu3LcsMwzhMUcR+bzQakZubixUrVnR+9sUXX2D8+PGc1w0MDERgYKD4DhOyIrQAyAvvFuHoj3d2E4+fA94rrEZq4gDsSH9Qzi46RZQQ1qxZgxkzZiA2NhZNTU3Izs5Gfn4+cnJy0NzcjI0bN2L27NkwGAyor6/Htm3b8PPPP2POnDmd50hPT8egQYOQmZkJAFi+fDkmT56M1157DWlpaThw4ACOHj2KEydOSHunhGqY/dZx/PCz8zVdbsVVvPBuEXYuHKton0QJ4cqVK1iwYAFqa2uh1+uRnJyMnJwcpKamwmw248yZM3j33Xdx/fp19O3bFw8++CCOHz+Oe++9t/Mc1dXV0GrvLE3Gjx+P7OxsrF27FhkZGUhISMBHH32Ehx56SLq7JFTDgdLLrCKwc/THazhQehlpKYMU6pUEdgS1QHYE9WO1MRi1/n/QYrEKav+2BIts2e0IBCGWosoGwSIAKJ0L4aOIjWFQMp0LCYFQDFdiGJRK50JCIBTD7oohBqXSuZAQCMWwu2IIcbRQ2j+JhEAoit0Vg2tk8IR/EsUsE4ozPcmA1MQoFFU2ILeiDp+W1qCh2dL5fZQH0rmQHYHwON1TRkpZKEToc0EjAuFxhPonyQmtEQgCJASCAEBCIAgAJASCAEBCIAgAJASCAEBCIAgAZEcgBGBpt+G9gir81NCCuyNDsMAYh4C7fOsdSkIgWLHaGCzPPoXPf6h1yFW08fCPWDwpHqtnJrIe622QELogp6nf28gpr8UfPv7eaUSZjQG2f9VRNNxXxEBCuI2z6pCeqOWlBnLKa7FkTwlvux3HK/F/HhvhE9Mk778DCbBXh+xeE6zOZMbSPSXIKa/1UM+Ux14kUAg2BnivoEreDilErxcCV3VI+2dKBpF7GrFFAn9qaJGxN8rR64XA9x/PQNkgck8jNkb47sgQmXqiLL1eCEL/45UKIvc0YmKEtRpggTFOvs4oSK8XgtD/eKWCyD2NmCKBiyfF+8RCGSAhyFrkwmpjUHChHgdKL6PgQr1XrDOEFAnUaICXJpMdwaeQq8iFN2/H2gPsu/c/JMAPM5MM2PTrUT4zEtihmOXbSPng2rdju/9h7VLyisIZ8A0Do9DngoTQBSn+4602BhNfO8a6E2WvMH9i5VSve6i8EQredwEpgsjFbMd6OmCduINvTfRUAG3HeickBImh7VjvhIQgMb5Qc7g3QkKQGK59eG+pOdwbISHIgNfXHO6F0K6RTHRNdOvN+/C9BRKCjKghpychDJoaEQRICAQBgIRAEABICAQBgIRAEABICAQBgLZPXcYXfPWJO5AQXMCbo88I59DUSCSUDMw3ISGIgJKB+S4kBBFQMjDfhYQgAoo+811osSwCb4s+k6rAR2/YISMhiMAefVZnMjtdJ9gzVKgh+izzcAV2HK9E1+WKKwU+essOGU2NROAt0WeZhyuw/StHEQB3CnxkHhaW9t1eJ6E37JCREESi9ugzS7sNO45XcrbZcbwSlnYbZxurjcGqfWVOv/PFHTKaGjmBb06s5uiz9wqqeowE3bEX+Fg0aQhrm7eOncfNljbW730tPxMJoRtC58RqjT4TWriDq53VxmD319yjih1f2SGjqVEXfMFqLLRwB1e7osoG3LzFPhp0RS07ZO5CQriNr1iNFxjjwDdD4yvwIfQtHx7sr4odMikgIdzGE1ZjS7sNu45fxJ8OlGPX8Yu8C1ghBNylxeJJ8Zxt+Ap8CH3Lt9lsyK2oE9U/tUJrhNsobTWWap/fGfbju59fq4Gg8/PZS+w0t1qxdE+JKnbL3EXUiJCVlYXk5GTodDrodDoYjUYcOXIEANDW1oaVK1di1KhRCA0NRXR0NNLT01FTU8N5zra2Nvz5z39GQkICgoKCMHr0aOTk5Lh+Ry6ipNVYqn1+LlbPTMSZV2cg44mRSDfejYwnRuLMqzMEiUxI1ZyueMOUkQ9RQoiJicHmzZtRXFyM4uJiTJ06FWlpaTh9+jRaWlpQUlKCjIwMlJSUYN++fTh79ixmz57Nec61a9di+/bt2Lp1KyoqKrBkyRL86le/wqlTp9y6MbEolbNUqn1+IQTcpcWiSUPw57QkLJo0RJR7hd1eEhEawNnOVxwN3S4UEhkZiddffx2LFi3q8d3JkycxduxY/PTTTxg8eLDT46Ojo/HKK69g2bJlnZ899dRTCAsLw549ewT3Q4pCIfZdI8B5CSkppgC7jl/Eq5//yNsu44mRnPv8SrG/5Ges+Ph73nZvzktBWsogBXokDtkLhVitVnzyySdobm6G0Wh02sZkMkGj0SA8PJz1PK2trQgKcpxuBAcH48SJE5zXb21tRWtra+fvjY2NwjvPAlvtsCgJfWu+OnddUDtPFfL+xdyOFR+dQvWNWxgcEYz5Dzh/gXXH27dRRQuhrKwMRqMRZrMZYWFh2L9/PxITe847zWYzVq1ahfnz53Mq8fHHH8eWLVswefJkJCQk4J///CcOHDgAq9XK2Y/MzExs2LBBbPd5kctqbLUxeOvYOXx59pqg9nIX8nZmPf/VthP44ec7L5R/1TUh98eruEurgdXGqN7R0B1ET40sFguqq6tx8+ZN7N27Fzt37sSXX37pIIa2tjbMmTMH1dXVyM/P5xTCtWvXsHjxYnz22WfQaDRISEjAtGnTsHv3brS0sL8VnY0IsbGxbk2N5CKnvBbrD1agrlHYjpNWA5x5dYZslSudWc/v0mrQzrPgZas6quZdI9mmRgEBARg6dCgA4IEHHsDJkyfx5ptvYvv27QA6RDB37lxUVlbi2LFjvA9l//798emnn8JsNqO+vh7R0dFYtWoV4uO598IDAwMRGBgotvuKw1ZhkwtXC3nb4w8q65uhAXBfbAQM4cEOIxpbf/hEAAD9Qu/Cteb2zt+lnDJ6GrftCAzDdL6Z7SI4d+4c8vLy0LevcF+coKAgDBo0CG1tbdi7dy/mzp3rbtc8Dpe1mo1HR/TvscUpJDDGmV3ivcJqAECULgjrZyciNTFKdH+6MnpwJBZNHKI6R0MpECWENWvWYMaMGYiNjUVTUxOys7ORn5+PnJwctLe34+mnn0ZJSQkOHToEq9WKuroOq2NkZCQCAjq24dLT0zFo0CBkZmYCAL799ltcvnwZKSkpuHz5MtavXw+bzYb/+I//kPhWlYfPWu2MFyYlOPwuxAnQbpdgo67RjCV7SrBi2jDR/enKpRu3VOloKAWihHDlyhUsWLAAtbW10Ov1SE5ORk5ODlJTU1FVVYWDBw8CAFJSUhyOy8vLw5QpUwAA1dXV0GrvDPtmsxlr167FxYsXERYWhpkzZ+K9997j3GnyFsRYoZ0tOtmmMXYnwKzn78fUEQN57RJ23vnqguD+OGNwRLBbx6sZUULYtWsX63dxcXEQsu7Oz893+P3hhx9GRYX7llQ1InZLsWt0G58ToAYdFt1LDS288Qd2mi3cO3F8vPHMfW4dr2bI6U5G+KzVdqJ0gT12XoQ6AX57sV5Un0ID/QS5TXQnOUaHsCDfdU0jIciIEJ+dFdOG4etVj/bYeRE6rTp6Rphdws7D9/Rz2h8ucSTH6HDw5UmiruNt+K7EVQKbtdq+4GUz3sllqX3uoTjMThnEaj2fOLS/g2X5jWfu8+mRwI7v36EKYLNW51bUYeJrx1gFIsQVWgzhIf4Yl9AXfloNp/V8x8IHJbqi9+C2051akMLpTknYdoS6WmsBOHUCdJW3VWwBlguhzwWtETyA0LDQ1MQop6ljQgL8RF0vShfYK0UgBpoadUGp1IZiwkKdTavKL9/ExsNneK/zVEo0nnlwsE9ZgOWChHAbJVMbig0L7Z46ZszdEcg8cobTfqDVAH99erRsjnu+Bv2VoHwaF3fDQqUI0Ccc6fV/Kb75OgNgzf4ySUIn7UgRFrp6ZiJemhzfI3WLVgO8NNn9BAC9jV6/a1RwoR7P7ijkbRca6IcXJw3B0ilD8d1PN9xeR0gVFipV6ndfRehz0euFcKD0MpZnlwpur9EAXf9i7qwjekvKdU8ie8yyryDWgtv9tdHVE1Tsw6vmZMK9jV4vBKHJrNjo6gmamhgl+iFWazLh3kavn0x2dYxzFV/J7dOb6fVCAO44xkWG+rt1Hl9Jkd4bISHcZnqSAYWrpyGSJ7MbF96e26c3Q0LoQsBdWmz6VZLo46RKB0l4DhJCN6YnGfD28/cjPETYNElNRQQJ1yEhOGF6kgHfrU3FimnDEB7sKIjuz7paiggS7tHrDWp8dPdIHXN3hCSWZbIIKwNZllWMs2RcQot4EOIgy7JKYUvGZS8SAoDE4AFoLFYQJYuEEOIgISiImGLghLKQEBREimLghDyQEBREimLghDyQEBREimLghDyQEBSEYo3VC22fKoy7xcAJeSCDmocgy7IykEFN5diLgRPqgIRAAFAuy59aISEQOFRag9WflqHJfKdiZm/LpkGT0l7O4v86iZezTzmIAOiIwZYjy59aoRHBixE6nWFbmG/8vAK5FVdZz8/A9ewc3gYJwUsRmhzMmcv3xsM/4t8mxOEfX1fxXseencPXU87Q1MgLEZq02O7y3d3Rz8YAu05U9UhWxkZvyM5BQvAyhBYZuWWxCq6/zEduxRVJzqNmSAhehtAiI5sOVwiuv8zHoR9qkXnYN2th2yEheBlCpylV9dK6cr/j4wFDJAQvQ2gSsbi+0rpyMwywZl+ZpOdUEyQEL4OvyAgAhAf7Y9rIgZxtXOFweS2sUs23VAYJwcvomrSY7UG/easNC3ef5K2+GSTSya/FYvXZRMckBC/EnrS4e9nZ7rRYrAB6CsZeXmrL3BTR165r9M2tVDKoeSn2IiOFF+qx7IMS3LzV1qONvXZDlD4Iv50Qh0s3bjlYll1xn2j4pdX9zqsQEoIX46fVQKvVOBWBHft2atKgcCyenND5ud0eIRZ3soWrGZoaeTliazbb4bNHsBGlDxZ9jDdAQvByXK3Z7KrbxLEzdS4dp3ZICF7OmLsjOCv9sNVucLWoyY7jVT5pZSYheDE55bV4+PU8NDQ7XyNw1W4YGx+JKF2gS9f1xbSUJAQvhc0DtStctRv8tBo8O3awS9f2xbSUtGvkhXB5oHbllRkjMT3JwBrAE9cv1OU++FpaShKCFyJ0x2fl/h9w/tovyD55ycEQZg/g6Rfm2tQI8L20lCQEL0Tojk9zqxV//+e5Hp/XmcxYsqcE+mDX/vt9MS0lrRG8EHfL2NqnVKZb7Zzt2PDFtJQ0IohEDfl/xtwdAQ3Au0aQgyeTDT6ZlpKEIAKhAfNyc7KqwSMiAIDUxIEeurK8+Nb4JiNCA+aVoOBCvWLX6o7QaZnVxqDgQj0OlF5GwYV61ccxiBJCVlYWkpOTodPpoNPpYDQaceTIEQBAW1sbVq5ciVGjRiE0NBTR0dFIT09HTU0N73n//ve/Y/jw4QgODkZsbCxWrFgBs1k97r5CA+aV+8/2zEMVHuzfw0LtjJzyWkx87Rie3VGI5dmleHZHISa+dkzVycJECSEmJgabN29GcXExiouLMXXqVKSlpeH06dNoaWlBSUkJMjIyUFJSgn379uHs2bOYPXs25znff/99rFq1CuvWrcOPP/6IXbt24aOPPsLq1avdujEpERowr1TQinFIP0Wu051/mxDHux5S08gpBlFrhFmzZjn8vnHjRmRlZaGwsBCLFi1Cbm6uw/dbt27F2LFjUV1djcGDnVsxCwoKMGHCBMyfPx8AEBcXh2effRZFRUViuiYrrnp4ysV1N2MCIkL8caOlTdSCOyLEHy9PvYezDd/IqYF6M+e5vFi2Wq345JNP0NzcDKPR6LSNyWSCRqNBeHg463kmTpyIPXv2oKioCGPHjsXFixdx+PBhLFy4kPP6ra2taG2980A0Nja6dB9CcNXDUw6sNgZrD5SLOiYixB//a3wc4vqFdu505VbU9Vj4s6EBkPnrUbwPr5iRU22Z80QLoaysDEajEWazGWFhYdi/fz8SE3tup5nNZqxatQrz58/nLNAwb948XLt2DRMnTgTDMGhvb8fSpUuxatUqzn5kZmZiw4YNYrvvEvaA+TqT2enbzh4FJmT+7C5FlQ09Evby8UBcBJZPG+bwmT3CretW8I1mC1793PVdMbWNnGIQLYThw4ejtLQUN2/exN69e7Fw4UJ8+eWXDmJoa2vDvHnzYLPZsG3bNs7z5efnY+PGjdi2bRseeughnD9/HsuXL4fBYEBGRgbrcatXr8Yf/vCHzt8bGxsRGxsr9nYEYQ+YX7qnpMd0gsvDUw5ceYjyz1yD1cb06J+fVtPjzfx4UpTLdpLKa82C2ikxcorF7dJR06ZNQ0JCArZv3w6gQwRz587FxYsXcezYMfTtyz0ETpo0CePGjcPrr7/e+dmePXvw4osv4pdffoFWK2w9r0TpKDXYEQou1OPZHYWij/tw8ThZpyP2PKtc2EfOEyunKrZGUKx0FMMwnXN1uwjOnTuHvLw8XhEAQEtLS4+H3c/PDwzDQG3l3ZxNJ5S2LI+Nj0SAnxYWq7h4ADmnI4d/qOEVgR2lRk6xiBLCmjVrMGPGDMTGxqKpqQnZ2dnIz89HTk4O2tvb8fTTT6OkpASHDh2C1WpFXV1HWF9kZCQCAjqCvtPT0zFo0CBkZmYC6NiJ2rJlC+67777OqVFGRgZmz54NPz/uvDyewNl0Qi6sNgaFF+tvG9AYGIf0w7iEvhhhCMMPP4vbHJBrOiJm8f77acNUW4FHlBCuXLmCBQsWoLa2Fnq9HsnJycjJyUFqaiqqqqpw8OBBAEBKSorDcXl5eZgyZQoAoLq62mEEWLt2LTQaDdauXYvLly+jf//+mDVrFjZu3OjenXk5OeW1WLWvDDdb7kSfvZV3AeEh/nh0xABRQnAWqikVRZUNrBFy3Ynrp17XbSovq0JyymuxZE8JZxuhNgANwBql5i5WG4M3cv+Ft/IuCGrvbJ0itxMjlZeFOjxFxWK1MVh/kD84PjhAixYL9zpB6ELelZrPzjYOuOgbGtBjVFLD5oMdnxWCmv7IYiiqbBCUVrHFYsOTyQYcLqt1qIOgATB1RH+8MClBkPDZSkstnhTP6m5td6MQM5V4NS3JoS9s57C7Ysg1irHhk0JQ2x9ZDGJ2d1ITB2LL3BTRb3M7bFueNgadn3cXg9B46a68NDkeM5Pv/L3V6Irhc0JQ4x9ZDGJ2dwb0CULAXVosmjRE9HUs7Tbe0lI7jldi4tD+aGixdE4txWTIiwz1x1/SkjAzOdrhczW6YvicEL6ruqG6P7IYOvINBfFOj6J0gW7tBL1XUMVbWsrGAAv+ccf50aAPwsykKEHnf/mRoViROszpy8YVVwy513s+J4Rrv3ivvwvQYadYPzuRd9do/ex73XoQXEnHUmcyY5eAkrQAMGFoP9b+iXViPFRag9Wfljn4WEXpgrB+tnTrPZ+LUOsfph5PUVeZnmTA28/fj/CQnqkcw0P88bYEaxxX0rHYBxCthr1ICVuKya7wVf3peo7F/3USL2ef6uFoWNfYkYlDqvgGn7MjNNy4iZlZxbyeokr6u7gKm2VZin5b2m0YkXHErcqbbA6IQjYj7Bsa4DjHdz/d4F3HRIT4o3htKuvfRKgdwedGBK7SSkp7irqLn1aDCUP74Y+PD8cfHx+BCff0nG64GhsccJcWiyfFu9y3306I61GxhyvFZHfYqv7YzzF1xEDsPMHvv3SjpQ2FF92P4fa5NQJw54/c3Y4Q5QV2BDEIsZV0XWT2CwsEGOB6cysG9AnC6Jhwl6+dmhiFV55IdGsBy+XEuOv4RQidqxRcqMeEoe6Fr/qkEAB1eIrKiRBbCQBO66+rfwn7/F0KB0S2c4hbzLs/u/dZIQDKeooqiRBbyap9ZTC1tHE+Iq4+PkpMLcUs5qVIZuBzawRfx9Juw/qD5by2kps8InAFqXashLDAGAchWgv212CcBC87nx4RfA1nfkFKEB7ij38bH4+Xpw5VbGppX8zzBfzcamOQW1HntjhJCF6CkFBIqQkP9sf/fe5+jBsizZatWFbPTISNAecWqlQuMzQ18gKE+AVJieb2z+bfjOK0ECvB1BHcuValSq5GI4IXIMQvqDvhIf4O0W1i8MQ2s32bt67RjIZfWhEZGoAofbAgl3TAfZcZEoKKYHMsE7OVGBnqj02/GgUAvP5KXdEF3YUNs+9FlD5Y8W1mriAfroqhXXHXZYaEoBK4jGNithLXzrzzJt/67H349w9PCTpu86+THWIG5KSr4Kuut+DvR8+y7nDxxUNLlVyNhKAC+Ixj//nsfYJjlOubLQA6HrZ+YYF4ZHg/5P3rOucx3QNn3IEv7FNsiGdX5EyuRkLwMEKMY5sO/4hR0X3wQ00T7/lutFiQU16L9QdPo66RO1lw0F1abJk7ukfgjKvwhX26EuLZlYjQADTcFjog7VqGhCACIcEhYgPhhUZrCX2DVl3/Bdvy2bNKpMToENcvDL+5PwbjJdwR4gv7tDHAoR9q3TLyWbslNZPScdrn3LDlSucixMHN2RtRqwFnIPyB0stYnl0qWT9DeLJbhIf44zsOt2Ux2F8MtTdv4f988j3nQy5HzTchbt+UzkVChDi4naq+IToQHpA2QCjInz/Fy82WNhReqMeEe9zzzxE715fjbStlDDoJgQchc/j1B0/jahP3fNxZILyfVsObcl4MAVoNhDyWBRevuyUEd+f6UiJVDDoJgQchc3i+RSngPBDePq1iSzkvlsZWq8CWrr85XUnn4g7hwf64eYvfMEgGNZmRK8i/e44lZ4FE/n4atFmlf+TceXOKSefiCo8M74eJQ/t3WpZtDIPndn7LexwZ1GRGriD/7vPb7oFE/cICcej7Gnx48pKk140I8ce4Ia4LQe7sH3n/uo45YwZ32jWsNkaRakXkdMeDkIwLUbpAQb7z3enuMGYPJAq8S4s/fvK95CIAHGuhuRLvrET2j4wD5Z19USoGnYTAg5D/iPWz73UrEL7rW5atPKsYVkwbhiid4wNr0Ac5BNW4Wgt5bHwk/GR2Q6pvtjh4k/IF+pNBTSGEJAOw/2e4Ejhjf8tKsRDtKAM7FC9PHcpq/HMnN6yfVoPxCX1x/Lz7mSO46D4FkzsGnQxqIhBrWY6NCMHO4xdxtalVUI4lV+ujdWXb/Ps5/YasNgYTXzvGGdDPl/fplsWKkX/K4e3LgDB/XP3FNVdwqWq+kUFNBoQkA+ielDc2MlhwNU53F6KLJ8XxOs9JkYA3OMAPqYkDkFtxlfU800YOwPYFD3QrX9uK1fvLYLrFXR5Xzgo/bNAaQWbEzG/dXYhOGc4dzQVIVwt5R/qDSE0cwPr96ZpG5FbUwZjQF2kpg2BM6IuZydEoyXgMT3KIVQPPJGCjEUEBhM5v3bUyC0l0JTYBLxc70h/EwZKf8b8//r7Hd2zrDT+tBm/Nvx8zk2qx9kC5gzepJwu5kBAUQsi0iquwuTD4j+ATm5h9eauNQeb//Iu1J1x+QDOTDW4VN5camhqpDLaplBCEJLqScl9ezHqDrS9dp06eTBJAI4IK6T6VunitGW/+8xznMSEBfoITXUmVG1aq9YYaICGoFPvb0mpjMGHzP3nbBwqsm2ZHin15KdcbnoaEoHI6Upzwe7feaGnr3PIUWmbJ3dywUq43PA0JQeWImVZcbTIrWlaXa3HvbbUoaLGscsRMK6quNzv1U7JvZUpVZqkrSvgBKQG5WKgcq43BqPU5vCGYBn0QGIZhnUbJXTKLbzomd1VMNsjFwkew2hjc4hEBAMwZE4P/PHae9Xu5y+pyrTc60stUOKRvlLoqprvQ1EjlvPtNlSDDWnW9sLSQSm9l5pTXYsmekh45TKWuiukuJASVU1QpzN35m4vc2ezsKLmVabUxWLWvjLPN6n1lggsgygkJQeW0WIQF5F9tskAf5OdW/WPA9Sqdzii8WM+bkVuqqpjuQmsElTMqRo+vLwh7UExm56IRupXJtvWa8UQiIkIDRC909xT+JKjfUlTFdBcSgsqZdE9/vP3lRbfOIcR1gi1qrdZkxu8+cEwvP7BPADakJXGez2pj8NXZawJ7SFMjgodxQ/oiyN+9/6aMJ7hFIDZE9EqThXehW1TZgGaB0zopqmK6CwlB5fhpNfjbb0a7fLwGwKufV3DO9V3NVfSHj793el6rjcHX54Ut3sU4C8oJCcELeDIlmjMajAu7/eD/fV3JKgZXt1RbLFac+Jfj9MeeHeOtPHabRldempygChcMEoKXsCP9QbwwIc7l41/9/EeMeTUXbx4910MQ7mypvvT+d51TJLGpaMJvZ9xQAyQEL2LtrHvx1rz7XD7+5q02vHH0LMb8Jddhfs+XxIwLc7sNS/eU4PAPtaJT0WzukmzM05AQvIwnU6Lx9vP3w+BCBJudmy1tDovdrlFrrpJxoFzUOiM1cYBq3CsAcrrzWroX5Hvj6FnR5zB0c8ITWnJKKl6azF5ARSqEPhc0IngpXeN9h0eFuXSO7vHE05MM+HrVo/j9o/dI1U1OdhyvhKWd36FQCUgIXo7dBuAqV5vMDm4VRZUN+PdH78FLk8Xnco0M9Re1zrAxHcXU1QBZlr0cd+sVVF1v7pEC0h7Rtm1++O3cQ8JqHWc8MRLLPjglKhWNmGLqciJqRMjKykJycjJ0Oh10Oh2MRiOOHDkCAGhra8PKlSsxatQohIaGIjo6Gunp6aipqeE855QpU6DRaHr8PPHEE67fVS/CHbfqiBB/vHH0HGtEm1arwclXUvHh4nH47e2tW64UMDOTo0WnoomNCHa5/1IiSggxMTHYvHkziouLUVxcjKlTpyItLQ2nT59GS0sLSkpKkJGRgZKSEuzbtw9nz57F7NmzOc+5b98+1NbWdv6Ul5fDz88Pc+bMcevGegvu2ADY3tr2z+1TLmNCX/xp1r14W0BI5vQkA06snIo1M0YI6sOIKHVsbIiaGs2aNcvh940bNyIrKwuFhYVYtGgRcnNzHb7funUrxo4di+rqagwePNjpOSMjHd2Cs7OzERISQkIQyNj4SESG+vNOX7pjjO+LAo5YB2cRbUJTwPhpNRgocFRoaLHwN1IAl9cIVqsVn3zyCZqbm2E0Gp22MZlM0Gg0CA8PF3zeXbt2Yd68eQgNDeVs19raitbWO9t8jY2Ngq/hS/hpNfhLWhJ+98EpUcdxiaAr3adeQlPAeFvOI9G7RmVlZQgLC0NgYCCWLFmC/fv3IzGx516w2WzGqlWrMH/+fMH7+kVFRSgvL8cLL7zA2zYzMxN6vb7zJzY2Vuyt+Awzk6MxKzlKlnO7+qCOjY9EeIg/Z5uIEH/V5DwSLYThw4ejtLQUhYWFWLp0KRYuXIiKCsftu7a2NsybNw82mw3btm0TfO5du3YhKSkJY8eO5W27evVqmEymzp9Ll6SvN+ZN/H3e/bwPnhiERrS5g5osuaKFEBAQgKFDh+KBBx5AZmYmRo8ejTfffLPz+7a2NsydOxeVlZXIzc0VPBq0tLQgOztb0GgAAIGBgZ27V/af3oyfVoPNvx7lkr+QHEX6iiobeMM0b97OzqcG3DaoMQzTOVe3i+DcuXM4evQo+vYV7mf+8ccfo7W1Fc8//7y7Xeq12JNtifFDWjHtHlmScymZIFiKOGtRi+U1a9ZgxowZiI2NRVNTE7Kzs5Gfn4+cnBy0t7fj6aefRklJCQ4dOgSr1Yq6ujoAHTtDAQEBAID09HQMGjQImZmZDufetWsXnnrqKVHiIXpi39kpvFiPZe+XsFattxvBXp56D16eeo/kybeUWixLleJSlBCuXLmCBQsWoLa2Fnq9HsnJycjJyUFqaiqqqqpw8OBBAEBKSorDcXl5eZgyZQoAoLq6Glqt40B09uxZnDhxAl988YWY7hAs+Gk1mDC0Hzb/ZhSW7umIN+bLSyp10i8lEgQLqQ46fjD37mNnf8j71LdRMimws2tzCdGd6ZfQ6qCHlz6AyIhwSvnY25G7PjHftaUoSOIModV6vqu6Ieh8JIRegLt1ENxBLiEKXWRf+0VYOxICITtyCFHoIrt/mLB2FI9AeCV8cdZ2g+CYuAhB5yMhEF6JlNVBARIC4cVIWa2H1giEVyPVYpyEQHg9UizGSQiEqlGq9hoJgVAtSlrFabFMqBK2PKpylcolIRCqg6teQ9fEAlLWXiMhEKpDqB+RlEE9JARCdSgZ1GOHhECoDk9kwCAhEKpDqB+RlIkFSAiE6pDaj0gIJARClUjpRyQEMqgRqkXJ6DoSAqFqlIquo6kRQYCEQBAASAgEAYCEQBAASAgEAYCEQBAASAgEAYCEQBAASAgEAYCEQBAASAgEAYCEQBAASAgEAYCEQBAASAgEAYCEQBAASAgEAYCEQBAASAgEAYCEQBAASAgEAYCEQBAASAgEAYCEQBAASAgEAYCEQBAASAgEAYCEQBAASAgEAYCEQBAASAgEAYCEQBAASAgEAYCEQBAASAgEAYCEQBAASAgEAYCEQBAASAgEAUCkELKyspCcnAydTgedTgej0YgjR44AANra2rBy5UqMGjUKoaGhiI6ORnp6OmpqanjPe/PmTSxbtgwGgwFBQUEYOXIkDh8+7NodEYQLiCo4HhMTg82bN2Po0KEAgHfffRdpaWk4deoUYmJiUFJSgoyMDIwePRo3btzA73//e8yePRvFxcWs57RYLEhNTcWAAQPw3//934iJicGlS5fQp08f9+6MIMTAuElERASzc+dOp98VFRUxAJiffvqJ9fisrCxmyJAhjMVicasfJpOJAcCYTCa3zkP4FkKfC5fXCFarFdnZ2WhubobRaHTaxmQyQaPRIDw8nPU8Bw8ehNFoxLJlyzBw4EAkJSVh06ZNsFqtnNdvbW1FY2Ojww+hPqw2BgUX6nGg9DIKLtTDamM83SWniJoaAUBZWRmMRiPMZjPCwsKwf/9+JCYm9mhnNpuxatUqzJ8/HzqdjvV8Fy9exLFjx/Dcc8/h8OHDOHfuHJYtW4b29nb86U9/Yj0uMzMTGzZsENt9QkFyymux4bMK1JrMnZ8Z9EFYNysR05MMHuxZTzQMw4iSqMViQXV1NW7evIm9e/di586d+PLLLx3E0NbWhjlz5qC6uhr5+fmcQhg2bBjMZjMqKyvh5+cHANiyZQtef/111NbWsh7X2tqK1tbWzt8bGxsRGxsLk8nEeT1CGXLKa7F0Twm6P1ya2/9mPX+/ImJobGyEXq/nfS5EjwgBAQGdi+UHHngAJ0+exJtvvont27cD6BDB3LlzUVlZiWPHjvE+lAaDAf7+/p0iAICRI0eirq4OFosFAQEBTo8LDAxEYGCg2O4TCmC1MdjwWUUPEQAAgw4xbPisAqmJUfDTapy0Uh637QgMw3S+me0iOHfuHI4ePYq+ffvyHj9hwgScP38eNput87OzZ8/CYDCwioBQN0WVDQ7Toe4wAGpNZhRVNijXKR5ECWHNmjU4fvw4qqqqUFZWhldeeQX5+fl47rnn0N7ejqeffhrFxcV4//33YbVaUVdX1/lmt5Oeno7Vq1d3/r506VLU19dj+fLlOHv2LD7//HNs2rQJy5Ytk+4uCUW52sQuAlfaKYGoqdGVK1ewYMEC1NbWQq/XIzk5GTk5OUhNTUVVVRUOHjwIAEhJSXE4Li8vD1OmTAEAVFdXQ6u9o7/Y2Fh88cUXWLFiBZKTkzFo0CAsX74cK1eudO/OCI8xoE+QpO2UQPRiWa0IXRQR8mO1MZj42jHUmcxO1wkaAFH6IJxYOVX2NYLQ54J8jQjJ8dNqsG5Wxy5i98fc/vu6WYmqWSgDJARCJqYnGZD1/P2I0jtOf6L0QYptnYpB9PYpQQhlepIBqYlRKKpswNUmMwb0CcLY+EhVjQR2SAiErPhpNTAm8G+jexoSAqEYVhuj2tGBhEAogtr9jmixTMiO3e+ou7W5zmTG0j0lyCln9ylTChICISt8fkdAh9+R1cZ41GWbpkaErAj1O3rr2Hlkn6x2aBsZGoC/pCVhZrL8UycaEQhZEepP9MbRsz0E09Bswe8+KEHm4Qo5uuYACYGQFSn8ibZ/VYnDP/AngXAHEgIhK2PjI2HQB/VwtRDL2gPlsq4ZSAiErAjxOxJCQ3ObrPELJARCdrj8jlZMu0fweeSMX6BdI0IR2PyOAODdgp/Q0GzhOYO88QskBEIx2PyO/pKWhN99UMJ5rEF/RzhyQFMjwuPMTDbgpcnxrN9rIH/8AgmBUAWrZyZi2/z7EBnq7/C5QaH4BZoaEaphZnI0Hk8yeMRDlYRAqApPxS/Q1IggQEIgCAAkBIIAQEIgCAAkBIIAQEIgCAAkBIIAQEIgCAAkBIIA4EOWZXtSbyoqSHTF/jzwJX33GSE0NTUB6Ki3QBDdaWpqgl6vZ/3eZ+oj2Gw21NTUoE+fPtBo1JFG0F7g8NKlSz5ds0HN98kwDJqamhAdHe1QoKY7PjMiaLVaxMTEeLobTtHpdKp7QORArffJNRLYocUyQYCEQBAASAiyEhgYiHXr1vl8PWhfuE+fWSwThDvQiEAQICEQBAASAkEAICEQBAASgmA2btyI8ePHIyQkBOHh4U7bLF++HGPGjEFgYCBSUlJ6fL9+/XpoNJoeP6GhoazXraqqwqJFixAfH4/g4GAkJCRg3bp1sFj4UyS6iqfuVei15YCEIBCLxYI5c+Zg6dKlrG0YhsFvf/tbPPPMM06//+Mf/4ja2lqHn8TERMyZM4f1nGfOnIHNZsP27dtx+vRpvPHGG3j77bexZs0at++JDU/dq9BrywJDiGL37t2MXq/nbLNu3Tpm9OjRvOcqLS1lADBfffWVqD789a9/ZeLj40Ud4wqevFch15YSGhE8yM6dOzFs2DBMmjRJ1HEmkwmRkfIlxJUDV+9VKUgIHqK1tRXvv/8+Fi1aJOq4CxcuYOvWrViyZIlMPZMeV+9VSXq1ENgWdF1/iouLZbn2vn370NTUhPT0dMHH1NTUYPr06ZgzZw5eeOEFUdfztntVGp9xw3aFl19+GfPmzeNsExcXJ8u1d+7ciSeffBJRUVGC2tfU1OCRRx6B0WjEO++8I/p63nSvnqBXC6Ffv37o16+f4tetrKxEXl4eDh48KKj95cuX8cgjj2DMmDHYvXs3Z4AJG95yr56iV0+NxFBdXY3S0lJUV1fDarWitLQUpaWl+OWXXzrbnD9/HqWlpairq8OtW7c623Tf8//HP/4Bg8GAGTNm9LhOUVERRowYgcuXLwPoGAmmTJmC2NhY/O1vf8O1a9dQV1eHuro6n7tXodeWBcX2p7ychQsXMugoFO/wk5eX19nm4YcfdtqmsrKys43VamViYmKYNWvWOL1OXl6ewzG7d+92ek45/+s8da9Cry0H5IZNEKCpEUEAICEQBAASAkEAICEQBAASAkEAICEQBAASAkEAICEQBAASAkEAICEQBAASAkEAICEQBADg/wMrhyw7l9+I6AAAAABJRU5ErkJggg==",
      "text/plain": [
       "<Figure size 640x480 with 1 Axes>"
      ]
     },
     "metadata": {},
     "output_type": "display_data"
    }
   ],
   "source": [
    "healthCare.plot()"
   ]
  },
  {
   "cell_type": "markdown",
   "id": "28037720-e13a-4bd9-9465-944a8e24974e",
   "metadata": {},
   "source": [
    "```healthCare.to_file('./data/health_sd/spatial-joins/healthCare.shp')```"
   ]
  },
  {
   "cell_type": "markdown",
   "id": "1ed6dbe4-30a6-47b4-be59-3a054be21b09",
   "metadata": {},
   "source": [
    "### SD Transit"
   ]
  },
  {
   "cell_type": "markdown",
   "id": "00216258-1ed4-4080-956b-fc62c5c567ba",
   "metadata": {},
   "source": [
    "6213 entries\n",
    "~~~\n",
    "transitPath = './data/sd_transit/transit_stops_datasd.geojson'\n",
    "\n",
    "transit = gpd.read_file(transitPath, geometry='geometry')\n",
    "\n",
    "set_crs(transit)\n",
    "\n",
    "transit.stop_agncy.unique()\n",
    "\n",
    "busStops = transit[transit['stop_agncy'] == 'MTS']\n",
    "\n",
    "busStops.to_file('./data/sd_transit/busSt/busStops.geojson')\n",
    "~~~"
   ]
  },
  {
   "cell_type": "code",
<<<<<<< HEAD
   "execution_count": 53,
=======
   "execution_count": 52,
>>>>>>> upstream/main
   "id": "42b241e0-ef5b-429f-9cbf-abf605552a8e",
   "metadata": {},
   "outputs": [],
   "source": [
    "sdbPath = './data/sd_transit/busSt/busStops.geojson'"
   ]
  },
  {
   "cell_type": "code",
<<<<<<< HEAD
   "execution_count": 54,
=======
   "execution_count": 53,
>>>>>>> upstream/main
   "id": "162ca109-fb7b-4554-bf50-3257218c3384",
   "metadata": {},
   "outputs": [],
   "source": [
    "sdb = gpd.read_file(sdbPath, geometry='geometry')"
   ]
  },
  {
   "cell_type": "code",
<<<<<<< HEAD
   "execution_count": 55,
=======
   "execution_count": 54,
>>>>>>> upstream/main
   "id": "f05eab19-66cf-498e-ae83-c978e22d4b8a",
   "metadata": {},
   "outputs": [],
   "source": [
    "csdGeom = csd.geometry\n",
    "\n",
    "geomGdf = gpd.GeoDataFrame(geometry=csdGeom)"
   ]
  },
  {
   "cell_type": "code",
<<<<<<< HEAD
   "execution_count": 56,
=======
   "execution_count": 55,
>>>>>>> upstream/main
   "id": "885c3539-f5eb-484c-b1c6-5e52d2e39654",
   "metadata": {},
   "outputs": [
    {
     "data": {
      "text/html": [
       "<div>\n",
       "<style scoped>\n",
       "    .dataframe tbody tr th:only-of-type {\n",
       "        vertical-align: middle;\n",
       "    }\n",
       "\n",
       "    .dataframe tbody tr th {\n",
       "        vertical-align: top;\n",
       "    }\n",
       "\n",
       "    .dataframe thead th {\n",
       "        text-align: right;\n",
       "    }\n",
       "</style>\n",
       "<table border=\"1\" class=\"dataframe\">\n",
       "  <thead>\n",
       "    <tr style=\"text-align: right;\">\n",
       "      <th></th>\n",
       "      <th>objectid</th>\n",
       "      <th>stop_uid</th>\n",
       "      <th>stop_id</th>\n",
       "      <th>stop_code</th>\n",
       "      <th>stop_name</th>\n",
       "      <th>stop_lat</th>\n",
       "      <th>stop_lon</th>\n",
       "      <th>stop_agncy</th>\n",
       "      <th>wheelchair</th>\n",
       "      <th>intersec</th>\n",
       "      <th>stop_place</th>\n",
       "      <th>parent_sta</th>\n",
       "      <th>lat</th>\n",
       "      <th>lng</th>\n",
       "      <th>geometry</th>\n",
       "    </tr>\n",
       "  </thead>\n",
       "  <tbody>\n",
       "    <tr>\n",
       "      <th>0</th>\n",
       "      <td>1</td>\n",
       "      <td>MTS_11tbro</td>\n",
       "      <td>11tbro</td>\n",
       "      <td>0</td>\n",
       "      <td>11th Ave &amp; Broadway</td>\n",
       "      <td>32.716268</td>\n",
       "      <td>-117.154649</td>\n",
       "      <td>MTS</td>\n",
       "      <td>0</td>\n",
       "      <td>None</td>\n",
       "      <td>None</td>\n",
       "      <td>None</td>\n",
       "      <td>32.716263</td>\n",
       "      <td>-117.154637</td>\n",
       "      <td>POINT (-117.15464 32.71626)</td>\n",
       "    </tr>\n",
       "    <tr>\n",
       "      <th>1</th>\n",
       "      <td>25</td>\n",
       "      <td>MTS_ccoS</td>\n",
       "      <td>ccoS</td>\n",
       "      <td>0</td>\n",
       "      <td>City College Station</td>\n",
       "      <td>32.716307</td>\n",
       "      <td>-117.154235</td>\n",
       "      <td>MTS</td>\n",
       "      <td>0</td>\n",
       "      <td>None</td>\n",
       "      <td>None</td>\n",
       "      <td>None</td>\n",
       "      <td>32.716302</td>\n",
       "      <td>-117.154223</td>\n",
       "      <td>POINT (-117.15422 32.71630)</td>\n",
       "    </tr>\n",
       "    <tr>\n",
       "      <th>2</th>\n",
       "      <td>26</td>\n",
       "      <td>MTS_citcol</td>\n",
       "      <td>citcol</td>\n",
       "      <td>0</td>\n",
       "      <td>City College Trolley Station</td>\n",
       "      <td>32.715820</td>\n",
       "      <td>-117.153939</td>\n",
       "      <td>MTS</td>\n",
       "      <td>0</td>\n",
       "      <td>None</td>\n",
       "      <td>None</td>\n",
       "      <td>None</td>\n",
       "      <td>32.715815</td>\n",
       "      <td>-117.153927</td>\n",
       "      <td>POINT (-117.15393 32.71581)</td>\n",
       "    </tr>\n",
       "    <tr>\n",
       "      <th>3</th>\n",
       "      <td>77</td>\n",
       "      <td>MTS_marpar</td>\n",
       "      <td>marpar</td>\n",
       "      <td>0</td>\n",
       "      <td>Park &amp; Market Trolley Station</td>\n",
       "      <td>32.711537</td>\n",
       "      <td>-117.153993</td>\n",
       "      <td>MTS</td>\n",
       "      <td>0</td>\n",
       "      <td>None</td>\n",
       "      <td>None</td>\n",
       "      <td>None</td>\n",
       "      <td>32.711532</td>\n",
       "      <td>-117.153981</td>\n",
       "      <td>POINT (-117.15398 32.71153)</td>\n",
       "    </tr>\n",
       "    <tr>\n",
       "      <th>4</th>\n",
       "      <td>104</td>\n",
       "      <td>MTS_12049</td>\n",
       "      <td>12049</td>\n",
       "      <td>12049</td>\n",
       "      <td>10th Av &amp; A St</td>\n",
       "      <td>32.718577</td>\n",
       "      <td>-117.155691</td>\n",
       "      <td>MTS</td>\n",
       "      <td>2</td>\n",
       "      <td>F-S/B</td>\n",
       "      <td>10thb</td>\n",
       "      <td>None</td>\n",
       "      <td>32.718573</td>\n",
       "      <td>-117.155679</td>\n",
       "      <td>POINT (-117.15568 32.71857)</td>\n",
       "    </tr>\n",
       "  </tbody>\n",
       "</table>\n",
       "</div>"
      ],
      "text/plain": [
       "   objectid    stop_uid stop_id  stop_code                      stop_name  \\\n",
       "0         1  MTS_11tbro  11tbro          0            11th Ave & Broadway   \n",
       "1        25    MTS_ccoS    ccoS          0           City College Station   \n",
       "2        26  MTS_citcol  citcol          0   City College Trolley Station   \n",
       "3        77  MTS_marpar  marpar          0  Park & Market Trolley Station   \n",
       "4       104   MTS_12049   12049      12049                 10th Av & A St   \n",
       "\n",
       "    stop_lat    stop_lon stop_agncy  wheelchair intersec stop_place  \\\n",
       "0  32.716268 -117.154649        MTS           0     None       None   \n",
       "1  32.716307 -117.154235        MTS           0     None       None   \n",
       "2  32.715820 -117.153939        MTS           0     None       None   \n",
       "3  32.711537 -117.153993        MTS           0     None       None   \n",
       "4  32.718577 -117.155691        MTS           2    F-S/B      10thb   \n",
       "\n",
       "  parent_sta        lat         lng                     geometry  \n",
       "0       None  32.716263 -117.154637  POINT (-117.15464 32.71626)  \n",
       "1       None  32.716302 -117.154223  POINT (-117.15422 32.71630)  \n",
       "2       None  32.715815 -117.153927  POINT (-117.15393 32.71581)  \n",
       "3       None  32.711532 -117.153981  POINT (-117.15398 32.71153)  \n",
       "4       None  32.718573 -117.155679  POINT (-117.15568 32.71857)  "
      ]
     },
<<<<<<< HEAD
     "execution_count": 56,
=======
     "execution_count": 55,
>>>>>>> upstream/main
     "metadata": {},
     "output_type": "execute_result"
    }
   ],
   "source": [
    "busOverlay = gpd.overlay(sdb, geomGdf, how='intersection')\n",
    "\n",
    "busOverlay.head()"
   ]
  },
  {
   "cell_type": "code",
<<<<<<< HEAD
   "execution_count": 57,
=======
   "execution_count": 56,
>>>>>>> upstream/main
   "id": "452fa8e5-371b-4bfd-b396-030b825cecce",
   "metadata": {},
   "outputs": [
    {
     "name": "stdout",
     "output_type": "stream",
     "text": [
      "Duplicate column names found:\n",
      "- geometry\n"
     ]
    }
   ],
   "source": [
    "duplicate_columns(busOverlay, csd)"
   ]
  },
  {
   "cell_type": "code",
<<<<<<< HEAD
   "execution_count": 58,
=======
   "execution_count": 57,
>>>>>>> upstream/main
   "id": "4f3e0b74-9c08-40aa-8948-ce492f79f0a1",
   "metadata": {},
   "outputs": [
    {
     "data": {
      "text/html": [
       "<div>\n",
       "<style scoped>\n",
       "    .dataframe tbody tr th:only-of-type {\n",
       "        vertical-align: middle;\n",
       "    }\n",
       "\n",
       "    .dataframe tbody tr th {\n",
       "        vertical-align: top;\n",
       "    }\n",
       "\n",
       "    .dataframe thead th {\n",
       "        text-align: right;\n",
       "    }\n",
       "</style>\n",
       "<table border=\"1\" class=\"dataframe\">\n",
       "  <thead>\n",
       "    <tr style=\"text-align: right;\">\n",
       "      <th></th>\n",
       "      <th>objectid</th>\n",
       "      <th>stop_uid</th>\n",
       "      <th>stop_id</th>\n",
       "      <th>stop_code</th>\n",
       "      <th>stop_name</th>\n",
       "      <th>stop_lat</th>\n",
       "      <th>stop_lon</th>\n",
       "      <th>stop_agncy</th>\n",
       "      <th>wheelchair</th>\n",
       "      <th>intersec</th>\n",
       "      <th>...</th>\n",
       "      <th>ALAND</th>\n",
       "      <th>AWATER</th>\n",
       "      <th>n_total_pop</th>\n",
       "      <th>p_poverty_rate</th>\n",
       "      <th>median_household_income</th>\n",
       "      <th>per_capita_income</th>\n",
       "      <th>p_nonhisp_white_persons</th>\n",
       "      <th>p_nonhisp_black_persons</th>\n",
       "      <th>p_hispanic_persons</th>\n",
       "      <th>p_asian_persons</th>\n",
       "    </tr>\n",
       "  </thead>\n",
       "  <tbody>\n",
       "    <tr>\n",
       "      <th>0</th>\n",
       "      <td>1</td>\n",
       "      <td>MTS_11tbro</td>\n",
       "      <td>11tbro</td>\n",
       "      <td>0</td>\n",
       "      <td>11th Ave &amp; Broadway</td>\n",
       "      <td>32.716268</td>\n",
       "      <td>-117.154649</td>\n",
       "      <td>MTS</td>\n",
       "      <td>0</td>\n",
       "      <td>None</td>\n",
       "      <td>...</td>\n",
       "      <td>844031824.0</td>\n",
       "      <td>120532755.0</td>\n",
       "      <td>4706.0</td>\n",
       "      <td>27.921802</td>\n",
       "      <td>53082.0</td>\n",
       "      <td>51972.0</td>\n",
       "      <td>48.491288</td>\n",
       "      <td>12.643434</td>\n",
       "      <td>26.583085</td>\n",
       "      <td>7.033574</td>\n",
       "    </tr>\n",
       "    <tr>\n",
       "      <th>1</th>\n",
       "      <td>25</td>\n",
       "      <td>MTS_ccoS</td>\n",
       "      <td>ccoS</td>\n",
       "      <td>0</td>\n",
       "      <td>City College Station</td>\n",
       "      <td>32.716307</td>\n",
       "      <td>-117.154235</td>\n",
       "      <td>MTS</td>\n",
       "      <td>0</td>\n",
       "      <td>None</td>\n",
       "      <td>...</td>\n",
       "      <td>844031824.0</td>\n",
       "      <td>120532755.0</td>\n",
       "      <td>4706.0</td>\n",
       "      <td>27.921802</td>\n",
       "      <td>53082.0</td>\n",
       "      <td>51972.0</td>\n",
       "      <td>48.491288</td>\n",
       "      <td>12.643434</td>\n",
       "      <td>26.583085</td>\n",
       "      <td>7.033574</td>\n",
       "    </tr>\n",
       "    <tr>\n",
       "      <th>2</th>\n",
       "      <td>26</td>\n",
       "      <td>MTS_citcol</td>\n",
       "      <td>citcol</td>\n",
       "      <td>0</td>\n",
       "      <td>City College Trolley Station</td>\n",
       "      <td>32.715820</td>\n",
       "      <td>-117.153939</td>\n",
       "      <td>MTS</td>\n",
       "      <td>0</td>\n",
       "      <td>None</td>\n",
       "      <td>...</td>\n",
       "      <td>844031824.0</td>\n",
       "      <td>120532755.0</td>\n",
       "      <td>4706.0</td>\n",
       "      <td>27.921802</td>\n",
       "      <td>53082.0</td>\n",
       "      <td>51972.0</td>\n",
       "      <td>48.491288</td>\n",
       "      <td>12.643434</td>\n",
       "      <td>26.583085</td>\n",
       "      <td>7.033574</td>\n",
       "    </tr>\n",
       "    <tr>\n",
       "      <th>3</th>\n",
       "      <td>77</td>\n",
       "      <td>MTS_marpar</td>\n",
       "      <td>marpar</td>\n",
       "      <td>0</td>\n",
       "      <td>Park &amp; Market Trolley Station</td>\n",
       "      <td>32.711537</td>\n",
       "      <td>-117.153993</td>\n",
       "      <td>MTS</td>\n",
       "      <td>0</td>\n",
       "      <td>None</td>\n",
       "      <td>...</td>\n",
       "      <td>844031824.0</td>\n",
       "      <td>120532755.0</td>\n",
       "      <td>4706.0</td>\n",
       "      <td>27.921802</td>\n",
       "      <td>53082.0</td>\n",
       "      <td>51972.0</td>\n",
       "      <td>48.491288</td>\n",
       "      <td>12.643434</td>\n",
       "      <td>26.583085</td>\n",
       "      <td>7.033574</td>\n",
       "    </tr>\n",
       "    <tr>\n",
       "      <th>4</th>\n",
       "      <td>104</td>\n",
       "      <td>MTS_12049</td>\n",
       "      <td>12049</td>\n",
       "      <td>12049</td>\n",
       "      <td>10th Av &amp; A St</td>\n",
       "      <td>32.718577</td>\n",
       "      <td>-117.155691</td>\n",
       "      <td>MTS</td>\n",
       "      <td>2</td>\n",
       "      <td>F-S/B</td>\n",
       "      <td>...</td>\n",
       "      <td>844031824.0</td>\n",
       "      <td>120532755.0</td>\n",
       "      <td>4706.0</td>\n",
       "      <td>27.921802</td>\n",
       "      <td>53082.0</td>\n",
       "      <td>51972.0</td>\n",
       "      <td>48.491288</td>\n",
       "      <td>12.643434</td>\n",
       "      <td>26.583085</td>\n",
       "      <td>7.033574</td>\n",
       "    </tr>\n",
       "  </tbody>\n",
       "</table>\n",
       "<p>5 rows × 35 columns</p>\n",
       "</div>"
      ],
      "text/plain": [
       "   objectid    stop_uid stop_id  stop_code                      stop_name  \\\n",
       "0         1  MTS_11tbro  11tbro          0            11th Ave & Broadway   \n",
       "1        25    MTS_ccoS    ccoS          0           City College Station   \n",
       "2        26  MTS_citcol  citcol          0   City College Trolley Station   \n",
       "3        77  MTS_marpar  marpar          0  Park & Market Trolley Station   \n",
       "4       104   MTS_12049   12049      12049                 10th Av & A St   \n",
       "\n",
       "    stop_lat    stop_lon stop_agncy  wheelchair intersec  ...        ALAND  \\\n",
       "0  32.716268 -117.154649        MTS           0     None  ...  844031824.0   \n",
       "1  32.716307 -117.154235        MTS           0     None  ...  844031824.0   \n",
       "2  32.715820 -117.153939        MTS           0     None  ...  844031824.0   \n",
       "3  32.711537 -117.153993        MTS           0     None  ...  844031824.0   \n",
       "4  32.718577 -117.155691        MTS           2    F-S/B  ...  844031824.0   \n",
       "\n",
       "        AWATER  n_total_pop  p_poverty_rate median_household_income  \\\n",
       "0  120532755.0       4706.0       27.921802                 53082.0   \n",
       "1  120532755.0       4706.0       27.921802                 53082.0   \n",
       "2  120532755.0       4706.0       27.921802                 53082.0   \n",
       "3  120532755.0       4706.0       27.921802                 53082.0   \n",
       "4  120532755.0       4706.0       27.921802                 53082.0   \n",
       "\n",
       "  per_capita_income p_nonhisp_white_persons p_nonhisp_black_persons  \\\n",
       "0           51972.0               48.491288               12.643434   \n",
       "1           51972.0               48.491288               12.643434   \n",
       "2           51972.0               48.491288               12.643434   \n",
       "3           51972.0               48.491288               12.643434   \n",
       "4           51972.0               48.491288               12.643434   \n",
       "\n",
       "  p_hispanic_persons p_asian_persons  \n",
       "0          26.583085        7.033574  \n",
       "1          26.583085        7.033574  \n",
       "2          26.583085        7.033574  \n",
       "3          26.583085        7.033574  \n",
       "4          26.583085        7.033574  \n",
       "\n",
       "[5 rows x 35 columns]"
      ]
     },
<<<<<<< HEAD
     "execution_count": 58,
=======
     "execution_count": 57,
>>>>>>> upstream/main
     "metadata": {},
     "output_type": "execute_result"
    }
   ],
   "source": [
    "busJoin = gpd.sjoin(busOverlay, csd , how='inner', predicate='within').drop(columns=['index_right'])\n",
    "\n",
    "busJoin.head()"
   ]
  },
  {
   "cell_type": "code",
<<<<<<< HEAD
   "execution_count": 59,
=======
   "execution_count": 58,
>>>>>>> upstream/main
   "id": "76485809-a510-4e57-99b4-7bed61559c40",
   "metadata": {},
   "outputs": [
    {
     "data": {
      "text/plain": [
       "<Axes: >"
      ]
     },
<<<<<<< HEAD
     "execution_count": 59,
=======
     "execution_count": 58,
>>>>>>> upstream/main
     "metadata": {},
     "output_type": "execute_result"
    },
    {
     "data": {
      "image/png": "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",
      "text/plain": [
       "<Figure size 640x480 with 1 Axes>"
      ]
     },
     "metadata": {},
     "output_type": "display_data"
    }
   ],
   "source": [
    "busJoin.plot()"
   ]
  },
  {
   "cell_type": "markdown",
   "id": "d78f8a85-59ee-46e1-bea8-7a6d4f38f33b",
   "metadata": {},
   "source": [
    "```busJoin.to_file('./data/sd_transit/spatial-joins/busJoin.shp')```"
   ]
  },
  {
   "cell_type": "markdown",
   "id": "3ebc0c39-f6c1-4519-ba69-931d4f2978b5",
   "metadata": {},
   "source": [
    "### SD Grocery Stores"
   ]
  },
  {
   "cell_type": "markdown",
   "id": "f6093848-7037-4077-a097-f2658c355d11",
   "metadata": {},
   "source": [
    "101813 entires\n",
    "~~~\n",
    "import pandas as pd\n",
    "\n",
    "businessPath = './data/sd_grocery/business_sites.csv'\n",
    "\n",
    "business = pd.read_csv(businessPath)\n",
    "\n",
    "from shapely import wkt\n",
    "\n",
    "business['geometry'] = business['geometry'].apply(wkt.loads)\n",
    "\n",
    "businessGeom = gpd.GeoDataFrame(business, geometry='geometry')\n",
    "\n",
    "set_crs(businessGeom)\n",
    "\n",
    "cityBusiness = businessGeom[(businessGeom['state'] == 'CA') & (businessGeom['city'] == 'SAN DIEGO')]\n",
    "\n",
    "cityBusiness.to_file('./data/sd_grocery/cityBus/cityBusiness.geojson')\n",
    "~~~"
   ]
  },
  {
   "cell_type": "code",
<<<<<<< HEAD
   "execution_count": 92,
=======
   "execution_count": 59,
>>>>>>> upstream/main
   "id": "d7798eec-5739-4f9b-98d6-2dd127cf5f1f",
   "metadata": {},
   "outputs": [],
   "source": [
    "cbPath = './data/sd_grocery/cityBus/cityBusiness.geojson'"
   ]
  },
  {
   "cell_type": "code",
<<<<<<< HEAD
   "execution_count": 61,
=======
   "execution_count": 60,
>>>>>>> upstream/main
   "id": "503af505-2101-4bc3-8218-639c7eb42f36",
   "metadata": {},
   "outputs": [],
   "source": [
    "cb = gpd.read_file(cbPath, geometry='geometry')"
   ]
  },
  {
   "cell_type": "code",
<<<<<<< HEAD
   "execution_count": 62,
=======
   "execution_count": 61,
>>>>>>> upstream/main
   "id": "601c0b9e-92a0-4488-92ad-7f9362edf08b",
   "metadata": {},
   "outputs": [
    {
     "name": "stdout",
     "output_type": "stream",
     "text": [
      "Duplicate column names found:\n",
      "- geometry\n"
     ]
    }
   ],
   "source": [
    "duplicate_columns(cb, csd)"
   ]
  },
  {
   "cell_type": "code",
<<<<<<< HEAD
   "execution_count": 63,
=======
   "execution_count": 62,
>>>>>>> upstream/main
   "id": "cf416f5f-4682-4e48-9e24-c80a29b9f8c9",
   "metadata": {
    "scrolled": true
   },
   "outputs": [
    {
     "data": {
      "text/html": [
       "<div>\n",
       "<style scoped>\n",
       "    .dataframe tbody tr th:only-of-type {\n",
       "        vertical-align: middle;\n",
       "    }\n",
       "\n",
       "    .dataframe tbody tr th {\n",
       "        vertical-align: top;\n",
       "    }\n",
       "\n",
       "    .dataframe thead th {\n",
       "        text-align: right;\n",
       "    }\n",
       "</style>\n",
       "<table border=\"1\" class=\"dataframe\">\n",
       "  <thead>\n",
       "    <tr style=\"text-align: right;\">\n",
       "      <th></th>\n",
       "      <th>id</th>\n",
       "      <th>apn</th>\n",
       "      <th>bcccode</th>\n",
       "      <th>ownnam1</th>\n",
       "      <th>ownnam2</th>\n",
       "      <th>ownnam3</th>\n",
       "      <th>careof</th>\n",
       "      <th>strnum</th>\n",
       "      <th>strfra</th>\n",
       "      <th>strdir</th>\n",
       "      <th>...</th>\n",
       "      <th>ALAND</th>\n",
       "      <th>AWATER</th>\n",
       "      <th>n_total_pop</th>\n",
       "      <th>p_poverty_rate</th>\n",
       "      <th>median_household_income</th>\n",
       "      <th>per_capita_income</th>\n",
       "      <th>p_nonhisp_white_persons</th>\n",
       "      <th>p_nonhisp_black_persons</th>\n",
       "      <th>p_hispanic_persons</th>\n",
       "      <th>p_asian_persons</th>\n",
       "    </tr>\n",
       "  </thead>\n",
       "  <tbody>\n",
       "    <tr>\n",
       "      <th>209</th>\n",
       "      <td>6511</td>\n",
       "      <td>3505911300</td>\n",
       "      <td>44</td>\n",
       "      <td>SOCIAL SERVICE LEAGUE OF</td>\n",
       "      <td>LA JOLLA</td>\n",
       "      <td>DBA LEAGUE HOUSE</td>\n",
       "      <td>SEE 6836620000</td>\n",
       "      <td>7457.0</td>\n",
       "      <td>None</td>\n",
       "      <td>None</td>\n",
       "      <td>...</td>\n",
       "      <td>844031824.0</td>\n",
       "      <td>120532755.0</td>\n",
       "      <td>3645.0</td>\n",
       "      <td>6.314613</td>\n",
       "      <td>89058.0</td>\n",
       "      <td>77890.0</td>\n",
       "      <td>87.379973</td>\n",
       "      <td>0.329218</td>\n",
       "      <td>7.105624</td>\n",
       "      <td>3.676269</td>\n",
       "    </tr>\n",
       "    <tr>\n",
       "      <th>214</th>\n",
       "      <td>6659</td>\n",
       "      <td>3505911100</td>\n",
       "      <td>298</td>\n",
       "      <td>20 20 EYEGLASS REPAIR</td>\n",
       "      <td>None</td>\n",
       "      <td>None</td>\n",
       "      <td>None</td>\n",
       "      <td>7472.0</td>\n",
       "      <td>None</td>\n",
       "      <td>None</td>\n",
       "      <td>...</td>\n",
       "      <td>844031824.0</td>\n",
       "      <td>120532755.0</td>\n",
       "      <td>3645.0</td>\n",
       "      <td>6.314613</td>\n",
       "      <td>89058.0</td>\n",
       "      <td>77890.0</td>\n",
       "      <td>87.379973</td>\n",
       "      <td>0.329218</td>\n",
       "      <td>7.105624</td>\n",
       "      <td>3.676269</td>\n",
       "    </tr>\n",
       "    <tr>\n",
       "      <th>215</th>\n",
       "      <td>6678</td>\n",
       "      <td>3513813400</td>\n",
       "      <td>261</td>\n",
       "      <td>P A D PROPERTIES GROUP LP</td>\n",
       "      <td>None</td>\n",
       "      <td>None</td>\n",
       "      <td>None</td>\n",
       "      <td>7964.0</td>\n",
       "      <td>None</td>\n",
       "      <td>None</td>\n",
       "      <td>...</td>\n",
       "      <td>844031824.0</td>\n",
       "      <td>120532755.0</td>\n",
       "      <td>3645.0</td>\n",
       "      <td>6.314613</td>\n",
       "      <td>89058.0</td>\n",
       "      <td>77890.0</td>\n",
       "      <td>87.379973</td>\n",
       "      <td>0.329218</td>\n",
       "      <td>7.105624</td>\n",
       "      <td>3.676269</td>\n",
       "    </tr>\n",
       "    <tr>\n",
       "      <th>222</th>\n",
       "      <td>6762</td>\n",
       "      <td>3513833500</td>\n",
       "      <td>261</td>\n",
       "      <td>BROWAR MATHEW S&amp;NANCY A TRS</td>\n",
       "      <td>None</td>\n",
       "      <td>None</td>\n",
       "      <td>C/O SAN DIEGO PROPERTY MGMT</td>\n",
       "      <td>0.0</td>\n",
       "      <td>None</td>\n",
       "      <td>None</td>\n",
       "      <td>...</td>\n",
       "      <td>844031824.0</td>\n",
       "      <td>120532755.0</td>\n",
       "      <td>3645.0</td>\n",
       "      <td>6.314613</td>\n",
       "      <td>89058.0</td>\n",
       "      <td>77890.0</td>\n",
       "      <td>87.379973</td>\n",
       "      <td>0.329218</td>\n",
       "      <td>7.105624</td>\n",
       "      <td>3.676269</td>\n",
       "    </tr>\n",
       "    <tr>\n",
       "      <th>223</th>\n",
       "      <td>6771</td>\n",
       "      <td>3505921900</td>\n",
       "      <td>37</td>\n",
       "      <td>BIKRAM YOGA</td>\n",
       "      <td>None</td>\n",
       "      <td>None</td>\n",
       "      <td>None</td>\n",
       "      <td>565.0</td>\n",
       "      <td>None</td>\n",
       "      <td>None</td>\n",
       "      <td>...</td>\n",
       "      <td>844031824.0</td>\n",
       "      <td>120532755.0</td>\n",
       "      <td>3645.0</td>\n",
       "      <td>6.314613</td>\n",
       "      <td>89058.0</td>\n",
       "      <td>77890.0</td>\n",
       "      <td>87.379973</td>\n",
       "      <td>0.329218</td>\n",
       "      <td>7.105624</td>\n",
       "      <td>3.676269</td>\n",
       "    </tr>\n",
       "  </tbody>\n",
       "</table>\n",
       "<p>5 rows × 51 columns</p>\n",
       "</div>"
      ],
      "text/plain": [
       "       id         apn  bcccode                      ownnam1   ownnam2  \\\n",
       "209  6511  3505911300       44     SOCIAL SERVICE LEAGUE OF  LA JOLLA   \n",
       "214  6659  3505911100      298        20 20 EYEGLASS REPAIR      None   \n",
       "215  6678  3513813400      261    P A D PROPERTIES GROUP LP      None   \n",
       "222  6762  3513833500      261  BROWAR MATHEW S&NANCY A TRS      None   \n",
       "223  6771  3505921900       37                  BIKRAM YOGA      None   \n",
       "\n",
       "              ownnam3                       careof  strnum strfra strdir  ...  \\\n",
       "209  DBA LEAGUE HOUSE               SEE 6836620000  7457.0   None   None  ...   \n",
       "214              None                         None  7472.0   None   None  ...   \n",
       "215              None                         None  7964.0   None   None  ...   \n",
       "222              None  C/O SAN DIEGO PROPERTY MGMT     0.0   None   None  ...   \n",
       "223              None                         None   565.0   None   None  ...   \n",
       "\n",
       "           ALAND       AWATER n_total_pop p_poverty_rate  \\\n",
       "209  844031824.0  120532755.0      3645.0       6.314613   \n",
       "214  844031824.0  120532755.0      3645.0       6.314613   \n",
       "215  844031824.0  120532755.0      3645.0       6.314613   \n",
       "222  844031824.0  120532755.0      3645.0       6.314613   \n",
       "223  844031824.0  120532755.0      3645.0       6.314613   \n",
       "\n",
       "    median_household_income per_capita_income  p_nonhisp_white_persons  \\\n",
       "209                 89058.0           77890.0                87.379973   \n",
       "214                 89058.0           77890.0                87.379973   \n",
       "215                 89058.0           77890.0                87.379973   \n",
       "222                 89058.0           77890.0                87.379973   \n",
       "223                 89058.0           77890.0                87.379973   \n",
       "\n",
       "     p_nonhisp_black_persons p_hispanic_persons  p_asian_persons  \n",
       "209                 0.329218           7.105624         3.676269  \n",
       "214                 0.329218           7.105624         3.676269  \n",
       "215                 0.329218           7.105624         3.676269  \n",
       "222                 0.329218           7.105624         3.676269  \n",
       "223                 0.329218           7.105624         3.676269  \n",
       "\n",
       "[5 rows x 51 columns]"
      ]
     },
<<<<<<< HEAD
     "execution_count": 63,
=======
     "execution_count": 62,
>>>>>>> upstream/main
     "metadata": {},
     "output_type": "execute_result"
    }
   ],
   "source": [
    "sdBusiness = gpd.sjoin(cb, csd, how='inner', predicate='within')\n",
    "\n",
    "sdBusiness.head()"
   ]
  },
  {
   "cell_type": "code",
<<<<<<< HEAD
   "execution_count": 64,
=======
   "execution_count": 63,
>>>>>>> upstream/main
   "id": "8f1ed819-2426-42fe-8aa0-b7fc6f429635",
   "metadata": {},
   "outputs": [
    {
     "data": {
      "text/html": [
       "<div>\n",
       "<style scoped>\n",
       "    .dataframe tbody tr th:only-of-type {\n",
       "        vertical-align: middle;\n",
       "    }\n",
       "\n",
       "    .dataframe tbody tr th {\n",
       "        vertical-align: top;\n",
       "    }\n",
       "\n",
       "    .dataframe thead th {\n",
       "        text-align: right;\n",
       "    }\n",
       "</style>\n",
       "<table border=\"1\" class=\"dataframe\">\n",
       "  <thead>\n",
       "    <tr style=\"text-align: right;\">\n",
       "      <th></th>\n",
       "      <th>id</th>\n",
       "      <th>apn</th>\n",
       "      <th>bcccode</th>\n",
       "      <th>ownnam1</th>\n",
       "      <th>ownnam2</th>\n",
       "      <th>ownnam3</th>\n",
       "      <th>careof</th>\n",
       "      <th>strnum</th>\n",
       "      <th>strfra</th>\n",
       "      <th>strdir</th>\n",
       "      <th>...</th>\n",
       "      <th>ALAND</th>\n",
       "      <th>AWATER</th>\n",
       "      <th>n_total_pop</th>\n",
       "      <th>p_poverty_rate</th>\n",
       "      <th>median_household_income</th>\n",
       "      <th>per_capita_income</th>\n",
       "      <th>p_nonhisp_white_persons</th>\n",
       "      <th>p_nonhisp_black_persons</th>\n",
       "      <th>p_hispanic_persons</th>\n",
       "      <th>p_asian_persons</th>\n",
       "    </tr>\n",
       "  </thead>\n",
       "  <tbody>\n",
       "    <tr>\n",
       "      <th>1221</th>\n",
       "      <td>13435</td>\n",
       "      <td>4482722900</td>\n",
       "      <td>445</td>\n",
       "      <td>ELENI INC</td>\n",
       "      <td>DBA OLIVE TREE MARKET PLACE</td>\n",
       "      <td>None</td>\n",
       "      <td>None</td>\n",
       "      <td>4805.0</td>\n",
       "      <td>None</td>\n",
       "      <td>None</td>\n",
       "      <td>...</td>\n",
       "      <td>844031824.0</td>\n",
       "      <td>120532755.0</td>\n",
       "      <td>3525.0</td>\n",
       "      <td>12.585227</td>\n",
       "      <td>94847.0</td>\n",
       "      <td>57296.0</td>\n",
       "      <td>85.219858</td>\n",
       "      <td>0.000000</td>\n",
       "      <td>10.156028</td>\n",
       "      <td>1.049645</td>\n",
       "    </tr>\n",
       "    <tr>\n",
       "      <th>776</th>\n",
       "      <td>12244</td>\n",
       "      <td>4235820900</td>\n",
       "      <td>445</td>\n",
       "      <td>IBRAHIM HABIB&amp;AMEL</td>\n",
       "      <td>DBA LITTLE SAMS MARKET</td>\n",
       "      <td>None</td>\n",
       "      <td>None</td>\n",
       "      <td>3756.0</td>\n",
       "      <td>None</td>\n",
       "      <td>None</td>\n",
       "      <td>...</td>\n",
       "      <td>844031824.0</td>\n",
       "      <td>120532755.0</td>\n",
       "      <td>2350.0</td>\n",
       "      <td>12.468085</td>\n",
       "      <td>78144.0</td>\n",
       "      <td>56947.0</td>\n",
       "      <td>90.723404</td>\n",
       "      <td>4.042553</td>\n",
       "      <td>0.808511</td>\n",
       "      <td>2.297872</td>\n",
       "    </tr>\n",
       "    <tr>\n",
       "      <th>1021</th>\n",
       "      <td>12942</td>\n",
       "      <td>4236641100</td>\n",
       "      <td>445</td>\n",
       "      <td>MAKDESI MARY</td>\n",
       "      <td>DBA COAST MARKET</td>\n",
       "      <td>None</td>\n",
       "      <td>None</td>\n",
       "      <td>3206.0</td>\n",
       "      <td>None</td>\n",
       "      <td>None</td>\n",
       "      <td>...</td>\n",
       "      <td>844031824.0</td>\n",
       "      <td>120532755.0</td>\n",
       "      <td>1719.0</td>\n",
       "      <td>5.468296</td>\n",
       "      <td>97843.0</td>\n",
       "      <td>66516.0</td>\n",
       "      <td>63.525305</td>\n",
       "      <td>9.831297</td>\n",
       "      <td>20.535195</td>\n",
       "      <td>4.072135</td>\n",
       "    </tr>\n",
       "    <tr>\n",
       "      <th>1079</th>\n",
       "      <td>13072</td>\n",
       "      <td>4237150200</td>\n",
       "      <td>445</td>\n",
       "      <td>YOUSSIF JOSEPH</td>\n",
       "      <td>DBA MISSION MARKET</td>\n",
       "      <td>None</td>\n",
       "      <td>None</td>\n",
       "      <td>2885.0</td>\n",
       "      <td>None</td>\n",
       "      <td>None</td>\n",
       "      <td>...</td>\n",
       "      <td>844031824.0</td>\n",
       "      <td>120532755.0</td>\n",
       "      <td>1719.0</td>\n",
       "      <td>5.468296</td>\n",
       "      <td>97843.0</td>\n",
       "      <td>66516.0</td>\n",
       "      <td>63.525305</td>\n",
       "      <td>9.831297</td>\n",
       "      <td>20.535195</td>\n",
       "      <td>4.072135</td>\n",
       "    </tr>\n",
       "    <tr>\n",
       "      <th>1035</th>\n",
       "      <td>12963</td>\n",
       "      <td>4480923700</td>\n",
       "      <td>445</td>\n",
       "      <td>NEWPORT TAFT INC</td>\n",
       "      <td>DBA NEWPORT FARMS MARKET</td>\n",
       "      <td>None</td>\n",
       "      <td>None</td>\n",
       "      <td>5004.0</td>\n",
       "      <td>None</td>\n",
       "      <td>None</td>\n",
       "      <td>...</td>\n",
       "      <td>844031824.0</td>\n",
       "      <td>120532755.0</td>\n",
       "      <td>3178.0</td>\n",
       "      <td>8.370044</td>\n",
       "      <td>74524.0</td>\n",
       "      <td>60362.0</td>\n",
       "      <td>73.662681</td>\n",
       "      <td>4.908748</td>\n",
       "      <td>9.754563</td>\n",
       "      <td>4.814349</td>\n",
       "    </tr>\n",
       "  </tbody>\n",
       "</table>\n",
       "<p>5 rows × 51 columns</p>\n",
       "</div>"
      ],
      "text/plain": [
       "         id         apn  bcccode             ownnam1  \\\n",
       "1221  13435  4482722900      445           ELENI INC   \n",
       "776   12244  4235820900      445  IBRAHIM HABIB&AMEL   \n",
       "1021  12942  4236641100      445        MAKDESI MARY   \n",
       "1079  13072  4237150200      445      YOUSSIF JOSEPH   \n",
       "1035  12963  4480923700      445    NEWPORT TAFT INC   \n",
       "\n",
       "                          ownnam2 ownnam3 careof  strnum strfra strdir  ...  \\\n",
       "1221  DBA OLIVE TREE MARKET PLACE    None   None  4805.0   None   None  ...   \n",
       "776        DBA LITTLE SAMS MARKET    None   None  3756.0   None   None  ...   \n",
       "1021             DBA COAST MARKET    None   None  3206.0   None   None  ...   \n",
       "1079           DBA MISSION MARKET    None   None  2885.0   None   None  ...   \n",
       "1035     DBA NEWPORT FARMS MARKET    None   None  5004.0   None   None  ...   \n",
       "\n",
       "            ALAND       AWATER n_total_pop p_poverty_rate  \\\n",
       "1221  844031824.0  120532755.0      3525.0      12.585227   \n",
       "776   844031824.0  120532755.0      2350.0      12.468085   \n",
       "1021  844031824.0  120532755.0      1719.0       5.468296   \n",
       "1079  844031824.0  120532755.0      1719.0       5.468296   \n",
       "1035  844031824.0  120532755.0      3178.0       8.370044   \n",
       "\n",
       "     median_household_income per_capita_income  p_nonhisp_white_persons  \\\n",
       "1221                 94847.0           57296.0                85.219858   \n",
       "776                  78144.0           56947.0                90.723404   \n",
       "1021                 97843.0           66516.0                63.525305   \n",
       "1079                 97843.0           66516.0                63.525305   \n",
       "1035                 74524.0           60362.0                73.662681   \n",
       "\n",
       "      p_nonhisp_black_persons p_hispanic_persons  p_asian_persons  \n",
       "1221                 0.000000          10.156028         1.049645  \n",
       "776                  4.042553           0.808511         2.297872  \n",
       "1021                 9.831297          20.535195         4.072135  \n",
       "1079                 9.831297          20.535195         4.072135  \n",
       "1035                 4.908748           9.754563         4.814349  \n",
       "\n",
       "[5 rows x 51 columns]"
      ]
     },
<<<<<<< HEAD
     "execution_count": 64,
=======
     "execution_count": 63,
>>>>>>> upstream/main
     "metadata": {},
     "output_type": "execute_result"
    }
   ],
   "source": [
    "groceryStores = sdBusiness[sdBusiness['bustype'] == 'GROCERY STORES']\n",
    "\n",
    "groceryStores.head()"
   ]
  },
  {
   "cell_type": "code",
<<<<<<< HEAD
   "execution_count": 65,
=======
   "execution_count": 64,
>>>>>>> upstream/main
   "id": "99eac450-b92e-4a92-9625-a13733e8ac39",
   "metadata": {},
   "outputs": [
    {
     "data": {
      "text/plain": [
       "<Axes: >"
      ]
     },
<<<<<<< HEAD
     "execution_count": 65,
=======
     "execution_count": 64,
>>>>>>> upstream/main
     "metadata": {},
     "output_type": "execute_result"
    },
    {
     "data": {
      "image/png": "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",
      "text/plain": [
       "<Figure size 640x480 with 1 Axes>"
      ]
     },
     "metadata": {},
     "output_type": "display_data"
    }
   ],
   "source": [
    "groceryStores.plot()"
   ]
  },
  {
   "cell_type": "markdown",
   "id": "ee27be82-8975-45be-8ab3-9ee772553755",
   "metadata": {},
   "source": [
    "```groceryStores.to_file('./data/sd_grocery/spatial-joins/groceryStores.shp')```"
   ]
  },
  {
   "cell_type": "markdown",
   "id": "836ad480-982d-4542-832d-93a8a939d5d2",
   "metadata": {},
   "source": [
    "### San Diego Parks"
   ]
  },
  {
   "cell_type": "code",
<<<<<<< HEAD
   "execution_count": 66,
=======
   "execution_count": 65,
>>>>>>> upstream/main
   "id": "c50ba1dc-edb4-48d1-8799-af83f903a1c5",
   "metadata": {},
   "outputs": [],
   "source": [
    "parksPath = './data/sd_parks/parks_datasd.geojson'"
   ]
  },
  {
   "cell_type": "code",
<<<<<<< HEAD
   "execution_count": 67,
=======
   "execution_count": 66,
>>>>>>> upstream/main
   "id": "ae913160-c70d-4520-9a32-7c9759ec0759",
   "metadata": {},
   "outputs": [],
   "source": [
    "parks = gpd.read_file(parksPath, geometry='geometry')"
   ]
  },
  {
   "cell_type": "code",
<<<<<<< HEAD
   "execution_count": 68,
=======
   "execution_count": 67,
>>>>>>> upstream/main
   "id": "571061ac-9ade-437b-93f2-6f8d9cbbf959",
   "metadata": {
    "scrolled": true
   },
   "outputs": [
    {
     "data": {
      "text/html": [
       "<div>\n",
       "<style scoped>\n",
       "    .dataframe tbody tr th:only-of-type {\n",
       "        vertical-align: middle;\n",
       "    }\n",
       "\n",
       "    .dataframe tbody tr th {\n",
       "        vertical-align: top;\n",
       "    }\n",
       "\n",
       "    .dataframe thead th {\n",
       "        text-align: right;\n",
       "    }\n",
       "</style>\n",
       "<table border=\"1\" class=\"dataframe\">\n",
       "  <thead>\n",
       "    <tr style=\"text-align: right;\">\n",
       "      <th></th>\n",
       "      <th>objectid</th>\n",
       "      <th>name</th>\n",
       "      <th>alias</th>\n",
       "      <th>gis_acres</th>\n",
       "      <th>park_type</th>\n",
       "      <th>location</th>\n",
       "      <th>owner</th>\n",
       "      <th>source_id</th>\n",
       "      <th>source</th>\n",
       "      <th>source_dt</th>\n",
       "      <th>src_notes</th>\n",
       "      <th>geometry</th>\n",
       "    </tr>\n",
       "  </thead>\n",
       "  <tbody>\n",
       "    <tr>\n",
       "      <th>0</th>\n",
       "      <td>1</td>\n",
       "      <td>South Carlsbad SB</td>\n",
       "      <td>South Carlsbad State Beach</td>\n",
       "      <td>115.895878</td>\n",
       "      <td>State</td>\n",
       "      <td>None</td>\n",
       "      <td>State Parks</td>\n",
       "      <td>652</td>\n",
       "      <td>State Parks</td>\n",
       "      <td>0416</td>\n",
       "      <td>None</td>\n",
       "      <td>MULTIPOLYGON (((-117.32891 33.12345, -117.3287...</td>\n",
       "    </tr>\n",
       "    <tr>\n",
       "      <th>1</th>\n",
       "      <td>2</td>\n",
       "      <td>Torrey Pines SB</td>\n",
       "      <td>Torrey Pines State Beach</td>\n",
       "      <td>67.294309</td>\n",
       "      <td>State</td>\n",
       "      <td>None</td>\n",
       "      <td>State Parks</td>\n",
       "      <td>631</td>\n",
       "      <td>State Parks</td>\n",
       "      <td>0416</td>\n",
       "      <td>None</td>\n",
       "      <td>POLYGON ((-117.26147 32.93883, -117.26144 32.9...</td>\n",
       "    </tr>\n",
       "    <tr>\n",
       "      <th>2</th>\n",
       "      <td>3</td>\n",
       "      <td>Ruocco Park</td>\n",
       "      <td>Ruocco Park</td>\n",
       "      <td>3.312526</td>\n",
       "      <td>Local</td>\n",
       "      <td>585 Harbor Ln, San Diego. California</td>\n",
       "      <td>SDUPD</td>\n",
       "      <td>None</td>\n",
       "      <td>SDUPD</td>\n",
       "      <td>0416</td>\n",
       "      <td>None</td>\n",
       "      <td>POLYGON ((-117.17129 32.71138, -117.17129 32.7...</td>\n",
       "    </tr>\n",
       "    <tr>\n",
       "      <th>3</th>\n",
       "      <td>4</td>\n",
       "      <td>Tuna Harbor Park</td>\n",
       "      <td>Tuna Harbor Park</td>\n",
       "      <td>0.639035</td>\n",
       "      <td>Local</td>\n",
       "      <td>700 North Harbor Dr, San Diego. California</td>\n",
       "      <td>SDUPD</td>\n",
       "      <td>None</td>\n",
       "      <td>SDUPD</td>\n",
       "      <td>0416</td>\n",
       "      <td>None</td>\n",
       "      <td>POLYGON ((-117.17272 32.71171, -117.17270 32.7...</td>\n",
       "    </tr>\n",
       "    <tr>\n",
       "      <th>4</th>\n",
       "      <td>5</td>\n",
       "      <td>San Diego Bayfront Park</td>\n",
       "      <td>San Diego Bayfront Park</td>\n",
       "      <td>3.669272</td>\n",
       "      <td>Local</td>\n",
       "      <td>One Park Boulevard, San Diego. California</td>\n",
       "      <td>SDUPD</td>\n",
       "      <td>None</td>\n",
       "      <td>SDUPD</td>\n",
       "      <td>0416</td>\n",
       "      <td>None</td>\n",
       "      <td>MULTIPOLYGON (((-117.16044 32.70438, -117.1600...</td>\n",
       "    </tr>\n",
       "  </tbody>\n",
       "</table>\n",
       "</div>"
      ],
      "text/plain": [
       "   objectid                     name                       alias   gis_acres  \\\n",
       "0         1        South Carlsbad SB  South Carlsbad State Beach  115.895878   \n",
       "1         2          Torrey Pines SB    Torrey Pines State Beach   67.294309   \n",
       "2         3              Ruocco Park                 Ruocco Park    3.312526   \n",
       "3         4         Tuna Harbor Park            Tuna Harbor Park    0.639035   \n",
       "4         5  San Diego Bayfront Park     San Diego Bayfront Park    3.669272   \n",
       "\n",
       "  park_type                                    location        owner  \\\n",
       "0     State                                        None  State Parks   \n",
       "1     State                                        None  State Parks   \n",
       "2     Local        585 Harbor Ln, San Diego. California        SDUPD   \n",
       "3     Local  700 North Harbor Dr, San Diego. California        SDUPD   \n",
       "4     Local   One Park Boulevard, San Diego. California        SDUPD   \n",
       "\n",
       "  source_id       source source_dt src_notes  \\\n",
       "0       652  State Parks      0416      None   \n",
       "1       631  State Parks      0416      None   \n",
       "2      None        SDUPD      0416      None   \n",
       "3      None        SDUPD      0416      None   \n",
       "4      None        SDUPD      0416      None   \n",
       "\n",
       "                                            geometry  \n",
       "0  MULTIPOLYGON (((-117.32891 33.12345, -117.3287...  \n",
       "1  POLYGON ((-117.26147 32.93883, -117.26144 32.9...  \n",
       "2  POLYGON ((-117.17129 32.71138, -117.17129 32.7...  \n",
       "3  POLYGON ((-117.17272 32.71171, -117.17270 32.7...  \n",
       "4  MULTIPOLYGON (((-117.16044 32.70438, -117.1600...  "
      ]
     },
<<<<<<< HEAD
     "execution_count": 68,
=======
     "execution_count": 67,
>>>>>>> upstream/main
     "metadata": {},
     "output_type": "execute_result"
    }
   ],
   "source": [
    "set_crs(parks).head()"
   ]
  },
  {
   "cell_type": "code",
<<<<<<< HEAD
   "execution_count": 69,
=======
   "execution_count": 68,
>>>>>>> upstream/main
   "id": "ad8f380e-10c1-4d7d-8479-6663cd4de4fa",
   "metadata": {},
   "outputs": [
    {
     "data": {
      "text/plain": [
       "array(['State', 'Local', 'Other', 'Open Space', 'Regional', 'National',\n",
       "       'Historic'], dtype=object)"
      ]
     },
<<<<<<< HEAD
     "execution_count": 69,
=======
     "execution_count": 68,
>>>>>>> upstream/main
     "metadata": {},
     "output_type": "execute_result"
    }
   ],
   "source": [
    "parks.park_type.unique()"
   ]
  },
  {
   "cell_type": "code",
<<<<<<< HEAD
   "execution_count": 70,
=======
   "execution_count": 69,
>>>>>>> upstream/main
   "id": "ebb1ae50-f3b4-4e62-a47e-e9b9145317b5",
   "metadata": {},
   "outputs": [
    {
     "name": "stdout",
     "output_type": "stream",
     "text": [
      "Duplicate column names found:\n",
      "- geometry\n"
     ]
    }
   ],
   "source": [
    "duplicate_columns(parks, csd)"
   ]
  },
  {
   "cell_type": "code",
<<<<<<< HEAD
   "execution_count": 71,
=======
   "execution_count": 70,
>>>>>>> upstream/main
   "id": "6e4ddea6-3580-4b0f-b5de-28b62b3beccd",
   "metadata": {},
   "outputs": [
    {
     "data": {
      "text/html": [
       "<div>\n",
       "<style scoped>\n",
       "    .dataframe tbody tr th:only-of-type {\n",
       "        vertical-align: middle;\n",
       "    }\n",
       "\n",
       "    .dataframe tbody tr th {\n",
       "        vertical-align: top;\n",
       "    }\n",
       "\n",
       "    .dataframe thead th {\n",
       "        text-align: right;\n",
       "    }\n",
       "</style>\n",
       "<table border=\"1\" class=\"dataframe\">\n",
       "  <thead>\n",
       "    <tr style=\"text-align: right;\">\n",
       "      <th></th>\n",
       "      <th>objectid</th>\n",
       "      <th>name</th>\n",
       "      <th>alias</th>\n",
       "      <th>gis_acres</th>\n",
       "      <th>park_type</th>\n",
       "      <th>location</th>\n",
       "      <th>owner</th>\n",
       "      <th>source_id</th>\n",
       "      <th>source</th>\n",
       "      <th>source_dt</th>\n",
       "      <th>...</th>\n",
       "      <th>ALAND</th>\n",
       "      <th>AWATER</th>\n",
       "      <th>n_total_pop</th>\n",
       "      <th>p_poverty_rate</th>\n",
       "      <th>median_household_income</th>\n",
       "      <th>per_capita_income</th>\n",
       "      <th>p_nonhisp_white_persons</th>\n",
       "      <th>p_nonhisp_black_persons</th>\n",
       "      <th>p_hispanic_persons</th>\n",
       "      <th>p_asian_persons</th>\n",
       "    </tr>\n",
       "  </thead>\n",
       "  <tbody>\n",
       "    <tr>\n",
       "      <th>2</th>\n",
       "      <td>3</td>\n",
       "      <td>Ruocco Park</td>\n",
       "      <td>Ruocco Park</td>\n",
       "      <td>3.312526</td>\n",
       "      <td>Local</td>\n",
       "      <td>585 Harbor Ln, San Diego. California</td>\n",
       "      <td>SDUPD</td>\n",
       "      <td>None</td>\n",
       "      <td>SDUPD</td>\n",
       "      <td>0416</td>\n",
       "      <td>...</td>\n",
       "      <td>844031824.0</td>\n",
       "      <td>120532755.0</td>\n",
       "      <td>4238.0</td>\n",
       "      <td>10.665408</td>\n",
       "      <td>136645.0</td>\n",
       "      <td>84526.0</td>\n",
       "      <td>67.036338</td>\n",
       "      <td>3.350637</td>\n",
       "      <td>7.810288</td>\n",
       "      <td>20.292591</td>\n",
       "    </tr>\n",
       "    <tr>\n",
       "      <th>32</th>\n",
       "      <td>33</td>\n",
       "      <td>Lane Field Park</td>\n",
       "      <td>Lane Field Park</td>\n",
       "      <td>1.570610</td>\n",
       "      <td>Local</td>\n",
       "      <td>1009 North Harbor Dr, San Diego. California</td>\n",
       "      <td>SDUPD</td>\n",
       "      <td>None</td>\n",
       "      <td>SDUPD</td>\n",
       "      <td>0416</td>\n",
       "      <td>...</td>\n",
       "      <td>844031824.0</td>\n",
       "      <td>120532755.0</td>\n",
       "      <td>4238.0</td>\n",
       "      <td>10.665408</td>\n",
       "      <td>136645.0</td>\n",
       "      <td>84526.0</td>\n",
       "      <td>67.036338</td>\n",
       "      <td>3.350637</td>\n",
       "      <td>7.810288</td>\n",
       "      <td>20.292591</td>\n",
       "    </tr>\n",
       "    <tr>\n",
       "      <th>544</th>\n",
       "      <td>545</td>\n",
       "      <td>PANTOJA NP</td>\n",
       "      <td>Pantoja Park</td>\n",
       "      <td>2.148412</td>\n",
       "      <td>Local</td>\n",
       "      <td>524 West G Street, 92118</td>\n",
       "      <td>City of San Diego</td>\n",
       "      <td>None</td>\n",
       "      <td>City of San Diego</td>\n",
       "      <td>0516</td>\n",
       "      <td>...</td>\n",
       "      <td>844031824.0</td>\n",
       "      <td>120532755.0</td>\n",
       "      <td>4238.0</td>\n",
       "      <td>10.665408</td>\n",
       "      <td>136645.0</td>\n",
       "      <td>84526.0</td>\n",
       "      <td>67.036338</td>\n",
       "      <td>3.350637</td>\n",
       "      <td>7.810288</td>\n",
       "      <td>20.292591</td>\n",
       "    </tr>\n",
       "    <tr>\n",
       "      <th>14</th>\n",
       "      <td>15</td>\n",
       "      <td>Los Penasquitos Marsh NP</td>\n",
       "      <td>Los Penasquitos Marsh Nature Nature Preserve</td>\n",
       "      <td>213.470371</td>\n",
       "      <td>State</td>\n",
       "      <td>None</td>\n",
       "      <td>State Parks</td>\n",
       "      <td>640</td>\n",
       "      <td>State Parks</td>\n",
       "      <td>0416</td>\n",
       "      <td>...</td>\n",
       "      <td>844031824.0</td>\n",
       "      <td>120532755.0</td>\n",
       "      <td>1788.0</td>\n",
       "      <td>38.031320</td>\n",
       "      <td>65089.0</td>\n",
       "      <td>40845.0</td>\n",
       "      <td>49.384787</td>\n",
       "      <td>2.348993</td>\n",
       "      <td>10.738255</td>\n",
       "      <td>26.006711</td>\n",
       "    </tr>\n",
       "    <tr>\n",
       "      <th>61</th>\n",
       "      <td>62</td>\n",
       "      <td>Los Penasquitos Marsh NP</td>\n",
       "      <td>Los Penasquitos Marsh Nature Nature Preserve</td>\n",
       "      <td>199.665838</td>\n",
       "      <td>State</td>\n",
       "      <td>None</td>\n",
       "      <td>State Parks</td>\n",
       "      <td>640</td>\n",
       "      <td>State Parks</td>\n",
       "      <td>0416</td>\n",
       "      <td>...</td>\n",
       "      <td>844031824.0</td>\n",
       "      <td>120532755.0</td>\n",
       "      <td>1788.0</td>\n",
       "      <td>38.031320</td>\n",
       "      <td>65089.0</td>\n",
       "      <td>40845.0</td>\n",
       "      <td>49.384787</td>\n",
       "      <td>2.348993</td>\n",
       "      <td>10.738255</td>\n",
       "      <td>26.006711</td>\n",
       "    </tr>\n",
       "  </tbody>\n",
       "</table>\n",
       "<p>5 rows × 33 columns</p>\n",
       "</div>"
      ],
      "text/plain": [
       "     objectid                      name  \\\n",
       "2           3               Ruocco Park   \n",
       "32         33           Lane Field Park   \n",
       "544       545                PANTOJA NP   \n",
       "14         15  Los Penasquitos Marsh NP   \n",
       "61         62  Los Penasquitos Marsh NP   \n",
       "\n",
       "                                            alias   gis_acres park_type  \\\n",
       "2                                     Ruocco Park    3.312526     Local   \n",
       "32                                Lane Field Park    1.570610     Local   \n",
       "544                                  Pantoja Park    2.148412     Local   \n",
       "14   Los Penasquitos Marsh Nature Nature Preserve  213.470371     State   \n",
       "61   Los Penasquitos Marsh Nature Nature Preserve  199.665838     State   \n",
       "\n",
       "                                        location              owner source_id  \\\n",
       "2           585 Harbor Ln, San Diego. California              SDUPD      None   \n",
       "32   1009 North Harbor Dr, San Diego. California              SDUPD      None   \n",
       "544                     524 West G Street, 92118  City of San Diego      None   \n",
       "14                                          None        State Parks       640   \n",
       "61                                          None        State Parks       640   \n",
       "\n",
       "                source source_dt  ...        ALAND       AWATER  n_total_pop  \\\n",
       "2                SDUPD      0416  ...  844031824.0  120532755.0       4238.0   \n",
       "32               SDUPD      0416  ...  844031824.0  120532755.0       4238.0   \n",
       "544  City of San Diego      0516  ...  844031824.0  120532755.0       4238.0   \n",
       "14         State Parks      0416  ...  844031824.0  120532755.0       1788.0   \n",
       "61         State Parks      0416  ...  844031824.0  120532755.0       1788.0   \n",
       "\n",
       "    p_poverty_rate median_household_income per_capita_income  \\\n",
       "2        10.665408                136645.0           84526.0   \n",
       "32       10.665408                136645.0           84526.0   \n",
       "544      10.665408                136645.0           84526.0   \n",
       "14       38.031320                 65089.0           40845.0   \n",
       "61       38.031320                 65089.0           40845.0   \n",
       "\n",
       "    p_nonhisp_white_persons p_nonhisp_black_persons p_hispanic_persons  \\\n",
       "2                 67.036338                3.350637           7.810288   \n",
       "32                67.036338                3.350637           7.810288   \n",
       "544               67.036338                3.350637           7.810288   \n",
       "14                49.384787                2.348993          10.738255   \n",
       "61                49.384787                2.348993          10.738255   \n",
       "\n",
       "    p_asian_persons  \n",
       "2         20.292591  \n",
       "32        20.292591  \n",
       "544       20.292591  \n",
       "14        26.006711  \n",
       "61        26.006711  \n",
       "\n",
       "[5 rows x 33 columns]"
      ]
     },
<<<<<<< HEAD
     "execution_count": 71,
=======
     "execution_count": 70,
>>>>>>> upstream/main
     "metadata": {},
     "output_type": "execute_result"
    }
   ],
   "source": [
    "parksJoin = gpd.sjoin(parks, csd, how='inner', predicate='within')\n",
    "\n",
    "parksJoin.head()"
   ]
  },
  {
   "cell_type": "code",
<<<<<<< HEAD
   "execution_count": 72,
=======
   "execution_count": 71,
>>>>>>> upstream/main
   "id": "33790a0a-a21f-4921-88ae-6b81bb41f92d",
   "metadata": {},
   "outputs": [
    {
     "data": {
      "text/plain": [
       "<Axes: >"
      ]
     },
<<<<<<< HEAD
     "execution_count": 72,
=======
     "execution_count": 71,
>>>>>>> upstream/main
     "metadata": {},
     "output_type": "execute_result"
    },
    {
     "data": {
      "image/png": "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",
      "text/plain": [
       "<Figure size 640x480 with 1 Axes>"
      ]
     },
     "metadata": {},
     "output_type": "display_data"
    }
   ],
   "source": [
    "parksJoin.plot()"
   ]
  },
  {
   "cell_type": "markdown",
   "id": "beca6dce-9597-45c4-8092-ef25e5fe95de",
   "metadata": {},
   "source": [
    "```parksJoin.to_file('./data/sd_parks/spatial-joins/parksJoins.shp')```"
   ]
  },
  {
   "cell_type": "markdown",
   "id": "da9943b4-f054-4293-81c9-1b04422a220d",
   "metadata": {},
   "source": [
    "### SD Places of Worship"
   ]
  },
  {
   "cell_type": "code",
<<<<<<< HEAD
   "execution_count": 73,
   "id": "e378ad99-4166-4785-a7e5-d8d198b87ef0",
   "metadata": {},
   "outputs": [],
   "source": [
    "# plc_path = './data/sd_worship/Places.geojson'"
=======
   "execution_count": 72,
   "id": "4a61d945-8c62-4954-ac98-58df5eb79bdd",
   "metadata": {},
   "outputs": [],
   "source": [
    "powPath = './data/sd_worship/Places.geojson'"
>>>>>>> upstream/main
   ]
  },
  {
   "cell_type": "code",
<<<<<<< HEAD
   "execution_count": 74,
=======
   "execution_count": 73,
>>>>>>> upstream/main
   "id": "cd88a871-b9c4-44b8-8002-fb71b56fbb42",
   "metadata": {},
   "outputs": [],
   "source": [
<<<<<<< HEAD
    "# sd_plc = gpd.read_file(plc_path, geometry='geometry')"
   ]
  },
  {
   "cell_type": "code",
   "execution_count": 75,
   "id": "b0cc4808-0b31-427e-a26d-2620175ef895",
   "metadata": {},
   "outputs": [],
   "source": [
    "# set_crs(sd_plc).head()"
   ]
  },
  {
   "cell_type": "code",
   "execution_count": 76,
   "id": "e8874cb0-9cc1-4719-bbb1-d611c252c43b",
   "metadata": {},
   "outputs": [],
   "source": [
    "# sd_plc.TYPE.unique()"
   ]
  },
  {
   "cell_type": "code",
   "execution_count": 77,
   "id": "fbae062a-318e-4151-8248-888127c6c9f5",
   "metadata": {},
   "outputs": [],
   "source": [
    "# ri_variables = ['ReligiousStructure_C', 'ReligiousStructure_B', 'ReligiousStructure',\n",
    "#                 'ReligiousStructure_M', 'ReligiousStructure_H', 'ReligiousStructure_J']"
   ]
  },
  {
   "cell_type": "code",
   "execution_count": 78,
   "id": "98c2cd6e-2ed5-4034-b810-266a06873315",
   "metadata": {},
   "outputs": [],
   "source": [
    "# sdcri = sd_plc[sd_plc['TYPE'].isin(ri_variables)]\n",
    "\n",
    "# sdcri.head()"
   ]
  },
  {
   "cell_type": "code",
   "execution_count": 79,
   "id": "685aa6c1-ff67-4782-a32a-9bb713acbc0d",
   "metadata": {},
   "outputs": [],
   "source": [
    "# duplicate_columns(sdcri, csd)"
   ]
  },
  {
   "cell_type": "code",
   "execution_count": 80,
   "id": "b9daac63-37bf-42a8-9e79-26ffbb0e3570",
   "metadata": {},
   "outputs": [],
   "source": [
    "# rename_column(sdcri, old='NAME', new='CHURCH NAME')\n",
    "\n",
    "# sdcri.head()"
   ]
  },
  {
   "cell_type": "code",
   "execution_count": 81,
   "id": "122376b1-b247-45e4-911d-b20e887dd5ef",
   "metadata": {},
   "outputs": [],
   "source": [
    "# csdri = gpd.sjoin(sdcri, csd, how='inner', predicate='within')\n",
    "\n",
    "# csdri.head()"
   ]
  },
  {
   "cell_type": "code",
   "execution_count": 82,
   "id": "ca676d5e-9db4-42e7-9ef3-a62dc4bc600f",
   "metadata": {},
   "outputs": [],
   "source": [
    "# csdri.dtypes"
   ]
  },
  {
   "cell_type": "code",
   "execution_count": 83,
   "id": "8e0ca8cc-6eab-4bfb-a6c3-5817354b5063",
   "metadata": {},
   "outputs": [],
   "source": [
    "# csdri[['CREATED', 'EDITED']] = csdri[['CREATED', 'EDITED']].astype(str)"
=======
    "pow = gpd.read_file(powPath, geometry='geometry')"
>>>>>>> upstream/main
   ]
  },
  {
   "cell_type": "code",
   "execution_count": 84,
<<<<<<< HEAD
   "id": "d45691ea-9fae-4b62-ac53-908b2ef3b561",
   "metadata": {
    "scrolled": true
   },
   "outputs": [],
   "source": [
    "# csdri.explore()"
=======
   "id": "b0cc4808-0b31-427e-a26d-2620175ef895",
   "metadata": {},
   "outputs": [
    {
     "data": {
      "text/html": [
       "<div>\n",
       "<style scoped>\n",
       "    .dataframe tbody tr th:only-of-type {\n",
       "        vertical-align: middle;\n",
       "    }\n",
       "\n",
       "    .dataframe tbody tr th {\n",
       "        vertical-align: top;\n",
       "    }\n",
       "\n",
       "    .dataframe thead th {\n",
       "        text-align: right;\n",
       "    }\n",
       "</style>\n",
       "<table border=\"1\" class=\"dataframe\">\n",
       "  <thead>\n",
       "    <tr style=\"text-align: right;\">\n",
       "      <th></th>\n",
       "      <th>OBJECTID</th>\n",
       "      <th>NAME</th>\n",
       "      <th>ADDR</th>\n",
       "      <th>CITYNM</th>\n",
       "      <th>TYPE</th>\n",
       "      <th>DESCRIP</th>\n",
       "      <th>FEA_SRC</th>\n",
       "      <th>COMMUNITYNM</th>\n",
       "      <th>SCALE</th>\n",
       "      <th>EDIT_REASON</th>\n",
       "      <th>CREATOR</th>\n",
       "      <th>CREATED</th>\n",
       "      <th>EDITOR</th>\n",
       "      <th>EDITED</th>\n",
       "      <th>Primary_Display</th>\n",
       "      <th>Zipcode</th>\n",
       "      <th>Longitude</th>\n",
       "      <th>Latitude</th>\n",
       "      <th>geometry</th>\n",
       "    </tr>\n",
       "  </thead>\n",
       "  <tbody>\n",
       "    <tr>\n",
       "      <th>0</th>\n",
       "      <td>1</td>\n",
       "      <td>COUNTY OF SAN DIEGO-SOCIAL SERVICES</td>\n",
       "      <td>3355 MISSION AVE</td>\n",
       "      <td>Oceanside</td>\n",
       "      <td>GovernmentFacility</td>\n",
       "      <td>None</td>\n",
       "      <td>PLACES_OLD_FeatureToPoint2</td>\n",
       "      <td>Oceanside</td>\n",
       "      <td>24000.0</td>\n",
       "      <td>1</td>\n",
       "      <td>None</td>\n",
       "      <td>NaT</td>\n",
       "      <td>LWEDLEY</td>\n",
       "      <td>2022-04-11 21:35:34+00:00</td>\n",
       "      <td>1</td>\n",
       "      <td>92054.0</td>\n",
       "      <td>-117.341449</td>\n",
       "      <td>33.217268</td>\n",
       "      <td>POINT (-117.34145 33.21727)</td>\n",
       "    </tr>\n",
       "    <tr>\n",
       "      <th>1</th>\n",
       "      <td>2</td>\n",
       "      <td>CITY OF OCEANSIDE OPERATIONS CENTER</td>\n",
       "      <td>4925 OCEANSIDE BLVD.</td>\n",
       "      <td>Oceanside</td>\n",
       "      <td>GovernmentFacility</td>\n",
       "      <td>None</td>\n",
       "      <td>PLACES_OLD_FeatureToPoint2</td>\n",
       "      <td>Oceanside</td>\n",
       "      <td>24000.0</td>\n",
       "      <td>1</td>\n",
       "      <td>None</td>\n",
       "      <td>NaT</td>\n",
       "      <td>LWEDLEY</td>\n",
       "      <td>2022-04-11 21:35:34+00:00</td>\n",
       "      <td>1</td>\n",
       "      <td>92056.0</td>\n",
       "      <td>-117.266665</td>\n",
       "      <td>33.217821</td>\n",
       "      <td>POINT (-117.26667 33.21782)</td>\n",
       "    </tr>\n",
       "    <tr>\n",
       "      <th>2</th>\n",
       "      <td>3</td>\n",
       "      <td>Park 1200 I &amp; II</td>\n",
       "      <td>1122-4Melrose Dr N.</td>\n",
       "      <td>Vista</td>\n",
       "      <td>IndustrialStructure</td>\n",
       "      <td>None</td>\n",
       "      <td>PLACES_OLD_FeatureToPoint2</td>\n",
       "      <td>Vista</td>\n",
       "      <td>24000.0</td>\n",
       "      <td>1</td>\n",
       "      <td>None</td>\n",
       "      <td>NaT</td>\n",
       "      <td>LWEDLEY</td>\n",
       "      <td>2022-04-11 21:35:34+00:00</td>\n",
       "      <td>1</td>\n",
       "      <td>92083.0</td>\n",
       "      <td>-117.256516</td>\n",
       "      <td>33.217679</td>\n",
       "      <td>POINT (-117.25652 33.21768)</td>\n",
       "    </tr>\n",
       "    <tr>\n",
       "      <th>3</th>\n",
       "      <td>4</td>\n",
       "      <td>Oceanside Airport Business Park</td>\n",
       "      <td>572-62 Airport Rd</td>\n",
       "      <td>Oceanside</td>\n",
       "      <td>BusinessCenter</td>\n",
       "      <td>None</td>\n",
       "      <td>PLACES_OLD_FeatureToPoint2</td>\n",
       "      <td>Oceanside</td>\n",
       "      <td>24000.0</td>\n",
       "      <td>1</td>\n",
       "      <td>None</td>\n",
       "      <td>NaT</td>\n",
       "      <td>LWEDLEY</td>\n",
       "      <td>2022-04-11 21:35:34+00:00</td>\n",
       "      <td>1</td>\n",
       "      <td>92058.0</td>\n",
       "      <td>-117.352739</td>\n",
       "      <td>33.216756</td>\n",
       "      <td>POINT (-117.35274 33.21676)</td>\n",
       "    </tr>\n",
       "    <tr>\n",
       "      <th>4</th>\n",
       "      <td>5</td>\n",
       "      <td>Hobie Cat</td>\n",
       "      <td>4925  Oceanside Blvd</td>\n",
       "      <td>Oceanside</td>\n",
       "      <td>BusinessCenter</td>\n",
       "      <td>None</td>\n",
       "      <td>PLACES_OLD_; GOOGLEMAPS</td>\n",
       "      <td>Ivey Ran/Ran Del Oro</td>\n",
       "      <td>24000.0</td>\n",
       "      <td>1</td>\n",
       "      <td>None</td>\n",
       "      <td>NaT</td>\n",
       "      <td>LWEDLEY</td>\n",
       "      <td>2022-04-11 21:35:34+00:00</td>\n",
       "      <td>1</td>\n",
       "      <td>92056.0</td>\n",
       "      <td>-117.269119</td>\n",
       "      <td>33.217236</td>\n",
       "      <td>POINT (-117.26912 33.21724)</td>\n",
       "    </tr>\n",
       "  </tbody>\n",
       "</table>\n",
       "</div>"
      ],
      "text/plain": [
       "   OBJECTID                                 NAME                  ADDR  \\\n",
       "0         1  COUNTY OF SAN DIEGO-SOCIAL SERVICES      3355 MISSION AVE   \n",
       "1         2  CITY OF OCEANSIDE OPERATIONS CENTER  4925 OCEANSIDE BLVD.   \n",
       "2         3                     Park 1200 I & II   1122-4Melrose Dr N.   \n",
       "3         4      Oceanside Airport Business Park     572-62 Airport Rd   \n",
       "4         5                            Hobie Cat  4925  Oceanside Blvd   \n",
       "\n",
       "      CITYNM                 TYPE DESCRIP                     FEA_SRC  \\\n",
       "0  Oceanside   GovernmentFacility    None  PLACES_OLD_FeatureToPoint2   \n",
       "1  Oceanside   GovernmentFacility    None  PLACES_OLD_FeatureToPoint2   \n",
       "2      Vista  IndustrialStructure    None  PLACES_OLD_FeatureToPoint2   \n",
       "3  Oceanside       BusinessCenter    None  PLACES_OLD_FeatureToPoint2   \n",
       "4  Oceanside       BusinessCenter    None     PLACES_OLD_; GOOGLEMAPS   \n",
       "\n",
       "            COMMUNITYNM    SCALE  EDIT_REASON CREATOR CREATED   EDITOR  \\\n",
       "0             Oceanside  24000.0            1    None     NaT  LWEDLEY   \n",
       "1             Oceanside  24000.0            1    None     NaT  LWEDLEY   \n",
       "2                 Vista  24000.0            1    None     NaT  LWEDLEY   \n",
       "3             Oceanside  24000.0            1    None     NaT  LWEDLEY   \n",
       "4  Ivey Ran/Ran Del Oro  24000.0            1    None     NaT  LWEDLEY   \n",
       "\n",
       "                     EDITED  Primary_Display  Zipcode   Longitude   Latitude  \\\n",
       "0 2022-04-11 21:35:34+00:00                1  92054.0 -117.341449  33.217268   \n",
       "1 2022-04-11 21:35:34+00:00                1  92056.0 -117.266665  33.217821   \n",
       "2 2022-04-11 21:35:34+00:00                1  92083.0 -117.256516  33.217679   \n",
       "3 2022-04-11 21:35:34+00:00                1  92058.0 -117.352739  33.216756   \n",
       "4 2022-04-11 21:35:34+00:00                1  92056.0 -117.269119  33.217236   \n",
       "\n",
       "                      geometry  \n",
       "0  POINT (-117.34145 33.21727)  \n",
       "1  POINT (-117.26667 33.21782)  \n",
       "2  POINT (-117.25652 33.21768)  \n",
       "3  POINT (-117.35274 33.21676)  \n",
       "4  POINT (-117.26912 33.21724)  "
      ]
     },
     "execution_count": 84,
     "metadata": {},
     "output_type": "execute_result"
    }
   ],
   "source": [
    "set_crs(pow).head()"
   ]
  },
  {
   "cell_type": "code",
   "execution_count": 85,
   "id": "e8874cb0-9cc1-4719-bbb1-d611c252c43b",
   "metadata": {},
   "outputs": [
    {
     "data": {
      "text/plain": [
       "array(['GovernmentFacility', 'IndustrialStructure', 'BusinessCenter',\n",
       "       'ShoppingCenter', 'OfficeBuilding', 'Building', 'Casino',\n",
       "       'EntertainmentFacility', 'ResidentialStructure',\n",
       "       'HigherEducationFacility', 'EnergyFacility', 'CommunityPoint',\n",
       "       'MajorEmployer', 'PostOffice', 'Motel', 'Zoo', 'AdultDayCare',\n",
       "       'Hospital', 'Undetermined', 'CorrectionalInstitution',\n",
       "       'MilitaryBase', 'RecreationalFacility', 'Museum', 'ICE',\n",
       "       'ReligiousStructure_C', 'School', 'TopographicFeature', 'Park',\n",
       "       'Trail', 'Spring', 'Well', 'WaterFeature', 'Bay', 'Mine', 'Dam',\n",
       "       'Mountain', 'HistoricalSite', 'Island', 'PopulatedPlace', 'Camp',\n",
       "       'Farm', 'GolfCourse', 'Library', 'Cemetery', 'AmusementPark',\n",
       "       'ReligiousStructure_B', 'MarineFeature', 'Reservoir', 'Bridge',\n",
       "       'MileMarker', 'Gate', 'Tower', 'Medical', 'Waste',\n",
       "       'CommunityCenter', 'Exit', 'Airport', 'RestArea', 'Beach',\n",
       "       'IndianReservation', 'ParkingLot', 'WaterTreatment', 'Pier',\n",
       "       'ReligiousStructure', 'Gun', 'Bar', 'Tunnel', 'Canal',\n",
       "       'ReligiousStructure_M', 'ReligiousStructure_H', 'TransitCenter',\n",
       "       'ReligiousStructure_J', 'CallBox', 'Gas', 'ChildDayCare',\n",
       "       'FireStation', 'PoliceStation', 'Courthouse', 'Liquor'],\n",
       "      dtype=object)"
      ]
     },
     "execution_count": 85,
     "metadata": {},
     "output_type": "execute_result"
    }
   ],
   "source": [
    "pow.TYPE.unique()"
   ]
  },
  {
   "cell_type": "code",
   "execution_count": 86,
   "id": "fbae062a-318e-4151-8248-888127c6c9f5",
   "metadata": {},
   "outputs": [],
   "source": [
    "powVariables = ['ReligiousStructure_C', 'ReligiousStructure_B', 'ReligiousStructure',\n",
    "                'ReligiousStructure_M', 'ReligiousStructure_H', 'ReligiousStructure_J']"
   ]
  },
  {
   "cell_type": "code",
   "execution_count": 87,
   "id": "98c2cd6e-2ed5-4034-b810-266a06873315",
   "metadata": {},
   "outputs": [
    {
     "data": {
      "text/html": [
       "<div>\n",
       "<style scoped>\n",
       "    .dataframe tbody tr th:only-of-type {\n",
       "        vertical-align: middle;\n",
       "    }\n",
       "\n",
       "    .dataframe tbody tr th {\n",
       "        vertical-align: top;\n",
       "    }\n",
       "\n",
       "    .dataframe thead th {\n",
       "        text-align: right;\n",
       "    }\n",
       "</style>\n",
       "<table border=\"1\" class=\"dataframe\">\n",
       "  <thead>\n",
       "    <tr style=\"text-align: right;\">\n",
       "      <th></th>\n",
       "      <th>OBJECTID</th>\n",
       "      <th>NAME</th>\n",
       "      <th>ADDR</th>\n",
       "      <th>CITYNM</th>\n",
       "      <th>TYPE</th>\n",
       "      <th>DESCRIP</th>\n",
       "      <th>FEA_SRC</th>\n",
       "      <th>COMMUNITYNM</th>\n",
       "      <th>SCALE</th>\n",
       "      <th>EDIT_REASON</th>\n",
       "      <th>CREATOR</th>\n",
       "      <th>CREATED</th>\n",
       "      <th>EDITOR</th>\n",
       "      <th>EDITED</th>\n",
       "      <th>Primary_Display</th>\n",
       "      <th>Zipcode</th>\n",
       "      <th>Longitude</th>\n",
       "      <th>Latitude</th>\n",
       "      <th>geometry</th>\n",
       "    </tr>\n",
       "  </thead>\n",
       "  <tbody>\n",
       "    <tr>\n",
       "      <th>1511</th>\n",
       "      <td>1512</td>\n",
       "      <td>Calvary Church of Alpine</td>\n",
       "      <td>2267 Victoria Dr</td>\n",
       "      <td>S.D. County</td>\n",
       "      <td>ReligiousStructure_C</td>\n",
       "      <td>A Building For Public Christian Worship</td>\n",
       "      <td>PLACE_NAMES; PARCELS_ALL</td>\n",
       "      <td>Alpine</td>\n",
       "      <td>24000.0</td>\n",
       "      <td>1</td>\n",
       "      <td>None</td>\n",
       "      <td>NaT</td>\n",
       "      <td>LWEDLEY</td>\n",
       "      <td>2022-04-11 21:35:34+00:00</td>\n",
       "      <td>1</td>\n",
       "      <td>91901.0</td>\n",
       "      <td>-116.766700</td>\n",
       "      <td>32.837557</td>\n",
       "      <td>POINT (-116.76670 32.83756)</td>\n",
       "    </tr>\n",
       "    <tr>\n",
       "      <th>1512</th>\n",
       "      <td>1513</td>\n",
       "      <td>Community Church of Alpine</td>\n",
       "      <td>2225 Victoria Dr</td>\n",
       "      <td>S.D. County</td>\n",
       "      <td>ReligiousStructure_C</td>\n",
       "      <td>A Building For Public Christian Worship</td>\n",
       "      <td>PARCELS_ALL; BUSINESS_SITES</td>\n",
       "      <td>Alpine</td>\n",
       "      <td>24000.0</td>\n",
       "      <td>1</td>\n",
       "      <td>None</td>\n",
       "      <td>NaT</td>\n",
       "      <td>LWEDLEY</td>\n",
       "      <td>2022-04-11 21:35:34+00:00</td>\n",
       "      <td>1</td>\n",
       "      <td>91901.0</td>\n",
       "      <td>-116.766398</td>\n",
       "      <td>32.836380</td>\n",
       "      <td>POINT (-116.76640 32.83638)</td>\n",
       "    </tr>\n",
       "    <tr>\n",
       "      <th>1525</th>\n",
       "      <td>1526</td>\n",
       "      <td>Temple of Christ Church</td>\n",
       "      <td>726 GRAND AV</td>\n",
       "      <td>S.D. County</td>\n",
       "      <td>ReligiousStructure_C</td>\n",
       "      <td>A Building For Public Christian Worship</td>\n",
       "      <td>PLACE_NAMES; BUSINESS_SITES</td>\n",
       "      <td>Spring Valley</td>\n",
       "      <td>24000.0</td>\n",
       "      <td>1</td>\n",
       "      <td>None</td>\n",
       "      <td>NaT</td>\n",
       "      <td>LWEDLEY</td>\n",
       "      <td>2022-04-11 21:35:34+00:00</td>\n",
       "      <td>1</td>\n",
       "      <td>91977.0</td>\n",
       "      <td>-116.997939</td>\n",
       "      <td>32.710443</td>\n",
       "      <td>POINT (-116.99794 32.71044)</td>\n",
       "    </tr>\n",
       "    <tr>\n",
       "      <th>1595</th>\n",
       "      <td>1596</td>\n",
       "      <td>The Universal Church</td>\n",
       "      <td>1136 E 18th St</td>\n",
       "      <td>National City</td>\n",
       "      <td>ReligiousStructure_C</td>\n",
       "      <td>A Building For Public Christian Worship</td>\n",
       "      <td>PLACE_NAMES; BUSINESS_SITES</td>\n",
       "      <td>National City</td>\n",
       "      <td>24000.0</td>\n",
       "      <td>1</td>\n",
       "      <td>None</td>\n",
       "      <td>NaT</td>\n",
       "      <td>LWEDLEY</td>\n",
       "      <td>2022-04-11 21:35:34+00:00</td>\n",
       "      <td>1</td>\n",
       "      <td>91950.0</td>\n",
       "      <td>-117.091430</td>\n",
       "      <td>32.670336</td>\n",
       "      <td>POINT (-117.09143 32.67034)</td>\n",
       "    </tr>\n",
       "    <tr>\n",
       "      <th>1660</th>\n",
       "      <td>1661</td>\n",
       "      <td>Apostolic Assembly of the Faith in Christ Church</td>\n",
       "      <td>530 Main Ave</td>\n",
       "      <td>S.D. County</td>\n",
       "      <td>ReligiousStructure_C</td>\n",
       "      <td>A Building For Public Christian Worship</td>\n",
       "      <td>PLACE_NAMES; GOOGLEMAPS</td>\n",
       "      <td>Fallbrook</td>\n",
       "      <td>24000.0</td>\n",
       "      <td>1</td>\n",
       "      <td>None</td>\n",
       "      <td>NaT</td>\n",
       "      <td>LWEDLEY</td>\n",
       "      <td>2022-04-11 21:35:34+00:00</td>\n",
       "      <td>1</td>\n",
       "      <td>92028.0</td>\n",
       "      <td>-117.251616</td>\n",
       "      <td>33.386248</td>\n",
       "      <td>POINT (-117.25162 33.38625)</td>\n",
       "    </tr>\n",
       "  </tbody>\n",
       "</table>\n",
       "</div>"
      ],
      "text/plain": [
       "      OBJECTID                                              NAME  \\\n",
       "1511      1512                          Calvary Church of Alpine   \n",
       "1512      1513                        Community Church of Alpine   \n",
       "1525      1526                           Temple of Christ Church   \n",
       "1595      1596                              The Universal Church   \n",
       "1660      1661  Apostolic Assembly of the Faith in Christ Church   \n",
       "\n",
       "                  ADDR         CITYNM                  TYPE  \\\n",
       "1511  2267 Victoria Dr    S.D. County  ReligiousStructure_C   \n",
       "1512  2225 Victoria Dr    S.D. County  ReligiousStructure_C   \n",
       "1525      726 GRAND AV    S.D. County  ReligiousStructure_C   \n",
       "1595    1136 E 18th St  National City  ReligiousStructure_C   \n",
       "1660      530 Main Ave    S.D. County  ReligiousStructure_C   \n",
       "\n",
       "                                      DESCRIP                      FEA_SRC  \\\n",
       "1511  A Building For Public Christian Worship     PLACE_NAMES; PARCELS_ALL   \n",
       "1512  A Building For Public Christian Worship  PARCELS_ALL; BUSINESS_SITES   \n",
       "1525  A Building For Public Christian Worship  PLACE_NAMES; BUSINESS_SITES   \n",
       "1595  A Building For Public Christian Worship  PLACE_NAMES; BUSINESS_SITES   \n",
       "1660  A Building For Public Christian Worship      PLACE_NAMES; GOOGLEMAPS   \n",
       "\n",
       "        COMMUNITYNM    SCALE  EDIT_REASON CREATOR CREATED   EDITOR  \\\n",
       "1511         Alpine  24000.0            1    None     NaT  LWEDLEY   \n",
       "1512         Alpine  24000.0            1    None     NaT  LWEDLEY   \n",
       "1525  Spring Valley  24000.0            1    None     NaT  LWEDLEY   \n",
       "1595  National City  24000.0            1    None     NaT  LWEDLEY   \n",
       "1660      Fallbrook  24000.0            1    None     NaT  LWEDLEY   \n",
       "\n",
       "                        EDITED  Primary_Display  Zipcode   Longitude  \\\n",
       "1511 2022-04-11 21:35:34+00:00                1  91901.0 -116.766700   \n",
       "1512 2022-04-11 21:35:34+00:00                1  91901.0 -116.766398   \n",
       "1525 2022-04-11 21:35:34+00:00                1  91977.0 -116.997939   \n",
       "1595 2022-04-11 21:35:34+00:00                1  91950.0 -117.091430   \n",
       "1660 2022-04-11 21:35:34+00:00                1  92028.0 -117.251616   \n",
       "\n",
       "       Latitude                     geometry  \n",
       "1511  32.837557  POINT (-116.76670 32.83756)  \n",
       "1512  32.836380  POINT (-116.76640 32.83638)  \n",
       "1525  32.710443  POINT (-116.99794 32.71044)  \n",
       "1595  32.670336  POINT (-117.09143 32.67034)  \n",
       "1660  33.386248  POINT (-117.25162 33.38625)  "
      ]
     },
     "execution_count": 87,
     "metadata": {},
     "output_type": "execute_result"
    }
   ],
   "source": [
    "religiousPow = pow[pow['TYPE'].isin(powVariables)]\n",
    "\n",
    "religiousPow.head()"
   ]
  },
  {
   "cell_type": "code",
   "execution_count": 88,
   "id": "685aa6c1-ff67-4782-a32a-9bb713acbc0d",
   "metadata": {},
   "outputs": [
    {
     "name": "stdout",
     "output_type": "stream",
     "text": [
      "Duplicate column names found:\n",
      "- NAME\n",
      "- geometry\n"
     ]
    }
   ],
   "source": [
    "duplicate_columns(religiousPow, csd)"
   ]
  },
  {
   "cell_type": "code",
   "execution_count": 89,
   "id": "b9daac63-37bf-42a8-9e79-26ffbb0e3570",
   "metadata": {},
   "outputs": [
    {
     "data": {
      "text/html": [
       "<div>\n",
       "<style scoped>\n",
       "    .dataframe tbody tr th:only-of-type {\n",
       "        vertical-align: middle;\n",
       "    }\n",
       "\n",
       "    .dataframe tbody tr th {\n",
       "        vertical-align: top;\n",
       "    }\n",
       "\n",
       "    .dataframe thead th {\n",
       "        text-align: right;\n",
       "    }\n",
       "</style>\n",
       "<table border=\"1\" class=\"dataframe\">\n",
       "  <thead>\n",
       "    <tr style=\"text-align: right;\">\n",
       "      <th></th>\n",
       "      <th>OBJECTID</th>\n",
       "      <th>CHURCH NAME</th>\n",
       "      <th>ADDR</th>\n",
       "      <th>CITYNM</th>\n",
       "      <th>TYPE</th>\n",
       "      <th>DESCRIP</th>\n",
       "      <th>FEA_SRC</th>\n",
       "      <th>COMMUNITYNM</th>\n",
       "      <th>SCALE</th>\n",
       "      <th>EDIT_REASON</th>\n",
       "      <th>CREATOR</th>\n",
       "      <th>CREATED</th>\n",
       "      <th>EDITOR</th>\n",
       "      <th>EDITED</th>\n",
       "      <th>Primary_Display</th>\n",
       "      <th>Zipcode</th>\n",
       "      <th>Longitude</th>\n",
       "      <th>Latitude</th>\n",
       "      <th>geometry</th>\n",
       "    </tr>\n",
       "  </thead>\n",
       "  <tbody>\n",
       "    <tr>\n",
       "      <th>1511</th>\n",
       "      <td>1512</td>\n",
       "      <td>Calvary Church of Alpine</td>\n",
       "      <td>2267 Victoria Dr</td>\n",
       "      <td>S.D. County</td>\n",
       "      <td>ReligiousStructure_C</td>\n",
       "      <td>A Building For Public Christian Worship</td>\n",
       "      <td>PLACE_NAMES; PARCELS_ALL</td>\n",
       "      <td>Alpine</td>\n",
       "      <td>24000.0</td>\n",
       "      <td>1</td>\n",
       "      <td>None</td>\n",
       "      <td>NaT</td>\n",
       "      <td>LWEDLEY</td>\n",
       "      <td>2022-04-11 21:35:34+00:00</td>\n",
       "      <td>1</td>\n",
       "      <td>91901.0</td>\n",
       "      <td>-116.766700</td>\n",
       "      <td>32.837557</td>\n",
       "      <td>POINT (-116.76670 32.83756)</td>\n",
       "    </tr>\n",
       "    <tr>\n",
       "      <th>1512</th>\n",
       "      <td>1513</td>\n",
       "      <td>Community Church of Alpine</td>\n",
       "      <td>2225 Victoria Dr</td>\n",
       "      <td>S.D. County</td>\n",
       "      <td>ReligiousStructure_C</td>\n",
       "      <td>A Building For Public Christian Worship</td>\n",
       "      <td>PARCELS_ALL; BUSINESS_SITES</td>\n",
       "      <td>Alpine</td>\n",
       "      <td>24000.0</td>\n",
       "      <td>1</td>\n",
       "      <td>None</td>\n",
       "      <td>NaT</td>\n",
       "      <td>LWEDLEY</td>\n",
       "      <td>2022-04-11 21:35:34+00:00</td>\n",
       "      <td>1</td>\n",
       "      <td>91901.0</td>\n",
       "      <td>-116.766398</td>\n",
       "      <td>32.836380</td>\n",
       "      <td>POINT (-116.76640 32.83638)</td>\n",
       "    </tr>\n",
       "    <tr>\n",
       "      <th>1525</th>\n",
       "      <td>1526</td>\n",
       "      <td>Temple of Christ Church</td>\n",
       "      <td>726 GRAND AV</td>\n",
       "      <td>S.D. County</td>\n",
       "      <td>ReligiousStructure_C</td>\n",
       "      <td>A Building For Public Christian Worship</td>\n",
       "      <td>PLACE_NAMES; BUSINESS_SITES</td>\n",
       "      <td>Spring Valley</td>\n",
       "      <td>24000.0</td>\n",
       "      <td>1</td>\n",
       "      <td>None</td>\n",
       "      <td>NaT</td>\n",
       "      <td>LWEDLEY</td>\n",
       "      <td>2022-04-11 21:35:34+00:00</td>\n",
       "      <td>1</td>\n",
       "      <td>91977.0</td>\n",
       "      <td>-116.997939</td>\n",
       "      <td>32.710443</td>\n",
       "      <td>POINT (-116.99794 32.71044)</td>\n",
       "    </tr>\n",
       "    <tr>\n",
       "      <th>1595</th>\n",
       "      <td>1596</td>\n",
       "      <td>The Universal Church</td>\n",
       "      <td>1136 E 18th St</td>\n",
       "      <td>National City</td>\n",
       "      <td>ReligiousStructure_C</td>\n",
       "      <td>A Building For Public Christian Worship</td>\n",
       "      <td>PLACE_NAMES; BUSINESS_SITES</td>\n",
       "      <td>National City</td>\n",
       "      <td>24000.0</td>\n",
       "      <td>1</td>\n",
       "      <td>None</td>\n",
       "      <td>NaT</td>\n",
       "      <td>LWEDLEY</td>\n",
       "      <td>2022-04-11 21:35:34+00:00</td>\n",
       "      <td>1</td>\n",
       "      <td>91950.0</td>\n",
       "      <td>-117.091430</td>\n",
       "      <td>32.670336</td>\n",
       "      <td>POINT (-117.09143 32.67034)</td>\n",
       "    </tr>\n",
       "    <tr>\n",
       "      <th>1660</th>\n",
       "      <td>1661</td>\n",
       "      <td>Apostolic Assembly of the Faith in Christ Church</td>\n",
       "      <td>530 Main Ave</td>\n",
       "      <td>S.D. County</td>\n",
       "      <td>ReligiousStructure_C</td>\n",
       "      <td>A Building For Public Christian Worship</td>\n",
       "      <td>PLACE_NAMES; GOOGLEMAPS</td>\n",
       "      <td>Fallbrook</td>\n",
       "      <td>24000.0</td>\n",
       "      <td>1</td>\n",
       "      <td>None</td>\n",
       "      <td>NaT</td>\n",
       "      <td>LWEDLEY</td>\n",
       "      <td>2022-04-11 21:35:34+00:00</td>\n",
       "      <td>1</td>\n",
       "      <td>92028.0</td>\n",
       "      <td>-117.251616</td>\n",
       "      <td>33.386248</td>\n",
       "      <td>POINT (-117.25162 33.38625)</td>\n",
       "    </tr>\n",
       "  </tbody>\n",
       "</table>\n",
       "</div>"
      ],
      "text/plain": [
       "      OBJECTID                                       CHURCH NAME  \\\n",
       "1511      1512                          Calvary Church of Alpine   \n",
       "1512      1513                        Community Church of Alpine   \n",
       "1525      1526                           Temple of Christ Church   \n",
       "1595      1596                              The Universal Church   \n",
       "1660      1661  Apostolic Assembly of the Faith in Christ Church   \n",
       "\n",
       "                  ADDR         CITYNM                  TYPE  \\\n",
       "1511  2267 Victoria Dr    S.D. County  ReligiousStructure_C   \n",
       "1512  2225 Victoria Dr    S.D. County  ReligiousStructure_C   \n",
       "1525      726 GRAND AV    S.D. County  ReligiousStructure_C   \n",
       "1595    1136 E 18th St  National City  ReligiousStructure_C   \n",
       "1660      530 Main Ave    S.D. County  ReligiousStructure_C   \n",
       "\n",
       "                                      DESCRIP                      FEA_SRC  \\\n",
       "1511  A Building For Public Christian Worship     PLACE_NAMES; PARCELS_ALL   \n",
       "1512  A Building For Public Christian Worship  PARCELS_ALL; BUSINESS_SITES   \n",
       "1525  A Building For Public Christian Worship  PLACE_NAMES; BUSINESS_SITES   \n",
       "1595  A Building For Public Christian Worship  PLACE_NAMES; BUSINESS_SITES   \n",
       "1660  A Building For Public Christian Worship      PLACE_NAMES; GOOGLEMAPS   \n",
       "\n",
       "        COMMUNITYNM    SCALE  EDIT_REASON CREATOR CREATED   EDITOR  \\\n",
       "1511         Alpine  24000.0            1    None     NaT  LWEDLEY   \n",
       "1512         Alpine  24000.0            1    None     NaT  LWEDLEY   \n",
       "1525  Spring Valley  24000.0            1    None     NaT  LWEDLEY   \n",
       "1595  National City  24000.0            1    None     NaT  LWEDLEY   \n",
       "1660      Fallbrook  24000.0            1    None     NaT  LWEDLEY   \n",
       "\n",
       "                        EDITED  Primary_Display  Zipcode   Longitude  \\\n",
       "1511 2022-04-11 21:35:34+00:00                1  91901.0 -116.766700   \n",
       "1512 2022-04-11 21:35:34+00:00                1  91901.0 -116.766398   \n",
       "1525 2022-04-11 21:35:34+00:00                1  91977.0 -116.997939   \n",
       "1595 2022-04-11 21:35:34+00:00                1  91950.0 -117.091430   \n",
       "1660 2022-04-11 21:35:34+00:00                1  92028.0 -117.251616   \n",
       "\n",
       "       Latitude                     geometry  \n",
       "1511  32.837557  POINT (-116.76670 32.83756)  \n",
       "1512  32.836380  POINT (-116.76640 32.83638)  \n",
       "1525  32.710443  POINT (-116.99794 32.71044)  \n",
       "1595  32.670336  POINT (-117.09143 32.67034)  \n",
       "1660  33.386248  POINT (-117.25162 33.38625)  "
      ]
     },
     "execution_count": 89,
     "metadata": {},
     "output_type": "execute_result"
    }
   ],
   "source": [
    "rename_column(religiousPow, old='NAME', new='CHURCH NAME')\n",
    "\n",
    "religiousPow.head()"
   ]
  },
  {
   "cell_type": "code",
   "execution_count": 90,
   "id": "122376b1-b247-45e4-911d-b20e887dd5ef",
   "metadata": {},
   "outputs": [
    {
     "data": {
      "text/html": [
       "<div>\n",
       "<style scoped>\n",
       "    .dataframe tbody tr th:only-of-type {\n",
       "        vertical-align: middle;\n",
       "    }\n",
       "\n",
       "    .dataframe tbody tr th {\n",
       "        vertical-align: top;\n",
       "    }\n",
       "\n",
       "    .dataframe thead th {\n",
       "        text-align: right;\n",
       "    }\n",
       "</style>\n",
       "<table border=\"1\" class=\"dataframe\">\n",
       "  <thead>\n",
       "    <tr style=\"text-align: right;\">\n",
       "      <th></th>\n",
       "      <th>OBJECTID</th>\n",
       "      <th>CHURCH NAME</th>\n",
       "      <th>ADDR</th>\n",
       "      <th>CITYNM</th>\n",
       "      <th>TYPE</th>\n",
       "      <th>DESCRIP</th>\n",
       "      <th>FEA_SRC</th>\n",
       "      <th>COMMUNITYNM</th>\n",
       "      <th>SCALE</th>\n",
       "      <th>EDIT_REASON</th>\n",
       "      <th>...</th>\n",
       "      <th>ALAND</th>\n",
       "      <th>AWATER</th>\n",
       "      <th>n_total_pop</th>\n",
       "      <th>p_poverty_rate</th>\n",
       "      <th>median_household_income</th>\n",
       "      <th>per_capita_income</th>\n",
       "      <th>p_nonhisp_white_persons</th>\n",
       "      <th>p_nonhisp_black_persons</th>\n",
       "      <th>p_hispanic_persons</th>\n",
       "      <th>p_asian_persons</th>\n",
       "    </tr>\n",
       "  </thead>\n",
       "  <tbody>\n",
       "    <tr>\n",
       "      <th>1661</th>\n",
       "      <td>1662</td>\n",
       "      <td>Apostolic Faith Garden of Prayer Church</td>\n",
       "      <td>6540 Brooklyn Ave</td>\n",
       "      <td>San Diego</td>\n",
       "      <td>ReligiousStructure_C</td>\n",
       "      <td>A Building For Public Christian Worship</td>\n",
       "      <td>PLACE_NAMES; BUSINESS_SITES</td>\n",
       "      <td>Encanto</td>\n",
       "      <td>24000.0</td>\n",
       "      <td>1</td>\n",
       "      <td>...</td>\n",
       "      <td>844031824.0</td>\n",
       "      <td>120532755.0</td>\n",
       "      <td>5456.0</td>\n",
       "      <td>19.621311</td>\n",
       "      <td>56324.0</td>\n",
       "      <td>26916.0</td>\n",
       "      <td>6.414956</td>\n",
       "      <td>13.251466</td>\n",
       "      <td>75.146628</td>\n",
       "      <td>3.170821</td>\n",
       "    </tr>\n",
       "    <tr>\n",
       "      <th>4552</th>\n",
       "      <td>4553</td>\n",
       "      <td>Encanto Southern Baptist Church</td>\n",
       "      <td>6020 Akins Ave</td>\n",
       "      <td>San Diego</td>\n",
       "      <td>ReligiousStructure_C</td>\n",
       "      <td>A Building For Public Christian Worship</td>\n",
       "      <td>PLACE_NAMES; BUSINESS_SITES</td>\n",
       "      <td>Encanto</td>\n",
       "      <td>24000.0</td>\n",
       "      <td>1</td>\n",
       "      <td>...</td>\n",
       "      <td>844031824.0</td>\n",
       "      <td>120532755.0</td>\n",
       "      <td>5456.0</td>\n",
       "      <td>19.621311</td>\n",
       "      <td>56324.0</td>\n",
       "      <td>26916.0</td>\n",
       "      <td>6.414956</td>\n",
       "      <td>13.251466</td>\n",
       "      <td>75.146628</td>\n",
       "      <td>3.170821</td>\n",
       "    </tr>\n",
       "    <tr>\n",
       "      <th>4624</th>\n",
       "      <td>4625</td>\n",
       "      <td>Grace Missionary Baptist Church</td>\n",
       "      <td>6328 Brooklyn Ave</td>\n",
       "      <td>San Diego</td>\n",
       "      <td>ReligiousStructure_C</td>\n",
       "      <td>A Building For Public Christian Worship</td>\n",
       "      <td>BUSINESS_SITES; PARCELS_ALL</td>\n",
       "      <td>Encanto</td>\n",
       "      <td>24000.0</td>\n",
       "      <td>1</td>\n",
       "      <td>...</td>\n",
       "      <td>844031824.0</td>\n",
       "      <td>120532755.0</td>\n",
       "      <td>5456.0</td>\n",
       "      <td>19.621311</td>\n",
       "      <td>56324.0</td>\n",
       "      <td>26916.0</td>\n",
       "      <td>6.414956</td>\n",
       "      <td>13.251466</td>\n",
       "      <td>75.146628</td>\n",
       "      <td>3.170821</td>\n",
       "    </tr>\n",
       "    <tr>\n",
       "      <th>13610</th>\n",
       "      <td>13611</td>\n",
       "      <td>Shiloh Temple Apostolic Church</td>\n",
       "      <td>5842 Market St</td>\n",
       "      <td>San Diego</td>\n",
       "      <td>ReligiousStructure_C</td>\n",
       "      <td>A Building For Public Christian Worship</td>\n",
       "      <td>PLACE_NAMES; BUSINESS_SITES</td>\n",
       "      <td>Emerald Hills</td>\n",
       "      <td>24000.0</td>\n",
       "      <td>1</td>\n",
       "      <td>...</td>\n",
       "      <td>844031824.0</td>\n",
       "      <td>120532755.0</td>\n",
       "      <td>5456.0</td>\n",
       "      <td>19.621311</td>\n",
       "      <td>56324.0</td>\n",
       "      <td>26916.0</td>\n",
       "      <td>6.414956</td>\n",
       "      <td>13.251466</td>\n",
       "      <td>75.146628</td>\n",
       "      <td>3.170821</td>\n",
       "    </tr>\n",
       "    <tr>\n",
       "      <th>17894</th>\n",
       "      <td>17895</td>\n",
       "      <td>2nd Iglesia Apostolica de la Fe En Cristo Jesus</td>\n",
       "      <td>5863 Market St</td>\n",
       "      <td>San Diego</td>\n",
       "      <td>ReligiousStructure_C</td>\n",
       "      <td>None</td>\n",
       "      <td>BUSINESS_SITES; GOOGLEMAPS</td>\n",
       "      <td>Encanto</td>\n",
       "      <td>NaN</td>\n",
       "      <td>1</td>\n",
       "      <td>...</td>\n",
       "      <td>844031824.0</td>\n",
       "      <td>120532755.0</td>\n",
       "      <td>5456.0</td>\n",
       "      <td>19.621311</td>\n",
       "      <td>56324.0</td>\n",
       "      <td>26916.0</td>\n",
       "      <td>6.414956</td>\n",
       "      <td>13.251466</td>\n",
       "      <td>75.146628</td>\n",
       "      <td>3.170821</td>\n",
       "    </tr>\n",
       "  </tbody>\n",
       "</table>\n",
       "<p>5 rows × 40 columns</p>\n",
       "</div>"
      ],
      "text/plain": [
       "       OBJECTID                                      CHURCH NAME  \\\n",
       "1661       1662          Apostolic Faith Garden of Prayer Church   \n",
       "4552       4553                  Encanto Southern Baptist Church   \n",
       "4624       4625                  Grace Missionary Baptist Church   \n",
       "13610     13611                   Shiloh Temple Apostolic Church   \n",
       "17894     17895  2nd Iglesia Apostolica de la Fe En Cristo Jesus   \n",
       "\n",
       "                    ADDR     CITYNM                  TYPE  \\\n",
       "1661   6540 Brooklyn Ave  San Diego  ReligiousStructure_C   \n",
       "4552      6020 Akins Ave  San Diego  ReligiousStructure_C   \n",
       "4624   6328 Brooklyn Ave  San Diego  ReligiousStructure_C   \n",
       "13610     5842 Market St  San Diego  ReligiousStructure_C   \n",
       "17894     5863 Market St  San Diego  ReligiousStructure_C   \n",
       "\n",
       "                                       DESCRIP                      FEA_SRC  \\\n",
       "1661   A Building For Public Christian Worship  PLACE_NAMES; BUSINESS_SITES   \n",
       "4552   A Building For Public Christian Worship  PLACE_NAMES; BUSINESS_SITES   \n",
       "4624   A Building For Public Christian Worship  BUSINESS_SITES; PARCELS_ALL   \n",
       "13610  A Building For Public Christian Worship  PLACE_NAMES; BUSINESS_SITES   \n",
       "17894                                     None   BUSINESS_SITES; GOOGLEMAPS   \n",
       "\n",
       "         COMMUNITYNM    SCALE  EDIT_REASON  ...        ALAND       AWATER  \\\n",
       "1661         Encanto  24000.0            1  ...  844031824.0  120532755.0   \n",
       "4552         Encanto  24000.0            1  ...  844031824.0  120532755.0   \n",
       "4624         Encanto  24000.0            1  ...  844031824.0  120532755.0   \n",
       "13610  Emerald Hills  24000.0            1  ...  844031824.0  120532755.0   \n",
       "17894        Encanto      NaN            1  ...  844031824.0  120532755.0   \n",
       "\n",
       "      n_total_pop p_poverty_rate  median_household_income  per_capita_income  \\\n",
       "1661       5456.0      19.621311                  56324.0            26916.0   \n",
       "4552       5456.0      19.621311                  56324.0            26916.0   \n",
       "4624       5456.0      19.621311                  56324.0            26916.0   \n",
       "13610      5456.0      19.621311                  56324.0            26916.0   \n",
       "17894      5456.0      19.621311                  56324.0            26916.0   \n",
       "\n",
       "       p_nonhisp_white_persons  p_nonhisp_black_persons p_hispanic_persons  \\\n",
       "1661                  6.414956                13.251466          75.146628   \n",
       "4552                  6.414956                13.251466          75.146628   \n",
       "4624                  6.414956                13.251466          75.146628   \n",
       "13610                 6.414956                13.251466          75.146628   \n",
       "17894                 6.414956                13.251466          75.146628   \n",
       "\n",
       "       p_asian_persons  \n",
       "1661          3.170821  \n",
       "4552          3.170821  \n",
       "4624          3.170821  \n",
       "13610         3.170821  \n",
       "17894         3.170821  \n",
       "\n",
       "[5 rows x 40 columns]"
      ]
     },
     "execution_count": 90,
     "metadata": {},
     "output_type": "execute_result"
    }
   ],
   "source": [
    "sdPow = gpd.sjoin(religiousPow, csd, how='inner', predicate='within')\n",
    "\n",
    "sdPow.head()"
   ]
  },
  {
   "cell_type": "code",
   "execution_count": 91,
   "id": "8e0ca8cc-6eab-4bfb-a6c3-5817354b5063",
   "metadata": {},
   "outputs": [],
   "source": [
    "sdPow[['CREATED', 'EDITED']] = sdPow[['CREATED', 'EDITED']].astype(str)"
   ]
  },
  {
   "cell_type": "code",
   "execution_count": 92,
   "id": "d45691ea-9fae-4b62-ac53-908b2ef3b561",
   "metadata": {},
   "outputs": [
    {
     "data": {
      "text/plain": [
       "<Axes: >"
      ]
     },
     "execution_count": 92,
     "metadata": {},
     "output_type": "execute_result"
    },
    {
     "data": {
      "image/png": "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",
      "text/plain": [
       "<Figure size 640x480 with 1 Axes>"
      ]
     },
     "metadata": {},
     "output_type": "display_data"
    }
   ],
   "source": [
    "sdPow.plot()"
   ]
  },
  {
   "cell_type": "markdown",
   "id": "795715a0-f88b-4055-9d73-ae2288c3ee80",
   "metadata": {},
   "source": [
    "```sdPow.to_file('./data/sd_worship/spatial-joins/sdPow.geojson')```"
>>>>>>> upstream/main
   ]
  }
 ],
 "metadata": {
  "kernelspec": {
   "display_name": "Python 3 (ipykernel)",
   "language": "python",
   "name": "python3"
  },
  "language_info": {
   "codemirror_mode": {
    "name": "ipython",
    "version": 3
   },
   "file_extension": ".py",
   "mimetype": "text/x-python",
   "name": "python",
   "nbconvert_exporter": "python",
   "pygments_lexer": "ipython3",
   "version": "3.10.10"
  }
 },
 "nbformat": 4,
 "nbformat_minor": 5
}
