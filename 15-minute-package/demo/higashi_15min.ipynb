{
 "cells": [
  {
   "cell_type": "markdown",
   "id": "5bd0c19e-d2d5-4c47-a054-cfdb6eeafcc1",
   "metadata": {},
   "source": [
    "# Final Group Project\n",
    "### 15-minute walkable city comparison: San Diego and Washington D.C.\n",
    "Group members: Cara Higashi, Robert Lopez, Joseph Sy, Giovanni Ramos Gutierrez\n"
   ]
  },
  {
   "cell_type": "markdown",
   "id": "59d3ce0b-dd2a-40bb-97e3-88768606f825",
   "metadata": {},
   "source": [
    "## Import Datasets"
   ]
  },
  {
   "cell_type": "code",
   "execution_count": 2,
   "id": "00079ce8-d43e-4e27-a64b-c4c79d47ef5f",
   "metadata": {},
   "outputs": [
    {
     "ename": "ModuleNotFoundError",
     "evalue": "No module named 'functions'",
     "output_type": "error",
     "traceback": [
      "\u001b[0;31m---------------------------------------------------------------------------\u001b[0m",
      "\u001b[0;31mModuleNotFoundError\u001b[0m                       Traceback (most recent call last)",
      "Cell \u001b[0;32mIn[2], line 5\u001b[0m\n\u001b[1;32m      3\u001b[0m \u001b[38;5;28;01mimport\u001b[39;00m \u001b[38;5;21;01mnumpy\u001b[39;00m \u001b[38;5;28;01mas\u001b[39;00m \u001b[38;5;21;01mnp\u001b[39;00m\n\u001b[1;32m      4\u001b[0m \u001b[38;5;28;01mimport\u001b[39;00m \u001b[38;5;21;01mmatplotlib\u001b[39;00m\u001b[38;5;21;01m.\u001b[39;00m\u001b[38;5;21;01mpyplot\u001b[39;00m \u001b[38;5;28;01mas\u001b[39;00m \u001b[38;5;21;01mplt\u001b[39;00m\n\u001b[0;32m----> 5\u001b[0m \u001b[38;5;28;01mfrom\u001b[39;00m \u001b[38;5;21;01mfunctions\u001b[39;00m\u001b[38;5;21;01m.\u001b[39;00m\u001b[38;5;21;01mdup_col\u001b[39;00m \u001b[38;5;28;01mimport\u001b[39;00m duplicate_columns\n",
      "\u001b[0;31mModuleNotFoundError\u001b[0m: No module named 'functions'"
     ]
    }
   ],
   "source": [
    "import pandas as pd\n",
    "import geopandas as gpd\n",
    "import numpy as np\n",
    "import matplotlib.pyplot as plt\n",
    "from dup_col import duplicate_columns"
   ]
  },
  {
   "cell_type": "markdown",
   "id": "4607dabe-4225-4243-a611-af40d97cbda5",
   "metadata": {},
   "source": [
    "## TESTINGGGG"
   ]
  },
  {
   "cell_type": "code",
   "execution_count": null,
   "id": "7cb1dd0c-8d76-4c09-9a41-1d198d7550bb",
   "metadata": {},
   "outputs": [],
   "source": [
    "# import census data for city boundaries\n",
    "census_path = \"~/15min/cities/cb_2023_us_place_500k.shp\""
   ]
  },
  {
   "cell_type": "code",
   "execution_count": null,
   "id": "252d4679-83b6-4e41-a13a-c0b328482c94",
   "metadata": {
    "scrolled": true
   },
   "outputs": [],
   "source": [
    "census_gdf = gpd.read_file(census_path, geometry='geometry')"
   ]
  },
  {
   "cell_type": "code",
   "execution_count": null,
   "id": "6e412b7f-1f77-4870-89fc-218b5488c000",
   "metadata": {},
   "outputs": [],
   "source": [
    "census_gdf.head()"
   ]
  },
  {
   "cell_type": "code",
   "execution_count": null,
   "id": "2a3dab10-f8bb-4b18-a98f-f934779176cb",
   "metadata": {},
   "outputs": [],
   "source": [
    "census_gdf.plot()"
   ]
  },
  {
   "cell_type": "code",
   "execution_count": null,
   "id": "63555e4a-282e-4bc7-8988-4e4e0b2e7f2e",
   "metadata": {},
   "outputs": [],
   "source": [
    "census_gdf.shape"
   ]
  },
  {
   "cell_type": "code",
   "execution_count": null,
   "id": "969370e5-7a4f-4679-a1b2-ee56939a95fe",
   "metadata": {},
   "outputs": [],
   "source": [
    "# filter for only city of San Diego \n",
    "sd_gdf = census_gdf[census_gdf['NAME'] == 'San Diego']"
   ]
  },
  {
   "cell_type": "code",
   "execution_count": null,
   "id": "1f2c4281-c50c-4ee6-958e-0aa5f160c312",
   "metadata": {},
   "outputs": [],
   "source": [
    "sd_gdf"
   ]
  },
  {
   "cell_type": "code",
   "execution_count": null,
   "id": "d8b9d59c-08d6-486e-b4a4-ce4abe469e62",
   "metadata": {},
   "outputs": [],
   "source": [
    "sd = sd_gdf[sd_gdf['STATE_NAME'] == 'California']\n",
    "sd"
   ]
  },
  {
   "cell_type": "code",
   "execution_count": null,
   "id": "45969f94-4027-4cec-90db-94032b299edb",
   "metadata": {
    "scrolled": true
   },
   "outputs": [],
   "source": [
    "sd.plot()"
   ]
  },
  {
   "cell_type": "code",
   "execution_count": null,
   "id": "0e254b2d-7953-46c9-884e-a368640eece4",
   "metadata": {},
   "outputs": [],
   "source": [
    "# filter for only DC \n",
    "dc_gdf = census_gdf[census_gdf['STATE_NAME'] == 'District of Columbia']"
   ]
  },
  {
   "cell_type": "code",
   "execution_count": null,
   "id": "94005221-acca-4612-818d-4ae351a0f10f",
   "metadata": {},
   "outputs": [],
   "source": [
    "dc_gdf"
   ]
  },
  {
   "cell_type": "code",
   "execution_count": null,
   "id": "a1054941-2c54-4e9e-8c60-bf2eecf71174",
   "metadata": {},
   "outputs": [],
   "source": [
    "dc_gdf.plot()"
   ]
  },
  {
   "cell_type": "markdown",
   "id": "b5b07b31-1d92-46f6-90bb-0bd820a39b9a",
   "metadata": {},
   "source": [
    "## SD and DC Tracts"
   ]
  },
  {
   "cell_type": "code",
   "execution_count": null,
   "id": "c44fd241-cb30-4f28-a160-3ca9c68fe8a3",
   "metadata": {},
   "outputs": [],
   "source": [
    "tracts = gpd.read_file(\"~/15min/tracts/cb_2022_us_tract_5m.shp\", geometry='geometry')"
   ]
  },
  {
   "cell_type": "code",
   "execution_count": null,
   "id": "506fbc51-1308-44dd-87a3-efc467235fe3",
   "metadata": {},
   "outputs": [],
   "source": [
    "tracts.columns.values"
   ]
  },
  {
   "cell_type": "code",
   "execution_count": null,
   "id": "cfb5cefb-5323-440b-b4c9-af0941007af6",
   "metadata": {},
   "outputs": [],
   "source": [
    "sd_tracts = tracts[(tracts['STATE_NAME'] == 'California') & (tracts['COUNTYFP'] == '073')]"
   ]
  },
  {
   "cell_type": "code",
   "execution_count": null,
   "id": "0f093370-8bc0-4ed4-880d-9cdba76cd540",
   "metadata": {},
   "outputs": [],
   "source": [
    "dc_tracts = tracts[tracts['STATE_NAME'] == 'District of Columbia']"
   ]
  },
  {
   "cell_type": "code",
   "execution_count": null,
   "id": "b7d9caae-bd72-4d63-a1e7-36047b2c26dd",
   "metadata": {},
   "outputs": [],
   "source": [
    "sd_tracts.plot()"
   ]
  },
  {
   "cell_type": "code",
   "execution_count": null,
   "id": "67b70648-943d-4f74-9b22-c2fca16be373",
   "metadata": {},
   "outputs": [],
   "source": [
    "duplicate_columns(sd_tracts, sd_gdf)"
   ]
  },
  {
   "cell_type": "code",
   "execution_count": null,
   "id": "2f26fb5c-bf35-480a-bbdd-e9cf5cd149de",
   "metadata": {},
   "outputs": [],
   "source": [
    "\n",
    "sd_city = gpd.overlay(sd_tracts, sd, how='identity', keep_geom_type=None, make_valid=True) "
   ]
  },
  {
   "cell_type": "markdown",
   "id": "b33412b2-7fa5-4f4e-b6ed-2dc572f55f70",
   "metadata": {},
   "source": [
    "## San Diego Schools"
   ]
  },
  {
   "cell_type": "code",
   "execution_count": null,
   "id": "821ef0e7-2de7-4891-98f3-5654a7403fbf",
   "metadata": {},
   "outputs": [],
   "source": [
    "# import national school dataset, then filter for sd and dc\n",
    "schools_path = \"~/15min/schools/EDGE_GEOCODE_PUBLICSCH_2223.shp\""
   ]
  },
  {
   "cell_type": "code",
   "execution_count": null,
   "id": "3505bd3c-f95a-4a3b-917b-9062f3063adc",
   "metadata": {},
   "outputs": [],
   "source": [
    "schools = gpd.read_file(schools_path, geometry='geometry')"
   ]
  },
  {
   "cell_type": "code",
   "execution_count": null,
   "id": "7425a115-4999-4b00-a711-58b3defe53a5",
   "metadata": {},
   "outputs": [],
   "source": [
    "type(schools)"
   ]
  },
  {
   "cell_type": "code",
   "execution_count": null,
   "id": "6169bf6a-b2f5-49dc-8d05-db02fefbbd60",
   "metadata": {},
   "outputs": [],
   "source": [
    "schools.head()"
   ]
  },
  {
   "cell_type": "code",
   "execution_count": null,
   "id": "4ca6df11-aa31-49af-8737-67404c594533",
   "metadata": {},
   "outputs": [],
   "source": [
    "ca_schools = schools[schools['STATE'] == 'CA']"
   ]
  },
  {
   "cell_type": "code",
   "execution_count": null,
   "id": "39f3e84c-01d1-4450-b098-16a0c4928e50",
   "metadata": {},
   "outputs": [],
   "source": [
    "sd_schools = ca_schools[ca_schools['CITY'] == 'San Diego']"
   ]
  },
  {
   "cell_type": "code",
   "execution_count": null,
   "id": "430a660b-ade1-42e0-92e1-42570edbebf0",
   "metadata": {
    "scrolled": true
   },
   "outputs": [],
   "source": [
    "sd_schools"
   ]
  },
  {
   "cell_type": "code",
   "execution_count": null,
   "id": "f0227327-8c32-4f44-b4c0-a21b71ceabbe",
   "metadata": {},
   "outputs": [],
   "source": [
    "sd_schools.plot()"
   ]
  },
  {
   "cell_type": "markdown",
   "id": "2df41d62-4f48-4456-baf8-2952bdb667f0",
   "metadata": {},
   "source": [
    "## Wahsington DC Schools"
   ]
  },
  {
   "cell_type": "code",
   "execution_count": null,
   "id": "4b663209-ec15-4f0e-83d5-6f0a79ad96c4",
   "metadata": {
    "scrolled": true
   },
   "outputs": [],
   "source": [
    "schools"
   ]
  },
  {
   "cell_type": "code",
   "execution_count": null,
   "id": "9edce100-2444-4ef1-a65f-cbfd31b90fd7",
   "metadata": {
    "scrolled": true
   },
   "outputs": [],
   "source": [
    "dc_schools = gpd.GeoDataFrame(schools[schools['STATE'] == 'DC'], geometry=schools['geometry'])\n",
    "dc_schools"
   ]
  },
  {
   "cell_type": "code",
   "execution_count": null,
   "id": "da828706-c7f4-427f-a384-420d48550d85",
   "metadata": {},
   "outputs": [],
   "source": [
    "type(dc_schools)"
   ]
  },
  {
   "cell_type": "code",
   "execution_count": null,
   "id": "14547cae-a6f5-4e37-a6b7-199b4bf3b864",
   "metadata": {},
   "outputs": [],
   "source": [
    "dc_schools.plot()"
   ]
  },
  {
   "cell_type": "code",
   "execution_count": null,
   "id": "5e48b795-c624-4762-a47e-a2d2b18c9570",
   "metadata": {},
   "outputs": [],
   "source": [
    "dc_schools.columns.values"
   ]
  },
  {
   "cell_type": "code",
   "execution_count": null,
   "id": "71ce4b26-59d4-460c-8401-a508eaa6757c",
   "metadata": {},
   "outputs": [],
   "source": [
    "dc_gdf"
   ]
  },
  {
   "cell_type": "code",
   "execution_count": null,
   "id": "054ca6d1-d6e1-473d-b679-928e08e3934b",
   "metadata": {},
   "outputs": [],
   "source": [
    "# not sure what is going on here, ask robert\n",
    "\n",
    "#dc_schools = dc_schools.merge(dc_gdf, left_on='STATE', right_on='STUSPS', how='inner').reset_index(drop=True)"
   ]
  },
  {
   "cell_type": "code",
   "execution_count": null,
   "id": "067e2696-9041-4dab-a4e7-16d41497fcd9",
   "metadata": {},
   "outputs": [],
   "source": [
    "dc_schools.columns.values"
   ]
  },
  {
   "cell_type": "code",
   "execution_count": null,
   "id": "f339c1aa-1072-4092-abd7-78e50a27cf15",
   "metadata": {},
   "outputs": [],
   "source": [
    "type(dc_schools)"
   ]
  },
  {
   "cell_type": "code",
   "execution_count": null,
   "id": "bd9aaa00-56f1-4649-bc24-82b73203edaf",
   "metadata": {},
   "outputs": [],
   "source": [
    "dc_schools.plot()"
   ]
  },
  {
   "cell_type": "code",
   "execution_count": null,
   "id": "10ec4f8d-68c0-4e33-9dc6-f04c0f597079",
   "metadata": {
    "scrolled": true
   },
   "outputs": [],
   "source": [
    "# ask robert\n",
    "\n",
    "#joined_gdf = gpd.sjoin(dc_schools, dc_gdf, how=\"inner\", predicate=\"intersects\")\n",
    "#joined_gdf"
   ]
  },
  {
   "cell_type": "code",
   "execution_count": null,
   "id": "cd350e87-7601-4a35-8a84-a72279700468",
   "metadata": {},
   "outputs": [],
   "source": [
    "\n",
    "# joined_gdf.columns.values"
   ]
  },
  {
   "cell_type": "code",
   "execution_count": null,
   "id": "5838e0a0-b217-46c5-a5b6-54ad25ed0170",
   "metadata": {
    "scrolled": true
   },
   "outputs": [],
   "source": [
    "# joined_gdf.plot()"
   ]
  },
  {
   "cell_type": "code",
   "execution_count": null,
   "id": "620444e3-5074-4b04-b0cd-8d40f74b09cf",
   "metadata": {
    "scrolled": true
   },
   "outputs": [],
   "source": [
    "# joined_gdf"
   ]
  },
  {
   "cell_type": "markdown",
   "id": "49b83840-ce0b-48d1-941b-9bdd55c48541",
   "metadata": {},
   "source": [
    "## Hospitals"
   ]
  },
  {
   "cell_type": "code",
   "execution_count": null,
   "id": "c1ee5728-393f-4610-b59f-e5d6b0c31aed",
   "metadata": {},
   "outputs": [],
   "source": [
    "hospitals_path = \"~/15min/hospitals/Hospitals.shp\""
   ]
  },
  {
   "cell_type": "code",
   "execution_count": null,
   "id": "18cbc953-3058-4f94-95e7-50cc14e284de",
   "metadata": {},
   "outputs": [],
   "source": [
    "hospitals = gpd.read_file(hospitals_path, geometry='geometry')"
   ]
  },
  {
   "cell_type": "code",
   "execution_count": null,
   "id": "40c53676-dd0e-4086-9c3a-08a93601924d",
   "metadata": {
    "scrolled": true
   },
   "outputs": [],
   "source": [
    "hospitals.head()"
   ]
  },
  {
   "cell_type": "markdown",
   "id": "f731a879-fdfd-41b1-8b4c-b25296cdde71",
   "metadata": {},
   "source": [
    "## SD Hospitals"
   ]
  },
  {
   "cell_type": "code",
   "execution_count": null,
   "id": "2622851f-8141-43ca-a3cb-61c59f0320ec",
   "metadata": {},
   "outputs": [],
   "source": [
    "sd_hospitals = hospitals[hospitals['CITY'].str.contains('SAN DIEGO', 'LA JOLLA')]"
   ]
  },
  {
   "cell_type": "code",
   "execution_count": null,
   "id": "ee48d474-e541-4e99-bc8c-7348d4247fbd",
   "metadata": {
    "scrolled": true
   },
   "outputs": [],
   "source": [
    "sd_hospitals"
   ]
  },
  {
   "cell_type": "code",
   "execution_count": null,
   "id": "d0bb25dc-3feb-4b36-b6cc-6f917b6c259d",
   "metadata": {},
   "outputs": [],
   "source": [
    "sd_hospitals.explore()"
   ]
  },
  {
   "cell_type": "markdown",
   "id": "3740f4a3-b151-4cbf-860c-525cf72c0ae1",
   "metadata": {},
   "source": [
    "## DC Hospitals"
   ]
  },
  {
   "cell_type": "code",
   "execution_count": null,
   "id": "f2c2c45f-f7c9-45a4-bfba-9d5c5046fc8e",
   "metadata": {},
   "outputs": [],
   "source": [
    "dc_hospitals = hospitals[hospitals['STATE'].str.contains('DC')]\n"
   ]
  },
  {
   "cell_type": "code",
   "execution_count": null,
   "id": "ba50dd59-36d8-4cff-a7ab-7a50b7999cdc",
   "metadata": {
    "scrolled": true
   },
   "outputs": [],
   "source": [
    "dc_hospitals.explore()"
   ]
  },
  {
   "cell_type": "markdown",
   "id": "c5c445e3-cfdf-4e42-bbca-952d0711ac4d",
   "metadata": {},
   "source": [
    "## DC Bus Stops"
   ]
  },
  {
   "cell_type": "code",
   "execution_count": null,
   "id": "f8586df1-5ff4-40e3-842c-1f33f523c651",
   "metadata": {},
   "outputs": [],
   "source": [
    "dc_stops = gpd.read_file(\"~/15min/dc_bus_stops/Metro_Bus_Stops.shp\", geometry='geometry')"
   ]
  },
  {
   "cell_type": "code",
   "execution_count": null,
   "id": "58129df8-1d2e-42a2-ba9b-9e0df827c79a",
   "metadata": {
    "scrolled": true
   },
   "outputs": [],
   "source": [
    "dc_stops.plot()"
   ]
  },
  {
   "cell_type": "code",
   "execution_count": null,
   "id": "6ec880b2-b079-4576-b13c-7fb3d89efa45",
   "metadata": {
    "scrolled": true
   },
   "outputs": [],
   "source": [
    "dc_stops.columns"
   ]
  },
  {
   "cell_type": "markdown",
   "id": "51c0237c-cb58-4a4b-8dfb-66e2ab7fbb0b",
   "metadata": {},
   "source": [
    "## SD Bus Stops"
   ]
  },
  {
   "cell_type": "code",
   "execution_count": null,
   "id": "dbc50ccf-4ef3-47cb-a983-f672d2d04cd9",
   "metadata": {},
   "outputs": [],
   "source": [
    "\n",
    "sd_stops = gpd.read_file(\"~/15min/sd_stops/transit_stops_datasd.shp\", geometry='geometry')"
   ]
  },
  {
   "cell_type": "code",
   "execution_count": null,
   "id": "a3b0e81d-d47e-4ad1-aaee-1d79af1367db",
   "metadata": {},
   "outputs": [],
   "source": [
    "sd_stops = sd_stops[sd_stops['stop_agncy']=='MTS']"
   ]
  },
  {
   "cell_type": "code",
   "execution_count": null,
   "id": "67379186-5b28-4b6e-8989-0e1653f8037a",
   "metadata": {},
   "outputs": [],
   "source": [
    "sd_stops.explore()   #sd county, how to limit to City only"
   ]
  },
  {
   "cell_type": "markdown",
   "id": "aec75f98-7f5c-4087-b737-d776c8bd1037",
   "metadata": {},
   "source": [
    "## DC Parks"
   ]
  },
  {
   "cell_type": "code",
   "execution_count": null,
   "id": "83f9d59f-675d-482e-88a0-86fa7712874e",
   "metadata": {},
   "outputs": [],
   "source": [
    "\n",
    "dc_parks = gpd.read_file(\"~/15min/dc_parks/Parks_and_Recreation_Areas.shp\", geometry='geometry')"
   ]
  },
  {
   "cell_type": "code",
   "execution_count": null,
   "id": "a7de432e-a936-4ad1-9022-e39d07c10b77",
   "metadata": {
    "scrolled": true
   },
   "outputs": [],
   "source": [
    "dc_parks.plot()"
   ]
  },
  {
   "cell_type": "markdown",
   "id": "59d9ad21-1791-4c1e-96f8-785749654fc7",
   "metadata": {},
   "source": [
    "## SD Parks"
   ]
  },
  {
   "cell_type": "code",
   "execution_count": null,
   "id": "116f459b-224f-4efe-870f-ba020b08d483",
   "metadata": {},
   "outputs": [],
   "source": [
    "sd_parks = gpd.read_file(\"~/15min/sd_parks/parks_datasd.shp\", geometry='geometry')"
   ]
  },
  {
   "cell_type": "code",
   "execution_count": null,
   "id": "e7845b85-a3c4-4792-a73a-6825381085a6",
   "metadata": {
    "scrolled": true
   },
   "outputs": [],
   "source": [
    "sd_parks.plot()"
   ]
  },
  {
   "cell_type": "markdown",
   "id": "18e7707c-c537-4625-8aa6-ab83acd26e32",
   "metadata": {},
   "source": [
    "## DC Places of Worship"
   ]
  },
  {
   "cell_type": "code",
   "execution_count": null,
   "id": "6754f8a8-fb6b-49a0-be87-2c525630e1bb",
   "metadata": {},
   "outputs": [],
   "source": [
    "\n",
    "dc_worship = gpd.read_file(\"~/15min/dc_worship/Places_of_Worship.shp\", geometry='geometry')"
   ]
  },
  {
   "cell_type": "code",
   "execution_count": null,
   "id": "2db990d8-0eb3-4493-8465-f4c1506db8fb",
   "metadata": {
    "scrolled": true
   },
   "outputs": [],
   "source": [
    "dc_worship.plot()"
   ]
  },
  {
   "cell_type": "markdown",
   "id": "0befdce3-52e4-4990-af39-defd1b59df27",
   "metadata": {},
   "source": [
    "## DC Grocery "
   ]
  },
  {
   "cell_type": "code",
   "execution_count": null,
   "id": "bcd94ff0-f689-4fe3-9e27-4a44f8b9931d",
   "metadata": {},
   "outputs": [],
   "source": [
    "dc_grocery = gpd.read_file(\"~/15min/dc_grocery/Grocery_Store_Locations.shp\", geometry='geometry')"
   ]
  },
  {
   "cell_type": "code",
   "execution_count": null,
   "id": "05e87939-ee90-4cea-8b71-0d60ed740253",
   "metadata": {
    "scrolled": true
   },
   "outputs": [],
   "source": [
    "dc_grocery.plot()"
   ]
  },
  {
   "cell_type": "code",
   "execution_count": null,
   "id": "1f7eb9fd-f5fd-4bb9-819b-24cfec9c8dc2",
   "metadata": {},
   "outputs": [],
   "source": [
    "dc_grocery.crs"
   ]
  },
  {
   "cell_type": "markdown",
   "id": "0804a630-72c1-4731-a18b-150b89ae457f",
   "metadata": {},
   "source": [
    "## SD Places of Worship"
   ]
  },
  {
   "cell_type": "code",
   "execution_count": null,
   "id": "be6ede3d-b576-4759-883d-f4386f6c7410",
   "metadata": {
    "scrolled": true
   },
   "outputs": [],
   "source": [
    "sd_worship = gpd.read_file(\"~/15min/sd_worship/PLACES.shp\", geometry='geometry')\n",
    "sd_worship.head()"
   ]
  },
  {
   "cell_type": "code",
   "execution_count": null,
   "id": "8283f137-f22a-4724-a03f-779ad864ae52",
   "metadata": {},
   "outputs": [],
   "source": [
    "sd_worship = sd_worship[sd_worship['TYPE'].str.contains('Religious')]"
   ]
  },
  {
   "cell_type": "code",
   "execution_count": null,
   "id": "c6039cbd-ad50-4cdf-9025-1c5cbaf25bc2",
   "metadata": {},
   "outputs": [],
   "source": [
    "sd_worship = sd_worship[sd_worship['CITYNM']=='San Diego']"
   ]
  },
  {
   "cell_type": "code",
   "execution_count": null,
   "id": "4ed1e771-2249-4840-aff6-4ed7a28f821c",
   "metadata": {
    "scrolled": true
   },
   "outputs": [],
   "source": [
    "sd_worship.explore()"
   ]
  },
  {
   "cell_type": "code",
   "execution_count": null,
   "id": "37b62c22-895f-4d2e-90ac-f576684050e0",
   "metadata": {},
   "outputs": [],
   "source": [
    "sd_stops.crs"
   ]
  },
  {
   "cell_type": "code",
   "execution_count": null,
   "id": "b6f0ef45-843f-4599-aea3-9d737c41634d",
   "metadata": {
    "scrolled": true
   },
   "outputs": [],
   "source": [
    "sd.crs"
   ]
  },
  {
   "cell_type": "markdown",
   "id": "86388524-5579-4a7e-b3b6-193e3f454232",
   "metadata": {},
   "source": [
    "### Overlay sd boundary with sd_stops to filter out points outside boundary"
   ]
  },
  {
   "cell_type": "code",
   "execution_count": null,
   "id": "47a09995-f553-4ea0-905a-82a45f781be4",
   "metadata": {},
   "outputs": [],
   "source": [
    "#match crs to EPSG 2230\n",
    "sd = sd.to_crs(sd_stops.crs)"
   ]
  },
  {
   "cell_type": "code",
   "execution_count": null,
   "id": "893d11c8-937f-4fe2-a4bf-9c2230b8a64a",
   "metadata": {},
   "outputs": [],
   "source": [
    "sd_stops.plot()"
   ]
  },
  {
   "cell_type": "code",
   "execution_count": null,
   "id": "49a4eee9-9cd5-46c4-8c4c-63ad1448823a",
   "metadata": {
    "jupyter": {
     "source_hidden": true
    },
    "scrolled": true
   },
   "outputs": [],
   "source": [
    "sd_b = gpd.read_file(\"~/15min/sd_boundary/san_diego_boundary_datasd.shp\", geometry='geometry')\n",
    "sd_b.crs"
   ]
  },
  {
   "cell_type": "code",
   "execution_count": null,
   "id": "262be8bf-cc03-4ad4-96d2-87f587df9fab",
   "metadata": {},
   "outputs": [],
   "source": [
    "sd_stops = gpd.overlay(sd_stops, sd, how='intersection', keep_geom_type=None, make_valid=True)"
   ]
  },
  {
   "cell_type": "code",
   "execution_count": null,
   "id": "48e83d16-4b2c-484f-93e0-0818e43edc77",
   "metadata": {},
   "outputs": [],
   "source": [
    "sd_stops.plot()"
   ]
  },
  {
   "cell_type": "code",
   "execution_count": null,
   "id": "f3994597-d3ea-4456-a3e8-88058e01287e",
   "metadata": {},
   "outputs": [],
   "source": []
  }
 ],
 "metadata": {
  "kernelspec": {
   "display_name": "Python 3 (ipykernel)",
   "language": "python",
   "name": "python3"
  },
  "language_info": {
   "codemirror_mode": {
    "name": "ipython",
    "version": 3
   },
   "file_extension": ".py",
   "mimetype": "text/x-python",
   "name": "python",
   "nbconvert_exporter": "python",
   "pygments_lexer": "ipython3",
   "version": "3.10.10"
  }
 },
 "nbformat": 4,
 "nbformat_minor": 5
}
