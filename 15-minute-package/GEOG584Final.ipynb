{
 "cells": [
  {
   "cell_type": "code",
   "execution_count": 312,
   "id": "89454175-a560-4744-bdb4-2aa4aa25452f",
   "metadata": {},
   "outputs": [],
   "source": [
    "from geosnap import DataStore\n",
    "import warnings\n",
    "warnings.filterwarnings('ignore')\n",
    "datasets = DataStore(\"/srv/data/geonsap\")"
   ]
  },
  {
   "cell_type": "code",
   "execution_count": 313,
   "id": "f699f2ea-e67c-48f3-86b8-9287e25794c7",
   "metadata": {},
   "outputs": [
    {
     "name": "stdout",
     "output_type": "stream",
     "text": [
      "Generating contraction hierarchies with 32 threads.\n",
      "Setting CH node vector of size 332554\n",
      "Setting CH edge vector of size 522484\n",
      "Range graph removed 143094 edges of 1044968\n",
      ". 10% . 20% . 30% . 40% . 50% . 60% . 70% . 80% . 90% . 100%\n"
     ]
    }
   ],
   "source": [
    "import os\n",
    "import pandana as pdna\n",
    "if not os.path.exists('41740.h5'):\n",
    "    import quilt3 as q3\n",
    "    b = q3.Bucket(\"s3://spatial-ucr\")\n",
    "    b.fetch(\"osm/metro_networks_8k/41740.h5\", \"./41740.h5\")\n",
    "sd_network = pdna.Network.from_hdf5(\"41740.h5\")"
   ]
  },
  {
   "cell_type": "code",
   "execution_count": 314,
   "id": "879ddd8f-edf1-4002-8b95-2d726fca9ca3",
   "metadata": {},
   "outputs": [],
   "source": [
    "schools = datasets.nces(dataset=\"schools\")\n"
   ]
  },
  {
   "cell_type": "code",
   "execution_count": 315,
   "id": "5169f383-3f0a-4038-a66b-561b0d00a7b0",
   "metadata": {},
   "outputs": [],
   "source": [
    "ca_schools = schools[schools[\"STFIP15\"] == \"06\"]\n"
   ]
  },
  {
   "cell_type": "markdown",
   "id": "9adce13a-dbb4-4635-8eb9-99b2d080322a",
   "metadata": {},
   "source": [
    "The script filters the schools dataset to include only those entries where the \"STFIP15\" column equals \"06\", which might represent schools in California."
   ]
  },
  {
   "cell_type": "code",
   "execution_count": 316,
   "id": "327bbdd6-b4a8-488f-8a87-a37d5e042cb1",
   "metadata": {},
   "outputs": [],
   "source": [
    "#ca_schools"
   ]
  },
  {
   "cell_type": "markdown",
   "id": "154b624b-8f5f-40b7-9105-7381c11bc5dd",
   "metadata": {},
   "source": [
    "## Importing City of San Diego Boundary"
   ]
  },
  {
   "cell_type": "code",
   "execution_count": 317,
   "id": "d406ba1e-1f8e-418d-9af7-06421a796b2c",
   "metadata": {
    "scrolled": true
   },
   "outputs": [],
   "source": [
    "import geopandas as gpd\n",
    "file_path = 'data/sd_boundary/san_diego_boundary_datasd.shp'\n",
    "san_diego_boundary = gpd.read_file(file_path)\n",
    "#san_diego_boundary.explore()"
   ]
  },
  {
   "cell_type": "code",
   "execution_count": 318,
   "id": "482bc67c-8f94-4ece-a05f-8fa5139205a9",
   "metadata": {},
   "outputs": [
    {
     "data": {
      "text/plain": [
       "<Projected CRS: EPSG:2230>\n",
       "Name: NAD83 / California zone 6 (ftUS)\n",
       "Axis Info [cartesian]:\n",
       "- X[east]: Easting (US survey foot)\n",
       "- Y[north]: Northing (US survey foot)\n",
       "Area of Use:\n",
       "- name: United States (USA) - California - counties Imperial; Orange; Riverside; San Diego.\n",
       "- bounds: (-118.15, 32.53, -114.42, 34.08)\n",
       "Coordinate Operation:\n",
       "- name: SPCS83 California zone 6 (US Survey feet)\n",
       "- method: Lambert Conic Conformal (2SP)\n",
       "Datum: North American Datum 1983\n",
       "- Ellipsoid: GRS 1980\n",
       "- Prime Meridian: Greenwich"
      ]
     },
     "execution_count": 318,
     "metadata": {},
     "output_type": "execute_result"
    }
   ],
   "source": [
    "san_diego_boundary.crs"
   ]
  },
  {
   "cell_type": "code",
   "execution_count": 319,
   "id": "ba836378-30dc-42a6-9df7-d01e570714eb",
   "metadata": {},
   "outputs": [],
   "source": [
    "ca_schools = ca_schools.to_crs('EPSG:2230')"
   ]
  },
  {
   "cell_type": "markdown",
   "id": "a18eb0bf-6946-4a2b-bf6a-44ae0c276e2a",
   "metadata": {},
   "source": [
    "Reprojected the ca_schools dataset to match the CRS of the san_diego_boundary using the same EPSG:2230. This step is essential to ensure that all spatial operations such as intersections or distance calculations between the school locations and the San Diego boundary are accurate and meaningful."
   ]
  },
  {
   "cell_type": "code",
   "execution_count": 320,
   "id": "ccc7a518-f6e8-4b25-ac5b-9248e39b3b38",
   "metadata": {},
   "outputs": [],
   "source": [
    "Sd_schools = gpd.sjoin(ca_schools, san_diego_boundary, how='inner', op='within')"
   ]
  },
  {
   "cell_type": "code",
   "execution_count": 321,
   "id": "f2fa4742-299d-43c6-9864-49da810d4b72",
   "metadata": {},
   "outputs": [],
   "source": [
    "sd_schools = Sd_schools.to_crs(epsg=4269)\n",
    "#sd_schools.explore()"
   ]
  },
  {
   "cell_type": "markdown",
   "id": "67b25ab5-8143-4c94-b814-4551031c0683",
   "metadata": {},
   "source": [
    "The operation is intended to select only those schools that are within the San Diego boundary, using an inner join. This means the resulting GeoDataFrame, Sd_schools, will only include schools that are located within San Diego."
   ]
  },
  {
   "cell_type": "markdown",
   "id": "c47e4671-54d2-4a36-ad94-913f07021c7d",
   "metadata": {},
   "source": [
    "## Creating Isochrones for Schools in San Diego"
   ]
  },
  {
   "cell_type": "code",
   "execution_count": 322,
   "id": "57671a44-7a6e-42e6-8083-774bc9612c66",
   "metadata": {},
   "outputs": [],
   "source": [
    "from geosnap.analyze import isochrones_from_id, isochrones_from_gdf, pdna_to_adj \n"
   ]
  },
  {
   "cell_type": "code",
   "execution_count": 323,
   "id": "96c36fed-f1c2-4d3b-8e1b-f3a5b628d78e",
   "metadata": {},
   "outputs": [],
   "source": [
    "#isochrones = isochrones_from_gdf(sd_schools, threshold=1600, network=sd_network)\n",
    "#isochrones"
   ]
  },
  {
   "cell_type": "code",
   "execution_count": 324,
   "id": "b71e14f9-1dec-48a8-98d8-00b92a29f278",
   "metadata": {},
   "outputs": [],
   "source": [
    "#isochrones.explore()"
   ]
  },
  {
   "cell_type": "code",
   "execution_count": 325,
   "id": "32ed7cbd-0374-4f5a-8261-cf38ece87386",
   "metadata": {},
   "outputs": [],
   "source": [
    "#s20 = isochrones.dissolve()"
   ]
  },
  {
   "cell_type": "code",
   "execution_count": 326,
   "id": "c8aa20f2-dff2-437b-ae96-243ff51dff0c",
   "metadata": {},
   "outputs": [],
   "source": [
    "#s20.explore()"
   ]
  },
  {
   "cell_type": "code",
   "execution_count": 327,
   "id": "3deaf270-ae77-4021-89ed-2a6267687958",
   "metadata": {},
   "outputs": [],
   "source": [
    "#s20.to_file(\"data/sd_schools_iso/s20.shp\")\n"
   ]
  },
  {
   "cell_type": "code",
   "execution_count": 328,
   "id": "b3d503b5-b009-4fd0-b1f1-ffab35c5cbf6",
   "metadata": {},
   "outputs": [],
   "source": [
    "file_path ='data/sd_schools_iso/s20.shp'\n",
    "s20 = gpd.read_file(file_path)"
   ]
  },
  {
   "cell_type": "markdown",
   "id": "5ff554ec-9f25-4abd-a933-5ae1146fa0a9",
   "metadata": {},
   "source": [
    "Generated isochrones based on the sd_schools GeoDataFrame with a specified threshold of 1600 meters, using the San Diego road network (sd_network). This creates areas that can be reached within a specific time or distance from the schools, illustrating the 1600-meter accessibility area around each school."
   ]
  },
  {
   "cell_type": "markdown",
   "id": "629ccb74-2843-4fd9-9f69-ff7c2ddb2b6e",
   "metadata": {},
   "source": [
    "## Hospitals"
   ]
  },
  {
   "cell_type": "markdown",
   "id": "a328edeb-a867-4fcd-ad4b-538eb3366722",
   "metadata": {},
   "source": [
    "One dataset, referred to as hospitals, contained information specifically about hospitals, while the other dataset, named health, included various types of healthcare facilities."
   ]
  },
  {
   "cell_type": "code",
   "execution_count": 329,
   "id": "4d116909-18be-495a-800d-a662fd2fc4a6",
   "metadata": {},
   "outputs": [],
   "source": [
    "import geopandas as gpd\n",
    "import pandas as pd\n",
    "file_path = 'data/hospitals/Hospitals.shp'\n",
    "\n",
    "hospitals = gpd.read_file(file_path)"
   ]
  },
  {
   "cell_type": "code",
   "execution_count": 330,
   "id": "60935d30-f27d-42c7-87eb-d2f46d5b9449",
   "metadata": {},
   "outputs": [],
   "source": [
    "file_path = 'data/health_sd/OSHPD_Healthcare_Facilities.shp'\n",
    "\n",
    "health = gpd.read_file(file_path)"
   ]
  },
  {
   "cell_type": "code",
   "execution_count": 331,
   "id": "648c29d9-9dd3-4161-bb78-19c18a5659ce",
   "metadata": {},
   "outputs": [],
   "source": [
    "health = health.to_crs('EPSG:2230')"
   ]
  },
  {
   "cell_type": "code",
   "execution_count": 332,
   "id": "73d09815-5a74-4b8b-95da-4fa12126eac3",
   "metadata": {},
   "outputs": [],
   "source": [
    "health = gpd.sjoin(health, san_diego_boundary, how='inner', op='within')"
   ]
  },
  {
   "cell_type": "markdown",
   "id": "99f4ebbe-3317-4096-830e-1f5de748b801",
   "metadata": {},
   "source": [
    "Performed a spatial join between the health GeoDataFrame and san_diego_boundary to filter the data, keeping only those facilities located within the San Diego boundary. This was done using an inner join with the operation set to 'within', ensuring that only facilities fully within the boundaries are included."
   ]
  },
  {
   "cell_type": "code",
   "execution_count": 333,
   "id": "6b978919-9567-4ef7-a510-87e8ac56b47a",
   "metadata": {},
   "outputs": [],
   "source": [
    "health=health.to_crs(epsg=4269)"
   ]
  },
  {
   "cell_type": "code",
   "execution_count": 334,
   "id": "d301ae95-1a8f-483c-9fd2-47ab70483505",
   "metadata": {},
   "outputs": [],
   "source": [
    "hospitals = hospitals.to_crs('EPSG:2230')"
   ]
  },
  {
   "cell_type": "code",
   "execution_count": 335,
   "id": "bae1c484-45dc-4e02-af88-00298f4f08d9",
   "metadata": {},
   "outputs": [],
   "source": [
    "hospitals = gpd.sjoin(hospitals, san_diego_boundary, how='inner', op='within')"
   ]
  },
  {
   "cell_type": "markdown",
   "id": "f2bf2c79-abaf-46e7-be4c-0cf5d59dfd40",
   "metadata": {},
   "source": [
    "Performed another spatial join between the hospitals GeoDataFrame and the san_diego_boundary under the same conditions as the ones mentioned for the dataset health."
   ]
  },
  {
   "cell_type": "code",
   "execution_count": 336,
   "id": "06be5128-7791-400a-93f0-dd805691cdcf",
   "metadata": {},
   "outputs": [],
   "source": [
    "#hospitals.explore()"
   ]
  },
  {
   "cell_type": "code",
   "execution_count": 337,
   "id": "f04fa307-d1f7-4a93-a213-7c91bf29208c",
   "metadata": {},
   "outputs": [],
   "source": [
    "hospitals = hospitals.to_crs(epsg=4269)\n"
   ]
  },
  {
   "cell_type": "code",
   "execution_count": 338,
   "id": "265c998a-981e-446f-8ebd-a02ae3c77ff7",
   "metadata": {},
   "outputs": [],
   "source": [
    "#hospitals.explore()"
   ]
  },
  {
   "cell_type": "markdown",
   "id": "531a0a73-7150-4917-92fd-7060680cf009",
   "metadata": {},
   "source": [
    "## Creating Isochrones for HealthCare Facilities"
   ]
  },
  {
   "cell_type": "code",
   "execution_count": 339,
   "id": "249ba6f7-fb9c-45fc-87d6-101937be89b3",
   "metadata": {},
   "outputs": [],
   "source": [
    "#isochrones2 = isochrones_from_gdf(hospitals, threshold=1600, network=sd_network)\n",
    "#isochrones2"
   ]
  },
  {
   "cell_type": "markdown",
   "id": "06c617ad-72dd-4701-92a6-be592723562c",
   "metadata": {},
   "source": [
    "Generated isochrones around each hospital, defining these isochrones with a 1600-meter threshold using the San Diego road network (sd_network)."
   ]
  },
  {
   "cell_type": "code",
   "execution_count": 340,
   "id": "0f7bc190-db0d-45cd-a8f7-b41ac940001c",
   "metadata": {},
   "outputs": [],
   "source": [
    "#isochrones2.explore()"
   ]
  },
  {
   "cell_type": "code",
   "execution_count": 341,
   "id": "100e93bb-4af6-4d51-837b-8e0e247fd7db",
   "metadata": {},
   "outputs": [],
   "source": [
    "#s21=isochrones2.dissolve()"
   ]
  },
  {
   "cell_type": "code",
   "execution_count": 342,
   "id": "3d33d906-1b0c-4b60-a91e-0f8fe017846e",
   "metadata": {},
   "outputs": [],
   "source": [
    "#s21.explore()"
   ]
  },
  {
   "cell_type": "code",
   "execution_count": 343,
   "id": "b50fa7fe-106d-4b57-ba78-58054a8d420c",
   "metadata": {},
   "outputs": [],
   "source": [
    "#iso = isochrones_from_gdf(health, threshold=1600, network=sd_network)\n",
    "#iso"
   ]
  },
  {
   "cell_type": "markdown",
   "id": "234cbfd3-dd43-4a94-a10b-4f9804fb2d0a",
   "metadata": {},
   "source": [
    "Generated isochrones for the health GeoDataFrame, which includes other types of healthcare facilities, again using a 1600-meter threshold and the same network."
   ]
  },
  {
   "cell_type": "code",
   "execution_count": 344,
   "id": "3f497847-d637-454d-a605-2c96b6687929",
   "metadata": {},
   "outputs": [],
   "source": [
    "#health_iso=gpd.overlay(s21,iso, how='union')"
   ]
  },
  {
   "cell_type": "code",
   "execution_count": 345,
   "id": "c32b8e3b-b41d-43fb-98c6-aeb7d21b08f8",
   "metadata": {},
   "outputs": [],
   "source": [
    "#health_iso=health_iso.dissolve()"
   ]
  },
  {
   "cell_type": "markdown",
   "id": "b1a20fd7-80e3-4fdf-b22b-9711f9831261",
   "metadata": {},
   "source": [
    "Used the geopandas.overlay() function to perform a union of the dissolved hospital isochrones and the isochrones from the other healthcare facilities. This operation combines the geographic areas covered by both sets of isochrones, effectively showing the total accessible area from any healthcare facility in the region."
   ]
  },
  {
   "cell_type": "code",
   "execution_count": 346,
   "id": "3083b523-f617-45d4-8f83-0e8e481001ad",
   "metadata": {},
   "outputs": [],
   "source": [
    "#health_iso.to_file(\"data/sd_health_iso/health_iso.shp\")\n"
   ]
  },
  {
   "cell_type": "code",
   "execution_count": 347,
   "id": "3e94e470-19fb-4226-b90e-f890ed1c41df",
   "metadata": {},
   "outputs": [],
   "source": [
    "file_path = 'data/sd_health_iso/health_iso.shp'\n",
    "health_iso = gpd.read_file(file_path)"
   ]
  },
  {
   "cell_type": "code",
   "execution_count": 348,
   "id": "22682318-10c6-4f40-9aa6-93caf8647d78",
   "metadata": {},
   "outputs": [],
   "source": [
    "intersection_result1 = gpd.overlay(health_iso, s20, how='intersection')\n"
   ]
  },
  {
   "cell_type": "markdown",
   "id": "557d435e-16d3-44a6-b416-3e095e169d90",
   "metadata": {},
   "source": [
    "Used the gpd.overlay() function from GeoPandas to find the intersection between the healthcare facility isochrones (health_iso) and the school isochrones (s20). This function computes the geometric intersection of the two sets of isochrones, which results in a new GeoDataFrame (intersection_result1).The intersection identifies areas where the isochrones of both healthcare facilities and schools overlap. This means these areas are accessible within a 15-minute travel time from both types of facilities"
   ]
  },
  {
   "cell_type": "code",
   "execution_count": 349,
   "id": "f89b203a-2477-4b94-a8af-f53c16f0f808",
   "metadata": {},
   "outputs": [],
   "source": [
    "#intersection_result1.explore()"
   ]
  },
  {
   "cell_type": "markdown",
   "id": "a5bf7584-86a2-4566-82fd-f21e8c0d44b7",
   "metadata": {},
   "source": [
    "## Parks"
   ]
  },
  {
   "cell_type": "code",
   "execution_count": 350,
   "id": "3e15fe95-f3bb-43cc-b619-555102ebda16",
   "metadata": {},
   "outputs": [],
   "source": [
    "file_path = 'data/sd_parks'\n",
    "parks = gpd.read_file(file_path)"
   ]
  },
  {
   "cell_type": "code",
   "execution_count": 351,
   "id": "57376e3d-df10-480e-b73f-24b3a78ae26d",
   "metadata": {},
   "outputs": [],
   "source": [
    "#parks.explore()"
   ]
  },
  {
   "cell_type": "code",
   "execution_count": 352,
   "id": "41491608-cfb6-4755-87ab-7e68dfc06c3e",
   "metadata": {},
   "outputs": [],
   "source": [
    "parks_within_sd = parks[parks.geometry.within(san_diego_boundary.unary_union)]"
   ]
  },
  {
   "cell_type": "markdown",
   "id": "5018d635-b28b-49c4-a752-30a8cdb64b88",
   "metadata": {},
   "source": [
    "Created a subset of the data (parks_within_sd) by filtering out parks that are entirely within the unified boundary of San Diego. This was achieved using the .within() method, applied to the unary_union of the San Diego boundary. The unary_union merges all boundaries into a single, continuous boundary shape"
   ]
  },
  {
   "cell_type": "code",
   "execution_count": 353,
   "id": "7d730ff3-53f8-4960-b5d9-5e2d0584d508",
   "metadata": {},
   "outputs": [],
   "source": [
    "#parks_within_sd.explore()"
   ]
  },
  {
   "cell_type": "code",
   "execution_count": 354,
   "id": "a82936ac-a45c-4def-83b0-191fe4953128",
   "metadata": {},
   "outputs": [],
   "source": [
    "parks_within_sd = parks_within_sd.to_crs(epsg=4269)\n"
   ]
  },
  {
   "cell_type": "code",
   "execution_count": 355,
   "id": "10c5d265-e55a-4f5c-8437-ecf43485559d",
   "metadata": {},
   "outputs": [],
   "source": [
    "import geopandas as gpd\n",
    "import matplotlib.pyplot as plt\n",
    "from shapely.geometry import Point\n",
    "\n",
    "def sample_boundary_points(polygon, num_points=3):\n",
    "    # This function now returns individual points directly\n",
    "    return [polygon.boundary.interpolate(i / num_points, normalized=True) for i in range(num_points)]\n",
    "\n",
    "# Using a list comprehension to create a list of Point geometries\n",
    "boundary_points = [pt for polygon in parks_within_sd.geometry for pt in sample_boundary_points(polygon)]\n",
    "\n",
    "# Convert the list of Point geometries into a GeoDataFrame\n",
    "boundary_gdf = gpd.GeoDataFrame(geometry=boundary_points, crs=parks_within_sd.crs)\n"
   ]
  },
  {
   "cell_type": "markdown",
   "id": "124e3198-5f9b-474e-8d95-d9392f64eb1d",
   "metadata": {},
   "source": [
    "Defined a function sample_boundary_points() that uses Shapely’s interpolate() method. This function is designed to return specific points along the boundary of a polygon, effectively sampling the boundary at regular intervals. I then applied this function to each park's geometry to generate points. These points represent sampled locations along the park boundaries, allowing for detailed spatial analysis"
   ]
  },
  {
   "cell_type": "code",
   "execution_count": 356,
   "id": "3559d30a-f660-48ce-8bf1-0055ef9bfb85",
   "metadata": {},
   "outputs": [],
   "source": [
    "#boundary_gdf.explore()"
   ]
  },
  {
   "cell_type": "code",
   "execution_count": 357,
   "id": "eabd95a4-01e0-4241-81b4-19d7c7592f81",
   "metadata": {},
   "outputs": [
    {
     "data": {
      "text/html": [
       "<div>\n",
       "<style scoped>\n",
       "    .dataframe tbody tr th:only-of-type {\n",
       "        vertical-align: middle;\n",
       "    }\n",
       "\n",
       "    .dataframe tbody tr th {\n",
       "        vertical-align: top;\n",
       "    }\n",
       "\n",
       "    .dataframe thead th {\n",
       "        text-align: right;\n",
       "    }\n",
       "</style>\n",
       "<table border=\"1\" class=\"dataframe\">\n",
       "  <thead>\n",
       "    <tr style=\"text-align: right;\">\n",
       "      <th></th>\n",
       "      <th>geometry</th>\n",
       "    </tr>\n",
       "  </thead>\n",
       "  <tbody>\n",
       "    <tr>\n",
       "      <th>0</th>\n",
       "      <td>POINT (-117.17129 32.71138)</td>\n",
       "    </tr>\n",
       "    <tr>\n",
       "      <th>1</th>\n",
       "      <td>POINT (-117.17238 32.71039)</td>\n",
       "    </tr>\n",
       "    <tr>\n",
       "      <th>2</th>\n",
       "      <td>POINT (-117.17290 32.71164)</td>\n",
       "    </tr>\n",
       "    <tr>\n",
       "      <th>3</th>\n",
       "      <td>POINT (-117.17272 32.71171)</td>\n",
       "    </tr>\n",
       "    <tr>\n",
       "      <th>4</th>\n",
       "      <td>POINT (-117.17313 32.71191)</td>\n",
       "    </tr>\n",
       "    <tr>\n",
       "      <th>...</th>\n",
       "      <td>...</td>\n",
       "    </tr>\n",
       "    <tr>\n",
       "      <th>6223</th>\n",
       "      <td>POINT (-117.13444 32.93499)</td>\n",
       "    </tr>\n",
       "    <tr>\n",
       "      <th>6224</th>\n",
       "      <td>POINT (-117.14375 32.93622)</td>\n",
       "    </tr>\n",
       "    <tr>\n",
       "      <th>6225</th>\n",
       "      <td>POINT (-117.16719 32.94858)</td>\n",
       "    </tr>\n",
       "    <tr>\n",
       "      <th>6226</th>\n",
       "      <td>POINT (-117.20330 32.90666)</td>\n",
       "    </tr>\n",
       "    <tr>\n",
       "      <th>6227</th>\n",
       "      <td>POINT (-117.20410 32.90959)</td>\n",
       "    </tr>\n",
       "  </tbody>\n",
       "</table>\n",
       "<p>6228 rows × 1 columns</p>\n",
       "</div>"
      ],
      "text/plain": [
       "                         geometry\n",
       "0     POINT (-117.17129 32.71138)\n",
       "1     POINT (-117.17238 32.71039)\n",
       "2     POINT (-117.17290 32.71164)\n",
       "3     POINT (-117.17272 32.71171)\n",
       "4     POINT (-117.17313 32.71191)\n",
       "...                           ...\n",
       "6223  POINT (-117.13444 32.93499)\n",
       "6224  POINT (-117.14375 32.93622)\n",
       "6225  POINT (-117.16719 32.94858)\n",
       "6226  POINT (-117.20330 32.90666)\n",
       "6227  POINT (-117.20410 32.90959)\n",
       "\n",
       "[6228 rows x 1 columns]"
      ]
     },
     "execution_count": 357,
     "metadata": {},
     "output_type": "execute_result"
    }
   ],
   "source": [
    "boundary_gdf"
   ]
  },
  {
   "cell_type": "markdown",
   "id": "7415a10e-cfca-407d-927a-a9fafc251696",
   "metadata": {},
   "source": [
    "## Creating Isochrones for Parks"
   ]
  },
  {
   "cell_type": "code",
   "execution_count": 358,
   "id": "4dfa2d9f-f912-4997-8cb0-bd9b6433e34f",
   "metadata": {},
   "outputs": [],
   "source": [
    "#isochrones3 = isochrones_from_gdf(boundary_gdf, threshold=1600, network=sd_network)\n",
    "#isochrones3"
   ]
  },
  {
   "cell_type": "code",
   "execution_count": 359,
   "id": "3f2a5ae4-64e3-4faf-9838-5a7e1cd2dbc5",
   "metadata": {},
   "outputs": [],
   "source": [
    "#s22=isochrones3.dissolve"
   ]
  },
  {
   "cell_type": "code",
   "execution_count": 360,
   "id": "4f711eb5-ba2a-4dfb-b6e4-2ca803360899",
   "metadata": {},
   "outputs": [],
   "source": [
    "##s22.explore()"
   ]
  },
  {
   "cell_type": "code",
   "execution_count": 361,
   "id": "2c1a06bb-2f87-44e7-b656-99396501a253",
   "metadata": {},
   "outputs": [],
   "source": [
    "#s22.to_file(\"data/sd_parks_iso/s22.shp\")\n"
   ]
  },
  {
   "cell_type": "markdown",
   "id": "bb4116c1-1445-4951-beb8-03bedefc53e8",
   "metadata": {},
   "source": [
    "Used the isochrones_from_gdf function to generate isochrones from the boundary_gdf, which contains points sampled along the boundaries of parks in San Diego. The isochrones were created with a 1600-meter threshold, indicating the areas reachable within this distance from the boundary points of the parks, using the San Diego transportation network (sd_network)."
   ]
  },
  {
   "cell_type": "code",
   "execution_count": 362,
   "id": "feeb8163-b8a0-4dc3-8354-4bf9ff79476f",
   "metadata": {},
   "outputs": [],
   "source": [
    "file_path=\"data/sd_parks_iso/s22.shp\"\n",
    "s22=gpd.read_file(file_path)"
   ]
  },
  {
   "cell_type": "code",
   "execution_count": 363,
   "id": "e6ff70bb-0312-4d3a-a79e-76eb775bb95a",
   "metadata": {},
   "outputs": [],
   "source": [
    "#s22.explore()"
   ]
  },
  {
   "cell_type": "code",
   "execution_count": 364,
   "id": "4c7da6c1-dd7e-4b6e-8a2e-124bd1596327",
   "metadata": {},
   "outputs": [],
   "source": [
    "s22 = s22.rename(columns={'distance': 'distance_parks'})\n",
    "\n",
    "intersection_result2 = gpd.overlay(s22,intersection_result1 , how='intersection')\n"
   ]
  },
  {
   "cell_type": "code",
   "execution_count": 365,
   "id": "029b9ee7-465b-4397-8b27-195269d4aa06",
   "metadata": {},
   "outputs": [],
   "source": [
    "#intersection_result2.explore()"
   ]
  },
  {
   "cell_type": "markdown",
   "id": "d842ed0b-fecc-48d6-9f96-06542d686fde",
   "metadata": {},
   "source": [
    "Combined the accessibility information of parks with the previously intersected isochrones for healthcare facilities and schools to further refine the understanding of comprehensive service accessibility in San Diego"
   ]
  },
  {
   "cell_type": "markdown",
   "id": "96f58cb3-8483-4468-a638-7c94e6e06a8f",
   "metadata": {},
   "source": [
    "Used the gpd.overlay() function again, this time to find the intersection between the dissolved park isochrones (s22) and the already determined intersection areas (intersection_result1) from healthcare facilities and schools.\n",
    "This operation uses the 'intersection' method to identify and create new geometries that represent the areas where the isochrones of parks, healthcare facilities, and schools overlap.\n",
    "\n",
    "Purpose of This Intersection:\n",
    "The resulting intersection (intersection_result2) indicates regions within San Diego where residents have access within a 15-minute travel time to parks, healthcare facilities, and schools. "
   ]
  },
  {
   "cell_type": "markdown",
   "id": "58ab0214-cf60-416c-abc9-74f31ad745ed",
   "metadata": {},
   "source": [
    "## Transit Stops"
   ]
  },
  {
   "cell_type": "code",
   "execution_count": 366,
   "id": "04915185-2a08-4e22-ae5a-8386ba02914b",
   "metadata": {},
   "outputs": [],
   "source": [
    "file_path = 'data/sd_transit/transit_stops_datasd/transit_stops_datasd.shp'\n",
    "transit = gpd.read_file(file_path)"
   ]
  },
  {
   "cell_type": "code",
   "execution_count": 367,
   "id": "6b1f315b-0b22-4070-8811-c974f554f805",
   "metadata": {},
   "outputs": [
    {
     "data": {
      "text/plain": [
       "<Projected CRS: EPSG:2230>\n",
       "Name: NAD83 / California zone 6 (ftUS)\n",
       "Axis Info [cartesian]:\n",
       "- X[east]: Easting (US survey foot)\n",
       "- Y[north]: Northing (US survey foot)\n",
       "Area of Use:\n",
       "- name: United States (USA) - California - counties Imperial; Orange; Riverside; San Diego.\n",
       "- bounds: (-118.15, 32.53, -114.42, 34.08)\n",
       "Coordinate Operation:\n",
       "- name: SPCS83 California zone 6 (US Survey feet)\n",
       "- method: Lambert Conic Conformal (2SP)\n",
       "Datum: North American Datum 1983\n",
       "- Ellipsoid: GRS 1980\n",
       "- Prime Meridian: Greenwich"
      ]
     },
     "execution_count": 367,
     "metadata": {},
     "output_type": "execute_result"
    }
   ],
   "source": [
    "transit.crs"
   ]
  },
  {
   "cell_type": "code",
   "execution_count": 368,
   "id": "bd5a6b50-aedc-43dc-9828-ec51298ca213",
   "metadata": {},
   "outputs": [],
   "source": [
    "transit_stops = gpd.sjoin(transit, san_diego_boundary, how='inner', op='within')"
   ]
  },
  {
   "cell_type": "markdown",
   "id": "aa871c85-f199-40e9-b09c-c68d1aa27297",
   "metadata": {},
   "source": [
    "Performed a spatial join using gpd.sjoin() to filter and retain only those transit stops that are located within the boundaries of San Diego. This was achieved by setting the join operation to 'inner' and specifying the operation type as 'within', ensuring that only the transit stops that fall within the San Diego boundary are included in the resulting transit_stops GeoDataFrame.\n",
    "\n",
    "Purpose of the Operation:\n",
    "This filtering step is crucial for ensuring that subsequent analyses on transit accessibility only consider relevant stops, those actually accessible to residents within the San Diego area."
   ]
  },
  {
   "cell_type": "code",
   "execution_count": 369,
   "id": "adde42ab-2eda-4288-897d-dfbfb483c72c",
   "metadata": {},
   "outputs": [],
   "source": [
    "#transit_stops"
   ]
  },
  {
   "cell_type": "code",
   "execution_count": 370,
   "id": "b03ebd8e-3d29-4784-9110-3776c034b164",
   "metadata": {},
   "outputs": [],
   "source": [
    "transit_stops = transit_stops.to_crs(epsg=4269)\n"
   ]
  },
  {
   "cell_type": "code",
   "execution_count": 371,
   "id": "46f5e1ff-e651-40d8-b1ab-5bd244c8878f",
   "metadata": {},
   "outputs": [],
   "source": [
    "#transit_stops.explore()"
   ]
  },
  {
   "cell_type": "markdown",
   "id": "7058c387-e264-4da1-95e4-94b6aab39b79",
   "metadata": {},
   "source": [
    "## Creating Isochrones for Transit Stops"
   ]
  },
  {
   "cell_type": "code",
   "execution_count": 372,
   "id": "48cd0bed-e707-46b2-b1c3-84e53b944eb2",
   "metadata": {},
   "outputs": [],
   "source": [
    "#isochrones4 = isochrones_from_gdf(transit_stops, threshold=1600, network=sd_network)\n",
    "#isochrones4"
   ]
  },
  {
   "cell_type": "code",
   "execution_count": 373,
   "id": "8f620f5c-8895-4727-8a97-8e959917f46b",
   "metadata": {},
   "outputs": [],
   "source": [
    "#isochrones4.explore()"
   ]
  },
  {
   "cell_type": "code",
   "execution_count": 374,
   "id": "c23cf47e-4c25-4d76-a6ac-cafd7a7fbac4",
   "metadata": {},
   "outputs": [],
   "source": [
    "#s23= isochrones4.dissolve()"
   ]
  },
  {
   "cell_type": "code",
   "execution_count": 375,
   "id": "51e0fff9-9b71-459f-b7e9-c57865117a96",
   "metadata": {},
   "outputs": [],
   "source": [
    "##s23.explore()"
   ]
  },
  {
   "cell_type": "code",
   "execution_count": 376,
   "id": "69b03691-c1d8-4753-bbf4-3a99e75ad109",
   "metadata": {},
   "outputs": [],
   "source": [
    "#s23.to_file(\"data/sd_transit_iso/s23.shp\")\n"
   ]
  },
  {
   "cell_type": "markdown",
   "id": "5eda888d-abaf-4855-8e5a-987b936b2cf3",
   "metadata": {},
   "source": [
    "Used the refined dataset of transit stops (transit_stops) that are within the boundaries of San Diego, I generated isochrones with a threshold of 1600 meters. This involved using the isochrones_from_gdf function and specifying the San Diego transportation network (sd_network) for calculations.\n",
    "\n",
    "These isochrones represent the areas accessible within a 15-minute walk from any transit stop, providing a visual representation of transit accessibility across the city.\n",
    "\n",
    "Purpose of the Isochrones:\n",
    "The isochrones around transit stops help in understanding how well different parts of San Diego are served by public transportation. "
   ]
  },
  {
   "cell_type": "code",
   "execution_count": 377,
   "id": "c422c9b1-3e8e-4adb-805c-125a343ba2fa",
   "metadata": {},
   "outputs": [],
   "source": [
    "file_path='data/sd_transit_iso/s23.shp'"
   ]
  },
  {
   "cell_type": "code",
   "execution_count": 378,
   "id": "18f8fc54-5bf6-465e-8b68-d397ee85b184",
   "metadata": {},
   "outputs": [],
   "source": [
    "s23=gpd.read_file(file_path)"
   ]
  },
  {
   "cell_type": "code",
   "execution_count": 379,
   "id": "bdf3b6bb-7647-42c2-ba54-8e2edb4a28d6",
   "metadata": {},
   "outputs": [],
   "source": [
    "#s23.explore()"
   ]
  },
  {
   "cell_type": "code",
   "execution_count": 380,
   "id": "826d7cbb-7c3d-4a7f-a915-eb7350065003",
   "metadata": {},
   "outputs": [],
   "source": [
    "s23 = s23.rename(columns={'distance': 'distance_s23'})\n",
    "\n",
    "intersection_result3 = gpd.overlay(s23, intersection_result2, how='intersection')\n"
   ]
  },
  {
   "cell_type": "code",
   "execution_count": 381,
   "id": "2d145b8f-d80e-46a8-8f96-0e80901882fc",
   "metadata": {},
   "outputs": [],
   "source": [
    "#intersection_result3.explore()"
   ]
  },
  {
   "cell_type": "markdown",
   "id": "f0e85227-6a32-4d43-b6fc-83cbaf7619e7",
   "metadata": {},
   "source": [
    "Performed an intersection operation using gpd.overlay() between the park isochrones (s23) and the previously calculated intersection result (intersection_result2), which already included overlapping areas of healthcare facilities, schools, and parks. This function, set to the 'intersection' method, finds the common areas between these sets of isochrones, thus refining the accessible areas to include proximity to transit stops. \n",
    "\n",
    "Purpose of This Intersection: The resulting intersection (intersection_result3) now illustrates the areas within San Diego where residents have within a 15-minute walk access to parks, healthcare facilities, schools, and transit stops."
   ]
  },
  {
   "cell_type": "markdown",
   "id": "3036c375-9f8c-49c6-9bdc-8a84a5da1b88",
   "metadata": {},
   "source": [
    "## GroceryStores"
   ]
  },
  {
   "cell_type": "code",
   "execution_count": 382,
   "id": "f2a001e6-9d64-4e72-a676-4610df01e4e4",
   "metadata": {},
   "outputs": [],
   "source": [
    "file= 'data/sd_grocery/business_sites.csv'"
   ]
  },
  {
   "cell_type": "code",
   "execution_count": 383,
   "id": "a194a6d4-93c8-4e36-a675-5f701d3bbec1",
   "metadata": {},
   "outputs": [],
   "source": [
    "grocery = pd.read_csv(file)\n"
   ]
  },
  {
   "cell_type": "code",
   "execution_count": 384,
   "id": "93269c2c-3ed3-41a7-a650-d8efbcda9005",
   "metadata": {},
   "outputs": [
    {
     "data": {
      "text/html": [
       "<div>\n",
       "<style scoped>\n",
       "    .dataframe tbody tr th:only-of-type {\n",
       "        vertical-align: middle;\n",
       "    }\n",
       "\n",
       "    .dataframe tbody tr th {\n",
       "        vertical-align: top;\n",
       "    }\n",
       "\n",
       "    .dataframe thead th {\n",
       "        text-align: right;\n",
       "    }\n",
       "</style>\n",
       "<table border=\"1\" class=\"dataframe\">\n",
       "  <thead>\n",
       "    <tr style=\"text-align: right;\">\n",
       "      <th></th>\n",
       "      <th>id</th>\n",
       "      <th>apn</th>\n",
       "      <th>bcccode</th>\n",
       "      <th>ownnam1</th>\n",
       "      <th>ownnam2</th>\n",
       "      <th>ownnam3</th>\n",
       "      <th>careof</th>\n",
       "      <th>strnum</th>\n",
       "      <th>strfra</th>\n",
       "      <th>strdir</th>\n",
       "      <th>...</th>\n",
       "      <th>locfra</th>\n",
       "      <th>locdir</th>\n",
       "      <th>locnam</th>\n",
       "      <th>loctyp</th>\n",
       "      <th>locsrm</th>\n",
       "      <th>loccit</th>\n",
       "      <th>bustype</th>\n",
       "      <th>point_x</th>\n",
       "      <th>point_y</th>\n",
       "      <th>geometry</th>\n",
       "    </tr>\n",
       "  </thead>\n",
       "  <tbody>\n",
       "    <tr>\n",
       "      <th>0</th>\n",
       "      <td>0</td>\n",
       "      <td>7602110600</td>\n",
       "      <td>298</td>\n",
       "      <td>AT&amp;T SERVICES INC</td>\n",
       "      <td>NaN</td>\n",
       "      <td>NaN</td>\n",
       "      <td>C/O PROPERTY TAX DEPT</td>\n",
       "      <td>909</td>\n",
       "      <td>NaN</td>\n",
       "      <td>NaN</td>\n",
       "      <td>...</td>\n",
       "      <td>NaN</td>\n",
       "      <td>NaN</td>\n",
       "      <td>11TH</td>\n",
       "      <td>ST</td>\n",
       "      <td>NaN</td>\n",
       "      <td>CAMP PENDLETON</td>\n",
       "      <td>MISC PROFESSIONAL</td>\n",
       "      <td>6210715</td>\n",
       "      <td>2026933</td>\n",
       "      <td>POINT (-117.3976180797372 33.22364915993219)</td>\n",
       "    </tr>\n",
       "    <tr>\n",
       "      <th>1</th>\n",
       "      <td>1</td>\n",
       "      <td>7600801704</td>\n",
       "      <td>2</td>\n",
       "      <td>OCEANSIDE SMALL CRAFT HARBOR</td>\n",
       "      <td>DISTRICT</td>\n",
       "      <td>MARINA INN OCEANSIDE SUITES</td>\n",
       "      <td>NaN</td>\n",
       "      <td>2008</td>\n",
       "      <td>NaN</td>\n",
       "      <td>N</td>\n",
       "      <td>...</td>\n",
       "      <td>NaN</td>\n",
       "      <td>N</td>\n",
       "      <td>HARBOR</td>\n",
       "      <td>DR</td>\n",
       "      <td>B</td>\n",
       "      <td>OCEANSIDE</td>\n",
       "      <td>PUBLIC AGENCY</td>\n",
       "      <td>6210725</td>\n",
       "      <td>2021698</td>\n",
       "      <td>POINT (-117.3973956129373 33.20926182446687)</td>\n",
       "    </tr>\n",
       "    <tr>\n",
       "      <th>2</th>\n",
       "      <td>2</td>\n",
       "      <td>7600801100</td>\n",
       "      <td>41</td>\n",
       "      <td>OCEANSIDE YACHT CLUB INC</td>\n",
       "      <td>NaN</td>\n",
       "      <td>NaN</td>\n",
       "      <td>NaN</td>\n",
       "      <td>1950</td>\n",
       "      <td>NaN</td>\n",
       "      <td>N</td>\n",
       "      <td>...</td>\n",
       "      <td>NaN</td>\n",
       "      <td>N</td>\n",
       "      <td>HARBOR</td>\n",
       "      <td>DR</td>\n",
       "      <td>NaN</td>\n",
       "      <td>OCEANSIDE</td>\n",
       "      <td>CLUBS - SOCIAL/SERVI</td>\n",
       "      <td>6210790</td>\n",
       "      <td>2022669</td>\n",
       "      <td>POINT (-117.3972182738044 33.21193062172352)</td>\n",
       "    </tr>\n",
       "    <tr>\n",
       "      <th>3</th>\n",
       "      <td>3</td>\n",
       "      <td>7600802400</td>\n",
       "      <td>313</td>\n",
       "      <td>ALOHA RESTAURANTS INC</td>\n",
       "      <td>DBA JOLLY ROGER RESTAURANT</td>\n",
       "      <td>#119</td>\n",
       "      <td>ATTN STEVE MOYER</td>\n",
       "      <td>204</td>\n",
       "      <td>NaN</td>\n",
       "      <td>NaN</td>\n",
       "      <td>...</td>\n",
       "      <td>NaN</td>\n",
       "      <td>N</td>\n",
       "      <td>HARBOR</td>\n",
       "      <td>DR</td>\n",
       "      <td>NaN</td>\n",
       "      <td>OCEANSIDE</td>\n",
       "      <td>CAFE</td>\n",
       "      <td>6210974</td>\n",
       "      <td>2022894</td>\n",
       "      <td>POINT (-117.3966268465309 33.21255490617069)</td>\n",
       "    </tr>\n",
       "    <tr>\n",
       "      <th>4</th>\n",
       "      <td>4</td>\n",
       "      <td>7600801000</td>\n",
       "      <td>492</td>\n",
       "      <td>YEARLEY SHARON&amp;MONTE</td>\n",
       "      <td>DBA YEARLEY SAILBOATS</td>\n",
       "      <td>NaN</td>\n",
       "      <td>NaN</td>\n",
       "      <td>1850</td>\n",
       "      <td>NaN</td>\n",
       "      <td>N</td>\n",
       "      <td>...</td>\n",
       "      <td>NaN</td>\n",
       "      <td>N</td>\n",
       "      <td>HARBOR</td>\n",
       "      <td>DR</td>\n",
       "      <td>B</td>\n",
       "      <td>OCEANSIDE</td>\n",
       "      <td>BOAT&amp;SUPPLIERS</td>\n",
       "      <td>6211157</td>\n",
       "      <td>2023119</td>\n",
       "      <td>POINT (-117.3960360897178 33.21317851869796)</td>\n",
       "    </tr>\n",
       "    <tr>\n",
       "      <th>...</th>\n",
       "      <td>...</td>\n",
       "      <td>...</td>\n",
       "      <td>...</td>\n",
       "      <td>...</td>\n",
       "      <td>...</td>\n",
       "      <td>...</td>\n",
       "      <td>...</td>\n",
       "      <td>...</td>\n",
       "      <td>...</td>\n",
       "      <td>...</td>\n",
       "      <td>...</td>\n",
       "      <td>...</td>\n",
       "      <td>...</td>\n",
       "      <td>...</td>\n",
       "      <td>...</td>\n",
       "      <td>...</td>\n",
       "      <td>...</td>\n",
       "      <td>...</td>\n",
       "      <td>...</td>\n",
       "      <td>...</td>\n",
       "      <td>...</td>\n",
       "    </tr>\n",
       "    <tr>\n",
       "      <th>101808</th>\n",
       "      <td>101808</td>\n",
       "      <td>9500000000</td>\n",
       "      <td>314</td>\n",
       "      <td>MAL HEE LEE</td>\n",
       "      <td>DBA I SUSHI</td>\n",
       "      <td>NaN</td>\n",
       "      <td>NaN</td>\n",
       "      <td>945</td>\n",
       "      <td>NaN</td>\n",
       "      <td>NaN</td>\n",
       "      <td>...</td>\n",
       "      <td>NaN</td>\n",
       "      <td>NaN</td>\n",
       "      <td>OTAY LAKES</td>\n",
       "      <td>RD</td>\n",
       "      <td>N</td>\n",
       "      <td>CHULA VISTA</td>\n",
       "      <td>CAFE-FAST FOOD</td>\n",
       "      <td>6333138</td>\n",
       "      <td>1813900</td>\n",
       "      <td>POINT (-116.992348892535 32.6412214128264)</td>\n",
       "    </tr>\n",
       "    <tr>\n",
       "      <th>101809</th>\n",
       "      <td>101809</td>\n",
       "      <td>9500000000</td>\n",
       "      <td>391</td>\n",
       "      <td>WIEBER WILLIAM</td>\n",
       "      <td>DBA BOSNS LOCKER THE</td>\n",
       "      <td>NaN</td>\n",
       "      <td>NaN</td>\n",
       "      <td>946</td>\n",
       "      <td>NaN</td>\n",
       "      <td>NaN</td>\n",
       "      <td>...</td>\n",
       "      <td>NaN</td>\n",
       "      <td>NaN</td>\n",
       "      <td>INDUSTRIAL</td>\n",
       "      <td>BLVD</td>\n",
       "      <td>NaN</td>\n",
       "      <td>CHULA VISTA</td>\n",
       "      <td>MACHINE SHOP</td>\n",
       "      <td>6303025</td>\n",
       "      <td>1804280</td>\n",
       "      <td>POINT (-117.089912309319 32.61415546184959)</td>\n",
       "    </tr>\n",
       "    <tr>\n",
       "      <th>101810</th>\n",
       "      <td>101810</td>\n",
       "      <td>9500000000</td>\n",
       "      <td>295</td>\n",
       "      <td>RADIATION ONCOLOGY SOUTH BAY</td>\n",
       "      <td>LLC</td>\n",
       "      <td>NaN</td>\n",
       "      <td>NaN</td>\n",
       "      <td>310</td>\n",
       "      <td>NaN</td>\n",
       "      <td>NaN</td>\n",
       "      <td>...</td>\n",
       "      <td>NaN</td>\n",
       "      <td>NaN</td>\n",
       "      <td>LANE</td>\n",
       "      <td>AVE</td>\n",
       "      <td>B</td>\n",
       "      <td>CHULA VISTA</td>\n",
       "      <td>DOCTOR/OSTEOPA/CHIRO</td>\n",
       "      <td>6342555</td>\n",
       "      <td>1817407</td>\n",
       "      <td>POINT (-116.9618397971301 32.65104106448123)</td>\n",
       "    </tr>\n",
       "    <tr>\n",
       "      <th>101811</th>\n",
       "      <td>101811</td>\n",
       "      <td>9500000000</td>\n",
       "      <td>298</td>\n",
       "      <td>PACIFIC RAILWAY ENTERPRISES</td>\n",
       "      <td>INC</td>\n",
       "      <td>NaN</td>\n",
       "      <td>NaN</td>\n",
       "      <td>3560</td>\n",
       "      <td>NaN</td>\n",
       "      <td>NaN</td>\n",
       "      <td>...</td>\n",
       "      <td>NaN</td>\n",
       "      <td>NaN</td>\n",
       "      <td>CHESAPEAKE</td>\n",
       "      <td>DR</td>\n",
       "      <td>420</td>\n",
       "      <td>SAN DIEGO</td>\n",
       "      <td>MISC PROFESSIONAL</td>\n",
       "      <td>6293307</td>\n",
       "      <td>1883807</td>\n",
       "      <td>POINT (-117.1236346602046 32.83250000828478)</td>\n",
       "    </tr>\n",
       "    <tr>\n",
       "      <th>101812</th>\n",
       "      <td>101812</td>\n",
       "      <td>9500000000</td>\n",
       "      <td>298</td>\n",
       "      <td>NATIONAL RESEARCH CORPORATION</td>\n",
       "      <td>DBA GOVERNANCE INSTITUTE THE</td>\n",
       "      <td>NRC HEALTH</td>\n",
       "      <td>NaN</td>\n",
       "      <td>1245</td>\n",
       "      <td>NaN</td>\n",
       "      <td>NaN</td>\n",
       "      <td>...</td>\n",
       "      <td>NaN</td>\n",
       "      <td>NaN</td>\n",
       "      <td>VIA EXCELENCIA</td>\n",
       "      <td>NaN</td>\n",
       "      <td>100</td>\n",
       "      <td>SAN DIEGO</td>\n",
       "      <td>MISC PROFESSIONAL</td>\n",
       "      <td>6295347</td>\n",
       "      <td>1907251</td>\n",
       "      <td>POINT (-117.1176264732658 32.8969782900581)</td>\n",
       "    </tr>\n",
       "  </tbody>\n",
       "</table>\n",
       "<p>101813 rows × 30 columns</p>\n",
       "</div>"
      ],
      "text/plain": [
       "            id         apn  bcccode                        ownnam1  \\\n",
       "0            0  7602110600      298              AT&T SERVICES INC   \n",
       "1            1  7600801704        2   OCEANSIDE SMALL CRAFT HARBOR   \n",
       "2            2  7600801100       41       OCEANSIDE YACHT CLUB INC   \n",
       "3            3  7600802400      313          ALOHA RESTAURANTS INC   \n",
       "4            4  7600801000      492           YEARLEY SHARON&MONTE   \n",
       "...        ...         ...      ...                            ...   \n",
       "101808  101808  9500000000      314                    MAL HEE LEE   \n",
       "101809  101809  9500000000      391                 WIEBER WILLIAM   \n",
       "101810  101810  9500000000      295   RADIATION ONCOLOGY SOUTH BAY   \n",
       "101811  101811  9500000000      298    PACIFIC RAILWAY ENTERPRISES   \n",
       "101812  101812  9500000000      298  NATIONAL RESEARCH CORPORATION   \n",
       "\n",
       "                             ownnam2                      ownnam3  \\\n",
       "0                                NaN                          NaN   \n",
       "1                           DISTRICT  MARINA INN OCEANSIDE SUITES   \n",
       "2                                NaN                          NaN   \n",
       "3         DBA JOLLY ROGER RESTAURANT                         #119   \n",
       "4              DBA YEARLEY SAILBOATS                          NaN   \n",
       "...                              ...                          ...   \n",
       "101808                   DBA I SUSHI                          NaN   \n",
       "101809          DBA BOSNS LOCKER THE                          NaN   \n",
       "101810                           LLC                          NaN   \n",
       "101811                           INC                          NaN   \n",
       "101812  DBA GOVERNANCE INSTITUTE THE                   NRC HEALTH   \n",
       "\n",
       "                       careof  strnum strfra strdir  ... locfra locdir  \\\n",
       "0       C/O PROPERTY TAX DEPT     909    NaN    NaN  ...    NaN    NaN   \n",
       "1                         NaN    2008    NaN      N  ...    NaN      N   \n",
       "2                         NaN    1950    NaN      N  ...    NaN      N   \n",
       "3            ATTN STEVE MOYER     204    NaN    NaN  ...    NaN      N   \n",
       "4                         NaN    1850    NaN      N  ...    NaN      N   \n",
       "...                       ...     ...    ...    ...  ...    ...    ...   \n",
       "101808                    NaN     945    NaN    NaN  ...    NaN    NaN   \n",
       "101809                    NaN     946    NaN    NaN  ...    NaN    NaN   \n",
       "101810                    NaN     310    NaN    NaN  ...    NaN    NaN   \n",
       "101811                    NaN    3560    NaN    NaN  ...    NaN    NaN   \n",
       "101812                    NaN    1245    NaN    NaN  ...    NaN    NaN   \n",
       "\n",
       "                locnam loctyp locsrm          loccit               bustype  \\\n",
       "0                 11TH     ST    NaN  CAMP PENDLETON     MISC PROFESSIONAL   \n",
       "1               HARBOR     DR      B       OCEANSIDE         PUBLIC AGENCY   \n",
       "2               HARBOR     DR    NaN       OCEANSIDE  CLUBS - SOCIAL/SERVI   \n",
       "3               HARBOR     DR    NaN       OCEANSIDE                  CAFE   \n",
       "4               HARBOR     DR      B       OCEANSIDE        BOAT&SUPPLIERS   \n",
       "...                ...    ...    ...             ...                   ...   \n",
       "101808      OTAY LAKES     RD      N     CHULA VISTA        CAFE-FAST FOOD   \n",
       "101809      INDUSTRIAL   BLVD    NaN     CHULA VISTA          MACHINE SHOP   \n",
       "101810            LANE    AVE      B     CHULA VISTA  DOCTOR/OSTEOPA/CHIRO   \n",
       "101811      CHESAPEAKE     DR    420       SAN DIEGO     MISC PROFESSIONAL   \n",
       "101812  VIA EXCELENCIA    NaN    100       SAN DIEGO     MISC PROFESSIONAL   \n",
       "\n",
       "        point_x  point_y                                      geometry  \n",
       "0       6210715  2026933  POINT (-117.3976180797372 33.22364915993219)  \n",
       "1       6210725  2021698  POINT (-117.3973956129373 33.20926182446687)  \n",
       "2       6210790  2022669  POINT (-117.3972182738044 33.21193062172352)  \n",
       "3       6210974  2022894  POINT (-117.3966268465309 33.21255490617069)  \n",
       "4       6211157  2023119  POINT (-117.3960360897178 33.21317851869796)  \n",
       "...         ...      ...                                           ...  \n",
       "101808  6333138  1813900    POINT (-116.992348892535 32.6412214128264)  \n",
       "101809  6303025  1804280   POINT (-117.089912309319 32.61415546184959)  \n",
       "101810  6342555  1817407  POINT (-116.9618397971301 32.65104106448123)  \n",
       "101811  6293307  1883807  POINT (-117.1236346602046 32.83250000828478)  \n",
       "101812  6295347  1907251   POINT (-117.1176264732658 32.8969782900581)  \n",
       "\n",
       "[101813 rows x 30 columns]"
      ]
     },
     "execution_count": 384,
     "metadata": {},
     "output_type": "execute_result"
    }
   ],
   "source": [
    "grocery"
   ]
  },
  {
   "cell_type": "code",
   "execution_count": 385,
   "id": "868cb8af-98ad-45b7-a5f1-d52b3bac3f1f",
   "metadata": {},
   "outputs": [],
   "source": [
    "from shapely import wkt\n",
    "\n",
    "grocery['geometry'] = grocery['geometry'].apply(wkt.loads)\n",
    "\n",
    "gdf_grocery = gpd.GeoDataFrame(grocery, geometry='geometry')"
   ]
  },
  {
   "cell_type": "markdown",
   "id": "9041f5f8-7992-470c-b41f-dc14ea32527e",
   "metadata": {},
   "source": [
    "Imported wkt from the shapely library. WKT, or Well-Known Text, is a text markup language for representing vector geometry objects on a map.\n",
    "\n",
    "Converting Geometry Data:\n",
    "The geometry column in the grocery DataFrame likely contained geometric data as WKT strings. To work with these geometries in GeoPandas, they needed to be converted into shapely geometry objects. Applied the wkt.loads function to each geometry entry in the grocery['geometry'] column using apply(). This converted the WKT formatted strings into shapely geometry objects, making them usable for spatial operations."
   ]
  },
  {
   "cell_type": "code",
   "execution_count": 386,
   "id": "b8615ede-994e-4912-8e50-06312e2d984b",
   "metadata": {},
   "outputs": [
    {
     "data": {
      "text/html": [
       "<div>\n",
       "<style scoped>\n",
       "    .dataframe tbody tr th:only-of-type {\n",
       "        vertical-align: middle;\n",
       "    }\n",
       "\n",
       "    .dataframe tbody tr th {\n",
       "        vertical-align: top;\n",
       "    }\n",
       "\n",
       "    .dataframe thead th {\n",
       "        text-align: right;\n",
       "    }\n",
       "</style>\n",
       "<table border=\"1\" class=\"dataframe\">\n",
       "  <thead>\n",
       "    <tr style=\"text-align: right;\">\n",
       "      <th></th>\n",
       "      <th>id</th>\n",
       "      <th>apn</th>\n",
       "      <th>bcccode</th>\n",
       "      <th>ownnam1</th>\n",
       "      <th>ownnam2</th>\n",
       "      <th>ownnam3</th>\n",
       "      <th>careof</th>\n",
       "      <th>strnum</th>\n",
       "      <th>strfra</th>\n",
       "      <th>strdir</th>\n",
       "      <th>...</th>\n",
       "      <th>locfra</th>\n",
       "      <th>locdir</th>\n",
       "      <th>locnam</th>\n",
       "      <th>loctyp</th>\n",
       "      <th>locsrm</th>\n",
       "      <th>loccit</th>\n",
       "      <th>bustype</th>\n",
       "      <th>point_x</th>\n",
       "      <th>point_y</th>\n",
       "      <th>geometry</th>\n",
       "    </tr>\n",
       "  </thead>\n",
       "  <tbody>\n",
       "    <tr>\n",
       "      <th>0</th>\n",
       "      <td>0</td>\n",
       "      <td>7602110600</td>\n",
       "      <td>298</td>\n",
       "      <td>AT&amp;T SERVICES INC</td>\n",
       "      <td>NaN</td>\n",
       "      <td>NaN</td>\n",
       "      <td>C/O PROPERTY TAX DEPT</td>\n",
       "      <td>909</td>\n",
       "      <td>NaN</td>\n",
       "      <td>NaN</td>\n",
       "      <td>...</td>\n",
       "      <td>NaN</td>\n",
       "      <td>NaN</td>\n",
       "      <td>11TH</td>\n",
       "      <td>ST</td>\n",
       "      <td>NaN</td>\n",
       "      <td>CAMP PENDLETON</td>\n",
       "      <td>MISC PROFESSIONAL</td>\n",
       "      <td>6210715</td>\n",
       "      <td>2026933</td>\n",
       "      <td>POINT (-117.39762 33.22365)</td>\n",
       "    </tr>\n",
       "    <tr>\n",
       "      <th>1</th>\n",
       "      <td>1</td>\n",
       "      <td>7600801704</td>\n",
       "      <td>2</td>\n",
       "      <td>OCEANSIDE SMALL CRAFT HARBOR</td>\n",
       "      <td>DISTRICT</td>\n",
       "      <td>MARINA INN OCEANSIDE SUITES</td>\n",
       "      <td>NaN</td>\n",
       "      <td>2008</td>\n",
       "      <td>NaN</td>\n",
       "      <td>N</td>\n",
       "      <td>...</td>\n",
       "      <td>NaN</td>\n",
       "      <td>N</td>\n",
       "      <td>HARBOR</td>\n",
       "      <td>DR</td>\n",
       "      <td>B</td>\n",
       "      <td>OCEANSIDE</td>\n",
       "      <td>PUBLIC AGENCY</td>\n",
       "      <td>6210725</td>\n",
       "      <td>2021698</td>\n",
       "      <td>POINT (-117.39740 33.20926)</td>\n",
       "    </tr>\n",
       "    <tr>\n",
       "      <th>2</th>\n",
       "      <td>2</td>\n",
       "      <td>7600801100</td>\n",
       "      <td>41</td>\n",
       "      <td>OCEANSIDE YACHT CLUB INC</td>\n",
       "      <td>NaN</td>\n",
       "      <td>NaN</td>\n",
       "      <td>NaN</td>\n",
       "      <td>1950</td>\n",
       "      <td>NaN</td>\n",
       "      <td>N</td>\n",
       "      <td>...</td>\n",
       "      <td>NaN</td>\n",
       "      <td>N</td>\n",
       "      <td>HARBOR</td>\n",
       "      <td>DR</td>\n",
       "      <td>NaN</td>\n",
       "      <td>OCEANSIDE</td>\n",
       "      <td>CLUBS - SOCIAL/SERVI</td>\n",
       "      <td>6210790</td>\n",
       "      <td>2022669</td>\n",
       "      <td>POINT (-117.39722 33.21193)</td>\n",
       "    </tr>\n",
       "    <tr>\n",
       "      <th>3</th>\n",
       "      <td>3</td>\n",
       "      <td>7600802400</td>\n",
       "      <td>313</td>\n",
       "      <td>ALOHA RESTAURANTS INC</td>\n",
       "      <td>DBA JOLLY ROGER RESTAURANT</td>\n",
       "      <td>#119</td>\n",
       "      <td>ATTN STEVE MOYER</td>\n",
       "      <td>204</td>\n",
       "      <td>NaN</td>\n",
       "      <td>NaN</td>\n",
       "      <td>...</td>\n",
       "      <td>NaN</td>\n",
       "      <td>N</td>\n",
       "      <td>HARBOR</td>\n",
       "      <td>DR</td>\n",
       "      <td>NaN</td>\n",
       "      <td>OCEANSIDE</td>\n",
       "      <td>CAFE</td>\n",
       "      <td>6210974</td>\n",
       "      <td>2022894</td>\n",
       "      <td>POINT (-117.39663 33.21255)</td>\n",
       "    </tr>\n",
       "    <tr>\n",
       "      <th>4</th>\n",
       "      <td>4</td>\n",
       "      <td>7600801000</td>\n",
       "      <td>492</td>\n",
       "      <td>YEARLEY SHARON&amp;MONTE</td>\n",
       "      <td>DBA YEARLEY SAILBOATS</td>\n",
       "      <td>NaN</td>\n",
       "      <td>NaN</td>\n",
       "      <td>1850</td>\n",
       "      <td>NaN</td>\n",
       "      <td>N</td>\n",
       "      <td>...</td>\n",
       "      <td>NaN</td>\n",
       "      <td>N</td>\n",
       "      <td>HARBOR</td>\n",
       "      <td>DR</td>\n",
       "      <td>B</td>\n",
       "      <td>OCEANSIDE</td>\n",
       "      <td>BOAT&amp;SUPPLIERS</td>\n",
       "      <td>6211157</td>\n",
       "      <td>2023119</td>\n",
       "      <td>POINT (-117.39604 33.21318)</td>\n",
       "    </tr>\n",
       "    <tr>\n",
       "      <th>...</th>\n",
       "      <td>...</td>\n",
       "      <td>...</td>\n",
       "      <td>...</td>\n",
       "      <td>...</td>\n",
       "      <td>...</td>\n",
       "      <td>...</td>\n",
       "      <td>...</td>\n",
       "      <td>...</td>\n",
       "      <td>...</td>\n",
       "      <td>...</td>\n",
       "      <td>...</td>\n",
       "      <td>...</td>\n",
       "      <td>...</td>\n",
       "      <td>...</td>\n",
       "      <td>...</td>\n",
       "      <td>...</td>\n",
       "      <td>...</td>\n",
       "      <td>...</td>\n",
       "      <td>...</td>\n",
       "      <td>...</td>\n",
       "      <td>...</td>\n",
       "    </tr>\n",
       "    <tr>\n",
       "      <th>101808</th>\n",
       "      <td>101808</td>\n",
       "      <td>9500000000</td>\n",
       "      <td>314</td>\n",
       "      <td>MAL HEE LEE</td>\n",
       "      <td>DBA I SUSHI</td>\n",
       "      <td>NaN</td>\n",
       "      <td>NaN</td>\n",
       "      <td>945</td>\n",
       "      <td>NaN</td>\n",
       "      <td>NaN</td>\n",
       "      <td>...</td>\n",
       "      <td>NaN</td>\n",
       "      <td>NaN</td>\n",
       "      <td>OTAY LAKES</td>\n",
       "      <td>RD</td>\n",
       "      <td>N</td>\n",
       "      <td>CHULA VISTA</td>\n",
       "      <td>CAFE-FAST FOOD</td>\n",
       "      <td>6333138</td>\n",
       "      <td>1813900</td>\n",
       "      <td>POINT (-116.99235 32.64122)</td>\n",
       "    </tr>\n",
       "    <tr>\n",
       "      <th>101809</th>\n",
       "      <td>101809</td>\n",
       "      <td>9500000000</td>\n",
       "      <td>391</td>\n",
       "      <td>WIEBER WILLIAM</td>\n",
       "      <td>DBA BOSNS LOCKER THE</td>\n",
       "      <td>NaN</td>\n",
       "      <td>NaN</td>\n",
       "      <td>946</td>\n",
       "      <td>NaN</td>\n",
       "      <td>NaN</td>\n",
       "      <td>...</td>\n",
       "      <td>NaN</td>\n",
       "      <td>NaN</td>\n",
       "      <td>INDUSTRIAL</td>\n",
       "      <td>BLVD</td>\n",
       "      <td>NaN</td>\n",
       "      <td>CHULA VISTA</td>\n",
       "      <td>MACHINE SHOP</td>\n",
       "      <td>6303025</td>\n",
       "      <td>1804280</td>\n",
       "      <td>POINT (-117.08991 32.61416)</td>\n",
       "    </tr>\n",
       "    <tr>\n",
       "      <th>101810</th>\n",
       "      <td>101810</td>\n",
       "      <td>9500000000</td>\n",
       "      <td>295</td>\n",
       "      <td>RADIATION ONCOLOGY SOUTH BAY</td>\n",
       "      <td>LLC</td>\n",
       "      <td>NaN</td>\n",
       "      <td>NaN</td>\n",
       "      <td>310</td>\n",
       "      <td>NaN</td>\n",
       "      <td>NaN</td>\n",
       "      <td>...</td>\n",
       "      <td>NaN</td>\n",
       "      <td>NaN</td>\n",
       "      <td>LANE</td>\n",
       "      <td>AVE</td>\n",
       "      <td>B</td>\n",
       "      <td>CHULA VISTA</td>\n",
       "      <td>DOCTOR/OSTEOPA/CHIRO</td>\n",
       "      <td>6342555</td>\n",
       "      <td>1817407</td>\n",
       "      <td>POINT (-116.96184 32.65104)</td>\n",
       "    </tr>\n",
       "    <tr>\n",
       "      <th>101811</th>\n",
       "      <td>101811</td>\n",
       "      <td>9500000000</td>\n",
       "      <td>298</td>\n",
       "      <td>PACIFIC RAILWAY ENTERPRISES</td>\n",
       "      <td>INC</td>\n",
       "      <td>NaN</td>\n",
       "      <td>NaN</td>\n",
       "      <td>3560</td>\n",
       "      <td>NaN</td>\n",
       "      <td>NaN</td>\n",
       "      <td>...</td>\n",
       "      <td>NaN</td>\n",
       "      <td>NaN</td>\n",
       "      <td>CHESAPEAKE</td>\n",
       "      <td>DR</td>\n",
       "      <td>420</td>\n",
       "      <td>SAN DIEGO</td>\n",
       "      <td>MISC PROFESSIONAL</td>\n",
       "      <td>6293307</td>\n",
       "      <td>1883807</td>\n",
       "      <td>POINT (-117.12363 32.83250)</td>\n",
       "    </tr>\n",
       "    <tr>\n",
       "      <th>101812</th>\n",
       "      <td>101812</td>\n",
       "      <td>9500000000</td>\n",
       "      <td>298</td>\n",
       "      <td>NATIONAL RESEARCH CORPORATION</td>\n",
       "      <td>DBA GOVERNANCE INSTITUTE THE</td>\n",
       "      <td>NRC HEALTH</td>\n",
       "      <td>NaN</td>\n",
       "      <td>1245</td>\n",
       "      <td>NaN</td>\n",
       "      <td>NaN</td>\n",
       "      <td>...</td>\n",
       "      <td>NaN</td>\n",
       "      <td>NaN</td>\n",
       "      <td>VIA EXCELENCIA</td>\n",
       "      <td>NaN</td>\n",
       "      <td>100</td>\n",
       "      <td>SAN DIEGO</td>\n",
       "      <td>MISC PROFESSIONAL</td>\n",
       "      <td>6295347</td>\n",
       "      <td>1907251</td>\n",
       "      <td>POINT (-117.11763 32.89698)</td>\n",
       "    </tr>\n",
       "  </tbody>\n",
       "</table>\n",
       "<p>101813 rows × 30 columns</p>\n",
       "</div>"
      ],
      "text/plain": [
       "            id         apn  bcccode                        ownnam1  \\\n",
       "0            0  7602110600      298              AT&T SERVICES INC   \n",
       "1            1  7600801704        2   OCEANSIDE SMALL CRAFT HARBOR   \n",
       "2            2  7600801100       41       OCEANSIDE YACHT CLUB INC   \n",
       "3            3  7600802400      313          ALOHA RESTAURANTS INC   \n",
       "4            4  7600801000      492           YEARLEY SHARON&MONTE   \n",
       "...        ...         ...      ...                            ...   \n",
       "101808  101808  9500000000      314                    MAL HEE LEE   \n",
       "101809  101809  9500000000      391                 WIEBER WILLIAM   \n",
       "101810  101810  9500000000      295   RADIATION ONCOLOGY SOUTH BAY   \n",
       "101811  101811  9500000000      298    PACIFIC RAILWAY ENTERPRISES   \n",
       "101812  101812  9500000000      298  NATIONAL RESEARCH CORPORATION   \n",
       "\n",
       "                             ownnam2                      ownnam3  \\\n",
       "0                                NaN                          NaN   \n",
       "1                           DISTRICT  MARINA INN OCEANSIDE SUITES   \n",
       "2                                NaN                          NaN   \n",
       "3         DBA JOLLY ROGER RESTAURANT                         #119   \n",
       "4              DBA YEARLEY SAILBOATS                          NaN   \n",
       "...                              ...                          ...   \n",
       "101808                   DBA I SUSHI                          NaN   \n",
       "101809          DBA BOSNS LOCKER THE                          NaN   \n",
       "101810                           LLC                          NaN   \n",
       "101811                           INC                          NaN   \n",
       "101812  DBA GOVERNANCE INSTITUTE THE                   NRC HEALTH   \n",
       "\n",
       "                       careof  strnum strfra strdir  ... locfra locdir  \\\n",
       "0       C/O PROPERTY TAX DEPT     909    NaN    NaN  ...    NaN    NaN   \n",
       "1                         NaN    2008    NaN      N  ...    NaN      N   \n",
       "2                         NaN    1950    NaN      N  ...    NaN      N   \n",
       "3            ATTN STEVE MOYER     204    NaN    NaN  ...    NaN      N   \n",
       "4                         NaN    1850    NaN      N  ...    NaN      N   \n",
       "...                       ...     ...    ...    ...  ...    ...    ...   \n",
       "101808                    NaN     945    NaN    NaN  ...    NaN    NaN   \n",
       "101809                    NaN     946    NaN    NaN  ...    NaN    NaN   \n",
       "101810                    NaN     310    NaN    NaN  ...    NaN    NaN   \n",
       "101811                    NaN    3560    NaN    NaN  ...    NaN    NaN   \n",
       "101812                    NaN    1245    NaN    NaN  ...    NaN    NaN   \n",
       "\n",
       "                locnam loctyp locsrm          loccit               bustype  \\\n",
       "0                 11TH     ST    NaN  CAMP PENDLETON     MISC PROFESSIONAL   \n",
       "1               HARBOR     DR      B       OCEANSIDE         PUBLIC AGENCY   \n",
       "2               HARBOR     DR    NaN       OCEANSIDE  CLUBS - SOCIAL/SERVI   \n",
       "3               HARBOR     DR    NaN       OCEANSIDE                  CAFE   \n",
       "4               HARBOR     DR      B       OCEANSIDE        BOAT&SUPPLIERS   \n",
       "...                ...    ...    ...             ...                   ...   \n",
       "101808      OTAY LAKES     RD      N     CHULA VISTA        CAFE-FAST FOOD   \n",
       "101809      INDUSTRIAL   BLVD    NaN     CHULA VISTA          MACHINE SHOP   \n",
       "101810            LANE    AVE      B     CHULA VISTA  DOCTOR/OSTEOPA/CHIRO   \n",
       "101811      CHESAPEAKE     DR    420       SAN DIEGO     MISC PROFESSIONAL   \n",
       "101812  VIA EXCELENCIA    NaN    100       SAN DIEGO     MISC PROFESSIONAL   \n",
       "\n",
       "        point_x  point_y                     geometry  \n",
       "0       6210715  2026933  POINT (-117.39762 33.22365)  \n",
       "1       6210725  2021698  POINT (-117.39740 33.20926)  \n",
       "2       6210790  2022669  POINT (-117.39722 33.21193)  \n",
       "3       6210974  2022894  POINT (-117.39663 33.21255)  \n",
       "4       6211157  2023119  POINT (-117.39604 33.21318)  \n",
       "...         ...      ...                          ...  \n",
       "101808  6333138  1813900  POINT (-116.99235 32.64122)  \n",
       "101809  6303025  1804280  POINT (-117.08991 32.61416)  \n",
       "101810  6342555  1817407  POINT (-116.96184 32.65104)  \n",
       "101811  6293307  1883807  POINT (-117.12363 32.83250)  \n",
       "101812  6295347  1907251  POINT (-117.11763 32.89698)  \n",
       "\n",
       "[101813 rows x 30 columns]"
      ]
     },
     "execution_count": 386,
     "metadata": {},
     "output_type": "execute_result"
    }
   ],
   "source": [
    "gdf_grocery.set_crs('EPSG:4326', inplace=True)\n"
   ]
  },
  {
   "cell_type": "code",
   "execution_count": 387,
   "id": "a70ea747-3e7c-44f4-9c62-fc3dc24c0ecf",
   "metadata": {},
   "outputs": [],
   "source": [
    "grocery = gdf_grocery.to_crs('EPSG:2230')"
   ]
  },
  {
   "cell_type": "code",
   "execution_count": 388,
   "id": "181f757b-1469-4781-967c-303e91cbaed9",
   "metadata": {},
   "outputs": [],
   "source": [
    "grocery = gpd.sjoin(grocery, san_diego_boundary, how='inner', op='within')"
   ]
  },
  {
   "cell_type": "markdown",
   "id": "b7f9dd9b-1a82-4b4e-8ca4-aec6af7d141b",
   "metadata": {},
   "source": [
    "Performed a spatial join between the grocery GeoDataFrame, which now contains properly formatted geometric data, and the san_diego_boundary GeoDataFrame.\n",
    "By setting how='inner' and op='within', I ensured that only those grocery stores located within the San Diego boundary are included in the resulting GeoDataFrame. This operation discards any grocery store data points that lie outside the boundaries of San Diego.\n",
    "\n",
    "Purpose of the Operation:\n",
    "This spatial join is essential for focusing subsequent analyses solely on grocery stores relevant to the San Diego area. "
   ]
  },
  {
   "cell_type": "code",
   "execution_count": 389,
   "id": "d66fb765-2238-403f-826a-b637e4eb05ee",
   "metadata": {},
   "outputs": [],
   "source": [
    "grocery= grocery.to_crs(epsg=4269)"
   ]
  },
  {
   "cell_type": "code",
   "execution_count": 390,
   "id": "50f21df4-6ce7-4c90-b85c-8450e2a246ca",
   "metadata": {},
   "outputs": [],
   "source": [
    "grocery_stores = grocery[grocery['bustype'] == 'GROCERY STORES']"
   ]
  },
  {
   "cell_type": "code",
   "execution_count": 391,
   "id": "71d3beab-0e34-4a26-838f-eb065f43a119",
   "metadata": {},
   "outputs": [],
   "source": [
    "#grocery_stores.explore()"
   ]
  },
  {
   "cell_type": "markdown",
   "id": "10aadefe-f390-4f86-ab6c-357f7bf6479c",
   "metadata": {},
   "source": [
    "Used a conditional statement to filter the grocery DataFrame, selecting only rows where the bustype column equals \"GROCERY STORES\". This operation ensures that the resulting DataFrame, grocery_stores, exclusively contains data pertaining to businesses identified as grocery stores."
   ]
  },
  {
   "cell_type": "markdown",
   "id": "7c26e849-455f-486b-ba6d-492710baf8be",
   "metadata": {},
   "source": [
    "## Creating Isochrones for Grocery Stores"
   ]
  },
  {
   "cell_type": "code",
   "execution_count": 392,
   "id": "17431cb1-6f6a-4e60-9831-e46209f6b1cd",
   "metadata": {},
   "outputs": [],
   "source": [
    "#isochrones5 = isochrones_from_gdf(grocery_stores, threshold=1600, network=sd_network)\n",
    "#isochrones5"
   ]
  },
  {
   "cell_type": "code",
   "execution_count": 393,
   "id": "30979d66-56da-4019-bd83-9fc88139d9fa",
   "metadata": {},
   "outputs": [],
   "source": [
    "#s24= isochrones5.dissolve()"
   ]
  },
  {
   "cell_type": "code",
   "execution_count": 394,
   "id": "f768263e-fff8-4813-bb84-431c30a292f3",
   "metadata": {},
   "outputs": [],
   "source": [
    "#s24.explore()"
   ]
  },
  {
   "cell_type": "markdown",
   "id": "d9f4ab61-53aa-4569-a34d-8a17eca4c767",
   "metadata": {},
   "source": [
    "Generated isochrones with the isochrones_from_gdf function. The threshold was set to 1600 meters, indicating the areas reachable within this distance from each grocery store, using the San Diego transportation network (sd_network).\n",
    "\n",
    "The function outputs isochrones5, a GeoDataFrame containing the geometric representations of these accessibility areas.\n",
    "\n",
    "Purpose of Creating Isochrones:\n",
    "These isochrones help visualize the reach of grocery stores, providing insight into how accessible they are to residents of San Diego."
   ]
  },
  {
   "cell_type": "code",
   "execution_count": 395,
   "id": "5ef905de-5c4c-454e-b4b7-a775b2ab4d58",
   "metadata": {},
   "outputs": [],
   "source": [
    "#s24.to_file(\"data/sd_grocery_iso/s24.shp\")"
   ]
  },
  {
   "cell_type": "code",
   "execution_count": 396,
   "id": "2d863f0f-2946-49cc-873f-437bd09614e0",
   "metadata": {},
   "outputs": [],
   "source": [
    "file_path='data/sd_grocery_iso/s24.shp'\n",
    "s24=gpd.read_file(file_path)"
   ]
  },
  {
   "cell_type": "code",
   "execution_count": 397,
   "id": "b132d307-44d7-40a8-99e7-5dbcdeef8320",
   "metadata": {},
   "outputs": [],
   "source": [
    "s24 = s24.rename(columns={'distance': 'distance_s24'})\n",
    "\n",
    "intersection_result4 = gpd.overlay(s24, intersection_result3, how='intersection')"
   ]
  },
  {
   "cell_type": "code",
   "execution_count": 398,
   "id": "5ddb89ed-787d-48e2-b59c-45c48b95f920",
   "metadata": {},
   "outputs": [],
   "source": [
    "#intersection_result4.explore()"
   ]
  },
  {
   "cell_type": "markdown",
   "id": "1352e7a7-2161-45ba-a1d8-368193cf8575",
   "metadata": {},
   "source": [
    "Used the gpd.overlay() function to perform another intersection, this time incorporating the grocery store isochrones (s24) with the previously computed intersection result (intersection_result3). This method was set to 'intersection', which calculates the geometric overlap between these sets.\n",
    "\n",
    "Purpose of This Intersection:\n",
    "This operation resulted in intersection_result4, which represents areas within San Diego where residents have access within a 15-minute walk to parks, healthcare facilities, schools, transit stops, and now, grocery stores."
   ]
  },
  {
   "cell_type": "markdown",
   "id": "ed08283d-6f3a-4542-90a4-cf6ca6081841",
   "metadata": {},
   "source": [
    "## Religion"
   ]
  },
  {
   "cell_type": "code",
   "execution_count": 399,
   "id": "7f421093-b23f-4168-a889-ea4a90219f37",
   "metadata": {},
   "outputs": [],
   "source": [
    "#file_path=\"data/sd_worship/Places.shp\"\n",
    "#religion=gpd.read_file(file_path)"
   ]
  },
  {
   "cell_type": "code",
   "execution_count": 400,
   "id": "f500a612-d162-4b52-81db-0aec13099ad3",
   "metadata": {},
   "outputs": [],
   "source": [
    "#religion.crs"
   ]
  },
  {
   "cell_type": "code",
   "execution_count": 401,
   "id": "af314052-c42c-4925-ad24-24e15f9d02f9",
   "metadata": {},
   "outputs": [],
   "source": [
    "#san_diego_boundary.crs"
   ]
  },
  {
   "cell_type": "code",
   "execution_count": 402,
   "id": "0d2864c8-20b1-40d0-a14d-06070dceb861",
   "metadata": {},
   "outputs": [],
   "source": [
    "#religion = religion.to_crs('EPSG:2230')"
   ]
  },
  {
   "cell_type": "code",
   "execution_count": 403,
   "id": "a39f8a2b-b26e-448e-8fe4-b18aa27c602c",
   "metadata": {},
   "outputs": [],
   "source": [
    "#religion = gpd.sjoin(religion, san_diego_boundary, how='inner', op='within')"
   ]
  },
  {
   "cell_type": "code",
   "execution_count": 404,
   "id": "5f08d50e-6d0d-43bb-842b-f1232fbb14e4",
   "metadata": {},
   "outputs": [],
   "source": [
    "#unique_types = religion['TYPE'].unique()\n"
   ]
  },
  {
   "cell_type": "code",
   "execution_count": 405,
   "id": "b4ea3725-d737-43da-a9d9-798d19b9b064",
   "metadata": {},
   "outputs": [],
   "source": [
    "#unique_types"
   ]
  },
  {
   "cell_type": "code",
   "execution_count": 406,
   "id": "33373b00-5f32-49c0-8070-6db30116b42e",
   "metadata": {},
   "outputs": [],
   "source": [
    "#ri_variables = ['ReligiousStructure_C', 'ReligiousStructure_B', 'ReligiousStructure',\n",
    "                #'ReligiousStructure_M', 'ReligiousStructure_H', 'ReligiousStructure_J']"
   ]
  },
  {
   "cell_type": "code",
   "execution_count": 407,
   "id": "ccb77471-95db-48fc-8942-5102121a8f2e",
   "metadata": {},
   "outputs": [],
   "source": [
    "#sd_religion = religion[religion['TYPE'].isin(ri_variables)]\n"
   ]
  },
  {
   "cell_type": "markdown",
   "id": "32b95f0f-5121-4d52-bf7a-8ab76c69b190",
   "metadata": {},
   "source": [
    "First conducted a spatial join between the religion GeoDataFrame and the san_diego_boundary GeoDataFrame. The how='inner' parameter ensured that only religious structures located within the San Diego boundary were included, and op='within' confirmed that the structures are indeed within these geographic limits.\n",
    "\n",
    "Identifying Unique Types:\n",
    "To understand the different categories of religious structures within the dataset, I extracted unique types from the 'TYPE' column using the .unique() method. This would help in identifying specific categories of interest for further analysis.\n",
    "\n",
    "Filtering Specific Categories:\n",
    "Based on the unique types identified, I created a list, ri_variables, containing selected types of religious structures to focus on, such as 'ReligiousStructure_C', 'ReligiousStructure_B', etc.\n",
    "I then filtered the religion GeoDataFrame to include only the entries whose 'TYPE' matched one of the types in ri_variables. This filtering was done using the .isin() method, which checks each 'TYPE' entry against the list of specified categories."
   ]
  },
  {
   "cell_type": "code",
   "execution_count": 408,
   "id": "62745387-0f83-4897-8d0f-d559456492f6",
   "metadata": {},
   "outputs": [],
   "source": [
    "file_path=\"data/sd_worship/Isochrones/riid.shp\"\n",
    "sd_relig=gpd.read_file(file_path)"
   ]
  },
  {
   "cell_type": "code",
   "execution_count": 409,
   "id": "dad7132b-b7d6-4f6e-b926-af9205f3e85c",
   "metadata": {},
   "outputs": [],
   "source": [
    "sd_relig = sd_relig.rename(columns={'distance': 'distance_religion'})\n",
    "\n",
    "intersection_result5 = gpd.overlay(sd_relig, intersection_result4, how='intersection')"
   ]
  },
  {
   "cell_type": "markdown",
   "id": "bd60d860-36eb-48cd-a119-ae22277ee4a5",
   "metadata": {},
   "source": [
    "Utilized the gpd.overlay() function to intersect the filtered religious structures dataset (sd_relig), which includes specific types of religious facilities, with the previously obtained intersection result (intersection_result4). This result already encompassed areas with access to parks, healthcare facilities, schools, transit stops, and grocery stores.\n",
    "\n",
    "The method specified for this operation was 'intersection', which computes the geometric overlap between these two data sets.\n",
    "\n",
    "Purpose of This Intersection:\n",
    "The new intersection (intersection_result5) now encapsulates regions within San Diego where access to religious structures is also within a 15-minute walk, alongside other essential services."
   ]
  },
  {
   "cell_type": "markdown",
   "id": "7103d9e0-4a29-4d3b-96e2-7b5aa35dded1",
   "metadata": {},
   "source": [
    "## Import of American Community Survey Data using GeoSnap"
   ]
  },
  {
   "cell_type": "code",
   "execution_count": 410,
   "id": "32ea03ad-db05-4802-886f-8ad03c5cbf9a",
   "metadata": {},
   "outputs": [],
   "source": [
    "intersection_result5['access']='access'"
   ]
  },
  {
   "cell_type": "markdown",
   "id": "d6c14996-a83b-4ca5-9839-25c1f3e3ce74",
   "metadata": {},
   "source": [
    "Assigned a label 'access' to the intersection_result5 GeoDataFrame. This label presumably marks the areas identified as having good accessibility to multiple essential services, "
   ]
  },
  {
   "cell_type": "code",
   "execution_count": 411,
   "id": "d4f0d680-f81b-4503-9c9a-a3d18ad49ad0",
   "metadata": {},
   "outputs": [],
   "source": [
    "#intersection_result5.explore()"
   ]
  },
  {
   "cell_type": "code",
   "execution_count": 412,
   "id": "dbdcdc61-8d9a-49e1-a5ac-04e236c0ca65",
   "metadata": {},
   "outputs": [],
   "source": [
    "acs21 = datasets.acs('2021')"
   ]
  },
  {
   "cell_type": "code",
   "execution_count": 413,
   "id": "63db09b1-dcfb-416d-8ef5-8a3387f3a571",
   "metadata": {},
   "outputs": [
    {
     "data": {
      "text/plain": [
       "<Axes: >"
      ]
     },
     "execution_count": 413,
     "metadata": {},
     "output_type": "execute_result"
    },
    {
     "data": {
      "image/png": "[encoded data removed]",
      "text/plain": [
       "<Figure size 640x480 with 1 Axes>"
      ]
     },
     "metadata": {},
     "output_type": "display_data"
    }
   ],
   "source": [
    "san_diego_county_tracts = acs21[acs21['geoid'].str.startswith('06073')]\n",
    "san_diego_county_tracts.plot()"
   ]
  },
  {
   "cell_type": "code",
   "execution_count": 414,
   "id": "9994e64a-4960-4be5-9c39-63f8224a7f76",
   "metadata": {},
   "outputs": [],
   "source": [
    "san_diego_county_tracts = san_diego_county_tracts.to_crs('EPSG:2230')"
   ]
  },
  {
   "cell_type": "code",
   "execution_count": 415,
   "id": "86255bea-d8fb-4207-b15a-6fd10fbfcdb7",
   "metadata": {},
   "outputs": [],
   "source": [
    "#san_diego_county_tracts.explore()"
   ]
  },
  {
   "cell_type": "code",
   "execution_count": 416,
   "id": "091c707a-2b93-4726-aafd-c4e83123d2dc",
   "metadata": {},
   "outputs": [],
   "source": [
    "#san_diego_boundary.explore()"
   ]
  },
  {
   "cell_type": "code",
   "execution_count": 417,
   "id": "8d088620-de0c-4e02-a8a0-98a7fa7f764e",
   "metadata": {},
   "outputs": [],
   "source": [
    "tracts_within_boundary1 = gpd.overlay(san_diego_county_tracts, san_diego_boundary, how='intersection')\n",
    "#tracts_within_boundary1.explore()"
   ]
  },
  {
   "cell_type": "markdown",
   "id": "45891e55-67ab-4b7c-8561-5fa4d1d7850e",
   "metadata": {},
   "source": [
    "Used gpd.overlay() to intersect the san_diego_county_tracts GeoDataFrame, which contains demographic data for census tracts within San Diego County, with the san_diego_boundary GeoDataFrame. The operation was set to 'intersection', ensuring that the output, tracts_within_boundary1, includes only those parts of census tracts that lie within the official boundaries of the city of San Diego."
   ]
  },
  {
   "cell_type": "code",
   "execution_count": 418,
   "id": "1e158fe2-7f54-4895-96e0-4af6059ce718",
   "metadata": {},
   "outputs": [],
   "source": [
    "tracts_within_boundary = tracts_within_boundary1[['geometry']]"
   ]
  },
  {
   "cell_type": "code",
   "execution_count": 419,
   "id": "832cfb65-733d-4f8f-a225-3f2bfb9df304",
   "metadata": {},
   "outputs": [
    {
     "data": {
      "text/html": [
       "<div>\n",
       "<style scoped>\n",
       "    .dataframe tbody tr th:only-of-type {\n",
       "        vertical-align: middle;\n",
       "    }\n",
       "\n",
       "    .dataframe tbody tr th {\n",
       "        vertical-align: top;\n",
       "    }\n",
       "\n",
       "    .dataframe thead th {\n",
       "        text-align: right;\n",
       "    }\n",
       "</style>\n",
       "<table border=\"1\" class=\"dataframe\">\n",
       "  <thead>\n",
       "    <tr style=\"text-align: right;\">\n",
       "      <th></th>\n",
       "      <th>geometry</th>\n",
       "    </tr>\n",
       "  </thead>\n",
       "  <tbody>\n",
       "    <tr>\n",
       "      <th>0</th>\n",
       "      <td>POLYGON ((6271212.508 1855074.386, 6271393.972...</td>\n",
       "    </tr>\n",
       "    <tr>\n",
       "      <th>1</th>\n",
       "      <td>POLYGON ((6276375.410 1856718.155, 6276654.562...</td>\n",
       "    </tr>\n",
       "    <tr>\n",
       "      <th>2</th>\n",
       "      <td>POLYGON ((6274535.866 1852524.707, 6274558.408...</td>\n",
       "    </tr>\n",
       "    <tr>\n",
       "      <th>3</th>\n",
       "      <td>POLYGON ((6279287.227 1853533.698, 6279509.232...</td>\n",
       "    </tr>\n",
       "    <tr>\n",
       "      <th>4</th>\n",
       "      <td>POLYGON ((6280617.190 1850738.841, 6280617.938...</td>\n",
       "    </tr>\n",
       "    <tr>\n",
       "      <th>...</th>\n",
       "      <td>...</td>\n",
       "    </tr>\n",
       "    <tr>\n",
       "      <th>387</th>\n",
       "      <td>POLYGON ((6352772.450 1801762.759, 6352767.567...</td>\n",
       "    </tr>\n",
       "    <tr>\n",
       "      <th>388</th>\n",
       "      <td>POLYGON ((6351761.045 1816825.711, 6351840.851...</td>\n",
       "    </tr>\n",
       "    <tr>\n",
       "      <th>389</th>\n",
       "      <td>POLYGON ((6351891.449 1816666.945, 6351840.851...</td>\n",
       "    </tr>\n",
       "    <tr>\n",
       "      <th>390</th>\n",
       "      <td>POLYGON ((6328113.555 1894641.743, 6328114.513...</td>\n",
       "    </tr>\n",
       "    <tr>\n",
       "      <th>391</th>\n",
       "      <td>POLYGON ((6470142.888 1828801.629, 6469603.214...</td>\n",
       "    </tr>\n",
       "  </tbody>\n",
       "</table>\n",
       "<p>392 rows × 1 columns</p>\n",
       "</div>"
      ],
      "text/plain": [
       "                                              geometry\n",
       "0    POLYGON ((6271212.508 1855074.386, 6271393.972...\n",
       "1    POLYGON ((6276375.410 1856718.155, 6276654.562...\n",
       "2    POLYGON ((6274535.866 1852524.707, 6274558.408...\n",
       "3    POLYGON ((6279287.227 1853533.698, 6279509.232...\n",
       "4    POLYGON ((6280617.190 1850738.841, 6280617.938...\n",
       "..                                                 ...\n",
       "387  POLYGON ((6352772.450 1801762.759, 6352767.567...\n",
       "388  POLYGON ((6351761.045 1816825.711, 6351840.851...\n",
       "389  POLYGON ((6351891.449 1816666.945, 6351840.851...\n",
       "390  POLYGON ((6328113.555 1894641.743, 6328114.513...\n",
       "391  POLYGON ((6470142.888 1828801.629, 6469603.214...\n",
       "\n",
       "[392 rows x 1 columns]"
      ]
     },
     "execution_count": 419,
     "metadata": {},
     "output_type": "execute_result"
    }
   ],
   "source": [
    "tracts_within_boundary"
   ]
  },
  {
   "cell_type": "code",
   "execution_count": 420,
   "id": "ca97e050-4947-4971-a602-9cc588c3c56c",
   "metadata": {},
   "outputs": [],
   "source": [
    "tracts_within_boundary['unique']=\"yes\""
   ]
  },
  {
   "cell_type": "markdown",
   "id": "ff1c5cb3-433e-4488-a616-eb0f1cfe08e9",
   "metadata": {},
   "source": [
    "Added a column that could easily identify the tracts for the City of San Diego"
   ]
  },
  {
   "cell_type": "code",
   "execution_count": 421,
   "id": "f42932c0-5b54-4ff8-b072-e614d8387d6c",
   "metadata": {},
   "outputs": [],
   "source": [
    "#tracts_within_boundary.explore()"
   ]
  },
  {
   "cell_type": "code",
   "execution_count": 422,
   "id": "d12ecc55-1ec9-425c-ae05-86e113ffa094",
   "metadata": {},
   "outputs": [],
   "source": [
    "union = gpd.overlay(san_diego_county_tracts[[\"geometry\"]],tracts_within_boundary , how='union')\n",
    "#union.explore()"
   ]
  },
  {
   "cell_type": "markdown",
   "id": "72019f3e-e9b4-408c-981a-9b6536f30fdb",
   "metadata": {},
   "source": [
    "Created a union of the San Diego city tracts (already intersected with the city boundary) and the entire set of San Diego county tracts. The union operation in this context helps to create a comprehensive layer that includes both city-specific and county-wide census tracts."
   ]
  },
  {
   "cell_type": "code",
   "execution_count": 423,
   "id": "360872fa-4325-4ac7-aa71-736a2cdd7b6a",
   "metadata": {},
   "outputs": [],
   "source": [
    "import tobler\n"
   ]
  },
  {
   "cell_type": "code",
   "execution_count": 424,
   "id": "16bf7937-d962-481b-b71a-05f790d504de",
   "metadata": {},
   "outputs": [],
   "source": [
    "interpolated_data = tobler.area_weighted.area_interpolate(\n",
    "    san_diego_county_tracts,\n",
    "     union,\n",
    "    extensive_variables=['n_total_pop'],\n",
    "   intensive_variables=['per_capita_income','p_nonhisp_black_persons', 'p_hispanic_persons', \n",
    "                        'p_nonhisp_white_persons','p_asian_persons']\n",
    ")"
   ]
  },
  {
   "cell_type": "markdown",
   "id": "9c7932f0-915d-4733-a206-ebb46ca95f4a",
   "metadata": {},
   "source": [
    "Used Tobler’s area-weighted interpolation method (tobler.area_weighted.area_interpolate()) to interpolate demographic data from the county tracts to the newly created union of city and county tracts. This method is particularly useful for estimating demographic statistics in regions where the geographic boundaries do not align perfectly with census data.\n",
    "\n",
    "Variables: The interpolation included both extensive variables (e.g., 'n_total_pop') which are total counts that need to be proportionally allocated based on area, and intensive variables (e.g., 'per_capita_income', 'p_nonhisp_black_persons') which are ratios or percentages and need to be averaged based on the new geographic definitions.\n",
    "\n",
    "Purpose: The primary goal here is to provide accurate and detailed demographic profiles for the entire city of San Diego by adjusting the county-level ACS data to fit the actual city boundaries. "
   ]
  },
  {
   "cell_type": "code",
   "execution_count": 425,
   "id": "6fa0ff19-4578-458b-9d66-8541c20b065a",
   "metadata": {},
   "outputs": [],
   "source": [
    "#interpolated_data.explore()"
   ]
  },
  {
   "cell_type": "code",
   "execution_count": 426,
   "id": "d92905f4-cca5-461e-ad8d-4ece57cb24f3",
   "metadata": {},
   "outputs": [
    {
     "data": {
      "text/plain": [
       "<Projected CRS: EPSG:2230>\n",
       "Name: NAD83 / California zone 6 (ftUS)\n",
       "Axis Info [cartesian]:\n",
       "- X[east]: Easting (US survey foot)\n",
       "- Y[north]: Northing (US survey foot)\n",
       "Area of Use:\n",
       "- name: United States (USA) - California - counties Imperial; Orange; Riverside; San Diego.\n",
       "- bounds: (-118.15, 32.53, -114.42, 34.08)\n",
       "Coordinate Operation:\n",
       "- name: SPCS83 California zone 6 (US Survey feet)\n",
       "- method: Lambert Conic Conformal (2SP)\n",
       "Datum: North American Datum 1983\n",
       "- Ellipsoid: GRS 1980\n",
       "- Prime Meridian: Greenwich"
      ]
     },
     "execution_count": 426,
     "metadata": {},
     "output_type": "execute_result"
    }
   ],
   "source": [
    "interpolated_data.crs"
   ]
  },
  {
   "cell_type": "code",
   "execution_count": 427,
   "id": "1d821f47-9bfe-4dd4-81ae-be0000255860",
   "metadata": {},
   "outputs": [],
   "source": [
    "interpolated_data['unique'] = union.unique\n"
   ]
  },
  {
   "cell_type": "markdown",
   "id": "076965dd-2461-4e9d-af78-787c3091e814",
   "metadata": {},
   "source": [
    "Added the column unique from the union"
   ]
  },
  {
   "cell_type": "code",
   "execution_count": 428,
   "id": "2baa816f-44ab-4b95-8e11-5ea5d3bf3cf9",
   "metadata": {},
   "outputs": [],
   "source": [
    "subset_data = interpolated_data[interpolated_data['unique'] == \n",
    "'yes']\n"
   ]
  },
  {
   "cell_type": "markdown",
   "id": "40a0ffd6-e817-480a-9455-06addf120916",
   "metadata": {},
   "source": [
    "created a geodaframe called subset_data which represents the tracts for the City of San Diego"
   ]
  },
  {
   "cell_type": "code",
   "execution_count": 429,
   "id": "f777c73c-c030-42ef-b68a-9eb1f87d7b30",
   "metadata": {},
   "outputs": [
    {
     "data": {
      "text/plain": [
       "<Projected CRS: EPSG:2230>\n",
       "Name: NAD83 / California zone 6 (ftUS)\n",
       "Axis Info [cartesian]:\n",
       "- X[east]: Easting (US survey foot)\n",
       "- Y[north]: Northing (US survey foot)\n",
       "Area of Use:\n",
       "- name: United States (USA) - California - counties Imperial; Orange; Riverside; San Diego.\n",
       "- bounds: (-118.15, 32.53, -114.42, 34.08)\n",
       "Coordinate Operation:\n",
       "- name: SPCS83 California zone 6 (US Survey feet)\n",
       "- method: Lambert Conic Conformal (2SP)\n",
       "Datum: North American Datum 1983\n",
       "- Ellipsoid: GRS 1980\n",
       "- Prime Meridian: Greenwich"
      ]
     },
     "execution_count": 429,
     "metadata": {},
     "output_type": "execute_result"
    }
   ],
   "source": [
    "subset_data.crs"
   ]
  },
  {
   "cell_type": "code",
   "execution_count": 430,
   "id": "333a593e-efee-4de2-9d33-a2e1085d9811",
   "metadata": {},
   "outputs": [],
   "source": [
    "subset_data= subset_data.to_crs(epsg=4269)\n"
   ]
  },
  {
   "cell_type": "code",
   "execution_count": 431,
   "id": "4ab88fcc-7a16-4e3a-9048-fba9aed15208",
   "metadata": {},
   "outputs": [],
   "source": [
    "union1 = gpd.overlay(subset_data[[\"geometry\"]],intersection_result5 , how='union')\n",
    "#union1.explore()"
   ]
  },
  {
   "cell_type": "markdown",
   "id": "e1bc0a4b-7372-4aef-9647-f0a539241c54",
   "metadata": {},
   "source": [
    "Performed a union of this subset data with the intersection_result5 GeoDataFrame. The intersection_result5 contains areas identified as accessible based on previous multi-criteria accessibility analyses (including amenities like parks, schools, healthcare facilities, etc.).\n",
    "\n",
    "The union operation, performed via gpd.overlay() with the method set to \"union\", combines the geographic areas of subset_data (City of San Diego) and intersection_result5(intersection of all isochrones)"
   ]
  },
  {
   "cell_type": "code",
   "execution_count": 432,
   "id": "7fc66e68-4191-4377-9e9e-30a35cbb6635",
   "metadata": {},
   "outputs": [],
   "source": [
    "union1.fillna('no_access', inplace=True)\n",
    "\n"
   ]
  },
  {
   "cell_type": "markdown",
   "id": "1d4f197c-1969-43d0-b2df-34efdfcba272",
   "metadata": {},
   "source": [
    "Areas outside the isochrones were filled with no_access"
   ]
  },
  {
   "cell_type": "code",
   "execution_count": 433,
   "id": "ac2971a0-3a1e-4c38-b043-f7e7d00870a8",
   "metadata": {},
   "outputs": [],
   "source": [
    "#import geopandas as gpd\n",
    "#union1.explore(column='access', cmap='coolwarm', legend=True)"
   ]
  },
  {
   "cell_type": "code",
   "execution_count": 434,
   "id": "59a5fefd-88cf-42ba-b73b-1f12d0286c7b",
   "metadata": {},
   "outputs": [],
   "source": [
    "interpolated_data = tobler.area_weighted.area_interpolate(\n",
    "    subset_data,\n",
    "     union1,\n",
    "    extensive_variables=['n_total_pop'],\n",
    "   intensive_variables=['per_capita_income','p_nonhisp_black_persons', 'p_hispanic_persons', \n",
    "                        'p_nonhisp_white_persons','p_asian_persons']\n",
    ")"
   ]
  },
  {
   "cell_type": "markdown",
   "id": "d20e9d2c-99d9-4d7f-98a5-6873bcc7e571",
   "metadata": {},
   "source": [
    "used tobler again beacause the union between the isochrones and the city of san diego results in new geometry."
   ]
  },
  {
   "cell_type": "code",
   "execution_count": 435,
   "id": "30775a1d-e5c5-42f7-a573-69c38c1f59c2",
   "metadata": {},
   "outputs": [],
   "source": [
    "#interpolated_data.explore()"
   ]
  },
  {
   "cell_type": "code",
   "execution_count": 436,
   "id": "c6a7e324-f1b9-4325-9d89-afae6b871e6a",
   "metadata": {},
   "outputs": [],
   "source": [
    "interpolated_data['access'] = union1.access"
   ]
  },
  {
   "cell_type": "code",
   "execution_count": 437,
   "id": "f72db9a7-28d2-4710-9e5b-207f67efee70",
   "metadata": {},
   "outputs": [],
   "source": [
    "#interpolated_data.explore()"
   ]
  },
  {
   "cell_type": "code",
   "execution_count": 461,
   "id": "beaa0ab5-516b-4463-bd53-9121eefa8657",
   "metadata": {},
   "outputs": [],
   "source": [
    "#interpolated_data.to_file('data/sd_interpolation')"
   ]
  },
  {
   "cell_type": "code",
   "execution_count": 438,
   "id": "5af351a1-ddf5-45da-8a21-1f9374b6b3bf",
   "metadata": {},
   "outputs": [],
   "source": [
    "import pandas as pd\n",
    "pd.options.display.float_format='{:.0f}'.format"
   ]
  },
  {
   "cell_type": "code",
   "execution_count": 439,
   "id": "f736177a-052b-4136-a664-923dbb6f1bcb",
   "metadata": {},
   "outputs": [
    {
     "data": {
      "text/html": [
       "<div>\n",
       "<style scoped>\n",
       "    .dataframe tbody tr th:only-of-type {\n",
       "        vertical-align: middle;\n",
       "    }\n",
       "\n",
       "    .dataframe tbody tr th {\n",
       "        vertical-align: top;\n",
       "    }\n",
       "\n",
       "    .dataframe thead th {\n",
       "        text-align: right;\n",
       "    }\n",
       "</style>\n",
       "<table border=\"1\" class=\"dataframe\">\n",
       "  <thead>\n",
       "    <tr style=\"text-align: right;\">\n",
       "      <th></th>\n",
       "      <th>n_total_pop</th>\n",
       "    </tr>\n",
       "    <tr>\n",
       "      <th>access</th>\n",
       "      <th></th>\n",
       "    </tr>\n",
       "  </thead>\n",
       "  <tbody>\n",
       "    <tr>\n",
       "      <th>access</th>\n",
       "      <td>453992</td>\n",
       "    </tr>\n",
       "    <tr>\n",
       "      <th>no_access</th>\n",
       "      <td>920725</td>\n",
       "    </tr>\n",
       "  </tbody>\n",
       "</table>\n",
       "</div>"
      ],
      "text/plain": [
       "           n_total_pop\n",
       "access                \n",
       "access          453992\n",
       "no_access       920725"
      ]
     },
     "execution_count": 439,
     "metadata": {},
     "output_type": "execute_result"
    }
   ],
   "source": [
    "interpolated_data[['n_total_pop', 'access']].groupby(by='access').sum()\n"
   ]
  },
  {
   "cell_type": "markdown",
   "id": "67da9b61-208e-44d4-8175-f04fadc57583",
   "metadata": {},
   "source": [
    "## Number of Services"
   ]
  },
  {
   "cell_type": "code",
   "execution_count": 440,
   "id": "65562daa-33cf-4ac9-91e5-a1d6c6a5889f",
   "metadata": {},
   "outputs": [],
   "source": [
    "s20['school_service']=1"
   ]
  },
  {
   "cell_type": "code",
   "execution_count": 441,
   "id": "aaaa23ff-099d-4f00-b0ae-55570b26a65c",
   "metadata": {},
   "outputs": [],
   "source": [
    "health_iso['health_service']=1"
   ]
  },
  {
   "cell_type": "code",
   "execution_count": 442,
   "id": "b132159f-c063-4dc0-bd34-f9fbfe1aad8a",
   "metadata": {},
   "outputs": [
    {
     "data": {
      "text/html": [
       "<div>\n",
       "<style scoped>\n",
       "    .dataframe tbody tr th:only-of-type {\n",
       "        vertical-align: middle;\n",
       "    }\n",
       "\n",
       "    .dataframe tbody tr th {\n",
       "        vertical-align: top;\n",
       "    }\n",
       "\n",
       "    .dataframe thead th {\n",
       "        text-align: right;\n",
       "    }\n",
       "</style>\n",
       "<table border=\"1\" class=\"dataframe\">\n",
       "  <thead>\n",
       "    <tr style=\"text-align: right;\">\n",
       "      <th></th>\n",
       "      <th>geometry</th>\n",
       "      <th>distance_1</th>\n",
       "      <th>distance_2</th>\n",
       "      <th>health_service</th>\n",
       "      <th>distance</th>\n",
       "      <th>school_service</th>\n",
       "    </tr>\n",
       "  </thead>\n",
       "  <tbody>\n",
       "    <tr>\n",
       "      <th>0</th>\n",
       "      <td>MULTIPOLYGON (((-117.24736 32.71572, -117.2474...</td>\n",
       "      <td>1600</td>\n",
       "      <td>1600</td>\n",
       "      <td>1</td>\n",
       "      <td>1600</td>\n",
       "      <td>1</td>\n",
       "    </tr>\n",
       "  </tbody>\n",
       "</table>\n",
       "</div>"
      ],
      "text/plain": [
       "                                            geometry  distance_1  distance_2  \\\n",
       "0  MULTIPOLYGON (((-117.24736 32.71572, -117.2474...        1600        1600   \n",
       "\n",
       "   health_service  distance  school_service  \n",
       "0               1      1600               1  "
      ]
     },
     "execution_count": 442,
     "metadata": {},
     "output_type": "execute_result"
    }
   ],
   "source": [
    "service_union = gpd.overlay(health_iso, s20, how='union')\n",
    "service_union.dissolve()"
   ]
  },
  {
   "cell_type": "code",
   "execution_count": 443,
   "id": "bc197243-af41-4340-b6ff-2c1932fe45ff",
   "metadata": {},
   "outputs": [
    {
     "data": {
      "text/html": [
       "<div>\n",
       "<style scoped>\n",
       "    .dataframe tbody tr th:only-of-type {\n",
       "        vertical-align: middle;\n",
       "    }\n",
       "\n",
       "    .dataframe tbody tr th {\n",
       "        vertical-align: top;\n",
       "    }\n",
       "\n",
       "    .dataframe thead th {\n",
       "        text-align: right;\n",
       "    }\n",
       "</style>\n",
       "<table border=\"1\" class=\"dataframe\">\n",
       "  <thead>\n",
       "    <tr style=\"text-align: right;\">\n",
       "      <th></th>\n",
       "      <th>geometry</th>\n",
       "    </tr>\n",
       "  </thead>\n",
       "  <tbody>\n",
       "    <tr>\n",
       "      <th>0</th>\n",
       "      <td>POLYGON ((6311198.000 1935485.999, 6311197.956...</td>\n",
       "    </tr>\n",
       "    <tr>\n",
       "      <th>1</th>\n",
       "      <td>POLYGON ((6328112.751 1894696.276, 6328113.555...</td>\n",
       "    </tr>\n",
       "    <tr>\n",
       "      <th>2</th>\n",
       "      <td>POLYGON ((6470708.439 1829214.124, 6470142.888...</td>\n",
       "    </tr>\n",
       "    <tr>\n",
       "      <th>3</th>\n",
       "      <td>POLYGON ((6351603.135 1816566.962, 6351578.989...</td>\n",
       "    </tr>\n",
       "    <tr>\n",
       "      <th>4</th>\n",
       "      <td>POLYGON ((6351790.767 1800504.719, 6351742.153...</td>\n",
       "    </tr>\n",
       "  </tbody>\n",
       "</table>\n",
       "</div>"
      ],
      "text/plain": [
       "                                            geometry\n",
       "0  POLYGON ((6311198.000 1935485.999, 6311197.956...\n",
       "1  POLYGON ((6328112.751 1894696.276, 6328113.555...\n",
       "2  POLYGON ((6470708.439 1829214.124, 6470142.888...\n",
       "3  POLYGON ((6351603.135 1816566.962, 6351578.989...\n",
       "4  POLYGON ((6351790.767 1800504.719, 6351742.153..."
      ]
     },
     "execution_count": 443,
     "metadata": {},
     "output_type": "execute_result"
    }
   ],
   "source": [
    "san_diego_boundary = san_diego_boundary[['geometry']]\n",
    "san_diego_boundary"
   ]
  },
  {
   "cell_type": "code",
   "execution_count": 444,
   "id": "65ba3aed-e75d-46ae-ba88-8ba6fa82fe14",
   "metadata": {},
   "outputs": [],
   "source": [
    "san_diego_boundary = san_diego_boundary.to_crs('EPSG:4326')"
   ]
  },
  {
   "cell_type": "code",
   "execution_count": 445,
   "id": "d2a97bea-191d-42c1-8aaa-c3f43492ced2",
   "metadata": {},
   "outputs": [],
   "source": [
    "service_union = gpd.overlay(service_union, san_diego_boundary, how='union')"
   ]
  },
  {
   "cell_type": "code",
   "execution_count": 446,
   "id": "6bef76f0-a04b-4ca3-b1b4-a17996a53294",
   "metadata": {},
   "outputs": [],
   "source": [
    "s22['park_service']=1"
   ]
  },
  {
   "cell_type": "code",
   "execution_count": 447,
   "id": "290427f4-4906-42c2-8365-b1a85573357b",
   "metadata": {},
   "outputs": [
    {
     "data": {
      "text/html": [
       "<div>\n",
       "<style scoped>\n",
       "    .dataframe tbody tr th:only-of-type {\n",
       "        vertical-align: middle;\n",
       "    }\n",
       "\n",
       "    .dataframe tbody tr th {\n",
       "        vertical-align: top;\n",
       "    }\n",
       "\n",
       "    .dataframe thead th {\n",
       "        text-align: right;\n",
       "    }\n",
       "</style>\n",
       "<table border=\"1\" class=\"dataframe\">\n",
       "  <thead>\n",
       "    <tr style=\"text-align: right;\">\n",
       "      <th></th>\n",
       "      <th>geometry</th>\n",
       "      <th>distance_1</th>\n",
       "      <th>distance_2</th>\n",
       "      <th>health_service</th>\n",
       "      <th>distance</th>\n",
       "      <th>school_service</th>\n",
       "      <th>distance_parks</th>\n",
       "      <th>park_service</th>\n",
       "    </tr>\n",
       "  </thead>\n",
       "  <tbody>\n",
       "    <tr>\n",
       "      <th>0</th>\n",
       "      <td>MULTIPOLYGON (((-117.25727 32.72313, -117.2572...</td>\n",
       "      <td>1600</td>\n",
       "      <td>1600</td>\n",
       "      <td>1</td>\n",
       "      <td>1600</td>\n",
       "      <td>1</td>\n",
       "      <td>1600</td>\n",
       "      <td>1</td>\n",
       "    </tr>\n",
       "  </tbody>\n",
       "</table>\n",
       "</div>"
      ],
      "text/plain": [
       "                                            geometry  distance_1  distance_2  \\\n",
       "0  MULTIPOLYGON (((-117.25727 32.72313, -117.2572...        1600        1600   \n",
       "\n",
       "   health_service  distance  school_service  distance_parks  park_service  \n",
       "0               1      1600               1            1600             1  "
      ]
     },
     "execution_count": 447,
     "metadata": {},
     "output_type": "execute_result"
    }
   ],
   "source": [
    "service_union = gpd.overlay(service_union, s22, how='union')\n",
    "service_union.dissolve()"
   ]
  },
  {
   "cell_type": "code",
   "execution_count": 448,
   "id": "9d953f42-caaf-45a5-a626-17e29861b2e4",
   "metadata": {},
   "outputs": [],
   "source": [
    "s23['transit_service']=1"
   ]
  },
  {
   "cell_type": "code",
   "execution_count": 449,
   "id": "4cd760e6-1b51-45ba-a6ce-60efc21b9d8a",
   "metadata": {},
   "outputs": [
    {
     "data": {
      "text/html": [
       "<div>\n",
       "<style scoped>\n",
       "    .dataframe tbody tr th:only-of-type {\n",
       "        vertical-align: middle;\n",
       "    }\n",
       "\n",
       "    .dataframe tbody tr th {\n",
       "        vertical-align: top;\n",
       "    }\n",
       "\n",
       "    .dataframe thead th {\n",
       "        text-align: right;\n",
       "    }\n",
       "</style>\n",
       "<table border=\"1\" class=\"dataframe\">\n",
       "  <thead>\n",
       "    <tr style=\"text-align: right;\">\n",
       "      <th></th>\n",
       "      <th>geometry</th>\n",
       "      <th>distance_1</th>\n",
       "      <th>distance_2</th>\n",
       "      <th>health_service</th>\n",
       "      <th>distance</th>\n",
       "      <th>school_service</th>\n",
       "      <th>distance_parks</th>\n",
       "      <th>park_service</th>\n",
       "      <th>distance_s23</th>\n",
       "      <th>transit_service</th>\n",
       "    </tr>\n",
       "  </thead>\n",
       "  <tbody>\n",
       "    <tr>\n",
       "      <th>0</th>\n",
       "      <td>MULTIPOLYGON (((-117.25727 32.72313, -117.2572...</td>\n",
       "      <td>1600</td>\n",
       "      <td>1600</td>\n",
       "      <td>1</td>\n",
       "      <td>1600</td>\n",
       "      <td>1</td>\n",
       "      <td>1600</td>\n",
       "      <td>1</td>\n",
       "      <td>1600</td>\n",
       "      <td>1</td>\n",
       "    </tr>\n",
       "  </tbody>\n",
       "</table>\n",
       "</div>"
      ],
      "text/plain": [
       "                                            geometry  distance_1  distance_2  \\\n",
       "0  MULTIPOLYGON (((-117.25727 32.72313, -117.2572...        1600        1600   \n",
       "\n",
       "   health_service  distance  school_service  distance_parks  park_service  \\\n",
       "0               1      1600               1            1600             1   \n",
       "\n",
       "   distance_s23  transit_service  \n",
       "0          1600                1  "
      ]
     },
     "execution_count": 449,
     "metadata": {},
     "output_type": "execute_result"
    }
   ],
   "source": [
    "service_union = gpd.overlay(service_union, s23, how='union')\n",
    "service_union.dissolve()"
   ]
  },
  {
   "cell_type": "code",
   "execution_count": 450,
   "id": "44ee6e2d-bd69-4504-8e89-a64755842e30",
   "metadata": {},
   "outputs": [],
   "source": [
    "s24['grocery_service']=1"
   ]
  },
  {
   "cell_type": "code",
   "execution_count": 451,
   "id": "dfa9412a-2d3d-4a9c-b586-6b940630079a",
   "metadata": {},
   "outputs": [
    {
     "data": {
      "text/html": [
       "<div>\n",
       "<style scoped>\n",
       "    .dataframe tbody tr th:only-of-type {\n",
       "        vertical-align: middle;\n",
       "    }\n",
       "\n",
       "    .dataframe tbody tr th {\n",
       "        vertical-align: top;\n",
       "    }\n",
       "\n",
       "    .dataframe thead th {\n",
       "        text-align: right;\n",
       "    }\n",
       "</style>\n",
       "<table border=\"1\" class=\"dataframe\">\n",
       "  <thead>\n",
       "    <tr style=\"text-align: right;\">\n",
       "      <th></th>\n",
       "      <th>geometry</th>\n",
       "      <th>distance_1</th>\n",
       "      <th>distance_2</th>\n",
       "      <th>health_service</th>\n",
       "      <th>distance</th>\n",
       "      <th>school_service</th>\n",
       "      <th>distance_parks</th>\n",
       "      <th>park_service</th>\n",
       "      <th>distance_s23</th>\n",
       "      <th>transit_service</th>\n",
       "      <th>distance_s24</th>\n",
       "      <th>grocery_service</th>\n",
       "    </tr>\n",
       "  </thead>\n",
       "  <tbody>\n",
       "    <tr>\n",
       "      <th>0</th>\n",
       "      <td>MULTIPOLYGON (((-117.25727 32.72313, -117.2572...</td>\n",
       "      <td>1600</td>\n",
       "      <td>1600</td>\n",
       "      <td>1</td>\n",
       "      <td>1600</td>\n",
       "      <td>1</td>\n",
       "      <td>1600</td>\n",
       "      <td>1</td>\n",
       "      <td>1600</td>\n",
       "      <td>1</td>\n",
       "      <td>1600</td>\n",
       "      <td>1</td>\n",
       "    </tr>\n",
       "  </tbody>\n",
       "</table>\n",
       "</div>"
      ],
      "text/plain": [
       "                                            geometry  distance_1  distance_2  \\\n",
       "0  MULTIPOLYGON (((-117.25727 32.72313, -117.2572...        1600        1600   \n",
       "\n",
       "   health_service  distance  school_service  distance_parks  park_service  \\\n",
       "0               1      1600               1            1600             1   \n",
       "\n",
       "   distance_s23  transit_service  distance_s24  grocery_service  \n",
       "0          1600                1          1600                1  "
      ]
     },
     "execution_count": 451,
     "metadata": {},
     "output_type": "execute_result"
    }
   ],
   "source": [
    "service_union = gpd.overlay(service_union, s24, how='union')\n",
    "service_union.dissolve()"
   ]
  },
  {
   "cell_type": "code",
   "execution_count": 452,
   "id": "b9e4626c-263a-482e-af9e-34e23d44cc78",
   "metadata": {},
   "outputs": [],
   "source": [
    "sd_relig['religion_service']=1"
   ]
  },
  {
   "cell_type": "code",
   "execution_count": 453,
   "id": "66ab3f19-ece1-4752-a35c-19eccd83c3d2",
   "metadata": {},
   "outputs": [
    {
     "data": {
      "text/html": [
       "<div>\n",
       "<style scoped>\n",
       "    .dataframe tbody tr th:only-of-type {\n",
       "        vertical-align: middle;\n",
       "    }\n",
       "\n",
       "    .dataframe tbody tr th {\n",
       "        vertical-align: top;\n",
       "    }\n",
       "\n",
       "    .dataframe thead th {\n",
       "        text-align: right;\n",
       "    }\n",
       "</style>\n",
       "<table border=\"1\" class=\"dataframe\">\n",
       "  <thead>\n",
       "    <tr style=\"text-align: right;\">\n",
       "      <th></th>\n",
       "      <th>geometry</th>\n",
       "      <th>distance_1</th>\n",
       "      <th>distance_2</th>\n",
       "      <th>health_service</th>\n",
       "      <th>distance</th>\n",
       "      <th>school_service</th>\n",
       "      <th>distance_parks</th>\n",
       "      <th>park_service</th>\n",
       "      <th>distance_s23</th>\n",
       "      <th>transit_service</th>\n",
       "      <th>distance_s24</th>\n",
       "      <th>grocery_service</th>\n",
       "      <th>distance_religion</th>\n",
       "      <th>religion_service</th>\n",
       "    </tr>\n",
       "  </thead>\n",
       "  <tbody>\n",
       "    <tr>\n",
       "      <th>0</th>\n",
       "      <td>MULTIPOLYGON (((-117.25727 32.72313, -117.2572...</td>\n",
       "      <td>1600</td>\n",
       "      <td>1600</td>\n",
       "      <td>1</td>\n",
       "      <td>1600</td>\n",
       "      <td>1</td>\n",
       "      <td>1600</td>\n",
       "      <td>1</td>\n",
       "      <td>1600</td>\n",
       "      <td>1</td>\n",
       "      <td>1600</td>\n",
       "      <td>1</td>\n",
       "      <td>1600</td>\n",
       "      <td>1</td>\n",
       "    </tr>\n",
       "  </tbody>\n",
       "</table>\n",
       "</div>"
      ],
      "text/plain": [
       "                                            geometry  distance_1  distance_2  \\\n",
       "0  MULTIPOLYGON (((-117.25727 32.72313, -117.2572...        1600        1600   \n",
       "\n",
       "   health_service  distance  school_service  distance_parks  park_service  \\\n",
       "0               1      1600               1            1600             1   \n",
       "\n",
       "   distance_s23  transit_service  distance_s24  grocery_service  \\\n",
       "0          1600                1          1600                1   \n",
       "\n",
       "   distance_religion  religion_service  \n",
       "0               1600                 1  "
      ]
     },
     "execution_count": 453,
     "metadata": {},
     "output_type": "execute_result"
    }
   ],
   "source": [
    "service_union = gpd.overlay(service_union, sd_relig, how='union')\n",
    "service_union.dissolve()"
   ]
  },
  {
   "cell_type": "code",
   "execution_count": 454,
   "id": "fa391d48-2159-4847-a4c4-667c351bba5f",
   "metadata": {},
   "outputs": [],
   "source": [
    "service_union.fillna(0, inplace=True)\n"
   ]
  },
  {
   "cell_type": "code",
   "execution_count": 455,
   "id": "23ea1939-cce1-4ef7-a411-ac1e4cd97744",
   "metadata": {},
   "outputs": [],
   "source": [
    "service_union['combined_services']=service_union['transit_service'] + service_union['park_service']+service_union['health_service']+service_union['school_service']+service_union['grocery_service']+service_union['religion_service']"
   ]
  },
  {
   "cell_type": "code",
   "execution_count": 456,
   "id": "db654b1c-b0ef-4cb3-b4b6-2e5aaf9544af",
   "metadata": {},
   "outputs": [
    {
     "data": {
      "image/png": "[encoded data removed]",
      "text/plain": [
       "<Figure size 700x700 with 1 Axes>"
      ]
     },
     "metadata": {},
     "output_type": "display_data"
    }
   ],
   "source": [
    "import matplotlib.pyplot as plt\n",
    "f, ax = plt.subplots(1, figsize=(7, 7))\n",
    "service_union.plot(\n",
    "    column=\"combined_services\", categorical=True, legend=True, linewidth=0, ax=ax\n",
    ")\n",
    "ax.set_axis_off()\n",
    "plt.show()"
   ]
  },
  {
   "cell_type": "markdown",
   "id": "cc0e2a9c-74b1-4ac0-92d0-4adeb73b8cb2",
   "metadata": {},
   "source": [
    "Individually marked services (school, health, parks, transit, grocery, and religion) across various GeoDataFrames like s20, health_iso, s22, s23, s24, and sd_relig with a value of 1. This marking indicates the presence of a specific service in that geographic area.\n",
    "\n",
    "Creating Union of Services:\n",
    "Using gpd.overlay() with the 'union' method, systematically combined these marked services into a single GeoDataFrame called service_union. This approach allows to consolidate the geographic coverage of each service into a unified spatial dataset.\n",
    "\n",
    "Dissolving Boundaries:\n",
    "Applied the .dissolve() method to the service_union to merge all overlapping and adjacent polygons. This step simplifies the map and creates a continuous area that accurately represents the coverage of all services combined without internal boundaries.\n",
    "\n",
    "Calculating Total Services:\n",
    "Summing the individual service markers within service_union, created a new column combined_services which provides a total count of different services available within each area of the service_union. This quantifies the level of service availability in a given area, providing a straightforward metric for assessing service richness."
   ]
  }
 ],
 "metadata": {
  "kernelspec": {
   "display_name": "Python 3 (ipykernel)",
   "language": "python",
   "name": "python3"
  },
  "language_info": {
   "codemirror_mode": {
    "name": "ipython",
    "version": 3
   },
   "file_extension": ".py",
   "mimetype": "text/x-python",
   "name": "python",
   "nbconvert_exporter": "python",
   "pygments_lexer": "ipython3",
   "version": "3.10.10"
  }
 },
 "nbformat": 4,
 "nbformat_minor": 5
}
