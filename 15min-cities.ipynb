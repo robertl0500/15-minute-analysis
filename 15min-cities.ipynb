{
 "cells": [
  {
   "cell_type": "markdown",
   "id": "cc56d924-580b-4c9d-9fa2-ab0f21707038",
   "metadata": {},
   "source": [
    "# 15 Minute City Analysis"
   ]
  },
  {
   "cell_type": "code",
   "execution_count": 1,
   "id": "87dd4da7-8993-42f2-903c-6a34c568afde",
   "metadata": {},
   "outputs": [],
   "source": [
    "import pandas as pd\n",
    "import geopandas as gpd\n",
    "import numpy as np\n",
    "import matplotlib.pyplot as plt"
   ]
  },
  {
   "cell_type": "code",
   "execution_count": 2,
   "id": "e922fdb5-fb85-400f-97f3-ba2530940f5f",
   "metadata": {},
   "outputs": [],
   "source": [
    "census_path = './census-data/cb_2022_us_place_500k.shp'"
   ]
  },
  {
   "cell_type": "code",
   "execution_count": 3,
   "id": "81d5b976-0ac7-4122-87e5-3a17a3db59ed",
   "metadata": {},
   "outputs": [],
   "source": [
    "census_gdf = gpd.read_file(census_path, geometry='geometry')"
   ]
  },
  {
   "cell_type": "code",
   "execution_count": 9,
   "id": "100d4a48-e93f-4c1b-812b-d58dad7662af",
   "metadata": {},
   "outputs": [
    {
     "data": {
      "text/html": [
       "<div>\n",
       "<style scoped>\n",
       "    .dataframe tbody tr th:only-of-type {\n",
       "        vertical-align: middle;\n",
       "    }\n",
       "\n",
       "    .dataframe tbody tr th {\n",
       "        vertical-align: top;\n",
       "    }\n",
       "\n",
       "    .dataframe thead th {\n",
       "        text-align: right;\n",
       "    }\n",
       "</style>\n",
       "<table border=\"1\" class=\"dataframe\">\n",
       "  <thead>\n",
       "    <tr style=\"text-align: right;\">\n",
       "      <th></th>\n",
       "      <th>STATEFP</th>\n",
       "      <th>PLACEFP</th>\n",
       "      <th>PLACENS</th>\n",
       "      <th>AFFGEOID</th>\n",
       "      <th>GEOID</th>\n",
       "      <th>NAME</th>\n",
       "      <th>NAMELSAD</th>\n",
       "      <th>STUSPS</th>\n",
       "      <th>STATE_NAME</th>\n",
       "      <th>LSAD</th>\n",
       "      <th>ALAND</th>\n",
       "      <th>AWATER</th>\n",
       "      <th>geometry</th>\n",
       "    </tr>\n",
       "  </thead>\n",
       "  <tbody>\n",
       "    <tr>\n",
       "      <th>0</th>\n",
       "      <td>06</td>\n",
       "      <td>55156</td>\n",
       "      <td>02411359</td>\n",
       "      <td>1600000US0655156</td>\n",
       "      <td>0655156</td>\n",
       "      <td>Palmdale</td>\n",
       "      <td>Palmdale city</td>\n",
       "      <td>CA</td>\n",
       "      <td>California</td>\n",
       "      <td>25</td>\n",
       "      <td>274705334</td>\n",
       "      <td>629569</td>\n",
       "      <td>POLYGON ((-118.28773 34.58140, -118.28770 34.5...</td>\n",
       "    </tr>\n",
       "    <tr>\n",
       "      <th>1</th>\n",
       "      <td>06</td>\n",
       "      <td>22804</td>\n",
       "      <td>02410455</td>\n",
       "      <td>1600000US0622804</td>\n",
       "      <td>0622804</td>\n",
       "      <td>Escondido</td>\n",
       "      <td>Escondido city</td>\n",
       "      <td>CA</td>\n",
       "      <td>California</td>\n",
       "      <td>25</td>\n",
       "      <td>96726218</td>\n",
       "      <td>276445</td>\n",
       "      <td>MULTIPOLYGON (((-117.02372 33.18060, -117.0219...</td>\n",
       "    </tr>\n",
       "    <tr>\n",
       "      <th>2</th>\n",
       "      <td>12</td>\n",
       "      <td>16525</td>\n",
       "      <td>02404197</td>\n",
       "      <td>1600000US1216525</td>\n",
       "      <td>1216525</td>\n",
       "      <td>Daytona Beach</td>\n",
       "      <td>Daytona Beach city</td>\n",
       "      <td>FL</td>\n",
       "      <td>Florida</td>\n",
       "      <td>25</td>\n",
       "      <td>174516209</td>\n",
       "      <td>6887767</td>\n",
       "      <td>MULTIPOLYGON (((-81.12724 29.13686, -81.12568 ...</td>\n",
       "    </tr>\n",
       "    <tr>\n",
       "      <th>3</th>\n",
       "      <td>12</td>\n",
       "      <td>05150</td>\n",
       "      <td>02405235</td>\n",
       "      <td>1600000US1205150</td>\n",
       "      <td>1205150</td>\n",
       "      <td>Belleair Shore</td>\n",
       "      <td>Belleair Shore town</td>\n",
       "      <td>FL</td>\n",
       "      <td>Florida</td>\n",
       "      <td>43</td>\n",
       "      <td>154028</td>\n",
       "      <td>432786</td>\n",
       "      <td>POLYGON ((-82.84783 27.91020, -82.84485 27.924...</td>\n",
       "    </tr>\n",
       "    <tr>\n",
       "      <th>4</th>\n",
       "      <td>17</td>\n",
       "      <td>30926</td>\n",
       "      <td>02394961</td>\n",
       "      <td>1600000US1730926</td>\n",
       "      <td>1730926</td>\n",
       "      <td>Granite City</td>\n",
       "      <td>Granite City city</td>\n",
       "      <td>IL</td>\n",
       "      <td>Illinois</td>\n",
       "      <td>25</td>\n",
       "      <td>49248341</td>\n",
       "      <td>4048185</td>\n",
       "      <td>MULTIPOLYGON (((-90.11123 38.70289, -90.10613 ...</td>\n",
       "    </tr>\n",
       "  </tbody>\n",
       "</table>\n",
       "</div>"
      ],
      "text/plain": [
       "  STATEFP PLACEFP   PLACENS          AFFGEOID    GEOID            NAME  \\\n",
       "0      06   55156  02411359  1600000US0655156  0655156        Palmdale   \n",
       "1      06   22804  02410455  1600000US0622804  0622804       Escondido   \n",
       "2      12   16525  02404197  1600000US1216525  1216525   Daytona Beach   \n",
       "3      12   05150  02405235  1600000US1205150  1205150  Belleair Shore   \n",
       "4      17   30926  02394961  1600000US1730926  1730926    Granite City   \n",
       "\n",
       "              NAMELSAD STUSPS  STATE_NAME LSAD      ALAND   AWATER  \\\n",
       "0        Palmdale city     CA  California   25  274705334   629569   \n",
       "1       Escondido city     CA  California   25   96726218   276445   \n",
       "2   Daytona Beach city     FL     Florida   25  174516209  6887767   \n",
       "3  Belleair Shore town     FL     Florida   43     154028   432786   \n",
       "4    Granite City city     IL    Illinois   25   49248341  4048185   \n",
       "\n",
       "                                            geometry  \n",
       "0  POLYGON ((-118.28773 34.58140, -118.28770 34.5...  \n",
       "1  MULTIPOLYGON (((-117.02372 33.18060, -117.0219...  \n",
       "2  MULTIPOLYGON (((-81.12724 29.13686, -81.12568 ...  \n",
       "3  POLYGON ((-82.84783 27.91020, -82.84485 27.924...  \n",
       "4  MULTIPOLYGON (((-90.11123 38.70289, -90.10613 ...  "
      ]
     },
     "execution_count": 9,
     "metadata": {},
     "output_type": "execute_result"
    }
   ],
   "source": [
    "census_gdf.head()"
   ]
  },
  {
   "cell_type": "code",
   "execution_count": 10,
   "id": "a6cb368b-19ea-4fc1-bab9-d8965c9479d3",
   "metadata": {},
   "outputs": [
    {
     "data": {
      "text/plain": [
       "(32466, 13)"
      ]
     },
     "execution_count": 10,
     "metadata": {},
     "output_type": "execute_result"
    }
   ],
   "source": [
    "census_gdf.shape"
   ]
  },
  {
   "cell_type": "code",
   "execution_count": 12,
   "id": "4c079614-f72e-49c5-aa0f-f91917395b68",
   "metadata": {},
   "outputs": [],
   "source": [
    "sf_gdf = census_gdf[census_gdf['NAME'] == 'San Francisco']"
   ]
  },
  {
   "cell_type": "code",
   "execution_count": 14,
   "id": "dedc66e3-1dd1-4293-b485-e81bc681351d",
   "metadata": {},
   "outputs": [
    {
     "data": {
      "text/plain": [
       "<Axes: >"
      ]
     },
     "execution_count": 14,
     "metadata": {},
     "output_type": "execute_result"
    },
    {
     "data": {
      "image/png": "[encoded data removed]",
      "text/plain": [
       "<Figure size 640x480 with 1 Axes>"
      ]
     },
     "metadata": {},
     "output_type": "display_data"
    }
   ],
   "source": [
    "sf_gdf.plot()"
   ]
  },
  {
   "cell_type": "code",
   "execution_count": 21,
   "id": "2f2b9462-8f19-49ca-a6ac-d59418b73bbb",
   "metadata": {},
   "outputs": [],
   "source": [
    "dc_gdf = census_gdf[census_gdf['STATE_NAME'] == 'District of Columbia']"
   ]
  },
  {
   "cell_type": "code",
   "execution_count": 22,
   "id": "fa4dd883-6284-4f26-accd-a6a258fe79b8",
   "metadata": {},
   "outputs": [
    {
     "data": {
      "text/html": [
       "<div>\n",
       "<style scoped>\n",
       "    .dataframe tbody tr th:only-of-type {\n",
       "        vertical-align: middle;\n",
       "    }\n",
       "\n",
       "    .dataframe tbody tr th {\n",
       "        vertical-align: top;\n",
       "    }\n",
       "\n",
       "    .dataframe thead th {\n",
       "        text-align: right;\n",
       "    }\n",
       "</style>\n",
       "<table border=\"1\" class=\"dataframe\">\n",
       "  <thead>\n",
       "    <tr style=\"text-align: right;\">\n",
       "      <th></th>\n",
       "      <th>STATEFP</th>\n",
       "      <th>PLACEFP</th>\n",
       "      <th>PLACENS</th>\n",
       "      <th>AFFGEOID</th>\n",
       "      <th>GEOID</th>\n",
       "      <th>NAME</th>\n",
       "      <th>NAMELSAD</th>\n",
       "      <th>STUSPS</th>\n",
       "      <th>STATE_NAME</th>\n",
       "      <th>LSAD</th>\n",
       "      <th>ALAND</th>\n",
       "      <th>AWATER</th>\n",
       "      <th>geometry</th>\n",
       "    </tr>\n",
       "  </thead>\n",
       "  <tbody>\n",
       "    <tr>\n",
       "      <th>4747</th>\n",
       "      <td>11</td>\n",
       "      <td>50000</td>\n",
       "      <td>02390665</td>\n",
       "      <td>1600000US1150000</td>\n",
       "      <td>1150000</td>\n",
       "      <td>Washington</td>\n",
       "      <td>Washington city</td>\n",
       "      <td>DC</td>\n",
       "      <td>District of Columbia</td>\n",
       "      <td>25</td>\n",
       "      <td>158316184</td>\n",
       "      <td>18709787</td>\n",
       "      <td>POLYGON ((-77.11976 38.93434, -77.11253 38.940...</td>\n",
       "    </tr>\n",
       "  </tbody>\n",
       "</table>\n",
       "</div>"
      ],
      "text/plain": [
       "     STATEFP PLACEFP   PLACENS          AFFGEOID    GEOID        NAME  \\\n",
       "4747      11   50000  02390665  1600000US1150000  1150000  Washington   \n",
       "\n",
       "             NAMELSAD STUSPS            STATE_NAME LSAD      ALAND    AWATER  \\\n",
       "4747  Washington city     DC  District of Columbia   25  158316184  18709787   \n",
       "\n",
       "                                               geometry  \n",
       "4747  POLYGON ((-77.11976 38.93434, -77.11253 38.940...  "
      ]
     },
     "execution_count": 22,
     "metadata": {},
     "output_type": "execute_result"
    }
   ],
   "source": [
    "dc_gdf"
   ]
  },
  {
   "cell_type": "code",
   "execution_count": 25,
   "id": "4b739a3c-f877-46d4-9eec-9314db3af14e",
   "metadata": {},
   "outputs": [
    {
     "data": {
      "text/plain": [
       "<Axes: >"
      ]
     },
     "execution_count": 25,
     "metadata": {},
     "output_type": "execute_result"
    },
    {
     "data": {
      "image/png": "[encoded data removed]",
      "text/plain": [
       "<Figure size 640x480 with 1 Axes>"
      ]
     },
     "metadata": {},
     "output_type": "display_data"
    }
   ],
   "source": [
    "dc_gdf.plot()"
   ]
  }
 ],
 "metadata": {
  "kernelspec": {
   "display_name": "Python 3 (ipykernel)",
   "language": "python",
   "name": "python3"
  },
  "language_info": {
   "codemirror_mode": {
    "name": "ipython",
    "version": 3
   },
   "file_extension": ".py",
   "mimetype": "text/x-python",
   "name": "python",
   "nbconvert_exporter": "python",
   "pygments_lexer": "ipython3",
   "version": "3.11.7"
  }
 },
 "nbformat": 4,
 "nbformat_minor": 5
}
